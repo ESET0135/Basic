{
 "cells": [
  {
   "cell_type": "code",
   "execution_count": 1,
   "id": "a3de19da",
   "metadata": {},
   "outputs": [
    {
     "name": "stdout",
     "output_type": "stream",
     "text": [
      "Defaulting to user installation because normal site-packages is not writeable\n",
      "Requirement already satisfied: scikit-learn in c:\\users\\hp\\appdata\\local\\packages\\pythonsoftwarefoundation.python.3.13_qbz5n2kfra8p0\\localcache\\local-packages\\python313\\site-packages (1.7.2)\n",
      "Requirement already satisfied: numpy>=1.22.0 in c:\\users\\hp\\appdata\\local\\packages\\pythonsoftwarefoundation.python.3.13_qbz5n2kfra8p0\\localcache\\local-packages\\python313\\site-packages (from scikit-learn) (2.3.2)\n",
      "Requirement already satisfied: scipy>=1.8.0 in c:\\users\\hp\\appdata\\local\\packages\\pythonsoftwarefoundation.python.3.13_qbz5n2kfra8p0\\localcache\\local-packages\\python313\\site-packages (from scikit-learn) (1.16.2)\n",
      "Requirement already satisfied: joblib>=1.2.0 in c:\\users\\hp\\appdata\\local\\packages\\pythonsoftwarefoundation.python.3.13_qbz5n2kfra8p0\\localcache\\local-packages\\python313\\site-packages (from scikit-learn) (1.5.2)\n",
      "Requirement already satisfied: threadpoolctl>=3.1.0 in c:\\users\\hp\\appdata\\local\\packages\\pythonsoftwarefoundation.python.3.13_qbz5n2kfra8p0\\localcache\\local-packages\\python313\\site-packages (from scikit-learn) (3.6.0)\n"
     ]
    }
   ],
   "source": [
    "# Install scikit-learn in a Jupyter Notebook\n",
    "!pip install scikit-learn"
   ]
  },
  {
   "cell_type": "code",
   "execution_count": 2,
   "id": "39e3848e",
   "metadata": {},
   "outputs": [],
   "source": [
    "import pandas as pd\n",
    "#give me a k means code for clustering \n",
    "from sklearn.cluster import KMeans\n",
    "import numpy as np"
   ]
  },
  {
   "cell_type": "code",
   "execution_count": 3,
   "id": "dc34d826",
   "metadata": {},
   "outputs": [
    {
     "data": {
      "text/html": [
       "<div>\n",
       "<style scoped>\n",
       "    .dataframe tbody tr th:only-of-type {\n",
       "        vertical-align: middle;\n",
       "    }\n",
       "\n",
       "    .dataframe tbody tr th {\n",
       "        vertical-align: top;\n",
       "    }\n",
       "\n",
       "    .dataframe thead th {\n",
       "        text-align: right;\n",
       "    }\n",
       "</style>\n",
       "<table border=\"1\" class=\"dataframe\">\n",
       "  <thead>\n",
       "    <tr style=\"text-align: right;\">\n",
       "      <th></th>\n",
       "      <th>status_id</th>\n",
       "      <th>status_type</th>\n",
       "      <th>status_published</th>\n",
       "      <th>num_reactions</th>\n",
       "      <th>num_comments</th>\n",
       "      <th>num_shares</th>\n",
       "      <th>num_likes</th>\n",
       "      <th>num_loves</th>\n",
       "      <th>num_wows</th>\n",
       "      <th>num_hahas</th>\n",
       "      <th>num_sads</th>\n",
       "      <th>num_angrys</th>\n",
       "      <th>Column1</th>\n",
       "      <th>Column2</th>\n",
       "      <th>Column3</th>\n",
       "      <th>Column4</th>\n",
       "    </tr>\n",
       "  </thead>\n",
       "  <tbody>\n",
       "    <tr>\n",
       "      <th>0</th>\n",
       "      <td>246675545449582_1649696485147474</td>\n",
       "      <td>video</td>\n",
       "      <td>4/22/2018 6:00</td>\n",
       "      <td>529</td>\n",
       "      <td>512</td>\n",
       "      <td>262</td>\n",
       "      <td>432</td>\n",
       "      <td>92</td>\n",
       "      <td>3</td>\n",
       "      <td>1</td>\n",
       "      <td>1</td>\n",
       "      <td>0</td>\n",
       "      <td>NaN</td>\n",
       "      <td>NaN</td>\n",
       "      <td>NaN</td>\n",
       "      <td>NaN</td>\n",
       "    </tr>\n",
       "    <tr>\n",
       "      <th>1</th>\n",
       "      <td>246675545449582_1649426988507757</td>\n",
       "      <td>photo</td>\n",
       "      <td>4/21/2018 22:45</td>\n",
       "      <td>150</td>\n",
       "      <td>0</td>\n",
       "      <td>0</td>\n",
       "      <td>150</td>\n",
       "      <td>0</td>\n",
       "      <td>0</td>\n",
       "      <td>0</td>\n",
       "      <td>0</td>\n",
       "      <td>0</td>\n",
       "      <td>NaN</td>\n",
       "      <td>NaN</td>\n",
       "      <td>NaN</td>\n",
       "      <td>NaN</td>\n",
       "    </tr>\n",
       "    <tr>\n",
       "      <th>2</th>\n",
       "      <td>246675545449582_1648730588577397</td>\n",
       "      <td>video</td>\n",
       "      <td>4/21/2018 6:17</td>\n",
       "      <td>227</td>\n",
       "      <td>236</td>\n",
       "      <td>57</td>\n",
       "      <td>204</td>\n",
       "      <td>21</td>\n",
       "      <td>1</td>\n",
       "      <td>1</td>\n",
       "      <td>0</td>\n",
       "      <td>0</td>\n",
       "      <td>NaN</td>\n",
       "      <td>NaN</td>\n",
       "      <td>NaN</td>\n",
       "      <td>NaN</td>\n",
       "    </tr>\n",
       "    <tr>\n",
       "      <th>3</th>\n",
       "      <td>246675545449582_1648576705259452</td>\n",
       "      <td>photo</td>\n",
       "      <td>4/21/2018 2:29</td>\n",
       "      <td>111</td>\n",
       "      <td>0</td>\n",
       "      <td>0</td>\n",
       "      <td>111</td>\n",
       "      <td>0</td>\n",
       "      <td>0</td>\n",
       "      <td>0</td>\n",
       "      <td>0</td>\n",
       "      <td>0</td>\n",
       "      <td>NaN</td>\n",
       "      <td>NaN</td>\n",
       "      <td>NaN</td>\n",
       "      <td>NaN</td>\n",
       "    </tr>\n",
       "    <tr>\n",
       "      <th>4</th>\n",
       "      <td>246675545449582_1645700502213739</td>\n",
       "      <td>photo</td>\n",
       "      <td>4/18/2018 3:22</td>\n",
       "      <td>213</td>\n",
       "      <td>0</td>\n",
       "      <td>0</td>\n",
       "      <td>204</td>\n",
       "      <td>9</td>\n",
       "      <td>0</td>\n",
       "      <td>0</td>\n",
       "      <td>0</td>\n",
       "      <td>0</td>\n",
       "      <td>NaN</td>\n",
       "      <td>NaN</td>\n",
       "      <td>NaN</td>\n",
       "      <td>NaN</td>\n",
       "    </tr>\n",
       "  </tbody>\n",
       "</table>\n",
       "</div>"
      ],
      "text/plain": [
       "                          status_id status_type status_published  \\\n",
       "0  246675545449582_1649696485147474       video   4/22/2018 6:00   \n",
       "1  246675545449582_1649426988507757       photo  4/21/2018 22:45   \n",
       "2  246675545449582_1648730588577397       video   4/21/2018 6:17   \n",
       "3  246675545449582_1648576705259452       photo   4/21/2018 2:29   \n",
       "4  246675545449582_1645700502213739       photo   4/18/2018 3:22   \n",
       "\n",
       "   num_reactions  num_comments  num_shares  num_likes  num_loves  num_wows  \\\n",
       "0            529           512         262        432         92         3   \n",
       "1            150             0           0        150          0         0   \n",
       "2            227           236          57        204         21         1   \n",
       "3            111             0           0        111          0         0   \n",
       "4            213             0           0        204          9         0   \n",
       "\n",
       "   num_hahas  num_sads  num_angrys  Column1  Column2  Column3  Column4  \n",
       "0          1         1           0      NaN      NaN      NaN      NaN  \n",
       "1          0         0           0      NaN      NaN      NaN      NaN  \n",
       "2          1         0           0      NaN      NaN      NaN      NaN  \n",
       "3          0         0           0      NaN      NaN      NaN      NaN  \n",
       "4          0         0           0      NaN      NaN      NaN      NaN  "
      ]
     },
     "execution_count": 3,
     "metadata": {},
     "output_type": "execute_result"
    }
   ],
   "source": [
    "df=pd.read_csv(\"Live.csv\")\n",
    "df.head()"
   ]
  },
  {
   "cell_type": "code",
   "execution_count": 4,
   "id": "721be7c1",
   "metadata": {},
   "outputs": [
    {
     "data": {
      "text/plain": [
       "(7050, 16)"
      ]
     },
     "execution_count": 4,
     "metadata": {},
     "output_type": "execute_result"
    }
   ],
   "source": [
    "df.shape"
   ]
  },
  {
   "cell_type": "code",
   "execution_count": 5,
   "id": "d2d02664",
   "metadata": {},
   "outputs": [],
   "source": [
    "df.drop(['Column1', 'Column2', 'Column3', 'Column4','status_id','status_published'], axis=1, inplace=True)"
   ]
  },
  {
   "cell_type": "code",
   "execution_count": 6,
   "id": "85fb64e0",
   "metadata": {},
   "outputs": [],
   "source": [
    "#LABEL ENCODING\n",
    "from sklearn.preprocessing import LabelEncoder  \n",
    "le = LabelEncoder()\n",
    "df['status_type']= le.fit_transform(df['status_type'])  "
   ]
  },
  {
   "cell_type": "code",
   "execution_count": 7,
   "id": "86a5edf3",
   "metadata": {},
   "outputs": [
    {
     "name": "stdout",
     "output_type": "stream",
     "text": [
      "<class 'pandas.core.frame.DataFrame'>\n",
      "RangeIndex: 7050 entries, 0 to 7049\n",
      "Data columns (total 10 columns):\n",
      " #   Column         Non-Null Count  Dtype\n",
      "---  ------         --------------  -----\n",
      " 0   status_type    7050 non-null   int64\n",
      " 1   num_reactions  7050 non-null   int64\n",
      " 2   num_comments   7050 non-null   int64\n",
      " 3   num_shares     7050 non-null   int64\n",
      " 4   num_likes      7050 non-null   int64\n",
      " 5   num_loves      7050 non-null   int64\n",
      " 6   num_wows       7050 non-null   int64\n",
      " 7   num_hahas      7050 non-null   int64\n",
      " 8   num_sads       7050 non-null   int64\n",
      " 9   num_angrys     7050 non-null   int64\n",
      "dtypes: int64(10)\n",
      "memory usage: 550.9 KB\n"
     ]
    }
   ],
   "source": [
    "df.info()"
   ]
  },
  {
   "cell_type": "code",
   "execution_count": 8,
   "id": "3a98c0c0",
   "metadata": {},
   "outputs": [
    {
     "data": {
      "text/html": [
       "<div>\n",
       "<style scoped>\n",
       "    .dataframe tbody tr th:only-of-type {\n",
       "        vertical-align: middle;\n",
       "    }\n",
       "\n",
       "    .dataframe tbody tr th {\n",
       "        vertical-align: top;\n",
       "    }\n",
       "\n",
       "    .dataframe thead th {\n",
       "        text-align: right;\n",
       "    }\n",
       "</style>\n",
       "<table border=\"1\" class=\"dataframe\">\n",
       "  <thead>\n",
       "    <tr style=\"text-align: right;\">\n",
       "      <th></th>\n",
       "      <th>status_type</th>\n",
       "      <th>num_reactions</th>\n",
       "      <th>num_comments</th>\n",
       "      <th>num_shares</th>\n",
       "      <th>num_likes</th>\n",
       "      <th>num_loves</th>\n",
       "      <th>num_wows</th>\n",
       "      <th>num_hahas</th>\n",
       "      <th>num_sads</th>\n",
       "      <th>num_angrys</th>\n",
       "    </tr>\n",
       "  </thead>\n",
       "  <tbody>\n",
       "    <tr>\n",
       "      <th>count</th>\n",
       "      <td>7050.000000</td>\n",
       "      <td>7050.000000</td>\n",
       "      <td>7050.000000</td>\n",
       "      <td>7050.000000</td>\n",
       "      <td>7050.000000</td>\n",
       "      <td>7050.000000</td>\n",
       "      <td>7050.000000</td>\n",
       "      <td>7050.000000</td>\n",
       "      <td>7050.000000</td>\n",
       "      <td>7050.000000</td>\n",
       "    </tr>\n",
       "    <tr>\n",
       "      <th>mean</th>\n",
       "      <td>1.704965</td>\n",
       "      <td>230.117163</td>\n",
       "      <td>224.356028</td>\n",
       "      <td>40.022553</td>\n",
       "      <td>215.043121</td>\n",
       "      <td>12.728652</td>\n",
       "      <td>1.289362</td>\n",
       "      <td>0.696454</td>\n",
       "      <td>0.243688</td>\n",
       "      <td>0.113191</td>\n",
       "    </tr>\n",
       "    <tr>\n",
       "      <th>std</th>\n",
       "      <td>0.942399</td>\n",
       "      <td>462.625309</td>\n",
       "      <td>889.636820</td>\n",
       "      <td>131.599965</td>\n",
       "      <td>449.472357</td>\n",
       "      <td>39.972930</td>\n",
       "      <td>8.719650</td>\n",
       "      <td>3.957183</td>\n",
       "      <td>1.597156</td>\n",
       "      <td>0.726812</td>\n",
       "    </tr>\n",
       "    <tr>\n",
       "      <th>min</th>\n",
       "      <td>0.000000</td>\n",
       "      <td>0.000000</td>\n",
       "      <td>0.000000</td>\n",
       "      <td>0.000000</td>\n",
       "      <td>0.000000</td>\n",
       "      <td>0.000000</td>\n",
       "      <td>0.000000</td>\n",
       "      <td>0.000000</td>\n",
       "      <td>0.000000</td>\n",
       "      <td>0.000000</td>\n",
       "    </tr>\n",
       "    <tr>\n",
       "      <th>25%</th>\n",
       "      <td>1.000000</td>\n",
       "      <td>17.000000</td>\n",
       "      <td>0.000000</td>\n",
       "      <td>0.000000</td>\n",
       "      <td>17.000000</td>\n",
       "      <td>0.000000</td>\n",
       "      <td>0.000000</td>\n",
       "      <td>0.000000</td>\n",
       "      <td>0.000000</td>\n",
       "      <td>0.000000</td>\n",
       "    </tr>\n",
       "    <tr>\n",
       "      <th>50%</th>\n",
       "      <td>1.000000</td>\n",
       "      <td>59.500000</td>\n",
       "      <td>4.000000</td>\n",
       "      <td>0.000000</td>\n",
       "      <td>58.000000</td>\n",
       "      <td>0.000000</td>\n",
       "      <td>0.000000</td>\n",
       "      <td>0.000000</td>\n",
       "      <td>0.000000</td>\n",
       "      <td>0.000000</td>\n",
       "    </tr>\n",
       "    <tr>\n",
       "      <th>75%</th>\n",
       "      <td>3.000000</td>\n",
       "      <td>219.000000</td>\n",
       "      <td>23.000000</td>\n",
       "      <td>4.000000</td>\n",
       "      <td>184.750000</td>\n",
       "      <td>3.000000</td>\n",
       "      <td>0.000000</td>\n",
       "      <td>0.000000</td>\n",
       "      <td>0.000000</td>\n",
       "      <td>0.000000</td>\n",
       "    </tr>\n",
       "    <tr>\n",
       "      <th>max</th>\n",
       "      <td>3.000000</td>\n",
       "      <td>4710.000000</td>\n",
       "      <td>20990.000000</td>\n",
       "      <td>3424.000000</td>\n",
       "      <td>4710.000000</td>\n",
       "      <td>657.000000</td>\n",
       "      <td>278.000000</td>\n",
       "      <td>157.000000</td>\n",
       "      <td>51.000000</td>\n",
       "      <td>31.000000</td>\n",
       "    </tr>\n",
       "  </tbody>\n",
       "</table>\n",
       "</div>"
      ],
      "text/plain": [
       "       status_type  num_reactions  num_comments   num_shares    num_likes  \\\n",
       "count  7050.000000    7050.000000   7050.000000  7050.000000  7050.000000   \n",
       "mean      1.704965     230.117163    224.356028    40.022553   215.043121   \n",
       "std       0.942399     462.625309    889.636820   131.599965   449.472357   \n",
       "min       0.000000       0.000000      0.000000     0.000000     0.000000   \n",
       "25%       1.000000      17.000000      0.000000     0.000000    17.000000   \n",
       "50%       1.000000      59.500000      4.000000     0.000000    58.000000   \n",
       "75%       3.000000     219.000000     23.000000     4.000000   184.750000   \n",
       "max       3.000000    4710.000000  20990.000000  3424.000000  4710.000000   \n",
       "\n",
       "         num_loves     num_wows    num_hahas     num_sads   num_angrys  \n",
       "count  7050.000000  7050.000000  7050.000000  7050.000000  7050.000000  \n",
       "mean     12.728652     1.289362     0.696454     0.243688     0.113191  \n",
       "std      39.972930     8.719650     3.957183     1.597156     0.726812  \n",
       "min       0.000000     0.000000     0.000000     0.000000     0.000000  \n",
       "25%       0.000000     0.000000     0.000000     0.000000     0.000000  \n",
       "50%       0.000000     0.000000     0.000000     0.000000     0.000000  \n",
       "75%       3.000000     0.000000     0.000000     0.000000     0.000000  \n",
       "max     657.000000   278.000000   157.000000    51.000000    31.000000  "
      ]
     },
     "execution_count": 8,
     "metadata": {},
     "output_type": "execute_result"
    }
   ],
   "source": [
    "df.describe()"
   ]
  },
  {
   "cell_type": "code",
   "execution_count": 9,
   "id": "93a67781",
   "metadata": {},
   "outputs": [
    {
     "name": "stdout",
     "output_type": "stream",
     "text": [
      "Defaulting to user installation because normal site-packages is not writeable\n",
      "Requirement already satisfied: matplotlib in c:\\users\\hp\\appdata\\local\\packages\\pythonsoftwarefoundation.python.3.13_qbz5n2kfra8p0\\localcache\\local-packages\\python313\\site-packages (3.10.6)\n",
      "Requirement already satisfied: contourpy>=1.0.1 in c:\\users\\hp\\appdata\\local\\packages\\pythonsoftwarefoundation.python.3.13_qbz5n2kfra8p0\\localcache\\local-packages\\python313\\site-packages (from matplotlib) (1.3.3)\n",
      "Requirement already satisfied: cycler>=0.10 in c:\\users\\hp\\appdata\\local\\packages\\pythonsoftwarefoundation.python.3.13_qbz5n2kfra8p0\\localcache\\local-packages\\python313\\site-packages (from matplotlib) (0.12.1)\n",
      "Requirement already satisfied: fonttools>=4.22.0 in c:\\users\\hp\\appdata\\local\\packages\\pythonsoftwarefoundation.python.3.13_qbz5n2kfra8p0\\localcache\\local-packages\\python313\\site-packages (from matplotlib) (4.59.2)\n",
      "Requirement already satisfied: kiwisolver>=1.3.1 in c:\\users\\hp\\appdata\\local\\packages\\pythonsoftwarefoundation.python.3.13_qbz5n2kfra8p0\\localcache\\local-packages\\python313\\site-packages (from matplotlib) (1.4.9)\n",
      "Requirement already satisfied: numpy>=1.23 in c:\\users\\hp\\appdata\\local\\packages\\pythonsoftwarefoundation.python.3.13_qbz5n2kfra8p0\\localcache\\local-packages\\python313\\site-packages (from matplotlib) (2.3.2)\n",
      "Requirement already satisfied: packaging>=20.0 in c:\\users\\hp\\appdata\\local\\packages\\pythonsoftwarefoundation.python.3.13_qbz5n2kfra8p0\\localcache\\local-packages\\python313\\site-packages (from matplotlib) (25.0)\n",
      "Requirement already satisfied: pillow>=8 in c:\\users\\hp\\appdata\\local\\packages\\pythonsoftwarefoundation.python.3.13_qbz5n2kfra8p0\\localcache\\local-packages\\python313\\site-packages (from matplotlib) (11.3.0)\n",
      "Requirement already satisfied: pyparsing>=2.3.1 in c:\\users\\hp\\appdata\\local\\packages\\pythonsoftwarefoundation.python.3.13_qbz5n2kfra8p0\\localcache\\local-packages\\python313\\site-packages (from matplotlib) (3.2.4)\n",
      "Requirement already satisfied: python-dateutil>=2.7 in c:\\users\\hp\\appdata\\local\\packages\\pythonsoftwarefoundation.python.3.13_qbz5n2kfra8p0\\localcache\\local-packages\\python313\\site-packages (from matplotlib) (2.9.0.post0)\n",
      "Requirement already satisfied: six>=1.5 in c:\\users\\hp\\appdata\\local\\packages\\pythonsoftwarefoundation.python.3.13_qbz5n2kfra8p0\\localcache\\local-packages\\python313\\site-packages (from python-dateutil>=2.7->matplotlib) (1.17.0)\n"
     ]
    }
   ],
   "source": [
    "!pip install matplotlib"
   ]
  },
  {
   "cell_type": "code",
   "execution_count": 11,
   "id": "d164d4bf",
   "metadata": {},
   "outputs": [],
   "source": [
    "import matplotlib.pyplot as plt"
   ]
  },
  {
   "cell_type": "code",
   "execution_count": 12,
   "id": "b8cbaff7",
   "metadata": {},
   "outputs": [
    {
     "data": {
      "image/png": "[encoded data removed]",
      "text/plain": [
       "<Figure size 640x480 with 1 Axes>"
      ]
     },
     "metadata": {},
     "output_type": "display_data"
    }
   ],
   "source": [
    "# Select only numeric columns for clustering\n",
    "df_numeric = df.select_dtypes(include=[np.number])\n",
    "\n",
    "# Elbow Method using only numeric data\n",
    "wcss = []\n",
    "for i in range(1, 11):\n",
    "    kmeans = KMeans(n_clusters=i, random_state=42)\n",
    "    kmeans.fit(df_numeric)\n",
    "    wcss.append(kmeans.inertia_)\n",
    "\n",
    "plt.plot(range(1, 11), wcss, marker='o')\n",
    "plt.title('Elbow Method')\n",
    "plt.xlabel('Number of clusters (k)')\n",
    "plt.ylabel('WCSS (Inertia)')\n",
    "plt.show()"
   ]
  },
  {
   "cell_type": "code",
   "execution_count": 13,
   "id": "b01f2598",
   "metadata": {},
   "outputs": [
    {
     "data": {
      "text/html": [
       "<style>#sk-container-id-1 {\n",
       "  /* Definition of color scheme common for light and dark mode */\n",
       "  --sklearn-color-text: #000;\n",
       "  --sklearn-color-text-muted: #666;\n",
       "  --sklearn-color-line: gray;\n",
       "  /* Definition of color scheme for unfitted estimators */\n",
       "  --sklearn-color-unfitted-level-0: #fff5e6;\n",
       "  --sklearn-color-unfitted-level-1: #f6e4d2;\n",
       "  --sklearn-color-unfitted-level-2: #ffe0b3;\n",
       "  --sklearn-color-unfitted-level-3: chocolate;\n",
       "  /* Definition of color scheme for fitted estimators */\n",
       "  --sklearn-color-fitted-level-0: #f0f8ff;\n",
       "  --sklearn-color-fitted-level-1: #d4ebff;\n",
       "  --sklearn-color-fitted-level-2: #b3dbfd;\n",
       "  --sklearn-color-fitted-level-3: cornflowerblue;\n",
       "\n",
       "  /* Specific color for light theme */\n",
       "  --sklearn-color-text-on-default-background: var(--sg-text-color, var(--theme-code-foreground, var(--jp-content-font-color1, black)));\n",
       "  --sklearn-color-background: var(--sg-background-color, var(--theme-background, var(--jp-layout-color0, white)));\n",
       "  --sklearn-color-border-box: var(--sg-text-color, var(--theme-code-foreground, var(--jp-content-font-color1, black)));\n",
       "  --sklearn-color-icon: #696969;\n",
       "\n",
       "  @media (prefers-color-scheme: dark) {\n",
       "    /* Redefinition of color scheme for dark theme */\n",
       "    --sklearn-color-text-on-default-background: var(--sg-text-color, var(--theme-code-foreground, var(--jp-content-font-color1, white)));\n",
       "    --sklearn-color-background: var(--sg-background-color, var(--theme-background, var(--jp-layout-color0, #111)));\n",
       "    --sklearn-color-border-box: var(--sg-text-color, var(--theme-code-foreground, var(--jp-content-font-color1, white)));\n",
       "    --sklearn-color-icon: #878787;\n",
       "  }\n",
       "}\n",
       "\n",
       "#sk-container-id-1 {\n",
       "  color: var(--sklearn-color-text);\n",
       "}\n",
       "\n",
       "#sk-container-id-1 pre {\n",
       "  padding: 0;\n",
       "}\n",
       "\n",
       "#sk-container-id-1 input.sk-hidden--visually {\n",
       "  border: 0;\n",
       "  clip: rect(1px 1px 1px 1px);\n",
       "  clip: rect(1px, 1px, 1px, 1px);\n",
       "  height: 1px;\n",
       "  margin: -1px;\n",
       "  overflow: hidden;\n",
       "  padding: 0;\n",
       "  position: absolute;\n",
       "  width: 1px;\n",
       "}\n",
       "\n",
       "#sk-container-id-1 div.sk-dashed-wrapped {\n",
       "  border: 1px dashed var(--sklearn-color-line);\n",
       "  margin: 0 0.4em 0.5em 0.4em;\n",
       "  box-sizing: border-box;\n",
       "  padding-bottom: 0.4em;\n",
       "  background-color: var(--sklearn-color-background);\n",
       "}\n",
       "\n",
       "#sk-container-id-1 div.sk-container {\n",
       "  /* jupyter's `normalize.less` sets `[hidden] { display: none; }`\n",
       "     but bootstrap.min.css set `[hidden] { display: none !important; }`\n",
       "     so we also need the `!important` here to be able to override the\n",
       "     default hidden behavior on the sphinx rendered scikit-learn.org.\n",
       "     See: https://github.com/scikit-learn/scikit-learn/issues/21755 */\n",
       "  display: inline-block !important;\n",
       "  position: relative;\n",
       "}\n",
       "\n",
       "#sk-container-id-1 div.sk-text-repr-fallback {\n",
       "  display: none;\n",
       "}\n",
       "\n",
       "div.sk-parallel-item,\n",
       "div.sk-serial,\n",
       "div.sk-item {\n",
       "  /* draw centered vertical line to link estimators */\n",
       "  background-image: linear-gradient(var(--sklearn-color-text-on-default-background), var(--sklearn-color-text-on-default-background));\n",
       "  background-size: 2px 100%;\n",
       "  background-repeat: no-repeat;\n",
       "  background-position: center center;\n",
       "}\n",
       "\n",
       "/* Parallel-specific style estimator block */\n",
       "\n",
       "#sk-container-id-1 div.sk-parallel-item::after {\n",
       "  content: \"\";\n",
       "  width: 100%;\n",
       "  border-bottom: 2px solid var(--sklearn-color-text-on-default-background);\n",
       "  flex-grow: 1;\n",
       "}\n",
       "\n",
       "#sk-container-id-1 div.sk-parallel {\n",
       "  display: flex;\n",
       "  align-items: stretch;\n",
       "  justify-content: center;\n",
       "  background-color: var(--sklearn-color-background);\n",
       "  position: relative;\n",
       "}\n",
       "\n",
       "#sk-container-id-1 div.sk-parallel-item {\n",
       "  display: flex;\n",
       "  flex-direction: column;\n",
       "}\n",
       "\n",
       "#sk-container-id-1 div.sk-parallel-item:first-child::after {\n",
       "  align-self: flex-end;\n",
       "  width: 50%;\n",
       "}\n",
       "\n",
       "#sk-container-id-1 div.sk-parallel-item:last-child::after {\n",
       "  align-self: flex-start;\n",
       "  width: 50%;\n",
       "}\n",
       "\n",
       "#sk-container-id-1 div.sk-parallel-item:only-child::after {\n",
       "  width: 0;\n",
       "}\n",
       "\n",
       "/* Serial-specific style estimator block */\n",
       "\n",
       "#sk-container-id-1 div.sk-serial {\n",
       "  display: flex;\n",
       "  flex-direction: column;\n",
       "  align-items: center;\n",
       "  background-color: var(--sklearn-color-background);\n",
       "  padding-right: 1em;\n",
       "  padding-left: 1em;\n",
       "}\n",
       "\n",
       "\n",
       "/* Toggleable style: style used for estimator/Pipeline/ColumnTransformer box that is\n",
       "clickable and can be expanded/collapsed.\n",
       "- Pipeline and ColumnTransformer use this feature and define the default style\n",
       "- Estimators will overwrite some part of the style using the `sk-estimator` class\n",
       "*/\n",
       "\n",
       "/* Pipeline and ColumnTransformer style (default) */\n",
       "\n",
       "#sk-container-id-1 div.sk-toggleable {\n",
       "  /* Default theme specific background. It is overwritten whether we have a\n",
       "  specific estimator or a Pipeline/ColumnTransformer */\n",
       "  background-color: var(--sklearn-color-background);\n",
       "}\n",
       "\n",
       "/* Toggleable label */\n",
       "#sk-container-id-1 label.sk-toggleable__label {\n",
       "  cursor: pointer;\n",
       "  display: flex;\n",
       "  width: 100%;\n",
       "  margin-bottom: 0;\n",
       "  padding: 0.5em;\n",
       "  box-sizing: border-box;\n",
       "  text-align: center;\n",
       "  align-items: start;\n",
       "  justify-content: space-between;\n",
       "  gap: 0.5em;\n",
       "}\n",
       "\n",
       "#sk-container-id-1 label.sk-toggleable__label .caption {\n",
       "  font-size: 0.6rem;\n",
       "  font-weight: lighter;\n",
       "  color: var(--sklearn-color-text-muted);\n",
       "}\n",
       "\n",
       "#sk-container-id-1 label.sk-toggleable__label-arrow:before {\n",
       "  /* Arrow on the left of the label */\n",
       "  content: \"▸\";\n",
       "  float: left;\n",
       "  margin-right: 0.25em;\n",
       "  color: var(--sklearn-color-icon);\n",
       "}\n",
       "\n",
       "#sk-container-id-1 label.sk-toggleable__label-arrow:hover:before {\n",
       "  color: var(--sklearn-color-text);\n",
       "}\n",
       "\n",
       "/* Toggleable content - dropdown */\n",
       "\n",
       "#sk-container-id-1 div.sk-toggleable__content {\n",
       "  display: none;\n",
       "  text-align: left;\n",
       "  /* unfitted */\n",
       "  background-color: var(--sklearn-color-unfitted-level-0);\n",
       "}\n",
       "\n",
       "#sk-container-id-1 div.sk-toggleable__content.fitted {\n",
       "  /* fitted */\n",
       "  background-color: var(--sklearn-color-fitted-level-0);\n",
       "}\n",
       "\n",
       "#sk-container-id-1 div.sk-toggleable__content pre {\n",
       "  margin: 0.2em;\n",
       "  border-radius: 0.25em;\n",
       "  color: var(--sklearn-color-text);\n",
       "  /* unfitted */\n",
       "  background-color: var(--sklearn-color-unfitted-level-0);\n",
       "}\n",
       "\n",
       "#sk-container-id-1 div.sk-toggleable__content.fitted pre {\n",
       "  /* unfitted */\n",
       "  background-color: var(--sklearn-color-fitted-level-0);\n",
       "}\n",
       "\n",
       "#sk-container-id-1 input.sk-toggleable__control:checked~div.sk-toggleable__content {\n",
       "  /* Expand drop-down */\n",
       "  display: block;\n",
       "  width: 100%;\n",
       "  overflow: visible;\n",
       "}\n",
       "\n",
       "#sk-container-id-1 input.sk-toggleable__control:checked~label.sk-toggleable__label-arrow:before {\n",
       "  content: \"▾\";\n",
       "}\n",
       "\n",
       "/* Pipeline/ColumnTransformer-specific style */\n",
       "\n",
       "#sk-container-id-1 div.sk-label input.sk-toggleable__control:checked~label.sk-toggleable__label {\n",
       "  color: var(--sklearn-color-text);\n",
       "  background-color: var(--sklearn-color-unfitted-level-2);\n",
       "}\n",
       "\n",
       "#sk-container-id-1 div.sk-label.fitted input.sk-toggleable__control:checked~label.sk-toggleable__label {\n",
       "  background-color: var(--sklearn-color-fitted-level-2);\n",
       "}\n",
       "\n",
       "/* Estimator-specific style */\n",
       "\n",
       "/* Colorize estimator box */\n",
       "#sk-container-id-1 div.sk-estimator input.sk-toggleable__control:checked~label.sk-toggleable__label {\n",
       "  /* unfitted */\n",
       "  background-color: var(--sklearn-color-unfitted-level-2);\n",
       "}\n",
       "\n",
       "#sk-container-id-1 div.sk-estimator.fitted input.sk-toggleable__control:checked~label.sk-toggleable__label {\n",
       "  /* fitted */\n",
       "  background-color: var(--sklearn-color-fitted-level-2);\n",
       "}\n",
       "\n",
       "#sk-container-id-1 div.sk-label label.sk-toggleable__label,\n",
       "#sk-container-id-1 div.sk-label label {\n",
       "  /* The background is the default theme color */\n",
       "  color: var(--sklearn-color-text-on-default-background);\n",
       "}\n",
       "\n",
       "/* On hover, darken the color of the background */\n",
       "#sk-container-id-1 div.sk-label:hover label.sk-toggleable__label {\n",
       "  color: var(--sklearn-color-text);\n",
       "  background-color: var(--sklearn-color-unfitted-level-2);\n",
       "}\n",
       "\n",
       "/* Label box, darken color on hover, fitted */\n",
       "#sk-container-id-1 div.sk-label.fitted:hover label.sk-toggleable__label.fitted {\n",
       "  color: var(--sklearn-color-text);\n",
       "  background-color: var(--sklearn-color-fitted-level-2);\n",
       "}\n",
       "\n",
       "/* Estimator label */\n",
       "\n",
       "#sk-container-id-1 div.sk-label label {\n",
       "  font-family: monospace;\n",
       "  font-weight: bold;\n",
       "  display: inline-block;\n",
       "  line-height: 1.2em;\n",
       "}\n",
       "\n",
       "#sk-container-id-1 div.sk-label-container {\n",
       "  text-align: center;\n",
       "}\n",
       "\n",
       "/* Estimator-specific */\n",
       "#sk-container-id-1 div.sk-estimator {\n",
       "  font-family: monospace;\n",
       "  border: 1px dotted var(--sklearn-color-border-box);\n",
       "  border-radius: 0.25em;\n",
       "  box-sizing: border-box;\n",
       "  margin-bottom: 0.5em;\n",
       "  /* unfitted */\n",
       "  background-color: var(--sklearn-color-unfitted-level-0);\n",
       "}\n",
       "\n",
       "#sk-container-id-1 div.sk-estimator.fitted {\n",
       "  /* fitted */\n",
       "  background-color: var(--sklearn-color-fitted-level-0);\n",
       "}\n",
       "\n",
       "/* on hover */\n",
       "#sk-container-id-1 div.sk-estimator:hover {\n",
       "  /* unfitted */\n",
       "  background-color: var(--sklearn-color-unfitted-level-2);\n",
       "}\n",
       "\n",
       "#sk-container-id-1 div.sk-estimator.fitted:hover {\n",
       "  /* fitted */\n",
       "  background-color: var(--sklearn-color-fitted-level-2);\n",
       "}\n",
       "\n",
       "/* Specification for estimator info (e.g. \"i\" and \"?\") */\n",
       "\n",
       "/* Common style for \"i\" and \"?\" */\n",
       "\n",
       ".sk-estimator-doc-link,\n",
       "a:link.sk-estimator-doc-link,\n",
       "a:visited.sk-estimator-doc-link {\n",
       "  float: right;\n",
       "  font-size: smaller;\n",
       "  line-height: 1em;\n",
       "  font-family: monospace;\n",
       "  background-color: var(--sklearn-color-background);\n",
       "  border-radius: 1em;\n",
       "  height: 1em;\n",
       "  width: 1em;\n",
       "  text-decoration: none !important;\n",
       "  margin-left: 0.5em;\n",
       "  text-align: center;\n",
       "  /* unfitted */\n",
       "  border: var(--sklearn-color-unfitted-level-1) 1pt solid;\n",
       "  color: var(--sklearn-color-unfitted-level-1);\n",
       "}\n",
       "\n",
       ".sk-estimator-doc-link.fitted,\n",
       "a:link.sk-estimator-doc-link.fitted,\n",
       "a:visited.sk-estimator-doc-link.fitted {\n",
       "  /* fitted */\n",
       "  border: var(--sklearn-color-fitted-level-1) 1pt solid;\n",
       "  color: var(--sklearn-color-fitted-level-1);\n",
       "}\n",
       "\n",
       "/* On hover */\n",
       "div.sk-estimator:hover .sk-estimator-doc-link:hover,\n",
       ".sk-estimator-doc-link:hover,\n",
       "div.sk-label-container:hover .sk-estimator-doc-link:hover,\n",
       ".sk-estimator-doc-link:hover {\n",
       "  /* unfitted */\n",
       "  background-color: var(--sklearn-color-unfitted-level-3);\n",
       "  color: var(--sklearn-color-background);\n",
       "  text-decoration: none;\n",
       "}\n",
       "\n",
       "div.sk-estimator.fitted:hover .sk-estimator-doc-link.fitted:hover,\n",
       ".sk-estimator-doc-link.fitted:hover,\n",
       "div.sk-label-container:hover .sk-estimator-doc-link.fitted:hover,\n",
       ".sk-estimator-doc-link.fitted:hover {\n",
       "  /* fitted */\n",
       "  background-color: var(--sklearn-color-fitted-level-3);\n",
       "  color: var(--sklearn-color-background);\n",
       "  text-decoration: none;\n",
       "}\n",
       "\n",
       "/* Span, style for the box shown on hovering the info icon */\n",
       ".sk-estimator-doc-link span {\n",
       "  display: none;\n",
       "  z-index: 9999;\n",
       "  position: relative;\n",
       "  font-weight: normal;\n",
       "  right: .2ex;\n",
       "  padding: .5ex;\n",
       "  margin: .5ex;\n",
       "  width: min-content;\n",
       "  min-width: 20ex;\n",
       "  max-width: 50ex;\n",
       "  color: var(--sklearn-color-text);\n",
       "  box-shadow: 2pt 2pt 4pt #999;\n",
       "  /* unfitted */\n",
       "  background: var(--sklearn-color-unfitted-level-0);\n",
       "  border: .5pt solid var(--sklearn-color-unfitted-level-3);\n",
       "}\n",
       "\n",
       ".sk-estimator-doc-link.fitted span {\n",
       "  /* fitted */\n",
       "  background: var(--sklearn-color-fitted-level-0);\n",
       "  border: var(--sklearn-color-fitted-level-3);\n",
       "}\n",
       "\n",
       ".sk-estimator-doc-link:hover span {\n",
       "  display: block;\n",
       "}\n",
       "\n",
       "/* \"?\"-specific style due to the `<a>` HTML tag */\n",
       "\n",
       "#sk-container-id-1 a.estimator_doc_link {\n",
       "  float: right;\n",
       "  font-size: 1rem;\n",
       "  line-height: 1em;\n",
       "  font-family: monospace;\n",
       "  background-color: var(--sklearn-color-background);\n",
       "  border-radius: 1rem;\n",
       "  height: 1rem;\n",
       "  width: 1rem;\n",
       "  text-decoration: none;\n",
       "  /* unfitted */\n",
       "  color: var(--sklearn-color-unfitted-level-1);\n",
       "  border: var(--sklearn-color-unfitted-level-1) 1pt solid;\n",
       "}\n",
       "\n",
       "#sk-container-id-1 a.estimator_doc_link.fitted {\n",
       "  /* fitted */\n",
       "  border: var(--sklearn-color-fitted-level-1) 1pt solid;\n",
       "  color: var(--sklearn-color-fitted-level-1);\n",
       "}\n",
       "\n",
       "/* On hover */\n",
       "#sk-container-id-1 a.estimator_doc_link:hover {\n",
       "  /* unfitted */\n",
       "  background-color: var(--sklearn-color-unfitted-level-3);\n",
       "  color: var(--sklearn-color-background);\n",
       "  text-decoration: none;\n",
       "}\n",
       "\n",
       "#sk-container-id-1 a.estimator_doc_link.fitted:hover {\n",
       "  /* fitted */\n",
       "  background-color: var(--sklearn-color-fitted-level-3);\n",
       "}\n",
       "\n",
       ".estimator-table summary {\n",
       "    padding: .5rem;\n",
       "    font-family: monospace;\n",
       "    cursor: pointer;\n",
       "}\n",
       "\n",
       ".estimator-table details[open] {\n",
       "    padding-left: 0.1rem;\n",
       "    padding-right: 0.1rem;\n",
       "    padding-bottom: 0.3rem;\n",
       "}\n",
       "\n",
       ".estimator-table .parameters-table {\n",
       "    margin-left: auto !important;\n",
       "    margin-right: auto !important;\n",
       "}\n",
       "\n",
       ".estimator-table .parameters-table tr:nth-child(odd) {\n",
       "    background-color: #fff;\n",
       "}\n",
       "\n",
       ".estimator-table .parameters-table tr:nth-child(even) {\n",
       "    background-color: #f6f6f6;\n",
       "}\n",
       "\n",
       ".estimator-table .parameters-table tr:hover {\n",
       "    background-color: #e0e0e0;\n",
       "}\n",
       "\n",
       ".estimator-table table td {\n",
       "    border: 1px solid rgba(106, 105, 104, 0.232);\n",
       "}\n",
       "\n",
       ".user-set td {\n",
       "    color:rgb(255, 94, 0);\n",
       "    text-align: left;\n",
       "}\n",
       "\n",
       ".user-set td.value pre {\n",
       "    color:rgb(255, 94, 0) !important;\n",
       "    background-color: transparent !important;\n",
       "}\n",
       "\n",
       ".default td {\n",
       "    color: black;\n",
       "    text-align: left;\n",
       "}\n",
       "\n",
       ".user-set td i,\n",
       ".default td i {\n",
       "    color: black;\n",
       "}\n",
       "\n",
       ".copy-paste-icon {\n",
       "    background-image: url(data:image/svg+xml;base64,PHN2ZyB4bWxucz0iaHR0cDovL3d3dy53My5vcmcvMjAwMC9zdmciIHZpZXdCb3g9IjAgMCA0NDggNTEyIj48IS0tIUZvbnQgQXdlc29tZSBGcmVlIDYuNy4yIGJ5IEBmb250YXdlc29tZSAtIGh0dHBzOi8vZm9udGF3ZXNvbWUuY29tIExpY2Vuc2UgLSBodHRwczovL2ZvbnRhd2Vzb21lLmNvbS9saWNlbnNlL2ZyZWUgQ29weXJpZ2h0IDIwMjUgRm9udGljb25zLCBJbmMuLS0+PHBhdGggZD0iTTIwOCAwTDMzMi4xIDBjMTIuNyAwIDI0LjkgNS4xIDMzLjkgMTQuMWw2Ny45IDY3LjljOSA5IDE0LjEgMjEuMiAxNC4xIDMzLjlMNDQ4IDMzNmMwIDI2LjUtMjEuNSA0OC00OCA0OGwtMTkyIDBjLTI2LjUgMC00OC0yMS41LTQ4LTQ4bDAtMjg4YzAtMjYuNSAyMS41LTQ4IDQ4LTQ4ek00OCAxMjhsODAgMCAwIDY0LTY0IDAgMCAyNTYgMTkyIDAgMC0zMiA2NCAwIDAgNDhjMCAyNi41LTIxLjUgNDgtNDggNDhMNDggNTEyYy0yNi41IDAtNDgtMjEuNS00OC00OEwwIDE3NmMwLTI2LjUgMjEuNS00OCA0OC00OHoiLz48L3N2Zz4=);\n",
       "    background-repeat: no-repeat;\n",
       "    background-size: 14px 14px;\n",
       "    background-position: 0;\n",
       "    display: inline-block;\n",
       "    width: 14px;\n",
       "    height: 14px;\n",
       "    cursor: pointer;\n",
       "}\n",
       "</style><body><div id=\"sk-container-id-1\" class=\"sk-top-container\"><div class=\"sk-text-repr-fallback\"><pre>KMeans()</pre><b>In a Jupyter environment, please rerun this cell to show the HTML representation or trust the notebook. <br />On GitHub, the HTML representation is unable to render, please try loading this page with nbviewer.org.</b></div><div class=\"sk-container\" hidden><div class=\"sk-item\"><div class=\"sk-estimator fitted sk-toggleable\"><input class=\"sk-toggleable__control sk-hidden--visually\" id=\"sk-estimator-id-1\" type=\"checkbox\" checked><label for=\"sk-estimator-id-1\" class=\"sk-toggleable__label fitted sk-toggleable__label-arrow\"><div><div>KMeans</div></div><div><a class=\"sk-estimator-doc-link fitted\" rel=\"noreferrer\" target=\"_blank\" href=\"https://scikit-learn.org/1.7/modules/generated/sklearn.cluster.KMeans.html\">?<span>Documentation for KMeans</span></a><span class=\"sk-estimator-doc-link fitted\">i<span>Fitted</span></span></div></label><div class=\"sk-toggleable__content fitted\" data-param-prefix=\"\">\n",
       "        <div class=\"estimator-table\">\n",
       "            <details>\n",
       "                <summary>Parameters</summary>\n",
       "                <table class=\"parameters-table\">\n",
       "                  <tbody>\n",
       "                    \n",
       "        <tr class=\"default\">\n",
       "            <td><i class=\"copy-paste-icon\"\n",
       "                 onclick=\"copyToClipboard('n_clusters',\n",
       "                          this.parentElement.nextElementSibling)\"\n",
       "            ></i></td>\n",
       "            <td class=\"param\">n_clusters&nbsp;</td>\n",
       "            <td class=\"value\">8</td>\n",
       "        </tr>\n",
       "    \n",
       "\n",
       "        <tr class=\"default\">\n",
       "            <td><i class=\"copy-paste-icon\"\n",
       "                 onclick=\"copyToClipboard('init',\n",
       "                          this.parentElement.nextElementSibling)\"\n",
       "            ></i></td>\n",
       "            <td class=\"param\">init&nbsp;</td>\n",
       "            <td class=\"value\">&#x27;k-means++&#x27;</td>\n",
       "        </tr>\n",
       "    \n",
       "\n",
       "        <tr class=\"default\">\n",
       "            <td><i class=\"copy-paste-icon\"\n",
       "                 onclick=\"copyToClipboard('n_init',\n",
       "                          this.parentElement.nextElementSibling)\"\n",
       "            ></i></td>\n",
       "            <td class=\"param\">n_init&nbsp;</td>\n",
       "            <td class=\"value\">&#x27;auto&#x27;</td>\n",
       "        </tr>\n",
       "    \n",
       "\n",
       "        <tr class=\"default\">\n",
       "            <td><i class=\"copy-paste-icon\"\n",
       "                 onclick=\"copyToClipboard('max_iter',\n",
       "                          this.parentElement.nextElementSibling)\"\n",
       "            ></i></td>\n",
       "            <td class=\"param\">max_iter&nbsp;</td>\n",
       "            <td class=\"value\">300</td>\n",
       "        </tr>\n",
       "    \n",
       "\n",
       "        <tr class=\"default\">\n",
       "            <td><i class=\"copy-paste-icon\"\n",
       "                 onclick=\"copyToClipboard('tol',\n",
       "                          this.parentElement.nextElementSibling)\"\n",
       "            ></i></td>\n",
       "            <td class=\"param\">tol&nbsp;</td>\n",
       "            <td class=\"value\">0.0001</td>\n",
       "        </tr>\n",
       "    \n",
       "\n",
       "        <tr class=\"default\">\n",
       "            <td><i class=\"copy-paste-icon\"\n",
       "                 onclick=\"copyToClipboard('verbose',\n",
       "                          this.parentElement.nextElementSibling)\"\n",
       "            ></i></td>\n",
       "            <td class=\"param\">verbose&nbsp;</td>\n",
       "            <td class=\"value\">0</td>\n",
       "        </tr>\n",
       "    \n",
       "\n",
       "        <tr class=\"default\">\n",
       "            <td><i class=\"copy-paste-icon\"\n",
       "                 onclick=\"copyToClipboard('random_state',\n",
       "                          this.parentElement.nextElementSibling)\"\n",
       "            ></i></td>\n",
       "            <td class=\"param\">random_state&nbsp;</td>\n",
       "            <td class=\"value\">None</td>\n",
       "        </tr>\n",
       "    \n",
       "\n",
       "        <tr class=\"default\">\n",
       "            <td><i class=\"copy-paste-icon\"\n",
       "                 onclick=\"copyToClipboard('copy_x',\n",
       "                          this.parentElement.nextElementSibling)\"\n",
       "            ></i></td>\n",
       "            <td class=\"param\">copy_x&nbsp;</td>\n",
       "            <td class=\"value\">True</td>\n",
       "        </tr>\n",
       "    \n",
       "\n",
       "        <tr class=\"default\">\n",
       "            <td><i class=\"copy-paste-icon\"\n",
       "                 onclick=\"copyToClipboard('algorithm',\n",
       "                          this.parentElement.nextElementSibling)\"\n",
       "            ></i></td>\n",
       "            <td class=\"param\">algorithm&nbsp;</td>\n",
       "            <td class=\"value\">&#x27;lloyd&#x27;</td>\n",
       "        </tr>\n",
       "    \n",
       "                  </tbody>\n",
       "                </table>\n",
       "            </details>\n",
       "        </div>\n",
       "    </div></div></div></div></div><script>function copyToClipboard(text, element) {\n",
       "    // Get the parameter prefix from the closest toggleable content\n",
       "    const toggleableContent = element.closest('.sk-toggleable__content');\n",
       "    const paramPrefix = toggleableContent ? toggleableContent.dataset.paramPrefix : '';\n",
       "    const fullParamName = paramPrefix ? `${paramPrefix}${text}` : text;\n",
       "\n",
       "    const originalStyle = element.style;\n",
       "    const computedStyle = window.getComputedStyle(element);\n",
       "    const originalWidth = computedStyle.width;\n",
       "    const originalHTML = element.innerHTML.replace('Copied!', '');\n",
       "\n",
       "    navigator.clipboard.writeText(fullParamName)\n",
       "        .then(() => {\n",
       "            element.style.width = originalWidth;\n",
       "            element.style.color = 'green';\n",
       "            element.innerHTML = \"Copied!\";\n",
       "\n",
       "            setTimeout(() => {\n",
       "                element.innerHTML = originalHTML;\n",
       "                element.style = originalStyle;\n",
       "            }, 2000);\n",
       "        })\n",
       "        .catch(err => {\n",
       "            console.error('Failed to copy:', err);\n",
       "            element.style.color = 'red';\n",
       "            element.innerHTML = \"Failed!\";\n",
       "            setTimeout(() => {\n",
       "                element.innerHTML = originalHTML;\n",
       "                element.style = originalStyle;\n",
       "            }, 2000);\n",
       "        });\n",
       "    return false;\n",
       "}\n",
       "\n",
       "document.querySelectorAll('.fa-regular.fa-copy').forEach(function(element) {\n",
       "    const toggleableContent = element.closest('.sk-toggleable__content');\n",
       "    const paramPrefix = toggleableContent ? toggleableContent.dataset.paramPrefix : '';\n",
       "    const paramName = element.parentElement.nextElementSibling.textContent.trim();\n",
       "    const fullParamName = paramPrefix ? `${paramPrefix}${paramName}` : paramName;\n",
       "\n",
       "    element.setAttribute('title', fullParamName);\n",
       "});\n",
       "</script></body>"
      ],
      "text/plain": [
       "KMeans()"
      ]
     },
     "execution_count": 13,
     "metadata": {},
     "output_type": "execute_result"
    }
   ],
   "source": [
    "kmeans = KMeans(n_clusters=8)\n",
    "kmeans.fit(df)"
   ]
  },
  {
   "cell_type": "code",
   "execution_count": 14,
   "id": "cba19561",
   "metadata": {},
   "outputs": [
    {
     "name": "stdout",
     "output_type": "stream",
     "text": [
      "Defaulting to user installation because normal site-packages is not writeable\n",
      "Requirement already satisfied: plotly in c:\\users\\hp\\appdata\\local\\packages\\pythonsoftwarefoundation.python.3.13_qbz5n2kfra8p0\\localcache\\local-packages\\python313\\site-packages (6.3.0)\n",
      "Requirement already satisfied: narwhals>=1.15.1 in c:\\users\\hp\\appdata\\local\\packages\\pythonsoftwarefoundation.python.3.13_qbz5n2kfra8p0\\localcache\\local-packages\\python313\\site-packages (from plotly) (2.5.0)\n",
      "Requirement already satisfied: packaging in c:\\users\\hp\\appdata\\local\\packages\\pythonsoftwarefoundation.python.3.13_qbz5n2kfra8p0\\localcache\\local-packages\\python313\\site-packages (from plotly) (25.0)\n",
      "Note: you may need to restart the kernel to use updated packages.\n"
     ]
    }
   ],
   "source": [
    "pip install plotly"
   ]
  },
  {
   "cell_type": "code",
   "execution_count": null,
   "id": "babc98f1",
   "metadata": {},
   "outputs": [
    {
     "name": "stdout",
     "output_type": "stream",
     "text": [
      "Note: you may need to restart the kernel to use updated packages.\n"
     ]
    }
   ],
   "source": [
    "pip install nbformat>=4.2\n"
   ]
  },
  {
   "cell_type": "code",
   "execution_count": null,
   "id": "49292cf9",
   "metadata": {},
   "outputs": [
    {
     "name": "stdout",
     "output_type": "stream",
     "text": [
      "Defaulting to user installation because normal site-packages is not writeable\n",
      "Collecting ipywidgets\n",
      "  Downloading ipywidgets-8.1.7-py3-none-any.whl.metadata (2.4 kB)\n",
      "Requirement already satisfied: comm>=0.1.3 in c:\\users\\hp\\appdata\\local\\packages\\pythonsoftwarefoundation.python.3.13_qbz5n2kfra8p0\\localcache\\local-packages\\python313\\site-packages (from ipywidgets) (0.2.3)\n",
      "Requirement already satisfied: ipython>=6.1.0 in c:\\users\\hp\\appdata\\local\\packages\\pythonsoftwarefoundation.python.3.13_qbz5n2kfra8p0\\localcache\\local-packages\\python313\\site-packages (from ipywidgets) (9.5.0)\n",
      "Requirement already satisfied: traitlets>=4.3.1 in c:\\users\\hp\\appdata\\local\\packages\\pythonsoftwarefoundation.python.3.13_qbz5n2kfra8p0\\localcache\\local-packages\\python313\\site-packages (from ipywidgets) (5.14.3)\n",
      "Collecting widgetsnbextension~=4.0.14 (from ipywidgets)\n",
      "  Downloading widgetsnbextension-4.0.14-py3-none-any.whl.metadata (1.6 kB)\n",
      "Collecting jupyterlab_widgets~=3.0.15 (from ipywidgets)\n",
      "  Downloading jupyterlab_widgets-3.0.15-py3-none-any.whl.metadata (20 kB)\n",
      "Requirement already satisfied: colorama in c:\\users\\hp\\appdata\\local\\packages\\pythonsoftwarefoundation.python.3.13_qbz5n2kfra8p0\\localcache\\local-packages\\python313\\site-packages (from ipython>=6.1.0->ipywidgets) (0.4.6)\n",
      "Requirement already satisfied: decorator in c:\\users\\hp\\appdata\\local\\packages\\pythonsoftwarefoundation.python.3.13_qbz5n2kfra8p0\\localcache\\local-packages\\python313\\site-packages (from ipython>=6.1.0->ipywidgets) (5.2.1)\n",
      "Requirement already satisfied: ipython-pygments-lexers in c:\\users\\hp\\appdata\\local\\packages\\pythonsoftwarefoundation.python.3.13_qbz5n2kfra8p0\\localcache\\local-packages\\python313\\site-packages (from ipython>=6.1.0->ipywidgets) (1.1.1)\n",
      "Requirement already satisfied: jedi>=0.16 in c:\\users\\hp\\appdata\\local\\packages\\pythonsoftwarefoundation.python.3.13_qbz5n2kfra8p0\\localcache\\local-packages\\python313\\site-packages (from ipython>=6.1.0->ipywidgets) (0.19.2)\n",
      "Requirement already satisfied: matplotlib-inline in c:\\users\\hp\\appdata\\local\\packages\\pythonsoftwarefoundation.python.3.13_qbz5n2kfra8p0\\localcache\\local-packages\\python313\\site-packages (from ipython>=6.1.0->ipywidgets) (0.1.7)\n",
      "Requirement already satisfied: prompt_toolkit<3.1.0,>=3.0.41 in c:\\users\\hp\\appdata\\local\\packages\\pythonsoftwarefoundation.python.3.13_qbz5n2kfra8p0\\localcache\\local-packages\\python313\\site-packages (from ipython>=6.1.0->ipywidgets) (3.0.52)\n",
      "Requirement already satisfied: pygments>=2.4.0 in c:\\users\\hp\\appdata\\local\\packages\\pythonsoftwarefoundation.python.3.13_qbz5n2kfra8p0\\localcache\\local-packages\\python313\\site-packages (from ipython>=6.1.0->ipywidgets) (2.19.2)\n",
      "Requirement already satisfied: stack_data in c:\\users\\hp\\appdata\\local\\packages\\pythonsoftwarefoundation.python.3.13_qbz5n2kfra8p0\\localcache\\local-packages\\python313\\site-packages (from ipython>=6.1.0->ipywidgets) (0.6.3)\n",
      "Requirement already satisfied: wcwidth in c:\\users\\hp\\appdata\\local\\packages\\pythonsoftwarefoundation.python.3.13_qbz5n2kfra8p0\\localcache\\local-packages\\python313\\site-packages (from prompt_toolkit<3.1.0,>=3.0.41->ipython>=6.1.0->ipywidgets) (0.2.13)\n",
      "Requirement already satisfied: parso<0.9.0,>=0.8.4 in c:\\users\\hp\\appdata\\local\\packages\\pythonsoftwarefoundation.python.3.13_qbz5n2kfra8p0\\localcache\\local-packages\\python313\\site-packages (from jedi>=0.16->ipython>=6.1.0->ipywidgets) (0.8.5)\n",
      "Requirement already satisfied: executing>=1.2.0 in c:\\users\\hp\\appdata\\local\\packages\\pythonsoftwarefoundation.python.3.13_qbz5n2kfra8p0\\localcache\\local-packages\\python313\\site-packages (from stack_data->ipython>=6.1.0->ipywidgets) (2.2.1)\n",
      "Requirement already satisfied: asttokens>=2.1.0 in c:\\users\\hp\\appdata\\local\\packages\\pythonsoftwarefoundation.python.3.13_qbz5n2kfra8p0\\localcache\\local-packages\\python313\\site-packages (from stack_data->ipython>=6.1.0->ipywidgets) (3.0.0)\n",
      "Requirement already satisfied: pure-eval in c:\\users\\hp\\appdata\\local\\packages\\pythonsoftwarefoundation.python.3.13_qbz5n2kfra8p0\\localcache\\local-packages\\python313\\site-packages (from stack_data->ipython>=6.1.0->ipywidgets) (0.2.3)\n",
      "Downloading ipywidgets-8.1.7-py3-none-any.whl (139 kB)\n",
      "Downloading jupyterlab_widgets-3.0.15-py3-none-any.whl (216 kB)\n",
      "Downloading widgetsnbextension-4.0.14-py3-none-any.whl (2.2 MB)\n",
      "   ---------------------------------------- 0.0/2.2 MB ? eta -:--:--\n",
      "   ---------------------------------------- 2.2/2.2 MB 12.5 MB/s  0:00:00\n",
      "Installing collected packages: widgetsnbextension, jupyterlab_widgets, ipywidgets\n",
      "\n",
      "   ------------- -------------------------- 1/3 [jupyterlab_widgets]\n",
      "   -------------------------- ------------- 2/3 [ipywidgets]\n",
      "   -------------------------- ------------- 2/3 [ipywidgets]\n",
      "   -------------------------- ------------- 2/3 [ipywidgets]\n",
      "   -------------------------- ------------- 2/3 [ipywidgets]\n",
      "   -------------------------- ------------- 2/3 [ipywidgets]\n",
      "   -------------------------- ------------- 2/3 [ipywidgets]\n",
      "   -------------------------- ------------- 2/3 [ipywidgets]\n",
      "   -------------------------- ------------- 2/3 [ipywidgets]\n",
      "   ---------------------------------------- 3/3 [ipywidgets]\n",
      "\n",
      "Successfully installed ipywidgets-8.1.7 jupyterlab_widgets-3.0.15 widgetsnbextension-4.0.14\n",
      "Note: you may need to restart the kernel to use updated packages.\n"
     ]
    }
   ],
   "source": [
    "pip install ipywidgets\n"
   ]
  },
  {
   "cell_type": "code",
   "execution_count": 16,
   "id": "ffde4209",
   "metadata": {},
   "outputs": [
    {
     "data": {
      "application/vnd.plotly.v1+json": {
       "config": {
        "plotlyServerURL": "https://plot.ly"
       },
       "data": [
        {
         "hovertemplate": "color=6<br>num_reactions=%{x}<br>num_comments=%{y}<br>num_shares=%{z}<extra></extra>",
         "legendgroup": "6",
         "marker": {
          "color": "#636efa",
          "opacity": 0.7,
          "symbol": "circle"
         },
         "mode": "markers",
         "name": "6",
         "scene": "scene",
         "showlegend": true,
         "type": "scatter3d",
         "x": {
          "bdata": "EQL3AaUBGAFtAfQAkwF2ASsBjgE7AnAB3gLbAUEBaAJPAlQB4wDRANIAvwDFAOwA2wAYAS8BSAHoAbkA8gBTAWEB0wD3AGYBlAGpAf0AbgEkASoBugFzARQB1wAnAQcBLgGNAeYBFQEYAdgA/wDzACwB3wDIAG4BYAFyATsBMwEwAaoAPQGiAYABFgGAASoBNwE9ASgB9wAkAWgBLwEJAUYBEgErAQMBLAHmAOcAFAEtARcBWwEJAQgB6wBJAQgB4gGWAZ0BJgHCAS8BMwGAAXoBTQGNASwBAQEdAUgB8ADCANMA/QDlANYA9wAWARcBZgH5AH4AegEcAf0BjgCLAPwAIAEjAUkB+gAxAR8CmgDQAJ0AvgCkALoA+QDbALQA1wCRAKAAywCFAHIALAEbA2sDagP0A+kCnAADAcQArADbAPMAzQChAKsA0AArAQAB8ADaAC8BpACSAKgAngCjAMEA4gCcAOgAzwDPANsAngCjAMEAhACjAIAAjwDeALYAsgCpAOYA7ADJAHEAuACqAOQAqgClALQA1QCvAMoApACtALEA8gDhAO4A6wBqASIBCwHhAO0AWQH8AKgAAQE8ARkBHQHDAO8ADgEzAewAAgFAAQwB7wARAeUA1AAmAe8AKAEVASQBLwHtADsB+wDUALgBXQFiAUMBjgEJAf0ACAGIAQoBZwFLASMBzADHADsBMAHwAOUAuwAfAcgAqgAkARsBCQGCAbABEgFKAWMBsQFBAekA9ABPAd8ADQHmAPkAQgGBAaYA2wDBAJcA/QD4AFMBMQGnAR0BRQHMACkBBAHZABMBLAEyAToBnQFLATMBJAH4AKwAEwGcAQwB+QBNAZcBCwHWANQAGgHgAKAAtgDWAOkAUAG3ACcB5gCOASgBDwHeAIoB0wAZAa0A6ADxAPIA9gAgAZwBHwGKAXIBlwDNAIIAfgB8AMAAiQG5AMAAtAC8AJIAxQD2AAABnAAZAW4AmwAKAeEAmgBgANQAwAB3ADcAiQBlAJQASQBlAEIAKwBfAFgAcQCLACsBCQFjAC8BOACmAJEAAwKbAZoAUQFZAPoAiAFwAGQAkgDBAGUAcADHAGgAcABMAHIAxgB7AGoAdABwAGMArQCOAGAAfwA=",
          "dtype": "i2"
         },
         "y": {
          "bdata": "AAJmAsUCOQMlA00CDQJMAjQCXQJ4A48D5AM+AmUFCwIwArEExgQpAjADZAIcAhEDtgIkBIgDRgR8CeQDywL7A3sDWwM8A/QEaQRhBXIC0gW+BM4DOAnRBJ8DEAMqBHwDGgPmAzAFRAQTBKcCngNhBOgDsAOJAh4GJAfTBT4EMwilApECSgXRBfkIRwKGBGYCZQO/BGUDKgNDAgcGygLEAsoDXQK7Ax8DxQNuAqsD6AKCBAoE6Qd9AhQEUQJcBb8D/gSEBIoF4gNCBfwCUQL9Bh0E1gPiBHkCHwNiA5YCAQOFAqUCSQMjAwoDXgJcAzoCDQQQA8kDowMyAvAGqwJzAt0CswZ/A3UHJQS8BvkHNQPVA08C0wJgBDEDxgbiA+oDzQTqAvwDBwP2AqoDXAMfA5kESwSUA6UDUQK3An0CKwJzAlUCawJDAlMCPQL4AgsD/AJ7AlwCcgJgA78CbwJyBHcCLAJPAzcC4wNiBE4CVQNZAyAC0gL/AnYCVgUIB0gCKAVxA4oDvwKgAlACrQPWAgYEGQNeBuIDmAasBB8FGwe+BMIC6AIvAi8D/gTpApMDxQQ9BJYF+wN1A84CSAQ4BCkDCgOYBPYEggP7BKoD8APlBxwHqgOSA+0DJwKZBiQCkAL2BJEF6wORAxoEeQSUA1gExwNfBHQHlgdyBIIFzwW0B+ACRAT5A5EEIwRbAt8ELQS8BLcC0gLFAvAC4gaCAwcCmAJ4B5wDdARpCeEEFgc6Bg8ETAVACJ4HDwMaBtwE3wVzBq8ElAQgA5sCGwRmBToEhwV9Bg0FHgOwBG0E1QV1A1kE/AXrBNAFjgc6BE8DqgRQAiAEcQKQBjADuQQbBV4FWwMLA+4DNwYhAp8EdgQOBpAE/AWMA00FIwUKCdwG7AWvBksJtANCB0ICFQSqA4EECwS5A80FlAOTCBkEPQnEBRsEaQZMA50H+QUrB6YFgAgzCCEGUwdFCZsFsgdBCDYCUwMUCHwGcgQ8BKUHIwlJAxEDlALZBrgDpwTKBpMCwgI/A8cDIQOvAqUDPwV+BNEFygQqBzcFNwI2Am4GlgJGA64HZQLzAr0CLweEBJYGOAMNB8QGBAYlB5cFdwg2BJEGKQbBBmYD7QZEBXAD/wg=",
          "dtype": "i2"
         },
         "z": {
          "bdata": "BgFIAB4ALwAuADAAKgAuACoAHgBrADIASQAwAEMAFQAxAC8A4gCYAPYAyQAFAZEArQDfALEA6wARAegA8gCoAKgAbQCuALoAlgC6APQAmgC0AIwAyACeAIgAoQD+ALsA8wASAecAnwCVAL8AtQBOAXIAXQCFABQBXQDnAJ0A0ABsADgAqQAZAV8CSAB4AHYARwBKADoA4ACwAIAANAAhAD8ALQBYAFUASABRAHUASwB5AF8AyAA/ADMALQBFAIwAsACLAIMAagDAAEYASADSAI4AXQBVADcAQAA1AD4AJQAcABcAKQAkADgAGgA4AFgAZAB3AE8AXwBdAIoAMQA1AE0AWQCnAIkANgDfANwBSwBsAD0AVQBDAEQA9wBwAEwAVAA9AD0APgA0ADsAEgE0Am4BHQKMAewA0gAHAd8A8ADmAPEA7wDKABEB/ADkADABGwFdASMBuADHAKAAmwDIAM4ADAHZAC4BvwC0AH0A8QDDAOoAoQCwAIwAywC3AJ4AqQCNANcAjQCaAH8AogCUAMAAwgCpAOAACQHmAK8AowD0ALoAwQCmAKUA1ADHAPAAAwHMAPMAogDyAKwAzgDCAKsAqwDRAMIA6QDkANgABQFqASoB1ADaAOMAuwAcAbwA/QA3AQgB8gDKABIBBQHGAEIBGAEVAQUBQgH+AAUBFwE4AeUA8gAdAQEB6wDHABIBUgF2AfsAsADEALgAAQEGAScBvwCKAR8BLAGNAV0BwwE+ARgBTAFVArEBZQFCAdUB6wHpAVwBEgFQAcMATgErAacBogFIAicBYgEzAbwBUgH4AK8BGQE/Ab4BHgIKArgBewEuAQIB6wEpAhECrwHsAfUCqgF5AfABtgHnANkAWgGEAZQBrAEKAdoBXAHmAqYB+QHPAdcB9QBTAZkA/QAaAS8BQgEwAcQBHgGTASwBMgH0AZ0AxAC3AEEBJAE4AYUBOgGEATwBcALbAa0BJAFFAu4AmQDFAWMBmAEKAWsBxAFnAFMAxgDjAMYAhgB3AGwARwBXAFYAfAASAQgCwgEKAeMBSwBPAYMADQAUAFIAFwAzACIAGgAmAA8AZQBmAB0AMgCnAGMAWgBbAE4AiABGAB8AMgBbADIAaQBGACMAbQA=",
          "dtype": "i2"
         }
        },
        {
         "hovertemplate": "color=0<br>num_reactions=%{x}<br>num_comments=%{y}<br>num_shares=%{z}<extra></extra>",
         "legendgroup": "0",
         "marker": {
          "color": "#EF553B",
          "opacity": 0.7,
          "symbol": "circle"
         },
         "mode": "markers",
         "name": "0",
         "scene": "scene",
         "showlegend": true,
         "type": "scatter3d",
         "x": {
          "bdata": "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",
          "dtype": "i2"
         },
         "y": {
          "bdata": "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",
          "dtype": "i2"
         },
         "z": {
          "bdata": "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",
          "dtype": "i2"
         }
        },
        {
         "hovertemplate": "color=5<br>num_reactions=%{x}<br>num_comments=%{y}<br>num_shares=%{z}<extra></extra>",
         "legendgroup": "5",
         "marker": {
          "color": "#00cc96",
          "opacity": 0.7,
          "symbol": "circle"
         },
         "mode": "markers",
         "name": "5",
         "scene": "scene",
         "showlegend": true,
         "type": "scatter3d",
         "x": {
          "bdata": "owLhAjwCKQLtA7ACiAJ1AmoCdQPNAg8DUQKqAmMFdQKiBBMEsgJzAjYCiQMeAl8CgQKOAqADmQMGBhYCBwNrAnUCKAIcBLQDEAYsBtkEHgS6A/YDtwPHBNsDJwaxA6oEOwXDA3kEtgO2A7cDzgNzBCUE+gPfA7gD4wTIAzoFtANhBdwEtAPNBFMFvAM4BOIDiwW6AyYCJQJ3BEwFzgSrBcIE6wT2BIwEBQStBLcDLQTxBNADNQRCBaQEOQREBB4G4AOUBGgEZQQSBM8EdARSBuEE/wSnBHAFFgVjBZEE5QW8A8QEQQbYBU8E9gWHBPIDngSUBcEFnAQIBCECqQTFBfgE1gTcBWYE3gQEBgIF5QTMBaUFbARKBrQEngS8BL0F2QU+BfQElAXUBf0EGgblBBQFqwWkBZ4EkAUOBd0FNgQ1BFwD7AJoAj8FHQT4BPkF8QKVBbsEBgMiBLQEPAIUAoACTwIfAvUDjQJoAlgC7AIkAoEChAJ9Aw0CZwI8AuYCVALOBPYCnAMZAiACuwKiBcwDLQW7BQsDcgKZAjIC/wLSAn0CQwWaA60CzQMKAycCDgNwA8wCTQLOAlEDsALKAkACbQJbAhICigMgA8sCyQMfAtUDHgIfA6YEMgJ+Ai0DrgIwAi8CZgKxBHkEGQJAAlYC5AV9AnUDsgICBNQEaQP5BLsDYQJ9AjgCLQJyAhECcAJsAzUCMwLDAkACRQLvAmoFJgN9AqwDHwMYBbYEHgNCBMoFNQIyA18DMAPUBC0DswS9AlcD0QLhA0UCuAO4A48CcgXnBd0DlAKVAnsC0wVWAugCRAKtAggFngNxBacCiAICAywDeQRqBCsCVAIDBBAFowNkAkoCKAKsAlsGFwN8BTgD9wRTAxwD3ARjA2YCIwKQBG8D2QOsAlsGFwN8BTgD9wRTAxwD3ARjA2YCIwKQBG8D2QPMBPUDrQLNAw==",
          "dtype": "i2"
         },
         "y": {
          "bdata": "CgASABAADwAZAAAADQALABwAzgEoAAsANQEWAAEDEAAlAHUACgAKAQoACgAVAH8BAAABADUAIwASAAAAEgAPAAcACAAMAAcAFwAOAAYACQAKAA4ADQAiAA0ADwAJAA4ACQAGABkACAANAAoACgA5AAUACgAKAAQAEQAJAAYABQAFAA0AAwAFAAwABgAcAAkABwAGAAEABgCaAAoAMQAOAAwA0wAJAN4ACwAMAAYAFAAKAAIAFQBKAQ4ADwARAB8ABwDHAAoAawEIABsAKQENAAAACwAWAAoAEAAUAAMAGgAGAAoAJgBVABgADgAgAA4AHQALAAwABQAJAA0AJgALAAcAFQANAEIAKQAZACMAKgAsACgAEAA3AAkAAAAHADMACwAEAAYACAAFAA4ALgANABIACAAGAAAABgAXAHEAgwDzAMQAJgALAA8ABQARABYACQAiAFQAGQAdABcABgATAB8AKQARABgAEwAHAA0AKAAkAA4AHgAXAA4AFAAKAAoAEQAfABgAFgAQABMACgAwABAAHgBrAAkACQAJAAUAGgAJAAgADQAFAAoACAAYAAIACwAYABwAEgAUABkACAAuABEAEAANAA0AFgAaABIALgAFACAACQAfAAwAAAAiAAYANQAWABYAGABWABYAEAAZACUADgADACAAIQA3ABkAEAANAD8AEgAyAAsAGwADAOIACwCFABkAHAA/AJ4AFAAjADMAMwBAADEAcAANApAASwCwAEwCAwAnAHkAIQADAx4ChwI5AF0AtAF8AigAEwATAC4A7wA3AQ8DDgAiABkAQgAcAFAAIgA2AGEAMwBHAUAAQwAfAEMAMwBbACMAFwCSAPAAPABJAD0AAAAmAB4AIgAnAGoAXgBkAI8A2gBaAE4ARwBoAKUARwAmAB4AIgAnAGoAXgBkAI8A2gBaAE4ARwBoAKUARwAGABAAAQAtAA==",
          "dtype": "i2"
         },
         "z": {
          "bdata": "AAAAAAAAAAABAAAAAAABAAAAGgABAAAAFwAAAEUAAQABABgAAAAIAAAABQABADQAAAAyAAAAAADsBAAAAAAAAAAAAAAHAAAAAAABAAAAAAAAAAIAAQAAAAEAAwACAAAAAQAAAAAAAwAAAAAAAAAAAAAAAAABAAAAAQAAAAEAAAAAAAEAAAAAAAAAAAAAAAAAAAABAAAAAABAAAEAAAAEAAEATgAAAEgAAQAFAAEAAwAAAAAAAwBIAAEAAgAXAAIAAAA+AAgAegAAAAEAXAAAAAAAAAACAAAAAAAAABoAAgAAAAAAAgAAABIAAAAEAAQABQABAAEAAAAAAAAABQABAAEAAAABAAYAAwACAAQABgADAAMACAAIAAUAAAABAAQAAAAAAAAAAAAAAB0ACQAEAAEAAAABAAAAAAAvACYAMgBBAEAADAAAAAMAAQAAAAcAAAAOAAgABwAMAA0AAgABAAIAAgALAAAAAwAAAAAABAAFAAIAAAACAAEABAAAAAEAAQACAAMABgABAAAAAgAFAAIAAgABAAAAAAABAAEAAgABAAEAAQAAAAIAAQACAAAAAAABAAAAAQAAAAEAAAAFAAMACAABAAAAAwACAAYABAAAAAYAAAAEAAEAAAAJAAAAAwAMAAcAFQADAAQAAQAHAAoAAgAGAAoAFQAHAAAAFQADAAUADgADAAAAAgBYAAUAaAAEAAIABQADAAgAAAACAAYAAAAIAAEAFgAFAAUAAAALAAUAUwAFABYAGQBOAaUA8QAAAAQAcQDBAAMAGAAYAA4ABwAEANIAAwAAAAEADgAOAAoABgAAAAIABgAkAAEABAACAAIABwAEAAEABwAHAAYABgABABMAAwAOAAMAAgAFAAYACQALAAkACQALAA8ABwAxABIAKgAOAAMAAgAFAAYACQALAAkACQALAA8ABwAxABIAKgABAAEABwA/AA==",
          "dtype": "i2"
         }
        },
        {
         "hovertemplate": "color=7<br>num_reactions=%{x}<br>num_comments=%{y}<br>num_shares=%{z}<extra></extra>",
         "legendgroup": "7",
         "marker": {
          "color": "#ab63fa",
          "opacity": 0.7,
          "symbol": "circle"
         },
         "mode": "markers",
         "name": "7",
         "scene": "scene",
         "showlegend": true,
         "type": "scatter3d",
         "x": {
          "bdata": "1QXhA5sEdwRgBJQEUAXSBX0FvgOWBF8E3QQABdUEfgW/BGQFJwWfBocESwUgBTEGZgStBFgFzQbSBZQENgXfBQAFjgYKBR0FxAS8BBsFHQUSBt4GXAXZBmoFSwayBxcFSwVuBE8GEQTMBDEHfQjtBb0IjgSEBekFXgeDBRoEYwf+B2oFxAYXBbAGEQcGB18JbwVSB3UFhwfxB7AGdQeQBMQHTwpxBw==",
          "dtype": "i2"
         },
         "y": {
          "bdata": "uwdrBIYD2gSNAxkGTgVFCIQE4QTBBTEGLQWbA84ESQZrBDIFDQXnCIEEzAXlBnkHxAS/BgIH0QiHBr0FNgeAByAG2wX6BfMExgUsCOIE0QWJCGIH8gaQB6AFCglXC2kIUAU0BNkFfwR3A20FbQtsBAsKbgPfBB0FCwj8BHsFWAZaBlMDngfkA74GaAVyBpoJAgWuCQMDMgapB54FHgbdBCMHWQaiBA==",
          "dtype": "i2"
         },
         "z": {
          "bdata": "8QJfARQCTAJZAkwEVQL3AV8CTwGUASACYAERAlUB1gJsAfoBeQGlAp8BBQI6AnQCdwGgAc4CWwg4Aq0BAgNiA9wBrQJzAp0BiQPuAusCrAJiBM4CUgYNApoBEQRgDRwDGAInASYCVAGYAQ4CMgM+AS8D/gDjAowBIALGAfwBEALpAf4B6wL+ADACJQJ7ApYFUgJKArcCWwK7AukBXwJmAXQCowICAA==",
          "dtype": "i2"
         }
        },
        {
         "hovertemplate": "color=2<br>num_reactions=%{x}<br>num_comments=%{y}<br>num_shares=%{z}<extra></extra>",
         "legendgroup": "2",
         "marker": {
          "color": "#FFA15A",
          "opacity": 0.7,
          "symbol": "circle"
         },
         "mode": "markers",
         "name": "2",
         "scene": "scene",
         "showlegend": true,
         "type": "scatter3d",
         "x": {
          "bdata": "OhHoBu8K6AfPB3oH7gb4Br8HSAp2CLwG1QqBB4oIdgeBCCEHWAf5CKQGagd8B24GrgfkBwcIJgfECDIHLgppCPoHMgikB4wJCwf9B3sHyweHCA0HqgeNB0wK2AguCoMLDgjDB9kI5wqmCDwK6QewB5wIowhfCdQIuQcsCbkJ9QitCAoJZAnaB5wIiQf/CIYH8AhzCfkIYAfxB24JvgevCCUJNQiZCOQHlAcXCCAITgnTCMII7Af8COEIVAgaCOQIDwmpCBkJfgjMCMsIiwcvCO4HSgrqB0YIQAhzCk4IcglkB54JNw7NCCoJtwtwB2IJvwgcCUYJvAkYCAoL8AdqCM0HEAmOCPEJlAlmEvUJdgy2Dc8IBQkDCC4JOQjzCC0JbQhnCDcKZAgrDBcHSAdeBn0HsgbhClwHgwZyCgYIhAbQBz0KKQdlCPUGIQiZCpIOgwfFB9gJNQpZCE8P/g8UC20KNwcaB2IJNQhPCWUIqAalB8IGdwZLCsgH2xASEMoJdAnBB6gGpQfCBncGSwrIB9sQEhDKCXQJwQd+Bw==",
          "dtype": "i2"
         },
         "y": {
          "bdata": "eQIAAEMAFwAWAAAAAgADAAgACwAIAIEACAAIAA4ABwASAA0AAQAEASIBHAAPAAwAFwAMAB0ADwALAB4BDQAsAOEAIAARABgACgAZAEoAFQA4AA8AYgEIABAAHAECAA4AzgANAAgACgABAAQABwAGAAgAaQELAIYBCgAMACAABwAKAP0BCwAgAAoAEQAVAAQABQAPAA4ADwALABYADAANABIABwACAAQARgAMACAAEQAFAAcAEAABAAIAJAAWAB4ADgADAA0AEgAAAAMAGgDVABwAwQEjAAYAHAANAAsAswAEAAwArwAIAAcAGQEFAAQAKgAuAAgACgAWABUAAwAGAAMABwAKAA4ACAAyAAgAEwAMAAoABQAHAAsAEwBsADUAEwAEABcAIAAYAAwACQAPADoAJAAaABEABgAYABUACgAJAHoAHgAlAKIAOgBDAJwA6gAkAEAAMgAsAE0APQAwABcAMwAhAGEAdAD7AcEAFQB8AKEALwA0ASQAGABoAB8BSwAnABUAfAChAC8ANAEkABgAaAAfAUsAJwABAA==",
          "dtype": "i2"
         },
         "z": {
          "bdata": "AQEBAAIAAQAAAAIAAAAAAAEAAAAAAGkAAQAAAAsAAAAAAAAAAABIAFcAAwATAA4AAgAaAAIAAAAAAGoAAQAKAEwAAQABAAEAAAAFAGcACAAOAAAAdwAAAAAATgAAAAAAQAAAAAAAAAAAACkABAABAAAAXQAAAHoAAAAAAAAAAAAAACMAAAAAAAkAAQAFAA8ABwAOAAAAAAAMAAAAAQABAAAAAgABAAwADAAAAAIAAAAIAAYAAAAGAAYABAABAAEAAgAHABIAAQABAAAAAABEAAAAdwABAAAAAgAAAAAAMAABAAAAZQAAAAEAVwABAAAAAgAAAAkAAAABAAAAAAACAAEAAAAAAAMAAAABAAAAAQAAAAIAAQACAAAAAQAAAAQAAAABAAAAAQAAAAAAAAABAAgACQABAAIAAAABAAMAAQABAGIAAAAAAB4AJAAPAF0ABQAFACEAAwADAAwABgAHAAIAHAAFAAMADQASAAwAAwAKAAQABAALAAEAAwADABwAEQAVAAMACgAEAAQACwABAAMAAwAcABEAFQAKAA==",
          "dtype": "i2"
         }
        },
        {
         "hovertemplate": "color=1<br>num_reactions=%{x}<br>num_comments=%{y}<br>num_shares=%{z}<extra></extra>",
         "legendgroup": "1",
         "marker": {
          "color": "#19d3f3",
          "opacity": 0.7,
          "symbol": "circle"
         },
         "mode": "markers",
         "name": "1",
         "scene": "scene",
         "showlegend": true,
         "type": "scatter3d",
         "x": {
          "bdata": "vgFwAmgCFAJHAu4C1gR0BIQEjgMjBOwDfAOSAz0DNgRIA6cHcgFAAmMBEAGgAXoCcAF+AaYB/gHaAikC4QEuAjoCkAFfAocB+QA=",
          "dtype": "i2"
         },
         "y": {
          "bdata": "BBjjLtobZx4HGM8W1x57GSgcSxeHGZUb3hllGxwb7CTpGx4YrBjKJ3cd0icoHNAqHhuTFmcmRx4HH64qmSGUHWQdTyN9FgcZaxc=",
          "dtype": "i2"
         },
         "z": {
          "bdata": "eABYA94C8gF2AN0BTQRvA+UDagOTA+sDAgTzAx8EYwVwBDIFeQIZA6wBGQD9AQ8DbgFEAVACowFrAq0BUQFlAVIBBwEhAa4AvQA=",
          "dtype": "i2"
         }
        },
        {
         "hovertemplate": "color=4<br>num_reactions=%{x}<br>num_comments=%{y}<br>num_shares=%{z}<extra></extra>",
         "legendgroup": "4",
         "marker": {
          "color": "#FF6692",
          "opacity": 0.7,
          "symbol": "circle"
         },
         "mode": "markers",
         "name": "4",
         "scene": "scene",
         "showlegend": true,
         "type": "scatter3d",
         "x": {
          "bdata": "ZgEfAoMBewHUAXgCfAK3ASECYAHgAfIBqQHjAcgB2AP7AlgDQwM0A04DKAMYBL8CSAPpAB8BrwFRAQABhQEIAj8BxAB7AX4BFgUFAewAJAGgAdgACwGYAfkA2gDsAO8A7ADtAOsAbAEJASAB0wFzAUABoAD3AOQAiwAFAi4BXQGzAB4BvgEzAToBowDXACUBMgH2ACABLwGpAacBywFeAVgBFgG+AeIAnwFdAZUB4ACqAfcAlwEAAfsACAHNANgAeACfALQA5QCyAK8ACgG1ANMALAH9AEQB",
          "dtype": "i2"
         },
         "y": {
          "bdata": "ehU1EpUMQgovEFgNxguOE4USQhBnDCoPmRK/D1wNLhTzD1QUTw/dEmwOjBWcDqcPsg8gDdgOeg1OCqML7gryCe0LWAtzFdsL4g+ADRoLww7oFOQPLgqaDzEKuAt1FA4Knwp2D30K7RK4CvsJhAvNDgAOARCfEKsQMQqKFcEJzBAPDc4LChWwEPQQQA2CDMoKXBGQENcMCQ40DyMVJxFND3kNLwtjE/AQYxOGFG4R6AodEskNgRB2ECISBxJLCikO1QpKDCcNfg9jDhcPiBNRCocRHBVQEXgR",
          "dtype": "i2"
         },
         "z": {
          "bdata": "XgCyAPIAlwDPAkQDDAG6AuIBJQHKAR8BKQFIATwAsgIQAxkDrALjAmQG+ALOA0wDhAVPAZYBFQIOAbIBNAKTApMBagLSARACdAE1Aq8BAAFEAgACDQEwAjwCYQEOAqMB2AFQAbgBWwKBA+QB8AHOASoCfgE8AjwCmgCEAakBCAGTANQApQFBAQUBcgDHAOUASQE2AeQACAGuAU4ByQCyALoA0gATAbcA3AAGAQABcQC7AKMAswCjALgAxwCSAIwAWQB7AIQAnQB4AKcAmQCDAIcA2wCnAOgA",
          "dtype": "i2"
         }
        },
        {
         "hovertemplate": "color=3<br>num_reactions=%{x}<br>num_comments=%{y}<br>num_shares=%{z}<extra></extra>",
         "legendgroup": "3",
         "marker": {
          "color": "#B6E880",
          "opacity": 0.7,
          "symbol": "circle"
         },
         "mode": "markers",
         "name": "3",
         "scene": "scene",
         "showlegend": true,
         "type": "scatter3d",
         "x": {
          "bdata": "xAE0AsQC",
          "dtype": "i2"
         },
         "y": {
          "bdata": "RUr+UfxD",
          "dtype": "i2"
         },
         "z": {
          "bdata": "oQCaAJED",
          "dtype": "i2"
         }
        }
       ],
       "layout": {
        "legend": {
         "title": {
          "text": "color"
         },
         "tracegroupgap": 0
        },
        "margin": {
         "t": 60
        },
        "scene": {
         "domain": {
          "x": [
           0,
           1
          ],
          "y": [
           0,
           1
          ]
         },
         "xaxis": {
          "title": {
           "text": "Reactions"
          }
         },
         "yaxis": {
          "title": {
           "text": "Comments"
          }
         },
         "zaxis": {
          "title": {
           "text": "Shares"
          }
         }
        },
        "template": {
         "data": {
          "bar": [
           {
            "error_x": {
             "color": "#2a3f5f"
            },
            "error_y": {
             "color": "#2a3f5f"
            },
            "marker": {
             "line": {
              "color": "#E5ECF6",
              "width": 0.5
             },
             "pattern": {
              "fillmode": "overlay",
              "size": 10,
              "solidity": 0.2
             }
            },
            "type": "bar"
           }
          ],
          "barpolar": [
           {
            "marker": {
             "line": {
              "color": "#E5ECF6",
              "width": 0.5
             },
             "pattern": {
              "fillmode": "overlay",
              "size": 10,
              "solidity": 0.2
             }
            },
            "type": "barpolar"
           }
          ],
          "carpet": [
           {
            "aaxis": {
             "endlinecolor": "#2a3f5f",
             "gridcolor": "white",
             "linecolor": "white",
             "minorgridcolor": "white",
             "startlinecolor": "#2a3f5f"
            },
            "baxis": {
             "endlinecolor": "#2a3f5f",
             "gridcolor": "white",
             "linecolor": "white",
             "minorgridcolor": "white",
             "startlinecolor": "#2a3f5f"
            },
            "type": "carpet"
           }
          ],
          "choropleth": [
           {
            "colorbar": {
             "outlinewidth": 0,
             "ticks": ""
            },
            "type": "choropleth"
           }
          ],
          "contour": [
           {
            "colorbar": {
             "outlinewidth": 0,
             "ticks": ""
            },
            "colorscale": [
             [
              0,
              "#0d0887"
             ],
             [
              0.1111111111111111,
              "#46039f"
             ],
             [
              0.2222222222222222,
              "#7201a8"
             ],
             [
              0.3333333333333333,
              "#9c179e"
             ],
             [
              0.4444444444444444,
              "#bd3786"
             ],
             [
              0.5555555555555556,
              "#d8576b"
             ],
             [
              0.6666666666666666,
              "#ed7953"
             ],
             [
              0.7777777777777778,
              "#fb9f3a"
             ],
             [
              0.8888888888888888,
              "#fdca26"
             ],
             [
              1,
              "#f0f921"
             ]
            ],
            "type": "contour"
           }
          ],
          "contourcarpet": [
           {
            "colorbar": {
             "outlinewidth": 0,
             "ticks": ""
            },
            "type": "contourcarpet"
           }
          ],
          "heatmap": [
           {
            "colorbar": {
             "outlinewidth": 0,
             "ticks": ""
            },
            "colorscale": [
             [
              0,
              "#0d0887"
             ],
             [
              0.1111111111111111,
              "#46039f"
             ],
             [
              0.2222222222222222,
              "#7201a8"
             ],
             [
              0.3333333333333333,
              "#9c179e"
             ],
             [
              0.4444444444444444,
              "#bd3786"
             ],
             [
              0.5555555555555556,
              "#d8576b"
             ],
             [
              0.6666666666666666,
              "#ed7953"
             ],
             [
              0.7777777777777778,
              "#fb9f3a"
             ],
             [
              0.8888888888888888,
              "#fdca26"
             ],
             [
              1,
              "#f0f921"
             ]
            ],
            "type": "heatmap"
           }
          ],
          "histogram": [
           {
            "marker": {
             "pattern": {
              "fillmode": "overlay",
              "size": 10,
              "solidity": 0.2
             }
            },
            "type": "histogram"
           }
          ],
          "histogram2d": [
           {
            "colorbar": {
             "outlinewidth": 0,
             "ticks": ""
            },
            "colorscale": [
             [
              0,
              "#0d0887"
             ],
             [
              0.1111111111111111,
              "#46039f"
             ],
             [
              0.2222222222222222,
              "#7201a8"
             ],
             [
              0.3333333333333333,
              "#9c179e"
             ],
             [
              0.4444444444444444,
              "#bd3786"
             ],
             [
              0.5555555555555556,
              "#d8576b"
             ],
             [
              0.6666666666666666,
              "#ed7953"
             ],
             [
              0.7777777777777778,
              "#fb9f3a"
             ],
             [
              0.8888888888888888,
              "#fdca26"
             ],
             [
              1,
              "#f0f921"
             ]
            ],
            "type": "histogram2d"
           }
          ],
          "histogram2dcontour": [
           {
            "colorbar": {
             "outlinewidth": 0,
             "ticks": ""
            },
            "colorscale": [
             [
              0,
              "#0d0887"
             ],
             [
              0.1111111111111111,
              "#46039f"
             ],
             [
              0.2222222222222222,
              "#7201a8"
             ],
             [
              0.3333333333333333,
              "#9c179e"
             ],
             [
              0.4444444444444444,
              "#bd3786"
             ],
             [
              0.5555555555555556,
              "#d8576b"
             ],
             [
              0.6666666666666666,
              "#ed7953"
             ],
             [
              0.7777777777777778,
              "#fb9f3a"
             ],
             [
              0.8888888888888888,
              "#fdca26"
             ],
             [
              1,
              "#f0f921"
             ]
            ],
            "type": "histogram2dcontour"
           }
          ],
          "mesh3d": [
           {
            "colorbar": {
             "outlinewidth": 0,
             "ticks": ""
            },
            "type": "mesh3d"
           }
          ],
          "parcoords": [
           {
            "line": {
             "colorbar": {
              "outlinewidth": 0,
              "ticks": ""
             }
            },
            "type": "parcoords"
           }
          ],
          "pie": [
           {
            "automargin": true,
            "type": "pie"
           }
          ],
          "scatter": [
           {
            "fillpattern": {
             "fillmode": "overlay",
             "size": 10,
             "solidity": 0.2
            },
            "type": "scatter"
           }
          ],
          "scatter3d": [
           {
            "line": {
             "colorbar": {
              "outlinewidth": 0,
              "ticks": ""
             }
            },
            "marker": {
             "colorbar": {
              "outlinewidth": 0,
              "ticks": ""
             }
            },
            "type": "scatter3d"
           }
          ],
          "scattercarpet": [
           {
            "marker": {
             "colorbar": {
              "outlinewidth": 0,
              "ticks": ""
             }
            },
            "type": "scattercarpet"
           }
          ],
          "scattergeo": [
           {
            "marker": {
             "colorbar": {
              "outlinewidth": 0,
              "ticks": ""
             }
            },
            "type": "scattergeo"
           }
          ],
          "scattergl": [
           {
            "marker": {
             "colorbar": {
              "outlinewidth": 0,
              "ticks": ""
             }
            },
            "type": "scattergl"
           }
          ],
          "scattermap": [
           {
            "marker": {
             "colorbar": {
              "outlinewidth": 0,
              "ticks": ""
             }
            },
            "type": "scattermap"
           }
          ],
          "scattermapbox": [
           {
            "marker": {
             "colorbar": {
              "outlinewidth": 0,
              "ticks": ""
             }
            },
            "type": "scattermapbox"
           }
          ],
          "scatterpolar": [
           {
            "marker": {
             "colorbar": {
              "outlinewidth": 0,
              "ticks": ""
             }
            },
            "type": "scatterpolar"
           }
          ],
          "scatterpolargl": [
           {
            "marker": {
             "colorbar": {
              "outlinewidth": 0,
              "ticks": ""
             }
            },
            "type": "scatterpolargl"
           }
          ],
          "scatterternary": [
           {
            "marker": {
             "colorbar": {
              "outlinewidth": 0,
              "ticks": ""
             }
            },
            "type": "scatterternary"
           }
          ],
          "surface": [
           {
            "colorbar": {
             "outlinewidth": 0,
             "ticks": ""
            },
            "colorscale": [
             [
              0,
              "#0d0887"
             ],
             [
              0.1111111111111111,
              "#46039f"
             ],
             [
              0.2222222222222222,
              "#7201a8"
             ],
             [
              0.3333333333333333,
              "#9c179e"
             ],
             [
              0.4444444444444444,
              "#bd3786"
             ],
             [
              0.5555555555555556,
              "#d8576b"
             ],
             [
              0.6666666666666666,
              "#ed7953"
             ],
             [
              0.7777777777777778,
              "#fb9f3a"
             ],
             [
              0.8888888888888888,
              "#fdca26"
             ],
             [
              1,
              "#f0f921"
             ]
            ],
            "type": "surface"
           }
          ],
          "table": [
           {
            "cells": {
             "fill": {
              "color": "#EBF0F8"
             },
             "line": {
              "color": "white"
             }
            },
            "header": {
             "fill": {
              "color": "#C8D4E3"
             },
             "line": {
              "color": "white"
             }
            },
            "type": "table"
           }
          ]
         },
         "layout": {
          "annotationdefaults": {
           "arrowcolor": "#2a3f5f",
           "arrowhead": 0,
           "arrowwidth": 1
          },
          "autotypenumbers": "strict",
          "coloraxis": {
           "colorbar": {
            "outlinewidth": 0,
            "ticks": ""
           }
          },
          "colorscale": {
           "diverging": [
            [
             0,
             "#8e0152"
            ],
            [
             0.1,
             "#c51b7d"
            ],
            [
             0.2,
             "#de77ae"
            ],
            [
             0.3,
             "#f1b6da"
            ],
            [
             0.4,
             "#fde0ef"
            ],
            [
             0.5,
             "#f7f7f7"
            ],
            [
             0.6,
             "#e6f5d0"
            ],
            [
             0.7,
             "#b8e186"
            ],
            [
             0.8,
             "#7fbc41"
            ],
            [
             0.9,
             "#4d9221"
            ],
            [
             1,
             "#276419"
            ]
           ],
           "sequential": [
            [
             0,
             "#0d0887"
            ],
            [
             0.1111111111111111,
             "#46039f"
            ],
            [
             0.2222222222222222,
             "#7201a8"
            ],
            [
             0.3333333333333333,
             "#9c179e"
            ],
            [
             0.4444444444444444,
             "#bd3786"
            ],
            [
             0.5555555555555556,
             "#d8576b"
            ],
            [
             0.6666666666666666,
             "#ed7953"
            ],
            [
             0.7777777777777778,
             "#fb9f3a"
            ],
            [
             0.8888888888888888,
             "#fdca26"
            ],
            [
             1,
             "#f0f921"
            ]
           ],
           "sequentialminus": [
            [
             0,
             "#0d0887"
            ],
            [
             0.1111111111111111,
             "#46039f"
            ],
            [
             0.2222222222222222,
             "#7201a8"
            ],
            [
             0.3333333333333333,
             "#9c179e"
            ],
            [
             0.4444444444444444,
             "#bd3786"
            ],
            [
             0.5555555555555556,
             "#d8576b"
            ],
            [
             0.6666666666666666,
             "#ed7953"
            ],
            [
             0.7777777777777778,
             "#fb9f3a"
            ],
            [
             0.8888888888888888,
             "#fdca26"
            ],
            [
             1,
             "#f0f921"
            ]
           ]
          },
          "colorway": [
           "#636efa",
           "#EF553B",
           "#00cc96",
           "#ab63fa",
           "#FFA15A",
           "#19d3f3",
           "#FF6692",
           "#B6E880",
           "#FF97FF",
           "#FECB52"
          ],
          "font": {
           "color": "#2a3f5f"
          },
          "geo": {
           "bgcolor": "white",
           "lakecolor": "white",
           "landcolor": "#E5ECF6",
           "showlakes": true,
           "showland": true,
           "subunitcolor": "white"
          },
          "hoverlabel": {
           "align": "left"
          },
          "hovermode": "closest",
          "mapbox": {
           "style": "light"
          },
          "paper_bgcolor": "white",
          "plot_bgcolor": "#E5ECF6",
          "polar": {
           "angularaxis": {
            "gridcolor": "white",
            "linecolor": "white",
            "ticks": ""
           },
           "bgcolor": "#E5ECF6",
           "radialaxis": {
            "gridcolor": "white",
            "linecolor": "white",
            "ticks": ""
           }
          },
          "scene": {
           "xaxis": {
            "backgroundcolor": "#E5ECF6",
            "gridcolor": "white",
            "gridwidth": 2,
            "linecolor": "white",
            "showbackground": true,
            "ticks": "",
            "zerolinecolor": "white"
           },
           "yaxis": {
            "backgroundcolor": "#E5ECF6",
            "gridcolor": "white",
            "gridwidth": 2,
            "linecolor": "white",
            "showbackground": true,
            "ticks": "",
            "zerolinecolor": "white"
           },
           "zaxis": {
            "backgroundcolor": "#E5ECF6",
            "gridcolor": "white",
            "gridwidth": 2,
            "linecolor": "white",
            "showbackground": true,
            "ticks": "",
            "zerolinecolor": "white"
           }
          },
          "shapedefaults": {
           "line": {
            "color": "#2a3f5f"
           }
          },
          "ternary": {
           "aaxis": {
            "gridcolor": "white",
            "linecolor": "white",
            "ticks": ""
           },
           "baxis": {
            "gridcolor": "white",
            "linecolor": "white",
            "ticks": ""
           },
           "bgcolor": "#E5ECF6",
           "caxis": {
            "gridcolor": "white",
            "linecolor": "white",
            "ticks": ""
           }
          },
          "title": {
           "x": 0.05
          },
          "xaxis": {
           "automargin": true,
           "gridcolor": "white",
           "linecolor": "white",
           "ticks": "",
           "title": {
            "standoff": 15
           },
           "zerolinecolor": "white",
           "zerolinewidth": 2
          },
          "yaxis": {
           "automargin": true,
           "gridcolor": "white",
           "linecolor": "white",
           "ticks": "",
           "title": {
            "standoff": 15
           },
           "zerolinecolor": "white",
           "zerolinewidth": 2
          }
         }
        },
        "title": {
         "text": "Interactive 3D Clusters"
        }
       }
      }
     },
     "metadata": {},
     "output_type": "display_data"
    }
   ],
   "source": [
    "import plotly.express as px\n",
    "\n",
    "# Create interactive 3D scatter plot\n",
    "fig = px.scatter_3d(\n",
    "    df, \n",
    "    x='num_reactions', \n",
    "    y='num_comments', \n",
    "    z='num_shares',\n",
    "    color=kmeans.labels_.astype(str),   # cluster labels as colors\n",
    "    opacity=0.7\n",
    ")\n",
    "\n",
    "# Set labels\n",
    "fig.update_layout(\n",
    "    scene=dict(\n",
    "        xaxis_title='Reactions',\n",
    "        yaxis_title='Comments',\n",
    "        zaxis_title='Shares'\n",
    "    ),\n",
    "    title=\"Interactive 3D Clusters\"\n",
    ")\n",
    "\n",
    "fig.show()\n"
   ]
  }
 ],
 "metadata": {
  "kernelspec": {
   "display_name": "Python 3",
   "language": "python",
   "name": "python3"
  },
  "language_info": {
   "codemirror_mode": {
    "name": "ipython",
    "version": 3
   },
   "file_extension": ".py",
   "mimetype": "text/x-python",
   "name": "python",
   "nbconvert_exporter": "python",
   "pygments_lexer": "ipython3",
   "version": "3.13.7"
  }
 },
 "nbformat": 4,
 "nbformat_minor": 5
}

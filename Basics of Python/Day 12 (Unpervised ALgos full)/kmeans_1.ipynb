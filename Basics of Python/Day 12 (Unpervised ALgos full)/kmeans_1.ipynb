{
 "cells": [
  {
   "cell_type": "code",
   "execution_count": 2,
   "id": "1d6b0cea",
   "metadata": {},
   "outputs": [
    {
     "name": "stdout",
     "output_type": "stream",
     "text": [
      "Defaulting to user installation because normal site-packages is not writeable\n",
      "Requirement already satisfied: scikit-learn in c:\\users\\hp\\appdata\\local\\packages\\pythonsoftwarefoundation.python.3.13_qbz5n2kfra8p0\\localcache\\local-packages\\python313\\site-packages (1.7.2)\n",
      "Requirement already satisfied: numpy>=1.22.0 in c:\\users\\hp\\appdata\\local\\packages\\pythonsoftwarefoundation.python.3.13_qbz5n2kfra8p0\\localcache\\local-packages\\python313\\site-packages (from scikit-learn) (2.3.2)\n",
      "Requirement already satisfied: scipy>=1.8.0 in c:\\users\\hp\\appdata\\local\\packages\\pythonsoftwarefoundation.python.3.13_qbz5n2kfra8p0\\localcache\\local-packages\\python313\\site-packages (from scikit-learn) (1.16.2)\n",
      "Requirement already satisfied: joblib>=1.2.0 in c:\\users\\hp\\appdata\\local\\packages\\pythonsoftwarefoundation.python.3.13_qbz5n2kfra8p0\\localcache\\local-packages\\python313\\site-packages (from scikit-learn) (1.5.2)\n",
      "Requirement already satisfied: threadpoolctl>=3.1.0 in c:\\users\\hp\\appdata\\local\\packages\\pythonsoftwarefoundation.python.3.13_qbz5n2kfra8p0\\localcache\\local-packages\\python313\\site-packages (from scikit-learn) (3.6.0)\n",
      "Defaulting to user installation because normal site-packages is not writeable\n",
      "Requirement already satisfied: matplotlib in c:\\users\\hp\\appdata\\local\\packages\\pythonsoftwarefoundation.python.3.13_qbz5n2kfra8p0\\localcache\\local-packages\\python313\\site-packages (3.10.6)\n",
      "Requirement already satisfied: contourpy>=1.0.1 in c:\\users\\hp\\appdata\\local\\packages\\pythonsoftwarefoundation.python.3.13_qbz5n2kfra8p0\\localcache\\local-packages\\python313\\site-packages (from matplotlib) (1.3.3)\n",
      "Requirement already satisfied: cycler>=0.10 in c:\\users\\hp\\appdata\\local\\packages\\pythonsoftwarefoundation.python.3.13_qbz5n2kfra8p0\\localcache\\local-packages\\python313\\site-packages (from matplotlib) (0.12.1)\n",
      "Requirement already satisfied: fonttools>=4.22.0 in c:\\users\\hp\\appdata\\local\\packages\\pythonsoftwarefoundation.python.3.13_qbz5n2kfra8p0\\localcache\\local-packages\\python313\\site-packages (from matplotlib) (4.59.2)\n",
      "Requirement already satisfied: kiwisolver>=1.3.1 in c:\\users\\hp\\appdata\\local\\packages\\pythonsoftwarefoundation.python.3.13_qbz5n2kfra8p0\\localcache\\local-packages\\python313\\site-packages (from matplotlib) (1.4.9)\n",
      "Requirement already satisfied: numpy>=1.23 in c:\\users\\hp\\appdata\\local\\packages\\pythonsoftwarefoundation.python.3.13_qbz5n2kfra8p0\\localcache\\local-packages\\python313\\site-packages (from matplotlib) (2.3.2)\n",
      "Requirement already satisfied: packaging>=20.0 in c:\\users\\hp\\appdata\\local\\packages\\pythonsoftwarefoundation.python.3.13_qbz5n2kfra8p0\\localcache\\local-packages\\python313\\site-packages (from matplotlib) (25.0)\n",
      "Requirement already satisfied: pillow>=8 in c:\\users\\hp\\appdata\\local\\packages\\pythonsoftwarefoundation.python.3.13_qbz5n2kfra8p0\\localcache\\local-packages\\python313\\site-packages (from matplotlib) (11.3.0)\n",
      "Requirement already satisfied: pyparsing>=2.3.1 in c:\\users\\hp\\appdata\\local\\packages\\pythonsoftwarefoundation.python.3.13_qbz5n2kfra8p0\\localcache\\local-packages\\python313\\site-packages (from matplotlib) (3.2.4)\n",
      "Requirement already satisfied: python-dateutil>=2.7 in c:\\users\\hp\\appdata\\local\\packages\\pythonsoftwarefoundation.python.3.13_qbz5n2kfra8p0\\localcache\\local-packages\\python313\\site-packages (from matplotlib) (2.9.0.post0)\n",
      "Requirement already satisfied: six>=1.5 in c:\\users\\hp\\appdata\\local\\packages\\pythonsoftwarefoundation.python.3.13_qbz5n2kfra8p0\\localcache\\local-packages\\python313\\site-packages (from python-dateutil>=2.7->matplotlib) (1.17.0)\n",
      "Defaulting to user installation because normal site-packages is not writeable\n",
      "Requirement already satisfied: plotly in c:\\users\\hp\\appdata\\local\\packages\\pythonsoftwarefoundation.python.3.13_qbz5n2kfra8p0\\localcache\\local-packages\\python313\\site-packages (6.3.0)\n",
      "Requirement already satisfied: narwhals>=1.15.1 in c:\\users\\hp\\appdata\\local\\packages\\pythonsoftwarefoundation.python.3.13_qbz5n2kfra8p0\\localcache\\local-packages\\python313\\site-packages (from plotly) (2.5.0)\n",
      "Requirement already satisfied: packaging in c:\\users\\hp\\appdata\\local\\packages\\pythonsoftwarefoundation.python.3.13_qbz5n2kfra8p0\\localcache\\local-packages\\python313\\site-packages (from plotly) (25.0)\n"
     ]
    }
   ],
   "source": [
    "# Install scikit-learn in a Jupyter Notebook\n",
    "!pip install scikit-learn\n",
    "!pip install matplotlib\n",
    "!pip install plotly\n",
    "!pip install nbformat>=4.2\n"
   ]
  },
  {
   "cell_type": "code",
   "execution_count": 3,
   "id": "4ad31d6f",
   "metadata": {},
   "outputs": [],
   "source": [
    "import pandas as pd\n",
    "#give me a k means code for clustering \n",
    "from sklearn.cluster import KMeans\n",
    "import numpy as np"
   ]
  },
  {
   "cell_type": "code",
   "execution_count": 4,
   "id": "0075124c",
   "metadata": {},
   "outputs": [
    {
     "data": {
      "text/html": [
       "<div>\n",
       "<style scoped>\n",
       "    .dataframe tbody tr th:only-of-type {\n",
       "        vertical-align: middle;\n",
       "    }\n",
       "\n",
       "    .dataframe tbody tr th {\n",
       "        vertical-align: top;\n",
       "    }\n",
       "\n",
       "    .dataframe thead th {\n",
       "        text-align: right;\n",
       "    }\n",
       "</style>\n",
       "<table border=\"1\" class=\"dataframe\">\n",
       "  <thead>\n",
       "    <tr style=\"text-align: right;\">\n",
       "      <th></th>\n",
       "      <th>status_id</th>\n",
       "      <th>status_type</th>\n",
       "      <th>status_published</th>\n",
       "      <th>num_reactions</th>\n",
       "      <th>num_comments</th>\n",
       "      <th>num_shares</th>\n",
       "      <th>num_likes</th>\n",
       "      <th>num_loves</th>\n",
       "      <th>num_wows</th>\n",
       "      <th>num_hahas</th>\n",
       "      <th>num_sads</th>\n",
       "      <th>num_angrys</th>\n",
       "      <th>Column1</th>\n",
       "      <th>Column2</th>\n",
       "      <th>Column3</th>\n",
       "      <th>Column4</th>\n",
       "    </tr>\n",
       "  </thead>\n",
       "  <tbody>\n",
       "    <tr>\n",
       "      <th>0</th>\n",
       "      <td>246675545449582_1649696485147474</td>\n",
       "      <td>video</td>\n",
       "      <td>4/22/2018 6:00</td>\n",
       "      <td>529</td>\n",
       "      <td>512</td>\n",
       "      <td>262</td>\n",
       "      <td>432</td>\n",
       "      <td>92</td>\n",
       "      <td>3</td>\n",
       "      <td>1</td>\n",
       "      <td>1</td>\n",
       "      <td>0</td>\n",
       "      <td>NaN</td>\n",
       "      <td>NaN</td>\n",
       "      <td>NaN</td>\n",
       "      <td>NaN</td>\n",
       "    </tr>\n",
       "    <tr>\n",
       "      <th>1</th>\n",
       "      <td>246675545449582_1649426988507757</td>\n",
       "      <td>photo</td>\n",
       "      <td>4/21/2018 22:45</td>\n",
       "      <td>150</td>\n",
       "      <td>0</td>\n",
       "      <td>0</td>\n",
       "      <td>150</td>\n",
       "      <td>0</td>\n",
       "      <td>0</td>\n",
       "      <td>0</td>\n",
       "      <td>0</td>\n",
       "      <td>0</td>\n",
       "      <td>NaN</td>\n",
       "      <td>NaN</td>\n",
       "      <td>NaN</td>\n",
       "      <td>NaN</td>\n",
       "    </tr>\n",
       "    <tr>\n",
       "      <th>2</th>\n",
       "      <td>246675545449582_1648730588577397</td>\n",
       "      <td>video</td>\n",
       "      <td>4/21/2018 6:17</td>\n",
       "      <td>227</td>\n",
       "      <td>236</td>\n",
       "      <td>57</td>\n",
       "      <td>204</td>\n",
       "      <td>21</td>\n",
       "      <td>1</td>\n",
       "      <td>1</td>\n",
       "      <td>0</td>\n",
       "      <td>0</td>\n",
       "      <td>NaN</td>\n",
       "      <td>NaN</td>\n",
       "      <td>NaN</td>\n",
       "      <td>NaN</td>\n",
       "    </tr>\n",
       "    <tr>\n",
       "      <th>3</th>\n",
       "      <td>246675545449582_1648576705259452</td>\n",
       "      <td>photo</td>\n",
       "      <td>4/21/2018 2:29</td>\n",
       "      <td>111</td>\n",
       "      <td>0</td>\n",
       "      <td>0</td>\n",
       "      <td>111</td>\n",
       "      <td>0</td>\n",
       "      <td>0</td>\n",
       "      <td>0</td>\n",
       "      <td>0</td>\n",
       "      <td>0</td>\n",
       "      <td>NaN</td>\n",
       "      <td>NaN</td>\n",
       "      <td>NaN</td>\n",
       "      <td>NaN</td>\n",
       "    </tr>\n",
       "    <tr>\n",
       "      <th>4</th>\n",
       "      <td>246675545449582_1645700502213739</td>\n",
       "      <td>photo</td>\n",
       "      <td>4/18/2018 3:22</td>\n",
       "      <td>213</td>\n",
       "      <td>0</td>\n",
       "      <td>0</td>\n",
       "      <td>204</td>\n",
       "      <td>9</td>\n",
       "      <td>0</td>\n",
       "      <td>0</td>\n",
       "      <td>0</td>\n",
       "      <td>0</td>\n",
       "      <td>NaN</td>\n",
       "      <td>NaN</td>\n",
       "      <td>NaN</td>\n",
       "      <td>NaN</td>\n",
       "    </tr>\n",
       "  </tbody>\n",
       "</table>\n",
       "</div>"
      ],
      "text/plain": [
       "                          status_id status_type status_published  \\\n",
       "0  246675545449582_1649696485147474       video   4/22/2018 6:00   \n",
       "1  246675545449582_1649426988507757       photo  4/21/2018 22:45   \n",
       "2  246675545449582_1648730588577397       video   4/21/2018 6:17   \n",
       "3  246675545449582_1648576705259452       photo   4/21/2018 2:29   \n",
       "4  246675545449582_1645700502213739       photo   4/18/2018 3:22   \n",
       "\n",
       "   num_reactions  num_comments  num_shares  num_likes  num_loves  num_wows  \\\n",
       "0            529           512         262        432         92         3   \n",
       "1            150             0           0        150          0         0   \n",
       "2            227           236          57        204         21         1   \n",
       "3            111             0           0        111          0         0   \n",
       "4            213             0           0        204          9         0   \n",
       "\n",
       "   num_hahas  num_sads  num_angrys  Column1  Column2  Column3  Column4  \n",
       "0          1         1           0      NaN      NaN      NaN      NaN  \n",
       "1          0         0           0      NaN      NaN      NaN      NaN  \n",
       "2          1         0           0      NaN      NaN      NaN      NaN  \n",
       "3          0         0           0      NaN      NaN      NaN      NaN  \n",
       "4          0         0           0      NaN      NaN      NaN      NaN  "
      ]
     },
     "execution_count": 4,
     "metadata": {},
     "output_type": "execute_result"
    }
   ],
   "source": [
    "df=pd.read_csv(\"Live.csv\")\n",
    "df.head()"
   ]
  },
  {
   "cell_type": "code",
   "execution_count": 5,
   "id": "4d7b347c",
   "metadata": {},
   "outputs": [],
   "source": [
    "df.drop(['Column1', 'Column2', 'Column3', 'Column4','status_id','status_published'], axis=1, inplace=True)"
   ]
  },
  {
   "cell_type": "code",
   "execution_count": 6,
   "id": "b3e600af",
   "metadata": {},
   "outputs": [
    {
     "data": {
      "text/html": [
       "<div>\n",
       "<style scoped>\n",
       "    .dataframe tbody tr th:only-of-type {\n",
       "        vertical-align: middle;\n",
       "    }\n",
       "\n",
       "    .dataframe tbody tr th {\n",
       "        vertical-align: top;\n",
       "    }\n",
       "\n",
       "    .dataframe thead th {\n",
       "        text-align: right;\n",
       "    }\n",
       "</style>\n",
       "<table border=\"1\" class=\"dataframe\">\n",
       "  <thead>\n",
       "    <tr style=\"text-align: right;\">\n",
       "      <th></th>\n",
       "      <th>status_type</th>\n",
       "      <th>num_reactions</th>\n",
       "      <th>num_comments</th>\n",
       "      <th>num_shares</th>\n",
       "      <th>num_likes</th>\n",
       "      <th>num_loves</th>\n",
       "      <th>num_wows</th>\n",
       "      <th>num_hahas</th>\n",
       "      <th>num_sads</th>\n",
       "      <th>num_angrys</th>\n",
       "    </tr>\n",
       "  </thead>\n",
       "  <tbody>\n",
       "    <tr>\n",
       "      <th>0</th>\n",
       "      <td>video</td>\n",
       "      <td>529</td>\n",
       "      <td>512</td>\n",
       "      <td>262</td>\n",
       "      <td>432</td>\n",
       "      <td>92</td>\n",
       "      <td>3</td>\n",
       "      <td>1</td>\n",
       "      <td>1</td>\n",
       "      <td>0</td>\n",
       "    </tr>\n",
       "    <tr>\n",
       "      <th>1</th>\n",
       "      <td>photo</td>\n",
       "      <td>150</td>\n",
       "      <td>0</td>\n",
       "      <td>0</td>\n",
       "      <td>150</td>\n",
       "      <td>0</td>\n",
       "      <td>0</td>\n",
       "      <td>0</td>\n",
       "      <td>0</td>\n",
       "      <td>0</td>\n",
       "    </tr>\n",
       "    <tr>\n",
       "      <th>2</th>\n",
       "      <td>video</td>\n",
       "      <td>227</td>\n",
       "      <td>236</td>\n",
       "      <td>57</td>\n",
       "      <td>204</td>\n",
       "      <td>21</td>\n",
       "      <td>1</td>\n",
       "      <td>1</td>\n",
       "      <td>0</td>\n",
       "      <td>0</td>\n",
       "    </tr>\n",
       "    <tr>\n",
       "      <th>3</th>\n",
       "      <td>photo</td>\n",
       "      <td>111</td>\n",
       "      <td>0</td>\n",
       "      <td>0</td>\n",
       "      <td>111</td>\n",
       "      <td>0</td>\n",
       "      <td>0</td>\n",
       "      <td>0</td>\n",
       "      <td>0</td>\n",
       "      <td>0</td>\n",
       "    </tr>\n",
       "    <tr>\n",
       "      <th>4</th>\n",
       "      <td>photo</td>\n",
       "      <td>213</td>\n",
       "      <td>0</td>\n",
       "      <td>0</td>\n",
       "      <td>204</td>\n",
       "      <td>9</td>\n",
       "      <td>0</td>\n",
       "      <td>0</td>\n",
       "      <td>0</td>\n",
       "      <td>0</td>\n",
       "    </tr>\n",
       "    <tr>\n",
       "      <th>...</th>\n",
       "      <td>...</td>\n",
       "      <td>...</td>\n",
       "      <td>...</td>\n",
       "      <td>...</td>\n",
       "      <td>...</td>\n",
       "      <td>...</td>\n",
       "      <td>...</td>\n",
       "      <td>...</td>\n",
       "      <td>...</td>\n",
       "      <td>...</td>\n",
       "    </tr>\n",
       "    <tr>\n",
       "      <th>7045</th>\n",
       "      <td>photo</td>\n",
       "      <td>89</td>\n",
       "      <td>0</td>\n",
       "      <td>0</td>\n",
       "      <td>89</td>\n",
       "      <td>0</td>\n",
       "      <td>0</td>\n",
       "      <td>0</td>\n",
       "      <td>0</td>\n",
       "      <td>0</td>\n",
       "    </tr>\n",
       "    <tr>\n",
       "      <th>7046</th>\n",
       "      <td>photo</td>\n",
       "      <td>16</td>\n",
       "      <td>0</td>\n",
       "      <td>0</td>\n",
       "      <td>14</td>\n",
       "      <td>1</td>\n",
       "      <td>0</td>\n",
       "      <td>1</td>\n",
       "      <td>0</td>\n",
       "      <td>0</td>\n",
       "    </tr>\n",
       "    <tr>\n",
       "      <th>7047</th>\n",
       "      <td>photo</td>\n",
       "      <td>2</td>\n",
       "      <td>0</td>\n",
       "      <td>0</td>\n",
       "      <td>1</td>\n",
       "      <td>1</td>\n",
       "      <td>0</td>\n",
       "      <td>0</td>\n",
       "      <td>0</td>\n",
       "      <td>0</td>\n",
       "    </tr>\n",
       "    <tr>\n",
       "      <th>7048</th>\n",
       "      <td>photo</td>\n",
       "      <td>351</td>\n",
       "      <td>12</td>\n",
       "      <td>22</td>\n",
       "      <td>349</td>\n",
       "      <td>2</td>\n",
       "      <td>0</td>\n",
       "      <td>0</td>\n",
       "      <td>0</td>\n",
       "      <td>0</td>\n",
       "    </tr>\n",
       "    <tr>\n",
       "      <th>7049</th>\n",
       "      <td>photo</td>\n",
       "      <td>17</td>\n",
       "      <td>0</td>\n",
       "      <td>0</td>\n",
       "      <td>17</td>\n",
       "      <td>0</td>\n",
       "      <td>0</td>\n",
       "      <td>0</td>\n",
       "      <td>0</td>\n",
       "      <td>0</td>\n",
       "    </tr>\n",
       "  </tbody>\n",
       "</table>\n",
       "<p>7050 rows × 10 columns</p>\n",
       "</div>"
      ],
      "text/plain": [
       "     status_type  num_reactions  num_comments  num_shares  num_likes  \\\n",
       "0          video            529           512         262        432   \n",
       "1          photo            150             0           0        150   \n",
       "2          video            227           236          57        204   \n",
       "3          photo            111             0           0        111   \n",
       "4          photo            213             0           0        204   \n",
       "...          ...            ...           ...         ...        ...   \n",
       "7045       photo             89             0           0         89   \n",
       "7046       photo             16             0           0         14   \n",
       "7047       photo              2             0           0          1   \n",
       "7048       photo            351            12          22        349   \n",
       "7049       photo             17             0           0         17   \n",
       "\n",
       "      num_loves  num_wows  num_hahas  num_sads  num_angrys  \n",
       "0            92         3          1         1           0  \n",
       "1             0         0          0         0           0  \n",
       "2            21         1          1         0           0  \n",
       "3             0         0          0         0           0  \n",
       "4             9         0          0         0           0  \n",
       "...         ...       ...        ...       ...         ...  \n",
       "7045          0         0          0         0           0  \n",
       "7046          1         0          1         0           0  \n",
       "7047          1         0          0         0           0  \n",
       "7048          2         0          0         0           0  \n",
       "7049          0         0          0         0           0  \n",
       "\n",
       "[7050 rows x 10 columns]"
      ]
     },
     "execution_count": 6,
     "metadata": {},
     "output_type": "execute_result"
    }
   ],
   "source": [
    "df"
   ]
  },
  {
   "cell_type": "code",
   "execution_count": 7,
   "id": "33f6ac0d",
   "metadata": {},
   "outputs": [
    {
     "data": {
      "text/html": [
       "<div>\n",
       "<style scoped>\n",
       "    .dataframe tbody tr th:only-of-type {\n",
       "        vertical-align: middle;\n",
       "    }\n",
       "\n",
       "    .dataframe tbody tr th {\n",
       "        vertical-align: top;\n",
       "    }\n",
       "\n",
       "    .dataframe thead th {\n",
       "        text-align: right;\n",
       "    }\n",
       "</style>\n",
       "<table border=\"1\" class=\"dataframe\">\n",
       "  <thead>\n",
       "    <tr style=\"text-align: right;\">\n",
       "      <th></th>\n",
       "      <th>status_type</th>\n",
       "      <th>num_reactions</th>\n",
       "      <th>num_comments</th>\n",
       "      <th>num_shares</th>\n",
       "      <th>num_likes</th>\n",
       "      <th>num_loves</th>\n",
       "      <th>num_wows</th>\n",
       "      <th>num_hahas</th>\n",
       "      <th>num_sads</th>\n",
       "      <th>num_angrys</th>\n",
       "    </tr>\n",
       "  </thead>\n",
       "  <tbody>\n",
       "    <tr>\n",
       "      <th>0</th>\n",
       "      <td>3</td>\n",
       "      <td>529</td>\n",
       "      <td>512</td>\n",
       "      <td>262</td>\n",
       "      <td>432</td>\n",
       "      <td>92</td>\n",
       "      <td>3</td>\n",
       "      <td>1</td>\n",
       "      <td>1</td>\n",
       "      <td>0</td>\n",
       "    </tr>\n",
       "    <tr>\n",
       "      <th>1</th>\n",
       "      <td>1</td>\n",
       "      <td>150</td>\n",
       "      <td>0</td>\n",
       "      <td>0</td>\n",
       "      <td>150</td>\n",
       "      <td>0</td>\n",
       "      <td>0</td>\n",
       "      <td>0</td>\n",
       "      <td>0</td>\n",
       "      <td>0</td>\n",
       "    </tr>\n",
       "    <tr>\n",
       "      <th>2</th>\n",
       "      <td>3</td>\n",
       "      <td>227</td>\n",
       "      <td>236</td>\n",
       "      <td>57</td>\n",
       "      <td>204</td>\n",
       "      <td>21</td>\n",
       "      <td>1</td>\n",
       "      <td>1</td>\n",
       "      <td>0</td>\n",
       "      <td>0</td>\n",
       "    </tr>\n",
       "    <tr>\n",
       "      <th>3</th>\n",
       "      <td>1</td>\n",
       "      <td>111</td>\n",
       "      <td>0</td>\n",
       "      <td>0</td>\n",
       "      <td>111</td>\n",
       "      <td>0</td>\n",
       "      <td>0</td>\n",
       "      <td>0</td>\n",
       "      <td>0</td>\n",
       "      <td>0</td>\n",
       "    </tr>\n",
       "    <tr>\n",
       "      <th>4</th>\n",
       "      <td>1</td>\n",
       "      <td>213</td>\n",
       "      <td>0</td>\n",
       "      <td>0</td>\n",
       "      <td>204</td>\n",
       "      <td>9</td>\n",
       "      <td>0</td>\n",
       "      <td>0</td>\n",
       "      <td>0</td>\n",
       "      <td>0</td>\n",
       "    </tr>\n",
       "  </tbody>\n",
       "</table>\n",
       "</div>"
      ],
      "text/plain": [
       "   status_type  num_reactions  num_comments  num_shares  num_likes  num_loves  \\\n",
       "0            3            529           512         262        432         92   \n",
       "1            1            150             0           0        150          0   \n",
       "2            3            227           236          57        204         21   \n",
       "3            1            111             0           0        111          0   \n",
       "4            1            213             0           0        204          9   \n",
       "\n",
       "   num_wows  num_hahas  num_sads  num_angrys  \n",
       "0         3          1         1           0  \n",
       "1         0          0         0           0  \n",
       "2         1          1         0           0  \n",
       "3         0          0         0           0  \n",
       "4         0          0         0           0  "
      ]
     },
     "execution_count": 7,
     "metadata": {},
     "output_type": "execute_result"
    }
   ],
   "source": [
    "#encode categorical data\n",
    "from sklearn.preprocessing import LabelEncoder\n",
    "le = LabelEncoder()\n",
    "df['status_type']= le.fit_transform(df['status_type'])\n",
    "df.head()"
   ]
  },
  {
   "cell_type": "code",
   "execution_count": 8,
   "id": "70458a8c",
   "metadata": {},
   "outputs": [
    {
     "data": {
      "text/html": [
       "<div>\n",
       "<style scoped>\n",
       "    .dataframe tbody tr th:only-of-type {\n",
       "        vertical-align: middle;\n",
       "    }\n",
       "\n",
       "    .dataframe tbody tr th {\n",
       "        vertical-align: top;\n",
       "    }\n",
       "\n",
       "    .dataframe thead th {\n",
       "        text-align: right;\n",
       "    }\n",
       "</style>\n",
       "<table border=\"1\" class=\"dataframe\">\n",
       "  <thead>\n",
       "    <tr style=\"text-align: right;\">\n",
       "      <th></th>\n",
       "      <th>status_type</th>\n",
       "      <th>num_reactions</th>\n",
       "      <th>num_comments</th>\n",
       "      <th>num_shares</th>\n",
       "      <th>num_likes</th>\n",
       "      <th>num_loves</th>\n",
       "      <th>num_wows</th>\n",
       "      <th>num_hahas</th>\n",
       "      <th>num_sads</th>\n",
       "      <th>num_angrys</th>\n",
       "    </tr>\n",
       "  </thead>\n",
       "  <tbody>\n",
       "    <tr>\n",
       "      <th>0</th>\n",
       "      <td>3</td>\n",
       "      <td>0.112314</td>\n",
       "      <td>0.024393</td>\n",
       "      <td>0.076519</td>\n",
       "      <td>0.091720</td>\n",
       "      <td>0.140030</td>\n",
       "      <td>0.010791</td>\n",
       "      <td>0.006369</td>\n",
       "      <td>0.019608</td>\n",
       "      <td>0.0</td>\n",
       "    </tr>\n",
       "    <tr>\n",
       "      <th>1</th>\n",
       "      <td>1</td>\n",
       "      <td>0.031847</td>\n",
       "      <td>0.000000</td>\n",
       "      <td>0.000000</td>\n",
       "      <td>0.031847</td>\n",
       "      <td>0.000000</td>\n",
       "      <td>0.000000</td>\n",
       "      <td>0.000000</td>\n",
       "      <td>0.000000</td>\n",
       "      <td>0.0</td>\n",
       "    </tr>\n",
       "    <tr>\n",
       "      <th>2</th>\n",
       "      <td>3</td>\n",
       "      <td>0.048195</td>\n",
       "      <td>0.011243</td>\n",
       "      <td>0.016647</td>\n",
       "      <td>0.043312</td>\n",
       "      <td>0.031963</td>\n",
       "      <td>0.003597</td>\n",
       "      <td>0.006369</td>\n",
       "      <td>0.000000</td>\n",
       "      <td>0.0</td>\n",
       "    </tr>\n",
       "    <tr>\n",
       "      <th>3</th>\n",
       "      <td>1</td>\n",
       "      <td>0.023567</td>\n",
       "      <td>0.000000</td>\n",
       "      <td>0.000000</td>\n",
       "      <td>0.023567</td>\n",
       "      <td>0.000000</td>\n",
       "      <td>0.000000</td>\n",
       "      <td>0.000000</td>\n",
       "      <td>0.000000</td>\n",
       "      <td>0.0</td>\n",
       "    </tr>\n",
       "    <tr>\n",
       "      <th>4</th>\n",
       "      <td>1</td>\n",
       "      <td>0.045223</td>\n",
       "      <td>0.000000</td>\n",
       "      <td>0.000000</td>\n",
       "      <td>0.043312</td>\n",
       "      <td>0.013699</td>\n",
       "      <td>0.000000</td>\n",
       "      <td>0.000000</td>\n",
       "      <td>0.000000</td>\n",
       "      <td>0.0</td>\n",
       "    </tr>\n",
       "  </tbody>\n",
       "</table>\n",
       "</div>"
      ],
      "text/plain": [
       "   status_type  num_reactions  num_comments  num_shares  num_likes  num_loves  \\\n",
       "0            3       0.112314      0.024393    0.076519   0.091720   0.140030   \n",
       "1            1       0.031847      0.000000    0.000000   0.031847   0.000000   \n",
       "2            3       0.048195      0.011243    0.016647   0.043312   0.031963   \n",
       "3            1       0.023567      0.000000    0.000000   0.023567   0.000000   \n",
       "4            1       0.045223      0.000000    0.000000   0.043312   0.013699   \n",
       "\n",
       "   num_wows  num_hahas  num_sads  num_angrys  \n",
       "0  0.010791   0.006369  0.019608         0.0  \n",
       "1  0.000000   0.000000  0.000000         0.0  \n",
       "2  0.003597   0.006369  0.000000         0.0  \n",
       "3  0.000000   0.000000  0.000000         0.0  \n",
       "4  0.000000   0.000000  0.000000         0.0  "
      ]
     },
     "execution_count": 8,
     "metadata": {},
     "output_type": "execute_result"
    }
   ],
   "source": [
    "from sklearn.preprocessing import MinMaxScaler\n",
    "\n",
    "minmaxscaler = MinMaxScaler()\n",
    "cols = ['num_reactions', 'num_comments', 'num_shares', 'num_likes', 'num_loves', 'num_wows', 'num_hahas', 'num_sads', 'num_angrys']\n",
    "df[cols] = minmaxscaler.fit_transform(df[cols])\n",
    "df.head()"
   ]
  },
  {
   "cell_type": "code",
   "execution_count": 12,
   "id": "896997a5",
   "metadata": {},
   "outputs": [
    {
     "data": {
      "text/html": [
       "<div>\n",
       "<style scoped>\n",
       "    .dataframe tbody tr th:only-of-type {\n",
       "        vertical-align: middle;\n",
       "    }\n",
       "\n",
       "    .dataframe tbody tr th {\n",
       "        vertical-align: top;\n",
       "    }\n",
       "\n",
       "    .dataframe thead th {\n",
       "        text-align: right;\n",
       "    }\n",
       "</style>\n",
       "<table border=\"1\" class=\"dataframe\">\n",
       "  <thead>\n",
       "    <tr style=\"text-align: right;\">\n",
       "      <th></th>\n",
       "      <th>status_type</th>\n",
       "      <th>num_reactions</th>\n",
       "      <th>num_comments</th>\n",
       "      <th>num_shares</th>\n",
       "      <th>num_likes</th>\n",
       "      <th>num_loves</th>\n",
       "      <th>num_wows</th>\n",
       "      <th>num_hahas</th>\n",
       "      <th>num_sads</th>\n",
       "      <th>num_angrys</th>\n",
       "    </tr>\n",
       "  </thead>\n",
       "  <tbody>\n",
       "    <tr>\n",
       "      <th>0</th>\n",
       "      <td>3</td>\n",
       "      <td>0.112314</td>\n",
       "      <td>0.024393</td>\n",
       "      <td>0.076519</td>\n",
       "      <td>0.091720</td>\n",
       "      <td>0.140030</td>\n",
       "      <td>0.010791</td>\n",
       "      <td>0.006369</td>\n",
       "      <td>0.019608</td>\n",
       "      <td>0.0</td>\n",
       "    </tr>\n",
       "    <tr>\n",
       "      <th>1</th>\n",
       "      <td>1</td>\n",
       "      <td>0.031847</td>\n",
       "      <td>0.000000</td>\n",
       "      <td>0.000000</td>\n",
       "      <td>0.031847</td>\n",
       "      <td>0.000000</td>\n",
       "      <td>0.000000</td>\n",
       "      <td>0.000000</td>\n",
       "      <td>0.000000</td>\n",
       "      <td>0.0</td>\n",
       "    </tr>\n",
       "    <tr>\n",
       "      <th>2</th>\n",
       "      <td>3</td>\n",
       "      <td>0.048195</td>\n",
       "      <td>0.011243</td>\n",
       "      <td>0.016647</td>\n",
       "      <td>0.043312</td>\n",
       "      <td>0.031963</td>\n",
       "      <td>0.003597</td>\n",
       "      <td>0.006369</td>\n",
       "      <td>0.000000</td>\n",
       "      <td>0.0</td>\n",
       "    </tr>\n",
       "    <tr>\n",
       "      <th>3</th>\n",
       "      <td>1</td>\n",
       "      <td>0.023567</td>\n",
       "      <td>0.000000</td>\n",
       "      <td>0.000000</td>\n",
       "      <td>0.023567</td>\n",
       "      <td>0.000000</td>\n",
       "      <td>0.000000</td>\n",
       "      <td>0.000000</td>\n",
       "      <td>0.000000</td>\n",
       "      <td>0.0</td>\n",
       "    </tr>\n",
       "    <tr>\n",
       "      <th>4</th>\n",
       "      <td>1</td>\n",
       "      <td>0.045223</td>\n",
       "      <td>0.000000</td>\n",
       "      <td>0.000000</td>\n",
       "      <td>0.043312</td>\n",
       "      <td>0.013699</td>\n",
       "      <td>0.000000</td>\n",
       "      <td>0.000000</td>\n",
       "      <td>0.000000</td>\n",
       "      <td>0.0</td>\n",
       "    </tr>\n",
       "    <tr>\n",
       "      <th>...</th>\n",
       "      <td>...</td>\n",
       "      <td>...</td>\n",
       "      <td>...</td>\n",
       "      <td>...</td>\n",
       "      <td>...</td>\n",
       "      <td>...</td>\n",
       "      <td>...</td>\n",
       "      <td>...</td>\n",
       "      <td>...</td>\n",
       "      <td>...</td>\n",
       "    </tr>\n",
       "    <tr>\n",
       "      <th>7045</th>\n",
       "      <td>1</td>\n",
       "      <td>0.018896</td>\n",
       "      <td>0.000000</td>\n",
       "      <td>0.000000</td>\n",
       "      <td>0.018896</td>\n",
       "      <td>0.000000</td>\n",
       "      <td>0.000000</td>\n",
       "      <td>0.000000</td>\n",
       "      <td>0.000000</td>\n",
       "      <td>0.0</td>\n",
       "    </tr>\n",
       "    <tr>\n",
       "      <th>7046</th>\n",
       "      <td>1</td>\n",
       "      <td>0.003397</td>\n",
       "      <td>0.000000</td>\n",
       "      <td>0.000000</td>\n",
       "      <td>0.002972</td>\n",
       "      <td>0.001522</td>\n",
       "      <td>0.000000</td>\n",
       "      <td>0.006369</td>\n",
       "      <td>0.000000</td>\n",
       "      <td>0.0</td>\n",
       "    </tr>\n",
       "    <tr>\n",
       "      <th>7047</th>\n",
       "      <td>1</td>\n",
       "      <td>0.000425</td>\n",
       "      <td>0.000000</td>\n",
       "      <td>0.000000</td>\n",
       "      <td>0.000212</td>\n",
       "      <td>0.001522</td>\n",
       "      <td>0.000000</td>\n",
       "      <td>0.000000</td>\n",
       "      <td>0.000000</td>\n",
       "      <td>0.0</td>\n",
       "    </tr>\n",
       "    <tr>\n",
       "      <th>7048</th>\n",
       "      <td>1</td>\n",
       "      <td>0.074522</td>\n",
       "      <td>0.000572</td>\n",
       "      <td>0.006425</td>\n",
       "      <td>0.074098</td>\n",
       "      <td>0.003044</td>\n",
       "      <td>0.000000</td>\n",
       "      <td>0.000000</td>\n",
       "      <td>0.000000</td>\n",
       "      <td>0.0</td>\n",
       "    </tr>\n",
       "    <tr>\n",
       "      <th>7049</th>\n",
       "      <td>1</td>\n",
       "      <td>0.003609</td>\n",
       "      <td>0.000000</td>\n",
       "      <td>0.000000</td>\n",
       "      <td>0.003609</td>\n",
       "      <td>0.000000</td>\n",
       "      <td>0.000000</td>\n",
       "      <td>0.000000</td>\n",
       "      <td>0.000000</td>\n",
       "      <td>0.0</td>\n",
       "    </tr>\n",
       "  </tbody>\n",
       "</table>\n",
       "<p>7050 rows × 10 columns</p>\n",
       "</div>"
      ],
      "text/plain": [
       "      status_type  num_reactions  num_comments  num_shares  num_likes  \\\n",
       "0               3       0.112314      0.024393    0.076519   0.091720   \n",
       "1               1       0.031847      0.000000    0.000000   0.031847   \n",
       "2               3       0.048195      0.011243    0.016647   0.043312   \n",
       "3               1       0.023567      0.000000    0.000000   0.023567   \n",
       "4               1       0.045223      0.000000    0.000000   0.043312   \n",
       "...           ...            ...           ...         ...        ...   \n",
       "7045            1       0.018896      0.000000    0.000000   0.018896   \n",
       "7046            1       0.003397      0.000000    0.000000   0.002972   \n",
       "7047            1       0.000425      0.000000    0.000000   0.000212   \n",
       "7048            1       0.074522      0.000572    0.006425   0.074098   \n",
       "7049            1       0.003609      0.000000    0.000000   0.003609   \n",
       "\n",
       "      num_loves  num_wows  num_hahas  num_sads  num_angrys  \n",
       "0      0.140030  0.010791   0.006369  0.019608         0.0  \n",
       "1      0.000000  0.000000   0.000000  0.000000         0.0  \n",
       "2      0.031963  0.003597   0.006369  0.000000         0.0  \n",
       "3      0.000000  0.000000   0.000000  0.000000         0.0  \n",
       "4      0.013699  0.000000   0.000000  0.000000         0.0  \n",
       "...         ...       ...        ...       ...         ...  \n",
       "7045   0.000000  0.000000   0.000000  0.000000         0.0  \n",
       "7046   0.001522  0.000000   0.006369  0.000000         0.0  \n",
       "7047   0.001522  0.000000   0.000000  0.000000         0.0  \n",
       "7048   0.003044  0.000000   0.000000  0.000000         0.0  \n",
       "7049   0.000000  0.000000   0.000000  0.000000         0.0  \n",
       "\n",
       "[7050 rows x 10 columns]"
      ]
     },
     "execution_count": 12,
     "metadata": {},
     "output_type": "execute_result"
    }
   ],
   "source": [
    "df"
   ]
  },
  {
   "cell_type": "code",
   "execution_count": 20,
   "id": "3f92965e",
   "metadata": {},
   "outputs": [
    {
     "data": {
      "image/png": "[encoded data removed]",
      "text/plain": [
       "<Figure size 640x480 with 1 Axes>"
      ]
     },
     "metadata": {},
     "output_type": "display_data"
    },
    {
     "name": "stdout",
     "output_type": "stream",
     "text": [
      "\n",
      "=== Correct Way (Excluding status_type) ===\n",
      "Accuracy: 0.6712056737588652\n",
      "Confusion Matrix:\n",
      " [[   0   49   12    2]\n",
      " [   0 3801  201  286]\n",
      " [   0  258   54   53]\n",
      " [ 122 1270   65  877]]\n",
      "\n",
      "=== Wrong Way (Including status_type in training) ===\n",
      "Accuracy: 0.9635460992907802\n",
      "Confusion Matrix:\n",
      " [[  14   49    0    0]\n",
      " [ 208 4080    0    0]\n",
      " [   0    0  365    0]\n",
      " [   0    0    0 2334]]\n"
     ]
    }
   ],
   "source": [
    "import numpy as np\n",
    "import pandas as pd\n",
    "import matplotlib.pyplot as plt\n",
    "from sklearn.cluster import KMeans\n",
    "from sklearn.metrics import accuracy_score, confusion_matrix\n",
    "from scipy.optimize import linear_sum_assignment\n",
    "\n",
    "# ==============================\n",
    "# ✅ Correct Way (exclude status_type)\n",
    "# ==============================\n",
    "X = df.drop(columns=['status_type'])\n",
    "y_true = df['status_type']\n",
    "\n",
    "# Elbow Method\n",
    "wcss = []\n",
    "for i in range(1, 11):\n",
    "    kmeans = KMeans(n_clusters=i, random_state=42)\n",
    "    kmeans.fit(X)\n",
    "    wcss.append(kmeans.inertia_)\n",
    "\n",
    "plt.plot(range(1, 11), wcss, marker='o')\n",
    "plt.title('Elbow Method (Excluding status_type)')\n",
    "plt.xlabel('Number of clusters (k)')\n",
    "plt.ylabel('WCSS (Inertia)')\n",
    "plt.show()\n",
    "\n",
    "# Run KMeans with fixed k=4\n",
    "k = 4\n",
    "kmeans = KMeans(n_clusters=k, random_state=42)\n",
    "y_pred = kmeans.fit_predict(X)\n",
    "\n",
    "# Hungarian algorithm for best matching\n",
    "conf_matrix = confusion_matrix(y_true, y_pred)\n",
    "row_ind, col_ind = linear_sum_assignment(-conf_matrix)\n",
    "mapping = {col: row for row, col in zip(row_ind, col_ind)}\n",
    "y_mapped = np.array([mapping[label] for label in y_pred])\n",
    "\n",
    "print(\"\\n=== Correct Way (Excluding status_type) ===\")\n",
    "print(\"Accuracy:\", accuracy_score(y_true, y_mapped))\n",
    "print(\"Confusion Matrix:\\n\", confusion_matrix(y_true, y_mapped))\n",
    "\n",
    "\n",
    "# ==============================\n",
    "# ❌ Wrong Way (include status_type as a feature)\n",
    "# ==============================\n",
    "X_wrong = df.copy()  # includes status_type in features!\n",
    "y_true_wrong = df['status_type']\n",
    "\n",
    "kmeans_wrong = KMeans(n_clusters=k, random_state=42)\n",
    "y_pred_wrong = kmeans_wrong.fit_predict(X_wrong)\n",
    "\n",
    "# Hungarian algorithm again\n",
    "conf_matrix_wrong = confusion_matrix(y_true_wrong, y_pred_wrong)\n",
    "row_ind, col_ind = linear_sum_assignment(-conf_matrix_wrong)\n",
    "mapping_wrong = {col: row for row, col in zip(row_ind, col_ind)}\n",
    "y_mapped_wrong = np.array([mapping_wrong[label] for label in y_pred_wrong])\n",
    "\n",
    "print(\"\\n=== Wrong Way (Including status_type in training) ===\")\n",
    "print(\"Accuracy:\", accuracy_score(y_true_wrong, y_mapped_wrong))\n",
    "print(\"Confusion Matrix:\\n\", confusion_matrix(y_true_wrong, y_mapped_wrong))\n"
   ]
  },
  {
   "cell_type": "code",
   "execution_count": 21,
   "id": "d52e90e0",
   "metadata": {},
   "outputs": [
    {
     "data": {
      "application/vnd.plotly.v1+json": {
       "config": {
        "plotlyServerURL": "https://plot.ly"
       },
       "data": [
        {
         "hovertemplate": "color=3<br>num_reactions=%{x}<br>num_comments=%{y}<br>num_shares=%{z}<extra></extra>",
         "legendgroup": "3",
         "marker": {
          "color": "#636efa",
          "opacity": 0.7,
          "symbol": "circle"
         },
         "mode": "markers",
         "name": "3",
         "scene": "scene",
         "showlegend": true,
         "type": "scatter3d",
         "x": {
          "bdata": "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",
          "dtype": "f8"
         },
         "y": {
          "bdata": "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",
          "dtype": "f8"
         },
         "z": {
          "bdata": "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",
          "dtype": "f8"
         }
        },
        {
         "hovertemplate": "color=0<br>num_reactions=%{x}<br>num_comments=%{y}<br>num_shares=%{z}<extra></extra>",
         "legendgroup": "0",
         "marker": {
          "color": "#EF553B",
          "opacity": 0.7,
          "symbol": "circle"
         },
         "mode": "markers",
         "name": "0",
         "scene": "scene",
         "showlegend": true,
         "type": "scatter3d",
         "x": {
          "bdata": "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",
          "dtype": "f8"
         },
         "y": {
          "bdata": "AAAAAAAAAADbGPs2zgaHPwAAAAAAAAAAAAAAAAAAAAD8XQ0kxrsyP/snZ4Vd+gg/+gwUNqkZPD/7J2eFXfoYP/snZ4Vd+ig/+ydnhV36KD/7J2eFXfooP/snZ4Vd+og/BbYmMzHhgD/t44CkWDKAP/snZ4Vd+hg/e7UQrbdqRz/8QrrUEds1PwAAAAAAAAAAAAAAAAAAAAAAAAAAAAAAAAAAAAAAAAAA+gwUNqkZXD+6uJX6IXFuP/oMFDapGTw/2uJUmGVFjT8AAAAAAAAAAPxCutQR20U/AAAAAAAAAAD7J2eFXfoIP/snZ4Vd+ig/+ydnhV36OD/LaMgY+Lt6P3u1EK23akc/feu2SyAsQT+aqSmskn2MP/oMFDapGWw/uriV+iFxXj/Mnm63YH2EP/xdDSTGu0I/e7UQrbdqZz+zsXXZ0+2GP33rtksgLEE/+gwUNqkZbD89sotfTWRQP3uavV0Dino/EsRmdc3njz9acP6/v7WLP5zfz0r7PnY/mo7WXN6cbz/7J2eFXfo4PyTFkoHA1II/fNBj/GtLRD/8XQ0kxrsyP3Nd951MRYk/m8R8+0ZeeT8zJMyxeX2IPwAAAAAAAAAAzbnBBhVecT8hNFlJv6KQP/snZ4Vd+gg/+ydnhV36CD/7J2eFXfoIP3p/ag5PqW0/W4tRD3SWaD+15xt4PK+AP/xdDSTGuyI//F0NJMa7Mj/8XQ0kxrtCP/xdDSTGu0I/+gwUNqkZPD/8XQ0kxrtCP/xCutQR2zU/PJc4EJmDUz97mr1dA4pKP33rtksgLEE/+ydnhV36OD/68cDm9Dg/P/snZ4Vd+hg/+ydnhV36CD8AAAAAAAAAAPsnZ4Vd+kg/+gwUNqkZTD9K2x7xnUt8Pzt85cDkonY/CoegtRajfj+8JOI38/NhP3u1EK23anc/+ydnhV36GD/68cDm9DgvP33rtksgLEE/+vHA5vQ4Lz/8QrrUEdtFP33rtksgLEE//F0NJMa7Qj/8XQ0kxrtCP/xdDSTGuzI/+ydnhV36OD/6DBQ2qRk8P/snZ4Vd+jg/feu2SyAsQT+c+iKarx9jP3uavV0Diko/e7UQrbdqRz/68cDm9DgvP/snZ4Vd+jg/u+47mYoyWD8Kh6C1FqN+P+uSh7Y7kHk/AAAAAAAAAAD8QrrUEds1P/xCutQR2zU//EK61BHbRT/7J2eFXfooP/xdDSTGu1I//F0NJMa7Qj97tRCtt2pHP/snZ4Vd+ig/+vHA5vQ4Tz/68cDm9DhPP/xCutQR2zU/vCTiN/PzUT/8QrrUEds1P/oMFDapGUw//F0NJMa7Mj/68cDm9DgvP/xdDSTGuyI/EIQmK+lXlD/6DBQ2qRlMP/xdDSTGu0I/feu2SyAsQT/68cDm9Dg/P/snZ4Vd+jg/+ydnhV36OD97mr1dA4pKP/snZ4Vd+jg/+ydnhV36GD9cpqReKHd1P/snZ4Vd+hg/+ydnhV36CD/8QrrUEds1P/xCutQR2zU//F0NJMa7Ij/68cDm9Dg/P/oMFDapGTw//EK61BHbNT/8XQ0kxrsyP/xdDSTGuyI//F0NJMa7Ij/8QrrUEds1P/xdDSTGuzI/+ydnhV36SD/8XQ0kxrsyP/xdDSTGuzI//F0NJMa7Mj/8XQ0kxrsyP/snZ4Vd+jg/vCTiN/PzUT97mr1dA4paP/xCutQR2zU//EK61BHbRT/8XQ0kxrsiP/snZ4Vd+hg/+vHA5vQ4Pz/7J2eFXfpIP/oMFDapGTw/feu2SyAsQT96f2oOT6lNPwAAAAAAAAAAAAAAAAAAAAB967ZLICxBP/snZ4Vd+gg/+gwUNqkZPD/6DBQ2qRk8P/snZ4Vd+hg/+ydnhV36OD/8XQ0kxrsyP/snZ4Vd+hg//F0NJMa7Ij/7J2eFXfoIPwAAAAAAAAAA/F0NJMa7Mj/7J2eFXfoIP/oMFDapGTw/+ydnhV36KD/8XQ0kxrsiPwAAAAAAAAAA/F0NJMa7Ij8AAAAAAAAAAPsnZ4Vd+ig/+vHA5vQ4Lz/68cDm9Dg/P/xdDSTGu0I//F0NJMa7Mj/7J2eFXfoYPwAAAAAAAAAAAAAAAAAAAAAAAAAAAAAAAPrxwOb0OC8//F0NJMa7Mj8AAAAAAAAAAPsnZ4Vd+ig/AAAAAAAAAAAAAAAAAAAAAPsnZ4Vd+hg/+ydnhV36GD/7J2eFXfoIP/rxwOb0OC8//EK61BHbNT8AAAAAAAAAAPsnZ4Vd+gg/+vHA5vQ4Lz8AAAAAAAAAAPsnZ4Vd+jg/+vHA5vQ4Lz/68cDm9DgvP/xCutQR2zU/AAAAAAAAAAD7J2eFXfoYP/rxwOb0OC8//EK61BHbNT/8XQ0kxrsyP/snZ4Vd+gg/+ydnhV36OD8AAAAAAAAAAHzQY/xrS0Q/+ydnhV36KD8AAAAAAAAAAPsnZ4Vd+gg/AAAAAAAAAAD68cDm9DgvP/xdDSTGuzI/+ydnhV36CD8AAAAAAAAAAPsnZ4Vd+gg//F0NJMa7Ij/7J2eFXfooP/rxwOb0OD8/+gwUNqkZPD/68cDm9DgvP/xdDSTGu1I/+gwUNqkZPD8AAAAAAAAAAPoMFDapGTw/+ydnhV36KD/68cDm9DgvP33rtksgLEE/+gwUNqkZTD/6DBQ2qRk8P/snZ4Vd+gg/AAAAAAAAAAAAAAAAAAAAAAAAAAAAAAAA+ydnhV36CD/8XQ0kxrsyP/rxwOb0OD8/+ydnhV36KD/6DBQ2qRk8P/snZ4Vd+hg/+ydnhV36GD/8QrrUEds1P/snZ4Vd+kg/+gwUNqkZPD/8QrrUEds1P/snZ4Vd+gg//F0NJMa7Ij97mr1dA4pKP/snZ4Vd+jg/+gwUNqkZPD980GP8a0tEP3zQY/xrS0Q//F0NJMa7Qj/7J2eFXfp4P/snZ4Vd+jg/+ydnhV36GD/7J2eFXfoIPwAAAAAAAAAA/F0NJMa7Ij/7J2eFXfoYPwAAAAAAAAAA/EK61BHbNT/7J2eFXfoIP7wJj+g+E2U/+ydnhV36KD8AAAAAAAAAAPrxwOb0OC8/fNBj/GtLRD/7J2eFXfpIP/xCutQR2zU//F0NJMa7Ij/8XQ0kxrsiP/oMFDapGTw/rI8CadGJcj88lzgQmYNTP7wk4jfz81E/+vHA5vQ4Pz/a4lSYZUVtP33rtksgLEE/+vHA5vQ4Pz/68cDm9DgvP/xdDSTGuyI//F0NJMa7Mj/7J2eFXfoYPz2yi19NZFA/+ydnhV36CD/8XQ0kxrsyP/snZ4Vd+jg//F0NJMa7Mj/7J2eFXfo4P/xdDSTGu0I/+ydnhV36GD/7J2eFXfooP/snZ4Vd+gg/+gwUNqkZPD90k508tQaDPz2yi19NZHA//EK61BHbRT/7J2eFXfpIP/snZ4Vd+jg/+vHA5vQ4Lz/6DBQ2qRk8P33rtksgLEE//EK61BHbRT96f2oOT6lNP/snZ4Vd+ig//F0NJMa7Ij9967ZLICxRP/xCutQR2zU/+ydnhV36GD97tRCtt2pHP/snZ4Vd+hg/en9qDk+pTT/8XQ0kxrsiP/snZ4Vd+jg//F0NJMa7Ij/7J2eFXfoIP/snZ4Vd+hg//EK61BHbNT/6DBQ2qRk8P/oMFDapGTw/feu2SyAsYT/8XQ0kxrsiP/xCutQR2zU/+gwUNqkZbD/7J2eFXfo4P/snZ4Vd+hg//F0NJMa7Ij/7J2eFXfoIP/snZ4Vd+jg/+ydnhV36KD9967ZLICxBP/snZ4Vd+ig/+ydnhV36OD+8JOI38/NRP/snZ4Vd+jg//EK61BHbNT/7J2eFXfooP/snZ4Vd+jg/+ydnhV36GD/8XQ0kxrsyP/xdDSTGu0I/+ydnhV36KD9967ZLICxBP3zQY/xrS0Q/+vHA5vQ4Lz/6DBQ2qRlcP3p/ag5PqU0/fNBj/GtLRD8AAAAAAAAAAPxdDSTGu0I/+ydnhV36KD/7J2eFXfooP/oMFDapGTw/AAAAAAAAAAD7J2eFXfo4P/snZ4Vd+hg/+ydnhV36CD8AAAAAAAAAAAAAAAAAAAAA+ydnhV36CD8AAAAAAAAAAPxCutQR2zU/AAAAAAAAAAAAAAAAAAAAAAAAAAAAAAAAAAAAAAAAAAAAAAAAAAAAAAAAAAAAAAAAAAAAAAAAAAAAAAAAAAAAAAAAAAAAAAAAAAAAAAAAAAAAAAAAAAAAAAAAAAAAAAAAAAAAAAAAAAD68cDm9DgvPwAAAAAAAAAAAAAAAAAAAAAAAAAAAAAAAPsnZ4Vd+hg/+ydnhV36GD8AAAAAAAAAAAAAAAAAAAAAAAAAAAAAAAAAAAAAAAAAAAAAAAAAAAAA+ydnhV36CD8AAAAAAAAAAAAAAAAAAAAAAAAAAAAAAAAAAAAAAAAAAPsnZ4Vd+hg/AAAAAAAAAAD68cDm9DgvP/xdDSTGuyI/+ydnhV36CD8AAAAAAAAAAPsnZ4Vd+hg/AAAAAAAAAAAAAAAAAAAAAAAAAAAAAAAAAAAAAAAAAAAAAAAAAAAAAPsnZ4Vd+gg/AAAAAAAAAAAAAAAAAAAAAPsnZ4Vd+gg/AAAAAAAAAAAAAAAAAAAAAAAAAAAAAAAAAAAAAAAAAAD7J2eFXfoIP/rxwOb0OD8//EK61BHbRT/8XQ0kxrsyP/snZ4Vd+hg/+ydnhV36KD980GP8a0tUP/xCutQR20U//EK61BHbNT/7J2eFXfooP3uavV0Dilo//F0NJMa7Mj+8CY/oPhNVP/snZ4Vd+jg/+vHA5vQ4Lz/7J2eFXfooP/xdDSTGuyI//EK61BHbRT97mr1dA4pKP/snZ4Vd+ig/en9qDk+pTT/7J2eFXfoIP/snZ4Vd+gg/+vHA5vQ4Pz/7J2eFXfooP/xdDSTGuyI/+ydnhV36KD/8XQ0kxrsiP/rxwOb0OC8/+gwUNqkZPD980GP8a0tEP3zQY/xrS1Q//F0NJMa7Ij/7J2eFXfoYP/xdDSTGuzI/+gwUNqkZTD/7J2eFXfooP/snZ4Vd+gg/+vHA5vQ4Lz/7J2eFXfoIP/xdDSTGuyI/+ydnhV36CD/7J2eFXfpIP/snZ4Vd+gg/+ydnhV36OD/7J2eFXfooP/snZ4Vd+gg/+ydnhV36KD+8CY/oPhNVP/xdDSTGuzI/+vHA5vQ4Xz87YZJxMMJZP/xCutQR2zU/+ydnhV36GD/8XQ0kxrsyP/snZ4Vd+jg/DPPs8uclcj/68cDm9DgvP33rtksgLEE/+ydnhV36CD8AAAAAAAAAAPsnZ4Vd+ig//F0NJMa7Ij/8XQ0kxrsiP3u1EK23alc/+ydnhV36CD/7J2eFXfoIP/snZ4Vd+ig/+ydnhV36CD97tRCtt2p3PwAAAAAAAAAA/F0NJMa7Mj/7J2eFXfo4P/xdDSTGuzI//F0NJMa7Ij/7J2eFXfoIPwAAAAAAAAAA+vHA5vQ4Pz/8QrrUEdtFPwAAAAAAAAAA+vHA5vQ4Lz/8XQ0kxrsiP/rxwOb0OC8/AAAAAAAAAAB967ZLICxBP/xdDSTGuzI//F0NJMa7Ij8AAAAAAAAAAPxCutQR20U/+ydnhV36OD89sotfTWRQP/snZ4Vd+ig/+ydnhV36CD97tRCtt2pHP/xdDSTGuzI/+ydnhV36GD/7J2eFXfoIP/snZ4Vd+hg/+vHA5vQ4Pz980GP8a0tEP/xdDSTGu0I/e7UQrbdqRz/7J2eFXfoYP3zQY/xrS0Q//EK61BHbRT9967ZLICxBP/rxwOb0OD8/fNBj/GtLZD8AAAAAAAAAAPsnZ4Vd+hg/+ydnhV36CD/7J2eFXfoYPwAAAAAAAAAA+ydnhV36CD/68cDm9DhPP3zQY/xrS1Q/fNBj/GtLRD/8XQ0kxrsiP/rxwOb0OC8/+ydnhV36SD/6DBQ2qRlMP/snZ4Vd+gg/en9qDk+pTT8AAAAAAAAAAPoMFDapGTw//F0NJMa7Ij/6DBQ2qRk8P/snZ4Vd+kg/+ydnhV36CD/8XQ0kxrtSP/rxwOb0OD8/+ydnhV36OD+77juZijJoP/xCutQR20U/e7UQrbdqRz/6DBQ2qRlMP/snZ4Vd+gg/+ydnhV36KD96f2oOT6lNP/rxwOb0OE8/feu2SyAsQT97tRCtt2pHP/oMFDapGUw//F0NJMa7Uj9967ZLICxBP/xdDSTGu1I/+ydnhV36CD89sotfTWRQP/snZ4Vd+kg/+ydnhV36SD+8CY/oPhNVP/snZ4Vd+ig/feu2SyAsQT9967ZLICxBP3u1EK23akc/+gwUNqkZTD96f2oOT6lNPzthknEwwlk/+ydnhV36GD/8XQ0kxrsiP/xdDSTGuyI/+ydnhV36SD/8XQ0kxrsiP/xdDSTGuyI/AAAAAAAAAAD68cDm9Dg/P33rtksgLEE/+ydnhV36GD/7J2eFXfoIP/xCutQR20U/+ydnhV36CD8AAAAAAAAAAPoMFDapGTw/e5q9XQOKSj/68cDm9DgvP/snZ4Vd+hg//EK61BHbRT/8XQ0kxrtiP/snZ4Vd+hg/+ydnhV36CD/7J2eFXfoIP/snZ4Vd+gg//F0NJMa7Ij/7J2eFXfoYP/xdDSTGu0I/+ydnhV36GD/6DBQ2qRk8P/rxwOb0OD8//F0NJMa7Ij/68cDm9DgvP/snZ4Vd+kg/PbKLX01kUD8AAAAAAAAAAPsnZ4Vd+kg//EK61BHbRT/8QrrUEdtFP/rxwOb0OC8/AAAAAAAAAAB80GP8a0tEP3zQY/xrS0Q/+ydnhV36KD/8XQ0kxrsiP7q4lfohcW4/+ydnhV36KD9967ZLICxhP/snZ4Vd+jg/PJc4EJmDUz97tRCtt2pXP/xCutQR20U/+gwUNqkZPD/NucEGFV5xP/oMFDapGUw/e7UQrbdqRz96f2oOT6l9P7vuO5mKMng/+ydnhV36CD/8XQ0kxrsyP/snZ4Vd+hg/2/2n5xkmej9967ZLICxBPzt85cDkolY/HIjMwQmQYT+8CY/oPhN1P/xCutQR2zU/+gwUNqkZPD8ciMzBCZBhP8uDG2isnIc/3U6h1TbIYD/7J2eFXfooP3u1EK23akc/+ydnhV36KD+77juZijJYPzyXOBCZg1M/PbKLX01kcD8FtiYzMeGAP3p/ag5PqU0/+vHA5vQ4Pz+6uJX6IXFeP3zQY/xrS0Q/+ydnhV36GD980GP8a0tEP/xdDSTGuzI//EK61BHbRT/68cDm9Dg/P/snZ4Vd+gg/Stse8Z1LfD/6DBQ2qRlMP/oMFDapGUw//F0NJMa7Mj/8XQ0kxrsiP/rxwOb0OD8/+ydnhV36GD/8QrrUEdtFPwAAAAAAAAAAnRV26WMAYD9967ZLICxBP/snZ4Vd+ig/vCTiN/PzUT/7J2eFXfo4P/snZ4Vd+kg/AAAAAAAAAAB80GP8a0tEP/oMFDapGUw/+ydnhV36GD8AAAAAAAAAAPxdDSTGuzI/fNBj/GtLRD/7J2eFXfoYP/rxwOb0OC8/e7UQrbdqRz/8QrrUEdtFP/snZ4Vd+gg//F0NJMa7Ij/7J2eFXfooP/snZ4Vd+gg/+ydnhV36KD8AAAAAAAAAAPsnZ4Vd+gg//F0NJMa7Mj/7J2eFXfoIP/snZ4Vd+jg//F0NJMa7Ij/68cDm9Dg/PwAAAAAAAAAA+vHA5vQ4Tz/68cDm9DgvP/snZ4Vd+jg/+vHA5vQ4Pz/7J2eFXfoIP/snZ4Vd+hg/+gwUNqkZPD/8XQ0kxrsiP/snZ4Vd+hg/+vHA5vQ4Lz/8XQ0kxrsyP/snZ4Vd+gg/+ydnhV36KD8AAAAAAAAAAPsnZ4Vd+kg//F0NJMa7Ij/6DBQ2qRk8P/rxwOb0OD8/+gwUNqkZPD/6DBQ2qRlMP3zQY/xrS0Q/en9qDk+pTT96f2oOT6lNP/xCutQR20U/+vHA5vQ4Lz/7J2eFXfooPwAAAAAAAAAA+ydnhV36CD/6DBQ2qRk8PwAAAAAAAAAA+ydnhV36KD/7J2eFXfo4P/snZ4Vd+hg/+vHA5vQ4Lz8AAAAAAAAAAPxdDSTGuzI/en9qDk+pTT/7J2eFXfpIP/oMFDapGTw/feu2SyAsQT/7J2eFXfo4P/snZ4Vd+hg/+gwUNqkZPD/7J2eFXfooP/xCutQR2zU//F0NJMa7Mj86Rj8ifOFcP/xdDSTGuyI//F0NJMa7Mj/7J2eFXfoIPwAAAAAAAAAA+gwUNqkZPD8AAAAAAAAAAPxdDSTGuzI/fNBj/GtLVD/8XQ0kxrtCP3p/ag5PqU0/feu2SyAsQT9967ZLICxBP/snZ4Vd+kg/+gwUNqkZTD/7J2eFXfooP3zQY/xrS0Q/e7UQrbdqVz/68cDm9DgvP/snZ4Vd+jg/+ydnhV36OD/7J2eFXfoYP/xCutQR2zU//F0NJMa7Ij8AAAAAAAAAAAAAAAAAAAAA+ydnhV36GD9967ZLICxBP/xdDSTGuyI/AAAAAAAAAAD6DBQ2qRk8P/oMFDapGTw/AAAAAAAAAAD8XQ0kxrtCP/snZ4Vd+jg/fNBj/GtLRD96f2oOT6lNP/snZ4Vd+jg/feu2SyAsQT/8XQ0kxrtCP/rxwOb0OC8/+ydnhV36SD980GP8a0tEP/xCutQR2zU/+vHA5vQ4Tz/68cDm9DgvPwAAAAAAAAAA+gwUNqkZTD980GP8a0tEP/oMFDapGTw/+ydnhV36GD/8XQ0kxrtCP/xdDSTGuyI/+gwUNqkZPD/7J2eFXfoIP/xdDSTGuyI/AAAAAAAAAAD8QrrUEdtFP/rxwOb0OD8/AAAAAAAAAAD7J2eFXfoIPwAAAAAAAAAA+ydnhV36GD8AAAAAAAAAAPxCutQR20U//F0NJMa7Ij/dTqHVNshgPwAAAAAAAAAAAAAAAAAAAAAAAAAAAAAAAPsnZ4Vd+gg/AAAAAAAAAAAAAAAAAAAAAAAAAAAAAAAAAAAAAAAAAAAAAAAAAAAAAPsnZ4Vd+kg//F0NJMa7Ij/7J2eFXfooP/xCutQR2zU/+ydnhV36CD/8XQ0kxrtCP/snZ4Vd+ig/+ydnhV36KD97tRCtt2pHP/oMFDapGTw/+vHA5vQ4Lz/68cDm9DgvP/xdDSTGuyI//F0NJMa7Mj/8QrrUEds1P/xCutQR2zU/feu2SyAsQT8AAAAAAAAAAPsnZ4Vd+gg//F0NJMa7Qj/68cDm9Dg/P/snZ4Vd+jg//F0NJMa7Qj8AAAAAAAAAAPoMFDapGTw//F0NJMa7Ij/6DBQ2qRlMP/rxwOb0OD8/AAAAAAAAAAD8XQ0kxrsyPwAAAAAAAAAA/EK61BHbNT/8XQ0kxrsyP/xdDSTGuzI/+vHA5vQ4Lz/68cDm9DgvP/xdDSTGu0I//F0NJMa7Mj/8XQ0kxrsyP/snZ4Vd+hg/+ydnhV36GD8AAAAAAAAAAPrxwOb0OD8/+ydnhV36GD/8XQ0kxrsyP/snZ4Vd+ig/+ydnhV36KD/68cDm9Dg/PzyXOBCZg1M/+ydnhV36OD/6DBQ2qRk8P/xdDSTGu0I//F0NJMa7Ij/8QrrUEdtFP3uavV0Diko/+gwUNqkZPD/68cDm9DgvP33rtksgLEE/+vHA5vQ4Lz/7J2eFXfoYP/oMFDapGVw/+gwUNqkZPD/7J2eFXfo4P/xCutQR2zU/+ydnhV36GD/7J2eFXfoIP/xdDSTGuzI/AAAAAAAAAAD8QrrUEds1P/xCutQR2zU/+ydnhV36CD/68cDm9DgvP/oMFDapGTw/+ydnhV36CD/7J2eFXfoYPz2yi19NZFA//F0NJMa7Mj/68cDm9Dg/P/xCutQR2zU/AAAAAAAAAAD7J2eFXfoYP/xCutQR2zU/+vHA5vQ4Lz/8XQ0kxrsiP/snZ4Vd+ig/AAAAAAAAAAD8XQ0kxrsiP/rxwOb0OC8//F0NJMa7Mj8AAAAAAAAAAAAAAAAAAAAA+ydnhV36CD/7J2eFXfoIP/snZ4Vd+gg/AAAAAAAAAAD7J2eFXfooP/xdDSTGuyI/AAAAAAAAAAD7J2eFXfoIPwAAAAAAAAAA/F0NJMa7Ij8AAAAAAAAAAPxdDSTGuyI/AAAAAAAAAAD8XQ0kxrsyP/snZ4Vd+hg//F0NJMa7Ij/8XQ0kxrsiP/xdDSTGuyI/+ydnhV36OD8AAAAAAAAAAAAAAAAAAAAAfNBj/GtLRD/7J2eFXfoIP/xdDSTGuzI/feu2SyAsQT8AAAAAAAAAAPsnZ4Vd+hg/AAAAAAAAAAD7J2eFXfooP/snZ4Vd+hg//EK61BHbRT/7J2eFXfoIP/oMFDapGUw//F0NJMa7Ij/6DBQ2qRk8P/xCutQR2zU//F0NJMa7Ij/7J2eFXfooP33rtksgLEE/AAAAAAAAAAD8XQ0kxrsyP/xdDSTGuzI/+gwUNqkZPD/7J2eFXfoYPwAAAAAAAAAA/F0NJMa7Ij/7J2eFXfoIPwAAAAAAAAAA+gwUNqkZPD8AAAAAAAAAAPsnZ4Vd+hg//EK61BHbNT9967ZLICxBP/snZ4Vd+ig/feu2SyAsQT/8XQ0kxrsyP/xdDSTGuyI/fNBj/GtLZD/7J2eFXfoYP/xdDSTGuzI/e7UQrbdqVz/68cDm9Dg/PwAAAAAAAAAAfeu2SyAsQT/8QrrUEds1PwAAAAAAAAAA/F0NJMa7Qj980GP8a0tEP/xdDSTGuzI/+vHA5vQ4Lz/8XQ0kxrtCP/xdDSTGuzI/+ydnhV36CD/8XQ0kxrsyP/snZ4Vd+hg/+ydnhV36KD/7J2eFXfoYP/oMFDapGTw/+vHA5vQ4Lz/68cDm9DhPP/snZ4Vd+hg/+ydnhV36CD/6DBQ2qRk8P/xdDSTGuyI//F0NJMa7Ij/7J2eFXfooP/snZ4Vd+gg/AAAAAAAAAAAAAAAAAAAAAPxdDSTGuzI/+gwUNqkZPD97mr1dA4pKP/xdDSTGuzI/fNBj/GtLRD/8XQ0kxrsiPwAAAAAAAAAAe7UQrbdqRz/68cDm9DgvP/snZ4Vd+gg/AAAAAAAAAAD7J2eFXfoYP/xdDSTGuyI//F0NJMa7Ij8AAAAAAAAAAPxCutQR20U/+ydnhV36CD/7J2eFXfo4PwAAAAAAAAAA+vHA5vQ4Lz97mr1dA4pKP/rxwOb0OC8/+vHA5vQ4Lz/7J2eFXfoIP/oMFDapGUw/+vHA5vQ4Lz/68cDm9DgvP/rxwOb0OC8/+gwUNqkZPD/7J2eFXfo4P/rxwOb0OE8//F0NJMa7Ij9967ZLICxBP/snZ4Vd+gg/+vHA5vQ4Lz/7J2eFXfooP/snZ4Vd+hg/+gwUNqkZPD/8XQ0kxrsyP/snZ4Vd+gg/+ydnhV36CD/8QrrUEdtFP7vT6EnWUVs/PJc4EJmDUz97tRCtt2pXP/snZ4Vd+gg//EK61BHbNT/7J2eFXfooPwAAAAAAAAAA+vHA5vQ4Lz8AAAAAAAAAAAAAAAAAAAAA+ydnhV36CD/7J2eFXfoYPwAAAAAAAAAAe7UQrbdqRz/8XQ0kxrsyP/snZ4Vd+hg/+ydnhV36GD/7J2eFXfo4P/xdDSTGuyI/+vHA5vQ4Lz/8XQ0kxrtSP33rtksgLFE//F0NJMa7Qj/8XQ0kxrsiP/rxwOb0OC8/feu2SyAsQT/7J2eFXfoIPwAAAAAAAAAA+vHA5vQ4Lz8AAAAAAAAAAAAAAAAAAAAA+ydnhV36CD/7J2eFXfoYP3uavV0Diko/+ydnhV36CD/7J2eFXfoIP/snZ4Vd+gg/+ydnhV36CD/7J2eFXfooP/rxwOb0OC8/+ydnhV36GD8AAAAAAAAAAAAAAAAAAAAA+ydnhV36OD/8XQ0kxrsiP/snZ4Vd+gg/+vHA5vQ4Pz/7J2eFXfoYPwAAAAAAAAAA+vHA5vQ4Lz/7J2eFXfoIP/snZ4Vd+ig/+ydnhV36CD8AAAAAAAAAAPrxwOb0OC8/+vHA5vQ4Pz/7J2eFXfooP/snZ4Vd+ig/+vHA5vQ4Lz/68cDm9Dg/P/xdDSTGuzI/AAAAAAAAAAD68cDm9DgvP/xCutQR2zU//F0NJMa7Ij/8QrrUEds1P/xdDSTGuzI/+ydnhV36OD/8XQ0kxrsiPwAAAAAAAAAA+vHA5vQ4Lz/7J2eFXfoIPwAAAAAAAAAA+ydnhV36KD8AAAAAAAAAAAAAAAAAAAAA+ydnhV36CD8AAAAAAAAAAAAAAAAAAAAA+ydnhV36CD/7J2eFXfooPwAAAAAAAAAA/F0NJMa7Ij/7J2eFXfooP/snZ4Vd+gg//F0NJMa7Ij/7J2eFXfo4P/snZ4Vd+hg/AAAAAAAAAAD8QrrUEds1P/xCutQR2zU/+ydnhV36GD/7J2eFXfoIPwAAAAAAAAAA+ydnhV36GD/8XQ0kxrsyP/snZ4Vd+gg/+vHA5vQ4Lz/8XQ0kxrsyP/rxwOb0OC8/AAAAAAAAAAAAAAAAAAAAAPsnZ4Vd+hg//F0NJMa7Mj/7J2eFXfoYP/snZ4Vd+ig/AAAAAAAAAAD7J2eFXfoIP/snZ4Vd+gg/AAAAAAAAAAD68cDm9Dg/P/oMFDapGTw//F0NJMa7Mj8AAAAAAAAAAPxdDSTGuyI/+ydnhV36GD/7J2eFXfoYPwAAAAAAAAAA+ydnhV36CD/7J2eFXfoIPwAAAAAAAAAAAAAAAAAAAAAAAAAAAAAAAAAAAAAAAAAA+ydnhV36CD/7J2eFXfoIPwAAAAAAAAAA+ydnhV36CD8AAAAAAAAAAPsnZ4Vd+kg/+vHA5vQ4Pz/7J2eFXfoYP/snZ4Vd+gg/AAAAAAAAAAD7J2eFXfooPwAAAAAAAAAA+gwUNqkZPD/7J2eFXfpIP/oMFDapGTw/+ydnhV36KD/8QrrUEdtFP/snZ4Vd+ig/+vHA5vQ4Lz/8QrrUEdtFP3p/ag5PqU0/+vHA5vQ4Pz/7J2eFXfoIP/snZ4Vd+ig//EK61BHbNT8AAAAAAAAAAAAAAAAAAAAA/F0NJMa7Mj/7J2eFXfoIP2w7hC1K4YQ/+ydnhV36GD/8XQ0kxrsiP/xdDSTGuyI/AAAAAAAAAAD7J2eFXfoIPwAAAAAAAAAAAAAAAAAAAAD8XQ0kxrsiP/snZ4Vd+ig/+gwUNqkZTD/7J2eFXfooP/xCutQR2zU/+vHA5vQ4Lz/7J2eFXfoYP/snZ4Vd+jg/+gwUNqkZPD/8XQ0kxrsiP/snZ4Vd+hg/+vHA5vQ4Lz8AAAAAAAAAAHzQY/xrS0Q/+vHA5vQ4Lz8AAAAAAAAAAAAAAAAAAAAA+vHA5vQ4Pz/8QrrUEdtVP/snZ4Vd+ig/+ydnhV36CD8AAAAAAAAAAPsnZ4Vd+ig/AAAAAAAAAAB7tRCtt2pHPwAAAAAAAAAAvCTiN/PzUT/7J2eFXfoIP/xdDSTGuzI/+gwUNqkZPD/8QrrUEds1P33rtksgLEE//F0NJMa7Mj/7J2eFXfoYP/snZ4Vd+ig/+ydnhV36CD96f2oOT6lNP/xdDSTGuyI/e5q9XQOKSj/7J2eFXfooPwAAAAAAAAAAAAAAAAAAAAB80GP8a0tEP/oMFDapGTw//F0NJMa7Ij/7J2eFXfpIPwAAAAAAAAAA+ydnhV36KD/8XQ0kxrtCP/xCutQR2zU//F0NJMa7Mj/7J2eFXfoIP/rxwOb0OC8//EK61BHbNT/8QrrUEds1P/snZ4Vd+ig//EK61BHbRT/7J2eFXfoYP/xCutQR20U/AAAAAAAAAAAAAAAAAAAAAPsnZ4Vd+gg/AAAAAAAAAAD7J2eFXfoYP/snZ4Vd+gg/+ydnhV36CD/8XQ0kxrsiP/xdDSTGuyI/+ydnhV36CD/7J2eFXfo4P/xdDSTGu0I/+ydnhV36GD/7J2eFXfo4P/rxwOb0OD8/AAAAAAAAAAD8QrrUEdtFP/snZ4Vd+hg/feu2SyAsQT/7J2eFXfooP/snZ4Vd+hg/+ydnhV36GD8AAAAAAAAAAPsnZ4Vd+gg/+ydnhV36GD8AAAAAAAAAAAAAAAAAAAAA+vHA5vQ4Pz/7J2eFXfoYPwAAAAAAAAAA+gwUNqkZPD/7J2eFXfoIPwAAAAAAAAAAAAAAAAAAAAD8XQ0kxrsyP33rtksgLEE/AAAAAAAAAAAAAAAAAAAAAAAAAAAAAAAA/F0NJMa7Mj/7J2eFXfoIPwAAAAAAAAAAAAAAAAAAAAAAAAAAAAAAAAAAAAAAAAAAfeu2SyAsQT/7J2eFXfooP/snZ4Vd+gg/+ydnhV36KD/68cDm9DgvP/oMFDapGTw//F0NJMa7Ij/68cDm9Dg/P/xCutQR2zU//F0NJMa7Ij8AAAAAAAAAAAAAAAAAAAAA+gwUNqkZPD/7J2eFXfooP/snZ4Vd+hg//F0NJMa7Ij97tRCtt2pHP/xdDSTGuyI/feu2SyAsQT/6DBQ2qRlMP/snZ4Vd+hg/+ydnhV36GD/8XQ0kxrsiP/xdDSTGuzI/+ydnhV36GD/7J2eFXfooP/rxwOb0OD8/+ydnhV36GD/7J2eFXfooP7wk4jfz81E/AAAAAAAAAAD68cDm9DgvP/snZ4Vd+hg/AAAAAAAAAAB967ZLICxBPwAAAAAAAAAA+ydnhV36CD/7J2eFXfooP/xdDSTGuyI/+ydnhV36CD/68cDm9DgvP/xdDSTGuyI//F0NJMa7Mj980GP8a0tEPwAAAAAAAAAAAAAAAAAAAAD6DBQ2qRlMPwAAAAAAAAAA+ydnhV36GD/7J2eFXfoIPwAAAAAAAAAA+ydnhV36CD97tRCtt2pHP/xCutQR21U/AAAAAAAAAAAAAAAAAAAAAHuavV0Diko/en9qDk+pTT/7J2eFXfooPwAAAAAAAAAA+ydnhV36GD/68cDm9DgvP/snZ4Vd+ig/+vHA5vQ4Lz/7J2eFXfooPwAAAAAAAAAA/F0NJMa7Ij/68cDm9Dg/P/xdDSTGuzI/AAAAAAAAAAAAAAAAAAAAAPrxwOb0OC8/+ydnhV36CD+8JOI38/NRP/xdDSTGuyI/AAAAAAAAAAD7J2eFXfoIPwAAAAAAAAAA+ydnhV36CD8AAAAAAAAAAPxdDSTGuzI/+vHA5vQ4Pz8AAAAAAAAAAAAAAAAAAAAA+ydnhV36CD/7J2eFXfooP/snZ4Vd+hg/AAAAAAAAAAD7J2eFXfooP/snZ4Vd+hg/+ydnhV36CD/7J2eFXfo4P/snZ4Vd+ig/+ydnhV36OD/8XQ0kxrsyP/xdDSTGuzI//EK61BHbNT/7J2eFXfooP/xCutQR2zU/+ydnhV36OD/7J2eFXfoYP/snZ4Vd+jg/+vHA5vQ4Lz88lzgQmYNTP/snZ4Vd+ig/+ydnhV36KD/8XQ0kxrsiP/snZ4Vd+ig/AAAAAAAAAAD68cDm9Dg/P3p/ag5PqU0/+ydnhV36CD8AAAAAAAAAAPsnZ4Vd+gg/AAAAAAAAAAAAAAAAAAAAAPsnZ4Vd+ig/vCTiN/PzUT/7J2eFXfoYPz2yi19NZFA/AAAAAAAAAAB967ZLICxBP/xdDSTGuzI/+vHA5vQ4Lz/7J2eFXfooP3uavV0Diko/+vHA5vQ4Lz9967ZLICxRP/snZ4Vd+gg/+ydnhV36KD/7J2eFXfoYP/xCutQR2zU/+ydnhV36CD/8XQ0kxrsyP/xdDSTGuyI/fNBj/GtLRD/6DBQ2qRlMP/rxwOb0OC8/+ydnhV36CD88lzgQmYNTP3u1EK23akc/feu2SyAsQT/7J2eFXfooP/rxwOb0OC8/AAAAAAAAAAD8XQ0kxrsiP3u1EK23akc/+vHA5vQ4Lz/8XQ0kxrtSP3u1EK23alc/feu2SyAsQT9967ZLICxBP/oMFDapGVw/AAAAAAAAAAAAAAAAAAAAAPxCutQR2zU/+ydnhV36CD/7J2eFXfpIP33rtksgLEE//EK61BHbRT/8XQ0kxrsyP/snZ4Vd+jg/+vHA5vQ4Pz/68cDm9DgvPwAAAAAAAAAA+ydnhV36OD8AAAAAAAAAAHzQY/xrS0Q/+gwUNqkZPD/8QrrUEds1P/oMFDapGTw/+vHA5vQ4Lz/8QrrUEds1P/oMFDapGTw/fNBj/GtLRD9967ZLICxBP/snZ4Vd+jg/+ydnhV36KD/7J2eFXfoYP/xdDSTGu0I/+ydnhV36CD/68cDm9DhPP/snZ4Vd+hg/+ydnhV36KD8AAAAAAAAAAAAAAAAAAAAAAAAAAAAAAAD7J2eFXfoIPwAAAAAAAAAA+ydnhV36CD/7J2eFXfo4PwAAAAAAAAAAAAAAAAAAAAAAAAAAAAAAAPsnZ4Vd+hg//EK61BHbNT/8XQ0kxrtCP/rxwOb0OC8/PJc4EJmDUz9967ZLICxBP/xCutQR2zU//EK61BHbVT+77juZijJYP33rtksgLEE/AAAAAAAAAAB7mr1dA4pKP/rxwOb0OC8/+gwUNqkZPD9967ZLICxBPwAAAAAAAAAA+vHA5vQ4Pz8AAAAAAAAAAAAAAAAAAAAA+ydnhV36CD/8XQ0kxrsyPwAAAAAAAAAAfeu2SyAsUT/8XQ0kxrtSP3u1EK23alc/PJc4EJmDUz8AAAAAAAAAAPxCutQR2zU/+ydnhV36KD/7J2eFXfoYP/xdDSTGuzI/+gwUNqkZTD/7J2eFXfooPwAAAAAAAAAA+ydnhV36KD/7J2eFXfoIP33rtksgLEE/+ydnhV36CD/8XQ0kxrsyP/snZ4Vd+jg/AAAAAAAAAAD8XQ0kxrsiP/xdDSTGuyI/feu2SyAsYT/8XQ0kxrsiP/snZ4Vd+hg//F0NJMa7Ij/7J2eFXfoIPwAAAAAAAAAA+ydnhV36OD/8XQ0kxrsiP/snZ4Vd+hg/AAAAAAAAAAD7J2eFXfpIP/xdDSTGuyI/+ydnhV36GD/68cDm9Dg/PwAAAAAAAAAA+ydnhV36CD/8XQ0kxrsyP/xdDSTGuzI/AAAAAAAAAAD7J2eFXfoYPwAAAAAAAAAA+ydnhV36GD/8XQ0kxrsiPwAAAAAAAAAA+ydnhV36CD/7J2eFXfoIPwAAAAAAAAAA+ydnhV36GD8AAAAAAAAAAPxdDSTGuyI//EK61BHbNT/7J2eFXfoIP/xdDSTGuzI/+ydnhV36CD8AAAAAAAAAAPsnZ4Vd+gg//F0NJMa7Qj88lzgQmYNTPwAAAAAAAAAA/F0NJMa7Qj/8XQ0kxrsyP3u1EK23akc//F0NJMa7Ij/8XQ0kxrsyP/xdDSTGuzI//F0NJMa7Mj+8JOI38/NRP/rxwOb0OC8/+ydnhV36KD/6DBQ2qRk8P33rtksgLEE/+ydnhV36GD/8QrrUEds1P/snZ4Vd+gg/+ydnhV36GD97mr1dA4pKP/xCutQR2zU/+ydnhV36GD/7J2eFXfpIP3zQY/xrS0Q/+gwUNqkZTD/6DBQ2qRk8P/oMFDapGUw//EK61BHbVT/8QrrUEds1P/snZ4Vd+ig/AAAAAAAAAAD68cDm9DgvP/snZ4Vd+jg/+ydnhV36CD8AAAAAAAAAAPxdDSTGuyI/+vHA5vQ4Lz8AAAAAAAAAAPxdDSTGu0I/AAAAAAAAAAD7J2eFXfooP33rtksgLEE/+ydnhV36GD/7J2eFXfoIP/xCutQR2zU/+ydnhV36KD/8XQ0kxrtCP3zQY/xrS0Q/+vHA5vQ4Lz/8XQ0kxrsyP/snZ4Vd+gg//F0NJMa7Ij/7J2eFXfoIP/snZ4Vd+jg/AAAAAAAAAAD8XQ0kxrtCP/xdDSTGuyI/AAAAAAAAAAD8XQ0kxrsiP/rxwOb0OD8/+ydnhV36OD/68cDm9Dg/P/snZ4Vd+ig//EK61BHbNT/68cDm9Dg/P/xCutQR20U//F0NJMa7Mj/8XQ0kxrsyPwAAAAAAAAAAAAAAAAAAAAD7J2eFXfoIP/rxwOb0OC8/+ydnhV36GD/8XQ0kxrsiPwAAAAAAAAAA/F0NJMa7Qj8AAAAAAAAAAPrxwOb0OD8//EK61BHbVT/8XQ0kxrsyP/xdDSTGuyI//EK61BHbNT/68cDm9DgvP/rxwOb0OC8/+ydnhV36GD/8XQ0kxrtCPwAAAAAAAAAAfeu2SyAsQT/8XQ0kxrsiP/xdDSTGuyI/+ydnhV36OD/8XQ0kxrsyP/xdDSTGuzI/+vHA5vQ4Pz/68cDm9DgvP/snZ4Vd+gg//EK61BHbNT/7J2eFXfoIP/rxwOb0OC8//F0NJMa7Ij9967ZLICxBP/snZ4Vd+hg/AAAAAAAAAAD7J2eFXfoYP/rxwOb0OD8/e5q9XQOKSj980GP8a0tEP/snZ4Vd+ig/AAAAAAAAAAD68cDm9DgvPwAAAAAAAAAA+ydnhV36GD/7J2eFXfoYP/xdDSTGuyI/+ydnhV36KD/8QrrUEds1P/snZ4Vd+hg//F0NJMa7Mj/7J2eFXfooP/xdDSTGu0I/+ydnhV36GD/8QrrUEdtFPwAAAAAAAAAA+vHA5vQ4Lz/7J2eFXfoIPwAAAAAAAAAA+vHA5vQ4Pz/7J2eFXfo4P/rxwOb0OD8/+ydnhV36CD/68cDm9DgvP/snZ4Vd+ig/+ydnhV36KD/7J2eFXfooPwAAAAAAAAAAAAAAAAAAAAD7J2eFXfoIP/xdDSTGuyI//F0NJMa7Ij/7J2eFXfooP/snZ4Vd+hg/+vHA5vQ4Lz/6DBQ2qRk8P/snZ4Vd+ig/+ydnhV36CD/7J2eFXfoIP/rxwOb0OD8/+vHA5vQ4Lz9967ZLICxBP3zQY/xrS0Q/fNBj/GtLRD/7J2eFXfo4P3u1EK23akc/+ydnhV36KD/8XQ0kxrsiP/xdDSTGuzI//F0NJMa7Qj/7J2eFXfoYP/xdDSTGuyI//F0NJMa7Qj/8QrrUEds1P/rxwOb0OD8//F0NJMa7Mj/8XQ0kxrsyP/xdDSTGuyI/feu2SyAsQT/8XQ0kxrsiP/xdDSTGu0I/+ydnhV36GD/68cDm9Dg/P/oMFDapGUw/AAAAAAAAAAAAAAAAAAAAAPxdDSTGuyI/feu2SyAsUT8AAAAAAAAAAPsnZ4Vd+gg/+gwUNqkZPD980GP8a0tEP3u1EK23akc/+vHA5vQ4Lz89sotfTWRQP3uavV0Diko/AAAAAAAAAAD6DBQ2qRk8P/xdDSTGuyI/vAmP6D4TVT/7J2eFXfo4P/xdDSTGu0I//EK61BHbRT/68cDm9DgvPwAAAAAAAAAA+ydnhV36GD8AAAAAAAAAAPsnZ4Vd+hg/+ydnhV36CD/7J2eFXfpIPwAAAAAAAAAA+gwUNqkZTD/8XQ0kxrsiPwAAAAAAAAAA+ydnhV36KD8AAAAAAAAAAPxdDSTGu0I/feu2SyAsQT/7J2eFXfpYP/xCutQR2zU/+ydnhV36GD/8XQ0kxrtCP/xdDSTGuzI//F0NJMa7Ij980GP8a0tEPwAAAAAAAAAAfeu2SyAsQT/7J2eFXfooP/snZ4Vd+hg/+vHA5vQ4Lz/8XQ0kxrsiPwAAAAAAAAAA/F0NJMa7Qj/7J2eFXfoIP/rxwOb0OC8//F0NJMa7Mj9967ZLICxBP/oMFDapGTw/feu2SyAsQT9967ZLICxRP/oMFDapGTw/PJc4EJmDUz/68cDm9DgvP/snZ4Vd+ig//EK61BHbNT97mr1dA4pKPz2yi19NZFA/+vHA5vQ4Lz89sotfTWRQP33rtksgLEE/+ydnhV36GD/7J2eFXfooP/snZ4Vd+gg/+vHA5vQ4Lz97tRCtt2pHP/snZ4Vd+hg/+gwUNqkZTD/8XQ0kxrsyP/snZ4Vd+jg/+ydnhV36OD/8XQ0kxrsiP/rxwOb0OC8/+ydnhV36CD/68cDm9Dg/P/snZ4Vd+ig/+vHA5vQ4Lz/6DBQ2qRk8P/xdDSTGuyI//F0NJMa7Mj97mr1dA4pKP/rxwOb0OC8/AAAAAAAAAAD6DBQ2qRlMP/oMFDapGUw/+vHA5vQ4Lz8AAAAAAAAAAPrxwOb0OC8//F0NJMa7Ij/8QrrUEds1P3zQY/xrS0Q/feu2SyAsQT/7J2eFXfpIP/snZ4Vd+ig/+ydnhV36KD/8XQ0kxrtCP3p/ag5PqU0/+gwUNqkZPD/8XQ0kxrsiP/snZ4Vd+hg/+ydnhV36KD/7J2eFXfo4P/rxwOb0OC8//EK61BHbNT86Rj8ifOFcP/xdDSTGu0I/AAAAAAAAAAD8QrrUEds1P/snZ4Vd+kg/+gwUNqkZPD/8QrrUEds1P3zQY/xrS0Q/feu2SyAsQT980GP8a0tEP/oMFDapGTw/+ydnhV36CD9cwfet3FdiP3zQY/xrS0Q//F0NJMa7Mj8AAAAAAAAAAAAAAAAAAAAA+ydnhV36CD/7J2eFXfoYP/xCutQR2zU/+ydnhV36CD/68cDm9Dg/P/snZ4Vd+ig/e7UQrbdqRz8AAAAAAAAAAPsnZ4Vd+ig/AAAAAAAAAAD7J2eFXfoIP/snZ4Vd+hg//F0NJMa7Ij8AAAAAAAAAAPxdDSTGuyI/+vHA5vQ4Lz8AAAAAAAAAAAAAAAAAAAAA+ydnhV36CD/6DBQ2qRk8P/snZ4Vd+gg/+ydnhV36GD8AAAAAAAAAAPxdDSTGuyI/+ydnhV36OD/8XQ0kxrsyP/xCutQR2zU//EK61BHbNT/8QrrUEds1P/rxwOb0OC8/+ydnhV36GD97tRCtt2pXP/xdDSTGu0I//F0NJMa7Ij/8QrrUEds1P/snZ4Vd+ig//EK61BHbNT/68cDm9DgvP/snZ4Vd+hg/+gwUNqkZTD/7J2eFXfooP/snZ4Vd+hg//EK61BHbRT/8XQ0kxrsiP/rxwOb0OC8/+ydnhV36CD/7J2eFXfpYP/snZ4Vd+hg/+ydnhV36KD87YZJxMMJZP/snZ4Vd+gg/+ydnhV36KD/8XQ0kxrtSP/xdDSTGuzI/+ydnhV36GD96f2oOT6lNP/rxwOb0OE8/+ydnhV36GD8AAAAAAAAAAPrxwOb0OC8/AAAAAAAAAAD8QrrUEds1P/snZ4Vd+jg//EK61BHbNT/7J2eFXfoYP3zQY/xrS0Q/+gwUNqkZPD/7J2eFXfoYP/xdDSTGuyI/+ydnhV36GD/68cDm9Dg/P/xdDSTGuyI/AAAAAAAAAAAAAAAAAAAAAHuavV0Diko/AAAAAAAAAAD7J2eFXfoIP/xCutQR20U/e5q9XQOKSj/8XQ0kxrsiP7q4lfohcV4/+vHA5vQ4Lz/8XQ0kxrsiPwAAAAAAAAAA+ydnhV36CD9967ZLICxBP/snZ4Vd+ig/+ydnhV36KD/7J2eFXfoYP3uavV0Diko//F0NJMa7Ij/7J2eFXfoIP/xCutQR2zU//F0NJMa7Ij8AAAAAAAAAAPsnZ4Vd+gg/+ydnhV36CD8AAAAAAAAAAPsnZ4Vd+gg/+ydnhV36CD8AAAAAAAAAAAAAAAAAAAAAAAAAAAAAAAAAAAAAAAAAAPsnZ4Vd+gg/AAAAAAAAAAAAAAAAAAAAAAAAAAAAAAAAAAAAAAAAAAD7J2eFXfo4PwAAAAAAAAAA+ydnhV36CD8AAAAAAAAAAPsnZ4Vd+gg/AAAAAAAAAAAAAAAAAAAAAAAAAAAAAAAA+gwUNqkZTD/7J2eFXfoYPwAAAAAAAAAA+ydnhV36KD8AAAAAAAAAAPsnZ4Vd+gg/+ydnhV36GD/7J2eFXfoYPwAAAAAAAAAAAAAAAAAAAAAAAAAAAAAAAAAAAAAAAAAAAAAAAAAAAAD7J2eFXfooPwAAAAAAAAAAAAAAAAAAAAD7J2eFXfoYPwAAAAAAAAAAfeu2SyAsQT8AAAAAAAAAAD2yi19NZFA/+ydnhV36CD8AAAAAAAAAAPsnZ4Vd+ig/fNBj/GtLRD8AAAAAAAAAAPxdDSTGuyI/AAAAAAAAAAAAAAAAAAAAAPrxwOb0OD8/AAAAAAAAAAD8XQ0kxrsiP33rtksgLEE/+vHA5vQ4Lz/7J2eFXfoIP/xdDSTGuyI/+ydnhV36CD8AAAAAAAAAAAAAAAAAAAAAAAAAAAAAAAD7J2eFXfoIP/xdDSTGuyI/AAAAAAAAAAD7J2eFXfoIPwAAAAAAAAAAAAAAAAAAAAAAAAAAAAAAAAAAAAAAAAAAAAAAAAAAAAAAAAAAAAAAAAAAAAAAAAAAAAAAAAAAAAAAAAAAAAAAAAAAAAAAAAAAAAAAAAAAAAAAAAAAAAAAAPxCutQR2zU//F0NJMa7Ij8AAAAAAAAAAAAAAAAAAAAAO2GScTDCaT8AAAAAAAAAAPxCutQR22U/+ydnhV36KD/7J2eFXfoIP/snZ4Vd+gg/+ydnhV36GD/7J2eFXfoIP/snZ4Vd+hg/AAAAAAAAAAD6DBQ2qRk8P/snZ4Vd+gg/AAAAAAAAAAAAAAAAAAAAAAAAAAAAAAAA+ydnhV36GD8AAAAAAAAAAPsnZ4Vd+gg/AAAAAAAAAAAAAAAAAAAAAAAAAAAAAAAAAAAAAAAAAAAAAAAAAAAAAAAAAAAAAAAA+ydnhV36CD8AAAAAAAAAAPxdDSTGuyI/+ydnhV36CD/7J2eFXfoIPwAAAAAAAAAA+ydnhV36GD/7J2eFXfoYPwAAAAAAAAAAAAAAAAAAAAAAAAAAAAAAAPsnZ4Vd+hg/+ydnhV36CD/7J2eFXfoIP/oMFDapGTw/AAAAAAAAAAAAAAAAAAAAAPsnZ4Vd+gg/AAAAAAAAAAAAAAAAAAAAAPsnZ4Vd+ig/+ydnhV36GD8AAAAAAAAAAPxdDSTGuyI//F0NJMa7Mj8AAAAAAAAAAAAAAAAAAAAA+vHA5vQ4Lz8AAAAAAAAAAPxdDSTGuyI/AAAAAAAAAAAAAAAAAAAAAPsnZ4Vd+hg/AAAAAAAAAAAAAAAAAAAAAAAAAAAAAAAA+ydnhV36CD8AAAAAAAAAAAAAAAAAAAAA/F0NJMa7Mj/68cDm9DgvPwAAAAAAAAAAAAAAAAAAAAD7J2eFXfoIPwAAAAAAAAAAAAAAAAAAAAB7tRCtt2pHP/snZ4Vd+ig/AAAAAAAAAAAAAAAAAAAAAAAAAAAAAAAA+ydnhV36GD8AAAAAAAAAAPsnZ4Vd+hg/fNBj/GtLVD/8XQ0kxrsyP/snZ4Vd+hg/+ydnhV36CD/bGPs2zgZnPwAAAAAAAAAA/F0NJMa7Ij/8XQ0kxrsiPwAAAAAAAAAAnPoimq8fcz8AAAAAAAAAAPsnZ4Vd+gg/+ydnhV36CD8AAAAAAAAAAPsnZ4Vd+hg/AAAAAAAAAAD7J2eFXfoIP5qO1lzenG8/+ydnhV36KD8AAAAAAAAAAAAAAAAAAAAA/F0NJMa7Mj8AAAAAAAAAAPxdDSTGuyI/+ydnhV36CD/7J2eFXfooPwAAAAAAAAAA/F0NJMa7Ij/8XQ0kxrsiP/snZ4Vd+gg/+gwUNqkZPD/8XQ0kxrsiPwAAAAAAAAAA+vHA5vQ4Tz/7J2eFXfo4P/snZ4Vd+gg/+ydnhV36CD/8XQ0kxrsiPwAAAAAAAAAA+ydnhV36KD8AAAAAAAAAAPxdDSTGuzI/AAAAAAAAAAD7J2eFXfoYP/snZ4Vd+gg/+ydnhV36KD/7J2eFXfoYPwAAAAAAAAAAAAAAAAAAAAAAAAAAAAAAAPxCutQR2zU//F0NJMa7Ij9967ZLICxBPwAAAAAAAAAAAAAAAAAAAAAAAAAAAAAAAAAAAAAAAAAAAAAAAAAAAAAAAAAAAAAAAAAAAAAAAAAAAAAAAAAAAAA8lzgQmYNTP/snZ4Vd+hg/+ydnhV36CD8AAAAAAAAAAPoMFDapGTw/AAAAAAAAAAD7J2eFXfoIP7q4lfohcV4/+ydnhV36GD8AAAAAAAAAAAAAAAAAAAAAAAAAAAAAAAD8XQ0kxrsiPwAAAAAAAAAAu+47mYoyWD8AAAAAAAAAAAAAAAAAAAAA+ydnhV36KD/7J2eFXfoIPwAAAAAAAAAAAAAAAAAAAAD8XQ0kxrsiP/rxwOb0OC8//F0NJMa7Qj/7J2eFXfoIPwAAAAAAAAAAAAAAAAAAAAAAAAAAAAAAAPsnZ4Vd+hg/feu2SyAsQT/7J2eFXfooPwAAAAAAAAAA+ydnhV36GD8AAAAAAAAAAN1OodU2yHA/AAAAAAAAAAAAAAAAAAAAAAAAAAAAAAAA+ydnhV36GD8AAAAAAAAAAAAAAAAAAAAAAAAAAAAAAAAAAAAAAAAAAAAAAAAAAAAA+ydnhV36KD97mr1dA4paP/snZ4Vd+ig//F0NJMa7Ij8AAAAAAAAAAByIzMEJkGE/+ydnhV36GD8AAAAAAAAAAPsnZ4Vd+ig/AAAAAAAAAAD7J2eFXfoIP/snZ4Vd+gg/+ydnhV36KD/7J2eFXfoIP/xdDSTGuyI/+ydnhV36CD/68cDm9DgvPwAAAAAAAAAA/F0NJMa7Mj8AAAAAAAAAAPsnZ4Vd+hg/+ydnhV36CD/7J2eFXfoYP/snZ4Vd+hg/e7UQrbdqRz/6DBQ2qRk8P33rtksgLFE/AAAAAAAAAAA8lzgQmYNTPwAAAAAAAAAAAAAAAAAAAAD7J2eFXfoIPwAAAAAAAAAA/EK61BHbNT/7J2eFXfoIPwAAAAAAAAAA+vHA5vQ4Pz8AAAAAAAAAAPsnZ4Vd+gg/AAAAAAAAAAAAAAAAAAAAAHzQY/xrS0Q/AAAAAAAAAAAAAAAAAAAAAAAAAAAAAAAA/F0NJMa7Ij980GP8a0tEP/snZ4Vd+gg/AAAAAAAAAAAAAAAAAAAAAAAAAAAAAAAA+gwUNqkZPD/dTqHVNshgP/rxwOb0OD8/+ydnhV36OD/68cDm9Dg/P7vuO5mKMlg//EK61BHbNT/68cDm9DgvP/rxwOb0OF8/AAAAAAAAAAAAAAAAAAAAAAAAAAAAAAAA/F0NJMa7Qj8AAAAAAAAAAPrxwOb0OC8/+ydnhV36OD/7J2eFXfoYP/xCutQR2zU/AAAAAAAAAAD7J2eFXfoYP/snZ4Vd+hg//EK61BHbNT/8XQ0kxrsyP3u1EK23akc/+vHA5vQ4Lz/8XQ0kxrsiPzyXOBCZg1M/G1ImI6HOZz/8XQ0kxrsiP/snZ4Vd+gg/AAAAAAAAAAAAAAAAAAAAAAAAAAAAAAAA+ydnhV36KD/8QrrUEdtFP/xCutQR20U/+vHA5vQ4Lz+77juZijJYP3u1EK23amc//F0NJMa7Mj/7J2eFXfoIP/snZ4Vd+gg/+ydnhV36GD8AAAAAAAAAAPxCutQR2zU/AAAAAAAAAAAAAAAAAAAAAAAAAAAAAAAA/F0NJMa7Ij/8QrrUEds1PwAAAAAAAAAAAAAAAAAAAAD7J2eFXfo4P33rtksgLGE/AAAAAAAAAAD7J2eFXfoIP/snZ4Vd+gg/+ydnhV36GD/7J2eFXfoIP/snZ4Vd+gg/PbKLX01kUD8AAAAAAAAAAHzQY/xrS0Q/+ydnhV36GD/7J2eFXfoYPwAAAAAAAAAA+ydnhV36OD8AAAAAAAAAAPxCutQR21U/AAAAAAAAAAD7J2eFXfoIP/xdDSTGuyI/AAAAAAAAAAAAAAAAAAAAAAAAAAAAAAAAAAAAAAAAAAAAAAAAAAAAAPrxwOb0OC8/e7UQrbdqVz/8QrrUEds1P/snZ4Vd+kg/AAAAAAAAAAD8QrrUEdtFPwAAAAAAAAAA+gwUNqkZTD8AAAAAAAAAAPsnZ4Vd+hg//F0NJMa7Ij/7J2eFXfoYPwAAAAAAAAAAe7UQrbdqRz/7J2eFXfooP/rxwOb0OD8/AAAAAAAAAAA8lzgQmYNTPwAAAAAAAAAA+ydnhV36CD980GP8a0tEP/snZ4Vd+gg/AAAAAAAAAAAAAAAAAAAAAAAAAAAAAAAAAAAAAAAAAAD7J2eFXfpYP/snZ4Vd+gg/+ydnhV36CD/68cDm9DhPP/snZ4Vd+gg/AAAAAAAAAAB6f2oOT6lNP/snZ4Vd+gg/O2GScTDCaT/8XQ0kxrsiP/snZ4Vd+gg/+vHA5vQ4Lz/68cDm9DhPP/snZ4Vd+gg/+ydnhV36GD/68cDm9DgvP/snZ4Vd+kg/+ydnhV36CD/8QrrUEds1P/snZ4Vd+hg/fNBj/GtLRD/8XQ0kxrsiP/snZ4Vd+gg/feu2SyAsQT+8CY/oPhNlPwAAAAAAAAAA+vHA5vQ4Lz/7J2eFXfoIPwAAAAAAAAAA/EK61BHbRT/7J2eFXfooPyvnBfLCOHc//F0NJMa7Ij980GP8a0tEPwAAAAAAAAAA+ydnhV36CD/7J2eFXfoIPwAAAAAAAAAA7z4UPvGimD8ciMzBCZBhP8V8+0ZeGZA/K8yyog5Ymj8nO3lqDSaYP7wk4jfz81E/AAAAAAAAAAD7J2eFXfoIPwAAAAAAAAAA/F0NJMa7Ij/7J2eFXfoYPwAAAAAAAAAA+ydnhV36CD/7J2eFXfooP/xdDSTGuyI/+ydnhV36GD8AAAAAAAAAAPsnZ4Vd+ig/+ydnhV36GD8AAAAAAAAAAAAAAAAAAAAAAAAAAAAAAAD7J2eFXfoIP/snZ4Vd+hg//F0NJMa7Ij8AAAAAAAAAAPrxwOb0OC8/+ydnhV36CD/7J2eFXfoIPwAAAAAAAAAA+ydnhV36CD+rWVzKaMiYP/snZ4Vd+gg/AAAAAAAAAAD7J2eFXfooP/snZ4Vd+jg//F0NJMa7Ij8AAAAAAAAAAPsnZ4Vd+ig/+ydnhV36CD9nb9eAogagPwAAAAAAAAAAAAAAAAAAAAD7J2eFXfoIPwAAAAAAAAAAe7UQrbdqZz/7J2eFXfoIPwAAAAAAAAAAe7UQrbdqRz/7J2eFXfoIP/xdDSTGuzI/AAAAAAAAAAD8XQ0kxrsyPwAAAAAAAAAA+ydnhV36CD8AAAAAAAAAAPsnZ4Vd+ig/AAAAAAAAAAAAAAAAAAAAAPrxwOb0OC8/+ydnhV36CD/8QrrUEds1PwAAAAAAAAAA+ydnhV36CD/8XQ0kxrsiP/snZ4Vd+hg//F0NJMa7Ij/6DBQ2qRk8P/xCutQR2zU//F0NJMa7Mj/7J2eFXfoYP/snZ4Vd+hg//F0NJMa7Ij8AAAAAAAAAAAAAAAAAAAAA+vHA5vQ4Lz/7J2eFXfoYPwAAAAAAAAAAAAAAAAAAAAD68cDm9DgvPwAAAAAAAAAA+ydnhV36CD8AAAAAAAAAAPsnZ4Vd+hg/AAAAAAAAAAD7J2eFXfoYP/snZ4Vd+gg/AAAAAAAAAAAAAAAAAAAAAPsnZ4Vd+hg/AAAAAAAAAAAAAAAAAAAAAAAAAAAAAAAAAAAAAAAAAAD7J2eFXfooP/xdDSTGuzI/+ydnhV36CD/8QrrUEds1P/snZ4Vd+jg//F0NJMa7Ij/8XQ0kxrsyP/xdDSTGuyI/+vHA5vQ4Pz/7J2eFXfo4P/xdDSTGuzI/+ydnhV36OD8AAAAAAAAAAPsnZ4Vd+gg//EK61BHbNT/7J2eFXfoIP/xdDSTGuyI/+vHA5vQ4Lz/7J2eFXfoIPwAAAAAAAAAA+ydnhV36CD8AAAAAAAAAAAAAAAAAAAAA+ydnhV36GD/7J2eFXfoYP/snZ4Vd+jg//F0NJMa7Ij/7J2eFXfoYPwAAAAAAAAAA/F0NJMa7Ij8AAAAAAAAAAH3rtksgLEE//F0NJMa7Mj/7J2eFXfoYPwAAAAAAAAAAe5q9XQOKSj/8QrrUEds1P/xCutQR2zU//EK61BHbRT/8XQ0kxrtCPwAAAAAAAAAA+ydnhV36CD/8XQ0kxrsiPwAAAAAAAAAA+ydnhV36KD/68cDm9DgvPwAAAAAAAAAA/F0NJMa7Ij/7J2eFXfoIPwAAAAAAAAAAAAAAAAAAAAD8XQ0kxrsiPwAAAAAAAAAA3U6h1TbIYD9967ZLICxBP/snZ4Vd+gg/AAAAAAAAAAD8XQ0kxrtCP3uavV0Dilo//F0NJMa7Ij8AAAAAAAAAAAAAAAAAAAAA/F0NJMa7Ij8AAAAAAAAAAHuavV0Diko//F0NJMa7Ij/7J2eFXfoIPwAAAAAAAAAA+ydnhV36CD980GP8a0tEP1uLUQ90lmg/+ydnhV36GD8AAAAAAAAAAAAAAAAAAAAA/F0NJMa7Ij8AAAAAAAAAAHu1EK23akc/AAAAAAAAAAAAAAAAAAAAAPxCutQR2zU/AAAAAAAAAAAAAAAAAAAAAHzQY/xrS1Q//F0NJMa7Uj8AAAAAAAAAAPoMFDapGTw/en9qDk+pTT/7J2eFXfoYP/xdDSTGuyI/+ydnhV36GD/68cDm9DgvP/xdDSTGuzI//F0NJMa7Qj/8XQ0kxrsiP/snZ4Vd+hg/AAAAAAAAAAAAAAAAAAAAAAAAAAAAAAAAAAAAAAAAAAA6Rj8ifOFcP/xdDSTGuyI/+ydnhV36CD/8XQ0kxrsiP/xdDSTGuyI/AAAAAAAAAAAAAAAAAAAAAPsnZ4Vd+hg/AAAAAAAAAAAAAAAAAAAAAAAAAAAAAAAAAAAAAAAAAAAAAAAAAAAAAAAAAAAAAAAA+ydnhV36CD/7J2eFXfooP/snZ4Vd+gg/vCTiN/PzUT/7J2eFXfoYP/snZ4Vd+ig/AAAAAAAAAAD7J2eFXfoIPwAAAAAAAAAA+ydnhV36GD8AAAAAAAAAAFuLUQ90lmg/AAAAAAAAAAAAAAAAAAAAAAAAAAAAAAAAfNBj/GtLRD+8CY/oPhNVP/snZ4Vd+gg/AAAAAAAAAAD7J2eFXfoIP/snZ4Vd+ig/+ydnhV36CD8AAAAAAAAAAByIzMEJkGE/+ydnhV36GD8AAAAAAAAAAAAAAAAAAAAAfeu2SyAsQT8AAAAAAAAAAPxCutQR2zU/+ydnhV36KD/68cDm9DgvP/snZ4Vd+hg/+ydnhV36CD/68cDm9DgvP/rxwOb0OC8/+ydnhV36CD/7J2eFXfoIP/xdDSTGuzI//F0NJMa7Ij/8XQ0kxrsyPwAAAAAAAAAA+ydnhV36GD/68cDm9DhfPwAAAAAAAAAA+ydnhV36KD8AAAAAAAAAAPxdDSTGuyI//EK61BHbNT/8XQ0kxrsiP/snZ4Vd+kg//F0NJMa7Mj/7J2eFXfoIPwAAAAAAAAAAAAAAAAAAAAAAAAAAAAAAAPsnZ4Vd+jg/+vHA5vQ4Lz/68cDm9DhPP/xdDSTGuyI/+vHA5vQ4Lz/7J2eFXfooPwAAAAAAAAAAAAAAAAAAAAAAAAAAAAAAAHu1EK23akc/+ydnhV36GD8AAAAAAAAAAAAAAAAAAAAA/F0NJMa7Ij8PadPbNHeXP/snZ4Vd+ig/+ydnhV36OD8AAAAAAAAAAAAAAAAAAAAAAAAAAAAAAAD7J2eFXfoYPwAAAAAAAAAAAAAAAAAAAAD7J2eFXfpIP/xCutQR20U/AAAAAAAAAAAAAAAAAAAAAGxW13z+wYE/AAAAAAAAAAAAAAAAAAAAAAAAAAAAAAAAAAAAAAAAAAD7J2eFXfoYP/snZ4Vd+gg/+vHA5vQ4Lz/8XQ0kxrsiPwAAAAAAAAAAAAAAAAAAAAD8XQ0kxrsiPwAAAAAAAAAAAAAAAAAAAAD68cDm9Dg/PzLuJRMRvI4/+ydnhV36CD8AAAAAAAAAAPsnZ4Vd+hg/+ydnhV36GD/ec47QZnefPwAAAAAAAAAAAAAAAAAAAAD8XQ0kxrtCP/snZ4Vd+gg//F0NJMa7Qj/7J2eFXfoIP/xdDSTGuyI/+vHA5vQ4Lz/8XQ0kxrsiPwAAAAAAAAAA/F0NJMa7Ij/8XQ0kxrsiPwAAAAAAAAAA+ydnhV36CD/8XQ0kxrsiP/snZ4Vd+ig/AAAAAAAAAAD7J2eFXfoIPwAAAAAAAAAA+gwUNqkZPD/7J2eFXfoYP/snZ4Vd+hg//F0NJMa7Ij/6DBQ2qRk8P/snZ4Vd+hg/+ydnhV36CD/7J2eFXfoIPwAAAAAAAAAA/F0NJMa7Ij8AAAAAAAAAAPoMFDapGTw/+ydnhV36GD/8XQ0kxrsiP/snZ4Vd+gg/e7UQrbdqVz/8XQ0kxrsyP33rtksgLEE/+vHA5vQ4Lz/8XQ0kxrsiP/oMFDapGTw/+vHA5vQ4Lz/68cDm9Dg/P/snZ4Vd+jg/AAAAAAAAAAAAAAAAAAAAAAAAAAAAAAAA5HAURjkshT8AAAAAAAAAAAAAAAAAAAAAMgl5YsWcmz/7J2eFXfoIP/xCutQR2zU/u9PoSdZRiz8AAAAAAAAAAAAAAAAAAAAA+ydnhV36KD/8QrrUEds1P+uNuuD9qKA/JyAmG1lFmz8AAAAAAAAAAHbT3YaZlp4/+ydnhV36GD8AAAAAAAAAAPsnZ4Vd+gg/AAAAAAAAAADU9ofGy6KSP3u1EK23aoc/I4/s4lcTiT8AAAAAAAAAAPsnZ4Vd+gg/AAAAAAAAAABVhDHuJROBP5qO1lzenG8//F0NJMa7Ij+UvVza+NqBP50VduljAHA/Stse8Z1LjD8AAAAAAAAAAFuLUQ90lng//F0NJMa7Ij/7J2eFXfooP7vT6EnWUVs/+ydnhV36CD97mr1dA4pqP/snZ4Vd+hg/AAAAAAAAAAAAAAAAAAAAAAAAAAAAAAAAAAAAAAAAAACbxHz7Rl55PwAAAAAAAAAAO2GScTDCeT/8QrrUEds1P/snZ4Vd+hg/+ydnhV36CD8AAAAAAAAAAGsF3o7hH4s//F0NJMa7Ij8AAAAAAAAAAAAAAAAAAAAAAAAAAAAAAAAAAAAAAAAAAAAAAAAAAAAAAAAAAAAAAAAAAAAAAAAAAAAAAAAAAAAAAAAAAAAAAAD7J2eFXfoIP3zQY/xrS3Q/+ydnhV36KD8AAAAAAAAAAPxdDSTGuyI/+ydnhV36GD8AAAAAAAAAAAAAAAAAAAAAAAAAAAAAAADbGPs2zgaHP/xCutQR20U/AAAAAAAAAABsVtd8/sGBP/snZ4Vd+ig/+ydnhV36GD8AAAAAAAAAAPxdDSTGuyI/AAAAAAAAAAAAAAAAAAAAAAOAgJTIH4c/+ydnhV36OD/7J2eFXfoYPwAAAAAAAAAAxGGo96k4gz8AAAAAAAAAAH3rtksgLEE/+ydnhV36WD8AAAAAAAAAAAAAAAAAAAAAAAAAAAAAAABbi1EPdJaIP/snZ4Vd+ig/AAAAAAAAAAD7J2eFXfooPwAAAAAAAAAAAAAAAAAAAAAAAAAAAAAAAAAAAAAAAAAAAAAAAAAAAAD8XQ0kxrsiPwAAAAAAAAAAAAAAAAAAAAAAAAAAAAAAAAAAAAAAAAAAAAAAAAAAAAAAAAAAAAAAAAAAAAAAAAAAAAAAAAAAAAAAAAAAAAAAAAAAAAAAAAAAAAAAAAAAAAAAAAAAAAAAAAAAAAAAAAAAAAAAAAAAAAAAAAAAAAAAAAAAAAAAAAAAAAAAAAAAAAAAAAAAAAAAAAAAAAAAAAAAAAAAAAAAAAAAAAAAAAAAAAAAAAAAAAAAAAAAAAAAAAAAAAAAAAAAAAAAAAAAAAAAAAAAAAAAAAAAAAAAAAAAAAAAAAAAAAAAAAAAAAAAAAAAAAAAAAAAAAAAAAAAAAAAAAAAAAAAAAAAAAAAAAAAAAAAAAAAAAAAAAAAAAAAAAAAAAAAAAAAAAAAAAAAAAAAAAAAAAAAAAAAAAAAAAAAAAAAAAAAAAAAAAAAAAAAAAAAAAAAAAAAAAAAAAAAAAAA+ydnhV36CD8AAAAAAAAAAPxdDSTGuyI/AAAAAAAAAAAAAAAAAAAAAAAAAAAAAAAAAAAAAAAAAAAAAAAAAAAAAAAAAAAAAAAAAAAAAAAAAAAAAAAAAAAAAAAAAAAAAAAAAAAAAAAAAAAAAAAAAAAAAAAAAAAAAAAAAAAAAAAAAAAAAAAAAAAAAAAAAAAAAAAAAAAAAAAAAAAAAAAAAAAAAAAAAAAAAAAAAAAAAAAAAAAAAAAAAAAAAAAAAAAAAAAAAAAAAAAAAAAAAAAAAAAAAAAAAAAAAAAAAAAAAAAAAAAAAAAAAAAAAAAAAAAAAAAAAAAAAAAAAAAAAAAAAAAAAPsnZ4Vd+gg/AAAAAAAAAAAAAAAAAAAAAAAAAAAAAAAA+ydnhV36CD8AAAAAAAAAAAAAAAAAAAAAAAAAAAAAAAAAAAAAAAAAAAAAAAAAAAAAAAAAAAAAAAAAAAAAAAAAAAAAAAAAAAAAAAAAAAAAAAAAAAAAAAAAAPrxwOb0OC8/+ydnhV36CD8AAAAAAAAAAAAAAAAAAAAAAAAAAAAAAAAAAAAAAAAAAAAAAAAAAAAAAAAAAAAAAAAAAAAAAAAAAAAAAAAAAAAAAAAAAAAAAAAAAAAAAAAAAAAAAAAAAAAAAAAAAAAAAAAAAAAAAAAAAAAAAAAAAAAA/F0NJMa7Ij8AAAAAAAAAAAAAAAAAAAAAAAAAAAAAAAAAAAAAAAAAAAAAAAAAAAAAAAAAAAAAAAAAAAAAAAAAAAAAAAAAAAAAAAAAAAAAAAAAAAAAAAAAAAAAAAAAAAAAAAAAAAAAAAAAAAAAAAAAAAAAAAAAAAAAe5q9XQOKWj+ajtZc3pyPP7vuO5mKMlg//EK61BHbVT86Rj8ifOFcP33rtksgLFE/+vHA5vQ4Lz+bxHz7Rl5pPxs309Ps7Wo/AAAAAAAAAAA7fOXA5KJWP7vuO5mKMlg/en9qDk+pTT/6DBQ2qRlMP/snZ4Vd+ig/+gwUNqkZTD/6DBQ2qRk8P/snZ4Vd+kg//EK61BHbNT/6DBQ2qRlMPzpGPyJ84Vw/e7UQrbdqVz97tRCtt2pHP91OodU2yGA/vAmP6D4TVT/cM06GgudjP/xdDSTGu1I/vCTiN/PzYT87fOXA5KJWP3p/ag5PqU0/e7UQrbdqRz/8XQ0kxrsiP/snZ4Vd+jg/+vHA5vQ4Lz/68cDm9DgvP/snZ4Vd+lg//F0NJMa7Qj/6DBQ2qRk8P/rxwOb0OC8/feu2SyAsQT/6DBQ2qRk8P3u1EK23akc/fNBj/GtLRD9967ZLICxBP3uavV0Diko//F0NJMa7Ij97mr1dA4pKP7vuO5mKMlg/e7UQrbdqRz/6DBQ2qRlMP/rxwOb0OE8/+ydnhV36SD/6DBQ2qRlMP/xdDSTGuzI/m8R8+0ZeaT/68cDm9DgvP/oMFDapGTw//F0NJMa7Qj/O9DR7uwakPwAAAAAAAAAAAAAAAAAAAAAAAAAAAAAAAOuSh7Y7kJk/ppJ88/7UnD8AAAAAAAAAAAAAAAAAAAAAAAAAAAAAAAD7J2eFXfoYP6aNrx3B7aM/AAAAAAAAAAB7mr1dA4qKP4GXQ9PVPpA/AAAAAAAAAADSpY7YrgCcP9wzToaC55M/+vHA5vQ4Pz9zXfedTEWZPwAAAAAAAAAAJKo/Mgz0lT8ciMzBCZCRP6CmryFlMqI/+ydnhV36KD/7J2eFXfooP7wJj+g+E5U/7eOApFgykD/7J2eFXfoYP1pw/r+/tZs/+ydnhV36GD/b/afnGSZ6P/xdDSTGuyI/XKakXih3lT/7J2eFXfooPxjcPzpUfaI/fNBj/GtLlD/7J2eFXfoIP/snZ4Vd+gg/AAAAAAAAAAAf/rKqVuGmPwAAAAAAAAAAAAAAAAAAAAAAAAAAAAAAAAAAAAAAAAAAAAAAAAAAAAD7J2eFXfoIPwAAAAAAAAAAAAAAAAAAAAAAAAAAAAAAAAAAAAAAAAAAAAAAAAAAAAAAAAAAAAAAAAAAAAAAAAAAAAAAAAAAAAAAAAAAAAAAAAAAAAAAAAAAAAAAAAAAAAAAAAAAAAAAAAAAAAAAAAAAAAAAAAAAAAAAAAAAAAAAAAAAAAAAAAAAAAAAAAAAAAAAAAAAAAAAAAAAAAAAAAAAAAAAAAAAAAAAAAAAAAAAAAAAAAAAAAAAAAAAAAAAAAAAAAAAAAAAAAAAAAAAAAAAAAAAAAAAAAAAAAAAAAAAAAAAAAAAAAAAAAAAAAAAAAAAAAAAAAAAAAAAAAAAAAAAAAAAAAAAAAAAAAAAAAAAAAAAAAAAAAAAAAAAAAAAAAAAAAAAAAAAAAAAAAAAAAAAAAAAAAAAAAAAAAAAAAAAAAAAAAAAAAAAAAAAAAAAAAAAAAAAAAAAAAAAAAAAAAAAAAAAAAAAAAAAAAAAAAAAAAAAAAAAAAAAAAAAAAAAAAAAAAAAAAAAAAAAAAAAAAAAAAAAAAAAAAAAAAAAAAAAAAAAAAAAAAAAAAAAAAAAAAAAAAAAAAAAAAAAAAAAAAAAAAAAAAAAAAAAAAAAAAAAAAAAAAAAAAAAAAAAAAAAAAAAAAAAAAAAAAAAAAAAAAAAAAAAAAAAAAAAAAAAAAAAAAAAAAAAAAAAAAAAAAAAAAAAAAAAAAAAAAAAAAAAAAAAAAAAAAAAAAAAAAAAAAAAAAAAAAAAAAAAAAAAAAAAAAAAAAAAAAAAAAAAAAAAAAAAAAAAAAAAAAAAAAAAAAAAAAAAAAAAAAAAAAAAAAAAAAD7J2eFXfoIPwAAAAAAAAAAAAAAAAAAAAAAAAAAAAAAAAAAAAAAAAAAAAAAAAAAAAAAAAAAAAAAAAAAAAAAAAAAAAAAAAAAAAAAAAAAAAAAAAAAAAAAAAAAAAAAAAAAAAAAAAAAAAAAAAAAAAAAAAAAAAAAAAAAAAAAAAAAAAAAAAAAAAAAAAAAAAAAAAAAAAAAAAAAAAAAAAAAAAAAAAAAAAAAAAAAAAAAAAAAAAAAAAAAAAAAAAAAAAAAAAAAAAAAAAAAAAAAAAAAAAAAAAAAAAAAAAAAAAAAAAAAAAAAAAAAAAAAAAAAAAAAAAAAAAAAAAAAAAAAAAAAAAAAAAAAAAAAAAAAAAAAAAAAAAAAAAAAAAAAAAAAAAAAAAAAAAAAAAAAAAAAAAAAAAAAAAAAAAAAAAAAAAAAAAAAAAAAAAAAAAAAAAAAAAAAAAAAAAAAAAAAAAAAAAAAAAAAAAAAAAAAAAAAAAAAAAAAAAAAAAAAAAAAAAAAbFbXfP7BcT8AAAAAAAAAAJqpKaySfWw/AAAAAAAAAAAAAAAAAAAAAAAAAAAAAAAAAAAAAAAAAAAAAAAAAAAAAAAAAAAAAAAAAAAAAAAAAAAAAAAAAAAAAAAAAAAAAAAAAAAAAAAAAAAAAAAAAAAAAPsnZ4Vd+gg/AAAAAAAAAAAAAAAAAAAAAAAAAAAAAAAAAAAAAAAAAAAAAAAAAAAAAAAAAAAAAAAAAAAAAAAAAAAAAAAAAAAAAAAAAAAAAAAAAAAAAAAAAAAAAAAAAAAAAAAAAAAAAAAAAAAAAAAAAAAAAAAAAAAAAAAAAAAAAAAAAAAAAAAAAAAAAAAAAAAAAAAAAAAAAAAAAAAAAAAAAAAAAAAAAAAAAAAAAAAAAAAAAAAAAAAAAAAAAAAAAAAAAAAAAAAAAAAAAAAAAAAAAAAAAAAAAAAAAAAAAAAAAAAAAAAAAAAAAAAAAAAAAAAAAAAAAAAAAAAAAAAAAAAAAAAAAAAAAAAAAPsnZ4Vd+gg/AAAAAAAAAAAAAAAAAAAAAAAAAAAAAAAAAAAAAAAAAAAAAAAAAAAAAAAAAAAAAAAAAAAAAAAAAAAAAAAAAAAAAAAAAAAAAAAAAAAAAAAAAAAAAAAAAAAAAAAAAAAAAAAAAAAAAAAAAAAAAAAAAAAAAAAAAAAAAAAA+ydnhV36CD8AAAAAAAAAAAAAAAAAAAAAAAAAAAAAAAAAAAAAAAAAAAAAAAAAAAAAAAAAAAAAAAAAAAAAAAAAAAAAAAAAAAAAAAAAAAAAAAAAAAAAAAAAAAAAAAAAAAAAAAAAAAAAAAAAAAAAAAAAAAAAAAAAAAAAAAAAAAAAAAAAAAAAAAAAAAAAAAAAAAAAAAAAAAAAAAAAAAAAAAAAAAAAAAAAAAAAAAAAAAAAAAAAAAAAAAAAAAAAAAAAAAAAAAAAAAAAAAAAAAAAAAAAAAAAAAAAAAAAAAAAAAAAAAAAAAAAAAAAAAAAAAAAAAAAAAAAAAAAAAAAAAAAAAAAAAAAAAAAAAAAAAAAAAAAAAAAAAAAAAAAAAAAAAAAAAAAAAAAAAAAAAAAAAAAAAAAAAAAAAAAAAAAAAAAAAAAAAAAAAAAAAAAAAAAAAAAAAAAAAAAAAAAAAAAAAAAAAAAAAAAAAAAAAAAbFbXfP7BcT8AAAAAAAAAAAAAAAAAAAAAAAAAAAAAAAAAAAAAAAAAAAAAAAAAAAAAAAAAAAAAAAAAAAAAAAAAAAAAAAAAAAAAAAAAAAAAAAAAAAAAAAAAAAAAAAAAAAAAAAAAAAAAAAAAAAAAAAAAAAAAAAAAAAAA+ydnhV36CD8AAAAAAAAAAAAAAAAAAAAAAAAAAAAAAAC6uJX6IXFeP7q4lfohcV4/AAAAAAAAAAAAAAAAAAAAAAAAAAAAAAAAe5q9XQOKej8AAAAAAAAAALOxddnT7YY/AAAAAAAAAAAAAAAAAAAAAAAAAAAAAAAAAAAAAAAAAAAAAAAAAAAAAAAAAAAAAAAAAAAAAAAAAAAAAAAAAAAAADyXOBCZg4M/AAAAAAAAAAAAAAAAAAAAAM25wQYVXnE/AAAAAAAAAAAAAAAAAAAAAAqHoLUWo34/AAAAAAAAAAD7J2eFXfoIP50VduljAIA/AAAAAAAAAAAAAAAAAAAAAAAAAAAAAAAAHIjMwQmQcT8AAAAAAAAAAAAAAAAAAAAAAAAAAAAAAABrIDHelQB4PwAAAAAAAAAAAAAAAAAAAACTh7Y7kBmIPwAAAAAAAAAAAAAAAAAAAAAAAAAAAAAAAAAAAAAAAAAAAAAAAAAAAAAAAAAAAAAAAEv2cUBSLHk/+ydnhV36CD8AAAAAAAAAAPsnZ4Vd+gg//F0NJMa7cj/7J2eFXfoIPzt85cDkonY/+ydnhV36CD/7J2eFXfoIP/snZ4Vd+gg/+ydnhV36GD/7J2eFXfoIP/snZ4Vd+gg/AAAAAAAAAAD7J2eFXfoIP2PIF88q24k/AAAAAAAAAAD68cDm9DgvPwAAAAAAAAAA+ydnhV36CD8AAAAAAAAAAAAAAAAAAAAAAAAAAAAAAAAAAAAAAAAAAAAAAAAAAAAAAAAAAAAAAAAAAAAAAAAAAAAAAAAAAAAAAAAAAAAAAAAAAAAAAAAAAAAAAAAAAAAAAAAAAAAAAAAAAAAAAAAAAAAAAAAAAAAAAAAAAAAAAAAAAAAAAAAAAAAAAAAAAAAAAAAAAAAAAAAAAAAAAAAAAAAAAAAAAAAAAAAAAAAAAAAAAAAAAAAAAAAAAAAAAAAAAAAAAAAAAAAAAAAAAAAAAAAAAAAAAAAAAAAAAAAAAAAAAAAAAAAAAAAAAAAAAAAAAAAAAAAAAAAAAAAAAAAAAAAAAAAAAAAAAAAAAAAAAAAAAAAAAAAAAAAAAAAAAAAAAAAAAAAAAAAAAAAAAAAAAAAAAAAAAAAAAAAAAAAAAAAAAAAAAAAAAAAAAAAAAAAAAAAAAAAAAAAAAAAAAAAAAAAAAAAAAAAAAAAAAAAAAAAAAAAAAAAAAAAAAAAAAAAAAAAAAAAAAAD7J2eFXfoIP/snZ4Vd+gg/AAAAAAAAAAAAAAAAAAAAAAAAAAAAAAAAAAAAAAAAAAAAAAAAAAAAAAAAAAAAAAAAAAAAAAAAAAAAAAAAAAAAAAAAAAAAAAAAAAAAAAAAAAAAAAAAAAAAAAAAAAAAAAAAAAAAAAAAAAAAAAAAAAAAAAAAAAAAAAAAAAAAAAAAAAAAAAAAAAAAAAAAAAAAAAAAAAAAAAAAAAAAAAAAAAAAAAAAAAAAAAAAAAAAAAAAAAAAAAAAAAAAAAAAAAAAAAAAAAAAAAAAAAAAAAAAAAAAAAAAAAAAAAAAAAAAAAAAAAAAAAAAAAAAAAAAAAAAAAAAAAAAAAAAAAAAAAAAAAAAAAAAAAAAAAAAAAAAAAAAAAAAAAAAAAAAAAAAAAAAAAAAAAAAAAAAAAAAAAAAAAAAAAAAAAAAAAAAAAAAAAAAAAA9sotfTWSAPwAAAAAAAAAAAAAAAAAAAADFfPtGXhmQPwAAAAAAAAAAAAAAAAAAAAB/RkrluJyZPwAAAAAAAAAAAAAAAAAAAAAAAAAAAAAAAD2yi19NZJA/AAAAAAAAAAAAAAAAAAAAAAAAAAAAAAAAAAAAAAAAAAD7J2eFXfoIP/snZ4Vd+gg/65KHtjuQeT/cM06GgueDPwAAAAAAAAAAAAAAAAAAAAAAAAAAAAAAAAAAAAAAAAAA+ydnhV36CD8AAAAAAAAAAAAAAAAAAAAAAAAAAAAAAAAAAAAAAAAAAAAAAAAAAAAAAAAAAAAAAAAAAAAAAAAAADIJeWLFnIs/+ydnhV36CD8AAAAAAAAAAAAAAAAAAAAAhA0qvCKQlT8AAAAAAAAAAPsnZ4Vd+gg/AAAAAAAAAAAAAAAAAAAAACvnBfLCOHc/PJc4EJmDYz9967ZLICxBPwAAAAAAAAAA+vHA5vQ4Lz/8XQ0kxrsiP/xdDSTGuyI/vAmP6D4TVT8AAAAAAAAAAAAAAAAAAAAAAAAAAAAAAAD7J2eFXfoIP/snZ4Vd+hg/AAAAAAAAAAD8XQ0kxrsyP/rxwOb0OC8/feu2SyAsQT/7J2eFXfoIP/snZ4Vd+gg/+vHA5vQ4Lz/7J2eFXfoIPwAAAAAAAAAA+ydnhV36CD/7J2eFXfoIP/snZ4Vd+gg//F0NJMa7Ij/7J2eFXfoYPwAAAAAAAAAA+vHA5vQ4Pz+bxHz7Rl55P/xdDSTGu2I/e5q9XQOKWj+LSvB72dR2P/snZ4Vd+gg/AAAAAAAAAAD7J2eFXfoIP/xdDSTGuyI/+ydnhV36GD/7J2eFXfoIPwAAAAAAAAAAAAAAAAAAAAB967ZLICxRP3p/ag5PqU0//F0NJMa7Mj/7J2eFXfoIP/xCutQR2zU/AAAAAAAAAAAAAAAAAAAAAPsnZ4Vd+gg/AAAAAAAAAAD7J2eFXfoIP/xCutQR20U/O3zlwOSiVj/8XQ0kxrtCP/rxwOb0OE8/fNBj/GtLRD/b/afnGSZqP/xCutQR22U/u9PoSdZRWz89sotfTWRgP33rtksgLEE/nRV26WMAcD+8JOI38/NhP5zfz0r7PmY/fNBj/GtLVD/8XQ0kxrtSP7wJj+g+E2U/fNBj/GtLVD/8QrrUEdtVP1ympF4od2U/fNBj/GtLVD/7J2eFXfpYP/rxwOb0OE8/+vHA5vQ4Pz97mr1dA4pKP3u1EK23alc/e5q9XQOKSj/8XQ0kxrsyP/snZ4Vd+ig/AAAAAAAAAAD6DBQ2qRlMP/snZ4Vd+hg/+ydnhV36GD/68cDm9DhPP/xCutQR20U/AAAAAAAAAAAAAAAAAAAAAKVSPKkaRYE/+ydnhV36KD8AAAAAAAAAAPsnZ4Vd+gg/AAAAAAAAAAAAAAAAAAAAAAAAAAAAAAAAAAAAAAAAAAAAAAAAAAAAAAAAAAAAAAAAAAAAAAAAAAD7J2eFXfoIP/snZ4Vd+gg/AAAAAAAAAACwO4/whpyRP/xdDSTGuyI/AAAAAAAAAAAAAAAAAAAAAAAAAAAAAAAAAAAAAAAAAAAAAAAAAAAAAAAAAAAAAAAAAAAAAAAAAAAAAAAAAAAAAPsnZ4Vd+hg/AAAAAAAAAAD7J2eFXfoIPwAAAAAAAAAAAAAAAAAAAAD7J2eFXfoIPwAAAAAAAAAAAAAAAAAAAAD7J2eFXfoIPwAAAAAAAAAAAAAAAAAAAAAAAAAAAAAAAPsnZ4Vd+hg/AAAAAAAAAAAAAAAAAAAAAPsnZ4Vd+hg/AAAAAAAAAAAAAAAAAAAAAAAAAAAAAAAAAAAAAAAAAAD7J2eFXfoIPwAAAAAAAAAAAAAAAAAAAAAAAAAAAAAAAAAAAAAAAAAAAAAAAAAAAAA9sotfTWRwPwAAAAAAAAAAAAAAAAAAAAD7J2eFXfoIPwAAAAAAAAAAAAAAAAAAAAAAAAAAAAAAAPsnZ4Vd+gg/AAAAAAAAAAAAAAAAAAAAAAAAAAAAAAAAAAAAAAAAAAAAAAAAAAAAAAAAAAAAAAAAAAAAAAAAAAAAAAAAAAAAAAAAAAAAAAAAAAAAAAAAAAAAAAAAAAAAAAAAAAAAAAAA+ydnhV36CD/7J2eFXfoYPwAAAAAAAAAAAAAAAAAAAAAAAAAAAAAAAAAAAAAAAAAAAAAAAAAAAAAAAAAAAAAAAAAAAAAAAAAAAAAAAAAAAAAAAAAAAAAAAPsnZ4Vd+gg/AAAAAAAAAAAAAAAAAAAAAAAAAAAAAAAAAAAAAAAAAAD7J2eFXfoIP/xdDSTGuyI/AAAAAAAAAAAAAAAAAAAAAAAAAAAAAAAAAAAAAAAAAAD7J2eFXfoIP/snZ4Vd+gg/AAAAAAAAAAAAAAAAAAAAAAAAAAAAAAAA+ydnhV36CD8AAAAAAAAAAPxdDSTGuyI/AAAAAAAAAAAAAAAAAAAAAPrxwOb0OF8/+ydnhV36GD/7J2eFXfoYPwAAAAAAAAAA+ydnhV36GD/7J2eFXfoIPwAAAAAAAAAAAAAAAAAAAAAAAAAAAAAAAPsnZ4Vd+hg/AAAAAAAAAAD7J2eFXfoIPwAAAAAAAAAA+ydnhV36CD8AAAAAAAAAAKQ36VlmZIQ/AAAAAAAAAAAAAAAAAAAAAPsnZ4Vd+gg/AAAAAAAAAAAAAAAAAAAAAAAAAAAAAAAAAAAAAAAAAAD7J2eFXfoIPwAAAAAAAAAA+ydnhV36GD8AAAAAAAAAAAAAAAAAAAAA+ydnhV36CD8AAAAAAAAAAAAAAAAAAAAAAAAAAAAAAAAAAAAAAAAAAAAAAAAAAAAA+ydnhV36CD8AAAAAAAAAAAAAAAAAAAAA+ydnhV36CD8AAAAAAAAAAPsnZ4Vd+gg/AAAAAAAAAAD7J2eFXfoYP/snZ4Vd+gg/AAAAAAAAAAAAAAAAAAAAAAAAAAAAAAAA+ydnhV36CD/7J2eFXfoIPwAAAAAAAAAAAAAAAAAAAAD7J2eFXfoIPwAAAAAAAAAAAAAAAAAAAAAAAAAAAAAAAAAAAAAAAAAA+ydnhV36CD8AAAAAAAAAAAAAAAAAAAAAAAAAAAAAAAAAAAAAAAAAAAAAAAAAAAAAAAAAAAAAAAAAAAAAAAAAAAAAAAAAAAAA+ydnhV36CD/7J2eFXfoIPwAAAAAAAAAAAAAAAAAAAAAAAAAAAAAAAAAAAAAAAAAA+ydnhV36CD8AAAAAAAAAAAAAAAAAAAAAAAAAAAAAAAAAAAAAAAAAAAAAAAAAAAAAAAAAAAAAAAAAAAAAAAAAAAAAAAAAAAAAAAAAAAAAAAAAAAAAAAAAAAAAAAAAAAAAAAAAAAAAAAAAAAAAAAAAAPsnZ4Vd+gg/AAAAAAAAAAAAAAAAAAAAAPsnZ4Vd+gg/AAAAAAAAAAAAAAAAAAAAAAAAAAAAAAAAAAAAAAAAAAAAAAAAAAAAAAAAAAAAAAAAAAAAAAAAAABYFWsmJ0WTPwAAAAAAAAAAAAAAAAAAAAD7J2eFXfoYPwAAAAAAAAAAAAAAAAAAAAAAAAAAAAAAAAAAAAAAAAAAAAAAAAAAAAD7J2eFXfoIPwAAAAAAAAAA+ydnhV36CD/8XQ0kxrsiP/snZ4Vd+gg/AAAAAAAAAAD7J2eFXfoIPwAAAAAAAAAAAAAAAAAAAAD7J2eFXfoIPwAAAAAAAAAAAAAAAAAAAAAAAAAAAAAAAAAAAAAAAAAA+ydnhV36CD/7J2eFXfoIPwAAAAAAAAAA+ydnhV36CD8AAAAAAAAAAAAAAAAAAAAA+ydnhV36GD8AAAAAAAAAAJS9XNr42pE/AAAAAAAAAAAAAAAAAAAAAAAAAAAAAAAAAAAAAAAAAAD7J2eFXfoYPwAAAAAAAAAAAAAAAAAAAAAAAAAAAAAAAAAAAAAAAAAAAAAAAAAAAAAAAAAAAAAAAAAAAAAAAAAAAAAAAAAAAAAAAAAAAAAAAAAAAAAAAAAAAAAAAAAAAAAAAAAAAAAAAAAAAAAAAAAAAAAAAAAAAAD7J2eFXfoYPwAAAAAAAAAAAAAAAAAAAAD7J2eFXfoIPwAAAAAAAAAAAAAAAAAAAAAAAAAAAAAAAAAAAAAAAAAAAAAAAAAAAAD7J2eFXfoIPwAAAAAAAAAAAAAAAAAAAAD7J2eFXfoIPwAAAAAAAAAAAAAAAAAAAAAAAAAAAAAAAPsnZ4Vd+gg/+ydnhV36CD8AAAAAAAAAAPsnZ4Vd+gg/AAAAAAAAAAAAAAAAAAAAAPsnZ4Vd+hg/+ydnhV36CD8AAAAAAAAAAPsnZ4Vd+hg/AAAAAAAAAAAAAAAAAAAAAAAAAAAAAAAAAAAAAAAAAAAAAAAAAAAAAPsnZ4Vd+gg/+ydnhV36CD/7J2eFXfoYPwAAAAAAAAAAAAAAAAAAAAAAAAAAAAAAAAAAAAAAAAAA+ydnhV36GD8AAAAAAAAAAPsnZ4Vd+hg/AAAAAAAAAAAAAAAAAAAAAAAAAAAAAAAAAAAAAAAAAAD7J2eFXfoYPwAAAAAAAAAAAAAAAAAAAAAAAAAAAAAAAAAAAAAAAAAAAAAAAAAAAAAAAAAAAAAAAAAAAAAAAAAAAAAAAAAAAAAAAAAAAAAAAAAAAAAAAAAAAAAAAAAAAAAAAAAAAAAAAPsnZ4Vd+hg/+ydnhV36CD8AAAAAAAAAAAAAAAAAAAAAAAAAAAAAAAAAAAAAAAAAAAAAAAAAAAAAAAAAAAAAAAAAAAAAAAAAAAAAAAAAAAAA+ydnhV36CD8AAAAAAAAAAAAAAAAAAAAAAAAAAAAAAAAAAAAAAAAAAAAAAAAAAAAAAAAAAAAAAAAAAAAAAAAAAAAAAAAAAAAA/F0NJMa7Mj/7J2eFXfoIPwAAAAAAAAAAAAAAAAAAAAAAAAAAAAAAAAAAAAAAAAAAv3910Ytkmj8AAAAAAAAAAPsnZ4Vd+gg/+ydnhV36CD8AAAAAAAAAAPsnZ4Vd+gg/AAAAAAAAAAAAAAAAAAAAAAAAAAAAAAAAAAAAAAAAAAAAAAAAAAAAAAAAAAAAAAAAAAAAAAAAAAAAAAAAAAAAAPsnZ4Vd+gg/+vHA5vQ4Lz8AAAAAAAAAAAAAAAAAAAAAAAAAAAAAAAAAAAAAAAAAAAAAAAAAAAAAAAAAAAAAAAAAAAAAAAAAAAAAAAAAAAAAAAAAAAAAAABDnlgx5waLP3u1EK23anc/AAAAAAAAAAAAAAAAAAAAADyXOBCZg5M/PbKLX01kYD/TwOEnY+GIPwAAAAAAAAAAAAAAAAAAAAB/YZ00bX2WP/xdDSTGuyI/AAAAAAAAAAAAAAAAAAAAAHp/ag5PqW0/AAAAAAAAAABlGRG9R32QPwAAAAAAAAAAAAAAAAAAAAD7J2eFXfoIP9wzToaC53M/+ydnhV36CD8AAAAAAAAAAAAAAAAAAAAApVI8qRpFkT/iHxtYHIqOPwAAAAAAAAAAAAAAAAAAAABE71EfBKmRPwAAAAAAAAAAAAAAAAAAAAAbN9PT7O2KPwAAAAAAAAAAAAAAAAAAAAD7J2eFXfoIP/snZ4Vd+gg/AAAAAAAAAAAAAAAAAAAAAFDYpGZwAJI/+ydnhV36CD/7J2eFXfoIP/snZ4Vd+gg/AAAAAAAAAAD7J2eFXfoIP9KljtiuAIw/AAAAAAAAAABMLBjfuu2CP2w7hC1K4XQ/AAAAAAAAAAAAAAAAAAAAAAAAAAAAAAAAAAAAAAAAAACQEdBSQ8iSPwAAAAAAAAAAlL1c2vjagT/7J2eFXfoYPwAAAAAAAAAA+ydnhV36CD8AAAAAAAAAAAAAAAAAAAAAAAAAAAAAAABsVtd8/sGBPwAAAAAAAAAA+ydnhV36GD8AAAAAAAAAAAAAAAAAAAAA+ydnhV36CD+dFXbpYwCQPwAAAAAAAAAAAAAAAAAAAACrWVzKaMiIPwAAAAAAAAAAAAAAAAAAAAAAAAAAAAAAAAW2JjMx4ZA/AAAAAAAAAACTh7Y7kBmIPwAAAAAAAAAA+ydnhV36CD/7J2eFXfoIPwAAAAAAAAAAAAAAAAAAAAD7J2eFXfoIP3p/ag5PqY0/9SBHZA93kT/7J2eFXfoIPwAAAAAAAAAA0oo7ifofjz8AAAAAAAAAALJ7zzprLI0/AAAAAAAAAACi5u9rScKNPwAAAAAAAAAAAAAAAAAAAAD7J2eFXfoYPwAAAAAAAAAAAAAAAAAAAAAAAAAAAAAAAAAAAAAAAAAAAAAAAAAAAADt44CkWDKQPwAAAAAAAAAAAAAAAAAAAADytPomPvSNP6n+yDDQV5A/AAAAAAAAAAAAAAAAAAAAAJqO1lzenI8/AAAAAAAAAAAAAAAAAAAAAAAAAAAAAAAAEt+5xIHIjD/7J2eFXfoIP+M6bqfQaos/AAAAAAAAAAAAAAAAAAAAAAAAAAAAAAAAAAAAAAAAAAALvUZUf2SIPwAAAAAAAAAAAAAAAAAAAAAAAAAAAAAAAAAAAAAAAAAAAAAAAAAAAACEDSq8IpCVPwAAAAAAAAAAAAAAAAAAAAAAAAAAAAAAAAAAAAAAAAAAE/oMFDapiT9acP6/v7V7P/snZ4Vd+gg/+ydnhV36CD8AAAAAAAAAAPsnZ4Vd+ig/AAAAAAAAAAAAAAAAAAAAAAW2JjMx4ZA/AAAAAAAAAAB3CYQlAliYP3InUf/jg48/AAAAAAAAAAD7J2eFXfoIPwAAAAAAAAAAAAAAAAAAAAAAAAAAAAAAAPsnZ4Vd+gg/+ydnhV36CD/7J2eFXfoIP/snZ4Vd+gg/+ydnhV36CD/7J2eFXfoIPwAAAAAAAAAAAAAAAAAAAAAAAAAAAAAAAAAAAAAAAAAA+ydnhV36CD8AAAAAAAAAAAAAAAAAAAAA+ydnhV36CD8AAAAAAAAAAAAAAAAAAAAAAAAAAAAAAACajtZc3pyPPwAAAAAAAAAA7eOApFgycD8AAAAAAAAAAAAAAAAAAAAAAAAAAAAAAAD7J2eFXfoIPwAAAAAAAAAA+ydnhV36CD/8XQ0kxrtiPwAAAAAAAAAAAAAAAAAAAAAAAAAAAAAAAAAAAAAAAAAA+vHA5vQ4Lz8AAAAAAAAAAAAAAAAAAAAA+ydnhV36CD8AAAAAAAAAAPsnZ4Vd+gg/AAAAAAAAAAD8XQ0kxrsiPwAAAAAAAAAAAAAAAAAAAAD7J2eFXfoYPwAAAAAAAAAA+ydnhV36CD8AAAAAAAAAAAAAAAAAAAAAAAAAAAAAAAAAAAAAAAAAAAAAAAAAAAAAAAAAAAAAAAAAAAAAAAAAAAAAAAAAAAAA+ydnhV36GD8AAAAAAAAAAAAAAAAAAAAAAAAAAAAAAAD8XQ0kxrsiPwAAAAAAAAAAOkY/InzhnD/7J2eFXfoIPwAAAAAAAAAAAAAAAAAAAAD8XQ0kxrsiPwAAAAAAAAAAWlWrcAvVbj8AAAAAAAAAAM25wQYVXpE/uriV+iFxXj/C9Vu62LWPP/snZ4Vd+ig/+ydnhV36CD8AAAAAAAAAAAAAAAAAAAAAAAAAAAAAAAAAAAAAAAAAABaLRkw325s/PJc4EJmDcz8AAAAAAAAAAD2yi19NZIA/8rT6Jj70jT/7J2eFXfoIP/oMFDapGTw/AAAAAAAAAACdFXbpYwCQPwAAAAAAAAAAAAAAAAAAAAD7J2eFXfoIP5SiCYtE+oQ/AAAAAAAAAAD8QrrUEds1P/snZ4Vd+gg/AAAAAAAAAAAAAAAAAAAAAAAAAAAAAAAA+ydnhV36KD8AAAAAAAAAAAAAAAAAAAAAAAAAAAAAAAD7J2eFXfoIPwAAAAAAAAAAAAAAAAAAAAAAAAAAAAAAAAAAAAAAAAAAAAAAAAAAAAAAAAAAAAAAAPsnZ4Vd+gg/AAAAAAAAAAAAAAAAAAAAAPsnZ4Vd+gg/AAAAAAAAAAAAAAAAAAAAAAAAAAAAAAAA+ydnhV36GD/7J2eFXfoIP/snZ4Vd+ig/+ydnhV36OD8AAAAAAAAAAPsnZ4Vd+hg/+ydnhV36GD8AAAAAAAAAAAAAAAAAAAAA+ydnhV36CD/7J2eFXfoIPwAAAAAAAAAAAAAAAAAAAAAAAAAAAAAAAPsnZ4Vd+gg/+ydnhV36CD/8XQ0kxrsiPwAAAAAAAAAAAAAAAAAAAAD7J2eFXfoIPwAAAAAAAAAAAAAAAAAAAAAAAAAAAAAAAAAAAAAAAAAAAAAAAAAAAAAAAAAAAAAAAAAAAAAAAAAAAAAAAAAAAAD7J2eFXfoIPwAAAAAAAAAAAAAAAAAAAAAAAAAAAAAAAAAAAAAAAAAAAAAAAAAAAAAAAAAAAAAAAAAAAAAAAAAAAAAAAAAAAAAAAAAAAAAAAPsnZ4Vd+gg/AAAAAAAAAAD7J2eFXfoYPwAAAAAAAAAA+ydnhV36CD/7J2eFXfoYPwAAAAAAAAAAAAAAAAAAAAD8XQ0kxrsiPwAAAAAAAAAA+ydnhV36GD8AAAAAAAAAAAAAAAAAAAAAAAAAAAAAAAAAAAAAAAAAAAAAAAAAAAAAAAAAAAAAAAAAAAAAAAAAAAAAAAAAAAAAAAAAAAAAAAD7J2eFXfoYP/snZ4Vd+hg/AAAAAAAAAAD7J2eFXfoYPwAAAAAAAAAAAAAAAAAAAAAAAAAAAAAAAAAAAAAAAAAAAAAAAAAAAAD8XQ0kxrsiP/snZ4Vd+gg/AAAAAAAAAAD7J2eFXfoIPwAAAAAAAAAAAAAAAAAAAAAAAAAAAAAAAAAAAAAAAAAA+ydnhV36CD8AAAAAAAAAAAAAAAAAAAAAAAAAAAAAAAAAAAAAAAAAAAAAAAAAAAAA+ydnhV36CD8AAAAAAAAAAAAAAAAAAAAAAAAAAAAAAAAAAAAAAAAAAAAAAAAAAAAAAAAAAAAAAAAAAAAAAAAAAAAAAAAAAAAAAAAAAAAAAAAAAAAAAAAAAAAAAAAAAAAA+ydnhV36GD8AAAAAAAAAAJqO1lzenH8/AAAAAAAAAAAAAAAAAAAAAPsnZ4Vd+hg/AAAAAAAAAAAAAAAAAAAAAPsnZ4Vd+hg//F0NJMa7Ij8AAAAAAAAAAAAAAAAAAAAA+ydnhV36GD/7J2eFXfooPwAAAAAAAAAAAAAAAAAAAAAAAAAAAAAAAAAAAAAAAAAA/F0NJMa7Ij/7J2eFXfoYPwAAAAAAAAAAAAAAAAAAAAAAAAAAAAAAAAAAAAAAAAAAAAAAAAAAAAAAAAAAAAAAAAAAAAAAAAAA+ydnhV36GD+MZUPLjbWDP/snZ4Vd+gg/AAAAAAAAAAD7J2eFXfoIPwAAAAAAAAAAAAAAAAAAAAAAAAAAAAAAAAAAAAAAAAAAAAAAAAAAAAAAAAAAAAAAAPxdDSTGuzI/AAAAAAAAAAAAAAAAAAAAAPsnZ4Vd+gg/AAAAAAAAAAAAAAAAAAAAAPxdDSTGuyI/AAAAAAAAAAD7J2eFXfoYPwAAAAAAAAAAAAAAAAAAAAAAAAAAAAAAAAAAAAAAAAAAAAAAAAAAAAAAAAAAAAAAAAAAAAAAAAAAAAAAAAAAAAAAAAAAAAAAAAAAAAAAAAAA+ydnhV36CD8AAAAAAAAAAAAAAAAAAAAAAAAAAAAAAAAAAAAAAAAAAPsnZ4Vd+gg/AAAAAAAAAAAAAAAAAAAAAAAAAAAAAAAAAAAAAAAAAAD7J2eFXfooPwAAAAAAAAAAfNBj/GtLRD8AAAAAAAAAAAAAAAAAAAAAAAAAAAAAAAAAAAAAAAAAAAAAAAAAAAAAAAAAAAAAAAAAAAAAAAAAAAAAAAAAAAAA+ydnhV36CD8AAAAAAAAAAAAAAAAAAAAA+ydnhV36KD/7J2eFXfoYPwAAAAAAAAAAAAAAAAAAAAD8XQ0kxrsiPwAAAAAAAAAAi0rwe9nUhj8AAAAAAAAAAAAAAAAAAAAA+vHA5vQ4Lz8AAAAAAAAAAPsnZ4Vd+gg/AAAAAAAAAAAAAAAAAAAAAAAAAAAAAAAAAAAAAAAAAAAAAAAAAAAAAAAAAAAAAAAA/F0NJMa7Ij/68cDm9Dg/PwAAAAAAAAAA+ydnhV36CD8AAAAAAAAAAAAAAAAAAAAAAAAAAAAAAAAAAAAAAAAAAAAAAAAAAAAA+ydnhV36GD/8XQ0kxrsiPwAAAAAAAAAAAAAAAAAAAAD8XQ0kxrsiPwAAAAAAAAAAAAAAAAAAAAAAAAAAAAAAAAAAAAAAAAAAAAAAAAAAAAAAAAAAAAAAAPsnZ4Vd+gg/AAAAAAAAAAAAAAAAAAAAAAAAAAAAAAAAAAAAAAAAAAAAAAAAAAAAAAAAAAAAAAAAAAAAAAAAAAAAAAAAAAAAAPsnZ4Vd+hg//F0NJMa7Ij8AAAAAAAAAAPsnZ4Vd+gg/AAAAAAAAAAAAAAAAAAAAAPsnZ4Vd+ig/+ydnhV36CD8AAAAAAAAAAPxdDSTGuyI/AAAAAAAAAAAAAAAAAAAAAPsnZ4Vd+ig/AAAAAAAAAAAAAAAAAAAAAPsnZ4Vd+gg/+ydnhV36CD8AAAAAAAAAAPxdDSTGuyI/+ydnhV36CD9TMzgACXGKPwAAAAAAAAAAAAAAAAAAAAA8lzgQmYNzPwAAAAAAAAAAAAAAAAAAAAAAAAAAAAAAAAAAAAAAAAAA+ydnhV36GD/7J2eFXfoIPwAAAAAAAAAAAAAAAAAAAAD8XQ0kxrsyPwAAAAAAAAAA+ydnhV36CD/7J2eFXfoYP9FlTo7KcJA/AAAAAAAAAAAAAAAAAAAAAKo+CXu054s/AAAAAAAAAAAAAAAAAAAAAPsnZ4Vd+gg/AAAAAAAAAAAAAAAAAAAAAAAAAAAAAAAAAAAAAAAAAAAAAAAAAAAAAPsnZ4Vd+hg/C71GVH9kiD8AAAAAAAAAAAAAAAAAAAAA+ydnhV36CD8AAAAAAAAAAPsnZ4Vd+ig/AAAAAAAAAAAAAAAAAAAAAAAAAAAAAAAAAAAAAAAAAACye886ayyNPwAAAAAAAAAAAAAAAAAAAAAAAAAAAAAAAAAAAAAAAAAAAAAAAAAAAAAAAAAAAAAAAHSTnTy1BpM/AAAAAAAAAAAAAAAAAAAAAAAAAAAAAAAA+ydnhV36GD8AAAAAAAAAAAAAAAAAAAAAAAAAAAAAAAAAAAAAAAAAAAAAAAAAAAAAAAAAAAAAAAAAAAAAAAAAAAAAAAAAAAAA+ydnhV36GD8AAAAAAAAAAPsnZ4Vd+gg/AAAAAAAAAAD7J2eFXfoYPwAAAAAAAAAA+ydnhV36GD/7J2eFXfoIPwAAAAAAAAAAAAAAAAAAAAAAAAAAAAAAAAAAAAAAAAAA+ydnhV36GD8AAAAAAAAAAPsnZ4Vd+gg/AAAAAAAAAAD7J2eFXfoIP/snZ4Vd+jg/+ydnhV36GD/7J2eFXfoIP/snZ4Vd+hg/AAAAAAAAAADERlWo9VeGPwAAAAAAAAAAAAAAAAAAAAAAAAAAAAAAAPxdDSTGuyI/+ydnhV36CD/7J2eFXfoIPwAAAAAAAAAAAAAAAAAAAAD7J2eFXfoIP/snZ4Vd+gg/+ydnhV36GD/7J2eFXfoIPwAAAAAAAAAAAAAAAAAAAAAAAAAAAAAAAAAAAAAAAAAA+ydnhV36CD8AAAAAAAAAAPsnZ4Vd+hg/+ydnhV36GD/7J2eFXfooPwAAAAAAAAAAAAAAAAAAAAD7J2eFXfoIPwAAAAAAAAAAAAAAAAAAAAD8XQ0kxrsiP/snZ4Vd+gg/AAAAAAAAAAAAAAAAAAAAAPsnZ4Vd+gg/AAAAAAAAAAAAAAAAAAAAAAAAAAAAAAAAAAAAAAAAAAAAAAAAAAAAAPsnZ4Vd+gg/AAAAAAAAAAAAAAAAAAAAAAAAAAAAAAAAAAAAAAAAAAD7J2eFXfoIPwAAAAAAAAAAAAAAAAAAAAD7J2eFXfoIPwAAAAAAAAAAAAAAAAAAAAAAAAAAAAAAAPsnZ4Vd+gg/+ydnhV36CD8AAAAAAAAAAPsnZ4Vd+gg/AAAAAAAAAABsO4QtSuGEPwAAAAAAAAAAAAAAAAAAAAD7J2eFXfoIPwAAAAAAAAAA+ydnhV36CD8AAAAAAAAAAPsnZ4Vd+hg/+ydnhV36GD/7J2eFXfooP/snZ4Vd+gg/+ydnhV36CD8AAAAAAAAAAAAAAAAAAAAAAAAAAAAAAAD7J2eFXfoYP/xdDSTGuyI//F0NJMa7Ij/7J2eFXfoIP/snZ4Vd+hg/+ydnhV36CD8AAAAAAAAAAPsnZ4Vd+hg/+ydnhV36CD8AAAAAAAAAAAAAAAAAAAAAAAAAAAAAAAAAAAAAAAAAAPsnZ4Vd+ig/AAAAAAAAAAAAAAAAAAAAAPsnZ4Vd+hg/AAAAAAAAAAD7J2eFXfoIPwAAAAAAAAAAK+cF8sI4hz9bi1EPdJZ4PwAAAAAAAAAA+ydnhV36GD8AAAAAAAAAAAAAAAAAAAAAAAAAAAAAAAD8XQ0kxrsyPwAAAAAAAAAAAAAAAAAAAAAAAAAAAAAAAAAAAAAAAAAAAAAAAAAAAABMEcWPBg2GP/snZ4Vd+gg//F0NJMa7Ij/7J2eFXfoIP/snZ4Vd+gg/AAAAAAAAAAAAAAAAAAAAAAAAAAAAAAAAAAAAAAAAAAAAAAAAAAAAAIsvnSwl9Ik/AAAAAAAAAAAAAAAAAAAAAAAAAAAAAAAAAAAAAAAAAAAAAAAAAAAAAAAAAAAAAAAAAAAAAAAAAAAAAAAAAAAAAAAAAAAAAAAA+ydnhV36CD8AAAAAAAAAAAAAAAAAAAAAAAAAAAAAAAAAAAAAAAAAAPrxwOb0OC8/AAAAAAAAAAD7J2eFXfoYP/snZ4Vd+gg/AAAAAAAAAAD1IEdkD3eBPwAAAAAAAAAA+ydnhV36CD/8QrrUEds1P7q4lfohcV4/+ydnhV36GD/8QrrUEds1P/xCutQR2zU/+ydnhV36SD/6DBQ2qRlMP9v9p+cZJmo//F0NJMa7Ij/6DBQ2qRk8P/snZ4Vd+hg/+vHA5vQ4Lz/68cDm9DgvP/snZ4Vd+kg//F0NJMa7Mj97tRCtt2pHP/xCutQR2zU/uriV+iFxXj/7J2eFXfoYP/xCutQR2zU//EK61BHbNT/7J2eFXfpIP/oMFDapGUw/2/2n5xkmaj/8XQ0kxrsiP/oMFDapGTw/+ydnhV36GD/68cDm9DgvP/rxwOb0OC8/+ydnhV36SD/8XQ0kxrsyP3u1EK23akc/AAAAAAAAAAAAAAAAAAAAAFympF4od3U/+ydnhV36OD8AAAAAAAAAAPsnZ4Vd+ig/AAAAAAAAAAAAAAAAAAAAAPxdDSTGuzI/AAAAAAAAAAD7J2eFXfoIP/snZ4Vd+gg//EK61BHbNT8AAAAAAAAAAPrxwOb0OC8/+ydnhV36CD8PToCMgJaaPwAAAAAAAAAA+ydnhV36CD87fOXA5KJWP33rtksgLEE//EK61BHbNT8AAAAAAAAAAPoMFDapGVw/AAAAAAAAAAD8QrrUEds1PwAAAAAAAAAA+ydnhV36CD8AAAAAAAAAAPsnZ4Vd+hg//EK61BHbVT/8QrrUEdtlPwAAAAAAAAAAAAAAAAAAAAAAAAAAAAAAAHzQY/xrS3Q/+ydnhV36OD/8QrrUEds1Pz2yi19NZFA/zJ5ut2B9dD/68cDm9DgvP/rxwOb0OG8/WnD+v7+1az/7J2eFXfooPwAAAAAAAAAA+vHA5vQ4Tz/t44CkWDKAP7wJj+g+E2U/PJc4EJmDUz/68cDm9DgvP/snZ4Vd+gg/+ydnhV36GD/7J2eFXfpIP/xdDSTGuyI/feu2SyAsQT8AAAAAAAAAAPsnZ4Vd+hg/AAAAAAAAAAAAAAAAAAAAAPxCutQR21U/PJc4EJmDUz/t44CkWDJwPwAAAAAAAAAAMgl5YsWcmz/8XQ0kxrtyPwAAAAAAAAAA+gwUNqkZTD/8XQ0kxrsyP/snZ4Vd+ig/GzfT0+ztij/7J2eFXfoYP/snZ4Vd+gg/+ydnhV36WD+8JOI38/NRPwAAAAAAAAAA/F0NJMa7Ij/cM06GgudzP/xCutQR21U/AAAAAAAAAABTMzgACXGqP7wJj+g+E2U/+ydnhV36CD/7J2eFXfo4P/snZ4Vd+hg/vAmP6D4TVT/7J2eFXfooPwAAAAAAAAAAvAmP6D4TZT97mr1dA4paP3STnTy1BoM/+ydnhV36GD8AAAAAAAAAAPsnZ4Vd+gg/65KHtjuQmT87fOXA5KJ2P5vEfPtGXmk/PbKLX01kUD/7J2eFXfooP7q4lfohcW4/W4tRD3SWeD9cwfet3FdiPwAAAAAAAAAA+ydnhV36CD/7J2eFXfoYP/xdDSTGuyI/AAAAAAAAAAB80GP8a0tEPwAAAAAAAAAA2xj7Ns4Gdz/7J2eFXfoYPwAAAAAAAAAAAAAAAAAAAACbxHz7Rl5pPzt85cDkolY/HG15clWvhD8AAAAAAAAAAPsnZ4Vd+jg//F0NJMa7Ij/68cDm9DhvPwAAAAAAAAAAAAAAAAAAAAB6f2oOT6ldP/xdDSTGuyI/+gwUNqkZTD9967ZLICxBPzt85cDkomY/AAAAAAAAAAAAAAAAAAAAAJz6IpqvH3M/AAAAAAAAAAAAAAAAAAAAAH3rtksgLGE/vAmP6D4TZT+dFXbpYwBgP6VSPKkaRYE/AAAAAAAAAAA7YZJxMMJpP/snZ4Vd+hg/feu2SyAsQT+W+M9On4OkPzyXOBCZg3M/O2GScTDCWT/68cDm9DgvPwAAAAAAAAAA3DNOhoLnYz/7J2eFXfoYP7wJj+g+E2U/+ydnhV36CD8AAAAAAAAAAHzQY/xrS0Q/+ydnhV36KD8AAAAAAAAAAPoMFDapGUw/CqLzBMuDiz8AAAAAAAAAAPsnZ4Vd+gg/e7UQrbdqRz9lGRG9R32QP/snZ4Vd+jg/AAAAAAAAAACc389K+z5mP/xdDSTGu3I/+ydnhV36GD/8QrrUEdtFPwAAAAAAAAAA+vHA5vQ4Lz/68cDm9DhvPwAAAAAAAAAAvCTiN/PzcT/7J2eFXfo4P/xdDSTGu1I/AAAAAAAAAAA8lzgQmYNTP7vuO5mKMlg/vAmP6D4TVT/8XQ0kxrsiP/snZ4Vd+gg/AAAAAAAAAADt44CkWDKAP/xdDSTGuyI/+vHA5vQ4Pz/8QrrUEds1PwAAAAAAAAAA/EK61BHbNT/7J2eFXfoIP/xdDSTGuzI/+vHA5vQ4Pz8AAAAAAAAAAPsnZ4Vd+ig//EK61BHbNT/7J2eFXfoIP/xCutQR2zU/WnD+v7+1az9MEcWPBg12PwAAAAAAAAAA+ydnhV36GD8qsV9TWnd9PwAAAAAAAAAAAAAAAAAAAAAAAAAAAAAAAPxdDSTGuyI/AAAAAAAAAAD7J2eFXfoIPwAAAAAAAAAAe7UQrbdqRz/8XQ0kxrsiP2ZUhDHuJaM/AAAAAAAAAAAAAAAAAAAAAAAAAAAAAAAAAAAAAAAAAAAAAAAAAAAAAAAAAAAAAAAAAAAAAAAAAAAAAAAAAAAAAPsnZ4Vd+hg/AAAAAAAAAAD7J2eFXfooPwAAAAAAAAAA/F0NJMa7Mj/68cDm9DgvPwAAAAAAAAAA+ydnhV36CD/7J2eFXfoIP8V8+0ZeGaA//EK61BHbNT8Kh6C1FqN+P5vEfPtGXnk/+ydnhV36OD8AAAAAAAAAAAAAAAAAAAAAe5q9XQOKSj8Z7M9MTWG1PwAAAAAAAAAA/F0NJMa7Uj8AAAAAAAAAAAAAAAAAAAAAAAAAAAAAAAAAAAAAAAAAAAAAAAAAAAAA+ydnhV36KD/AuuhFMg2tP/snZ4Vd+hg/+ydnhV36CD8AAAAAAAAAAPxCutQR20U/+ydnhV36KD8T+gwUNqmJP1pVq3AL1W4/AAqaq3vOkT/7IpqvHxOgPwAAAAAAAAAA+ydnhV36KD8AAAAAAAAAAPrxwOb0OC8/AAAAAAAAAAAAAAAAAAAAABGfeXqdOKE/G1ImI6HOZz8AAAAAAAAAAAAAAAAAAAAA/F0NJMa7cj+TbGPs2zibP/rxwOb0OF8/snYCZS1FpD8BKrrQbZanPwAAAAAAAAAAAAAAAAAAAAD7J2eFXfooP/xdDSTGuyI/AAAAAAAAAABndKRW4O2YPwbxmafXiaM//F0NJMa7Mj/NucEGFV6BP/xCutQR2zU/+vHA5vQ4Lz/68cDm9DgvP/oMFDapGTw/+ydnhV36KD/68cDm9DgvP/xCutQR2zU//F0NJMa7Ij89sotfTWRgP/snZ4Vd+gg/feu2SyAsUT/8XQ0kxrsiPwAAAAAAAAAA/F0NJMa7Ij/8XQ0kxrsyPzyXOBCZg1M/k2xj7Ns4iz/8QrrUEdtFP/xCutQR20U//F0NJMa7Ij8AAAAAAAAAAFympF4od5U/e7UQrbdqRz8AAAAAAAAAAAAAAAAAAAAAXgE4+MDnrT87fOXA5KJWP1pVq3AL1W4/AAAAAAAAAAD68cDm9DgvP5z6IpqvH2M/+ydnhV36SD9TTotPvVGHP/snZ4Vd+hg/+vHA5vQ4Pz8wnlW2M0iwP/snZ4Vd+hg/+gwUNqkZPD/7J2eFXfooPyTFkoHA1II/+ydnhV36GD/7J2eFXfoIP9sY+zbOBmc/+ydnhV36CD/8QrrUEdtVP/snZ4Vd+hg/vCTiN/PzUT97mr1dA4pKP/xdDSTGu4I/AAAAAAAAAAD7J2eFXfpIP2UZEb1HfYA/+ydnhV36GD/rkoe2O5B5P/xCutQR22U/+ydnhV36aD/8XQ0kxrsiPxQws7KeaoM/klEQnSdYjj89sotfTWRQP/snZ4Vd+gg/mqkprJJ9jD97mr1dA4pqP/rxwOb0OC8/+ydnhV36KD97mr1dA4paPwAAAAAAAAAA+ydnhV36CD8AAAAAAAAAAAAAAAAAAAAAAAAAAAAAAAAAAAAAAAAAAFzB963cV2I/AAAAAAAAAAD7J2eFXfoIPxxteXJVr2Q/+ydnhV36KD/7J2eFXfoIP/xdDSTGuzI/+ydnhV36GD96f2oOT6lNP3zQY/xrS3Q/en9qDk+pXT/8XQ0kxrsyP/xCutQR2zU/PbKLX01kUD/8XQ0kxrsiPywCWUF3GYQ/+ydnhV36KD9rBd6O4R97P1NOi0+9UYc/AAAAAAAAAAD7J2eFXfooPzpGPyJ84Ww/+ydnhV36GD/6DBQ2qRlcPwAAAAAAAAAA+vHA5vQ4Lz/pN/Qcox+RP8MrAllBd4k/+ydnhV36KD/7J2eFXfoYPwAAAAAAAAAAAAAAAAAAAAAwk5J5eEuWPwAAAAAAAAAAq1lcymjIiD/8XQ0kxrtCP/snZ4Vd+mg//EK61BHbRT9lGRG9R32QP/xdDSTGuyI//F0NJMa7Mj/7J2eFXfo4P33rtksgLEE/C71GVH9kiD/7J2eFXfooP/UgR2QPd5E/PJc4EJmDUz8TFWBj6omWPwAAAAAAAAAAaKpK9Uivkj+77juZijJYP/snZ4Vd+jg//F0NJMa7Qj8466uI43CkP/BZZ42lg5U/+gwUNqkZPD8AAAAAAAAAAPsnZ4Vd+hg/2uJUmGVFfT+8JOI38/NhP7vT6EnWUVs/+vHA5vQ4Xz/8XQ0kxrsiPzt85cDkomY/AAAAAAAAAACQEdBSQ8iSP3uavV0Diko/nPoimq8fgz/7J2eFXfo4P/xdDSTGu0I/+gwUNqkZPD9967ZLICxBPx/+sqpW4ZY/+vHA5vQ4Tz+8JOI38/ORP/xCutQR20U/nPoimq8fkz/68cDm9DhPP/oMFDapGUw//F0NJMa7Ij/bGPs2zgaXP2PIF88q24k//F0NJMa7Mj8AAAAAAAAAAPsnZ4Vd+kg/3DNOhoLncz/pN/Qcox+RP7rOG3SYaqI//F0NJMa7Ij/8QrrUEdt1P/xdDSTGuyI/AAAAAAAAAAAAAAAAAAAAAB/ekoVkGaE/OQb/15dRkT/7J2eFXfoIP4Py1mxur4g/AAAAAAAAAAD7J2eFXfoIP0TvUR8EqYE/+ydnhV36GD/68cDm9Dg/P33rtksgLEE//F0NJMa7cj+LL50sJfSJP33rtksgLFE/AAAAAAAAAAAAAAAAAAAAAAAAAAAAAAAA+ydnhV36KD/68cDm9DgvPwAAAAAAAAAA+ydnhV36GD9VhDHuJRORP9wzToaC52M/KqySfRyQtD8sAllBdxmkP7wk4jfz83E/+ydnhV36CD/7J2eFXfo4P/snZ4Vd+ig/+ydnhV36GD8AAAAAAAAAAPxdDSTGuyI/AAAAAAAAAAAAAAAAAAAAAFC9URe8H7U/+ydnhV36GD/7J2eFXfooP6x0rxkdqZU/kBHQUkPIsj8VQEPFl062P/snZ4Vd+hg/lL1c2vjakT8QdJYY8HOxPwAAAAAAAAAA+ydnhV36OD8AAAAAAAAAAPxdDSTGuyI/+ydnhV36KD/7J2eFXfoIP/oMFDapGTw//EK61BHbNT/8XQ0kxrsyP/xdDSTGu0I/+gwUNqkZXD/7J2eFXfoIP/snZ4Vd+ig//EK61BHbRT/8XQ0kxrsiP/snZ4Vd+hg/AAAAAAAAAAAAAAAAAAAAAHzQY/xrS0Q/AAAAAAAAAAD8XQ0kxrsiP/xdDSTGuzI/lxjwc5FLqj/6DBQ2qRk8PwAAAAAAAAAAsUsfA4CAtD+pDllDyTuzP/snZ4Vd+gg/AAAAAAAAAAChtj80Xha1P/snZ4Vd+ig/fNBj/GtLRD/7J2eFXfoYPwAAAAAAAAAA+vHA5vQ4Pz94JNd0tjilPwAAAAAAAAAA+ydnhV36CD/8XQ0kxrsyPwAAAAAAAAAA/EK61BHbNT8AAAAAAAAAAPsnZ4Vd+hg/+ydnhV36CD/RZU6OynCwPwAAAAAAAAAAAAAAAAAAAAAAAAAAAAAAAPsnZ4Vd+gg/AAAAAAAAAAAAAAAAAAAAAPrxwOb0OC8/AAAAAAAAAABcpqReKHelP/xdDSTGuzI/+vHA5vQ4Pz/7J2eFXfo4P/snZ4Vd+jg/+ydnhV36GD8AAAAAAAAAAPsnZ4Vd+gg/AAAAAAAAAAAAAAAAAAAAAAAAAAAAAAAAAAAAAAAAAAD7J2eFXfoIP/snZ4Vd+ig/+ydnhV36GD8AAAAAAAAAAPoMFDapGTw/AAAAAAAAAAAAAAAAAAAAAAAAAAAAAAAAAAAAAAAAAAB7tRCtt2pnPwAAAAAAAAAA+ydnhV36GD8AAAAAAAAAAAAAAAAAAAAA3U6h1TbIYD8AAAAAAAAAAHu1EK23aoc/AAAAAAAAAAD7J2eFXfooP/rxwOb0OD8/+ydnhV36KD8AAAAAAAAAAAAAAAAAAAAA/EK61BHbNT8AAAAAAAAAAPxdDSTGuzI//F0NJMa7Mj/7J2eFXfoIPwAAAAAAAAAA+ydnhV36KD/8XQ0kxrsiP/rxwOb0OC8/+ydnhV36KD8AAAAAAAAAAPsnZ4Vd+gg/u9PoSdZRWz8AAAAAAAAAAAAAAAAAAAAA+gwUNqkZPD8AAAAAAAAAAPoMFDapGTw//F0NJMa7Uj/7J2eFXfoIPwAAAAAAAAAAvCTiN/PzUT8AAAAAAAAAAPsnZ4Vd+gg/AAAAAAAAAAAAAAAAAAAAAAAAAAAAAAAAAAAAAAAAAAD7J2eFXfoYPwAAAAAAAAAA+ydnhV36CD8AAAAAAAAAAAAAAAAAAAAAAAAAAAAAAAAAAAAAAAAAAAAAAAAAAAAAAAAAAAAAAAAAAAAAAAAAAHzQY/xrS1Q/AAAAAAAAAAAAAAAAAAAAAPsnZ4Vd+hg/AAAAAAAAAAAAAAAAAAAAAAAAAAAAAAAAAAAAAAAAAAAAAAAAAAAAAA==",
          "dtype": "f8"
         },
         "z": {
          "bdata": "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",
          "dtype": "f8"
         }
        },
        {
         "hovertemplate": "color=1<br>num_reactions=%{x}<br>num_comments=%{y}<br>num_shares=%{z}<extra></extra>",
         "legendgroup": "1",
         "marker": {
          "color": "#00cc96",
          "opacity": 0.7,
          "symbol": "circle"
         },
         "mode": "markers",
         "name": "1",
         "scene": "scene",
         "showlegend": true,
         "type": "scatter3d",
         "x": {
          "bdata": "U/ZCCHxJ1D/fGabY7bzSP6IGMc86kbg/IhhWeJ+nvj9hcV8m5SzBP7HRrTu5SME/wbDC+zz1wD+Ziuea1WHEP+KMUHnMvco/Xbgg4XPS0D8SOUG4G/vOP1K6eg1sas8/nUMm4Ea8xD8alybv+LrIP+KChM9JQ8c/vhrOCJXHzD8+CalfMLHGPxIgww/VSMY/cm7Y4/BIyz8akkCat/3GPyL/189Y9cU/suVFj749yD9q93QEzdbIP+KRNs4Ne8w/7Z6OoNkawz/GeLM/cofGPzpkAm7ES80/ogFLevnTxj+iAUt6+dPGPw+y/sM3BdA/TgE8yPoPzz+CV7lN92/OP5I7tGK82c8/IfULJtZ60j81kkWADD/UP+PS5B1fF9M/SjRlL4TAxz+6a1ttpufPP26/ZUgCac4/o0zFc83q0D8BMvxQjWTRP1Psdl75ztA/7Z6OoNka0z93Y98jcoLQP+nlT1towNI/h0faODfs0T849j0iJwjXP46CdR1Lf88/7/i6mHFp0j9BszWm3dPRP+xJSP2CidU/+ueubbWZzj+IYFjhfZ7aP8MK7/PUQ9A/cVVaO6qW0j8EoMCcKqjXPzWSRYAMP9Q/kju0YrzZzz8dPM3gZCDSP7fu5CJFbNQ/ATL8UI1k0T+Oafd0BM3WP2UqnmtWh9E/I084Hm7J0T+pXzCx1pPQP1n/4ZsCeNA/D7fkGHnC0T8jTzgebsnRP7aUuCqtHdU/riwHSk3j1z+ZhQFGlKTSP3wwtrzo0dc/Ja5Ka0fV0j/wAodC9OPVP/YkpH7BxNo/54Y9Do+00T/v+LqYcWnSP0kgzdt+y9A/mqhLmF3Rzj8YMy5N3vHVP1Zp7ahaSsw/+b9+xqqv0D//0ukDtFjQP+xTFKcFBNk/5PBIG+eG3T9DFy5I+JzUP2Tzu8WHZd4/Gqu+Qv6vzz8pZ4mwuC/TPxvnhj0Oj9Q/rjHtno6g2T8SL3UOmYDLPx+b3y0+LNM/CsLd2PeIzD/gLT4s87HZP+63DEkgzds/Ja5Ka0fV0j+qc8gE3IjXP+eGPQ6PtNE/4oKEz0lD1z+s0tpRtZTYPz4Oj7Rxbtg/3IiXOodM4D9Xqpv4q+bSPzah937Qdtk/k3KWCIv70j9I3x6MLS/aP2xbbabnn9s/4oKEz0lD1z+Uhi5ckPDZP0LbZU3ovc8/qn2Url4D2z+MLS969O3hP926k4sUsdE/AkGuT1Gctj/RmaNlQxy0PwJaLPiXTr8/ecfXxYxLsz/KQKSDpxm8P1GXMLuiPcM/iaEGMc86wT8JqV8wsdbDPw==",
          "dtype": "f8"
         },
         "y": {
          "bdata": "Qo7IHu4iuD/Gt267BMKiP3EZEw9q/Ow/AAAAAAAA8D/Yh8H+zNTEPwvICZE6YcI/nk6XO4tM4j/H3q3Ys83RP416oLPEgM8/kAJp0YkS2D++W7Fnm+PTP+4DoclK+tU/K8RqGRLmyD+CzhIDfi7SP4xPvVEXvM8/bWLDSvns0z/RYtPaC+bHP9Ot1mGrcs0/DjIErIyH1T9Ju/7Lq4PGP4xVs7iU0dA/4RIG+eEw1D9SF7wfFWLVP8HwjuSazsY/LRox3WxvyD//w2P6GSnVP8Hly6ff0dw/12CC4R3J1T8Y0Xz9mIDIP7hdAmGJAKY//p1NbqpLrj8+0quEPyymP1lATojUCbM/wyY1gwOQsD+0wQXszNG5PyJ0mZOjMqw/KXbs3rPOqj+h0ZKDEvexP9F13qDDVLM/Pt1uwfoosD9Ju/7Lq4OmP4ZovVW7AK4/SatuubKfsz9orxfLhparP7c94juXOLA/PIGyliKKrz+dKtPRmsu7P8Rmdc3nH6w/eD8qxGoZsj/VBhjZxIa1Pzj7O5vcVLc/oubva0nCrT+ybrrbMNPSP9dc3pwfELU/xpwbbFDhtT/vTqRQ6oa7P7+KOA5HYbQ/DR7QVJXqsT9Ju/7Lq4O2P3u1EK23arc/nPoimq8fsz/jYIQzQEiyP55Q6V0KqbI/uGLPNsfnrj8aMgb+rgayP1ffxIe+g7k/TmxYKZ99rj/xn50+BymyP4iu8wYdpro/pXJczgwNtz92zhCxW6+1P8uDG2isnLc/HIjMwQmQsT/szfoq4ji8P2ZMPKjxs8E/6BHekDNCuj+NgJYaQpawP1prMeqBzqI/A2UtRRQ/qj8ZByOcAUKyPzCzsp5qE6w/4hpOgt6ipT8G2xMuYZCfP34Wmq3N8LA/PbrT6EnWwT8yCXlixZyrP9FfWCdNW78/yPLhL6tqpT/wXjRj42quP9wdyAwM7q8/0pX+xbUcuT/ERlWo9VemP9KKO4n6H68/BItD0YMcsT+0zMgoiM6zP34mKsDG1LM/enqdOBHCpD9R+MSLYsi3P+NVwfaES6g/8q8tUQANtT8FtiYzMeGwP/Zbuti1H7Q/vA5cvnz6vT+OpYMVckWvP6CQKajuOL4/Wmsx6oHOoj+2Io/s4lezPyhmXMy66rc/Ui5rKsuJsT/SoMECcRmzP1yrcTRmXq4/S+bhLVlItj+ZeXl0p9GzP5AGDRaIy8g/36RnmZFR0D9zaLraB0LTP+bT72jODt8/2JOtzMf/1j8Z/9oSBdDQPwhE5bdziOo/f0F9D3u14D9MHbFdATjYPw==",
          "dtype": "f8"
         },
         "z": {
          "bdata": "IVaUxkcmzD8ObvYLsaKUPxArSuMjE6g/JtA7dS0Hpz9YURofmUDPP4gVpfGRCbQ/////////zz8aH5lA79TBP5EJ9E5dy8k/wc1+IVaU1D+gd+paDm7QPw5u9guxotI/pPGRCfROzT/Lwc1+IVbQP3CzX4gVpc0/N/uFWFEa0T9fiBWl8ZHJP6wojY9MoMs/p67l4Ga/0j/BzX4hVpTeP9zsF2JFacw/RybQO3Ut0z/JBHqnruXSP272C7GiNNI/m/1CrCiNzz+B3qlrObjTP81+IVaUxtk/lMZHJtA71T8XYkVpfGTaP2a/ECtK48M/O3UtBzf7xT8ojY9MoHfGP/1CrCiNj9Q/Bzf7hVhRxj/0Tl3Lwc3CP1oObvYLscY/MoHeqWs5xD9t9guxojS+P8vBzX4hVsQ/Bzf7hVhRuj/NfiFWlMbDP05dy8HNfrk/vxArSuMjyz/QO3UtBze7P42PTKB36sI/qWs5uNkvvD+l8ZEJ9E7JPybQO3UtB78/aXxkAr1Twz+l8ZEJ9E7FP4rS+MgEesc/iBWl8ZEJvD9A79S1HNzYPzb7hVhRGr8/fGQCvVPXyj+dupaDm/3jP5TGRybQO8U/iBWl8ZEJwD8vxIrS+MjMP6prObjZL9A/kgn0Tl3LwT/onbqWg5vJPwK9U9dycMc/BHqnruXgvj+Nj0ygd+rQP4gVpfGRCcw/79S1HNzsyz9fiBWl8ZHJP9kvxIrS+NQ/fGQCvVPXyj/2C7GiND7eP6wojY9MoMM/0vjIBHqnvj/GRybQO3XTP////////+8/CfROXcvBzT+IFaXxkQnEP9kvxIrS+Lg/TKB36loOtj/9QqwojY/EPz4ygd6pa7k/sKI0PjKBvj/EitL4yASyPzQ+MoHeqcM/wc1+IVaUzj/NfiFWlMa3PyiNj0ygd84/nrqWg5v9sj+sKI2PTKDLP+edupaDm70/y8HNfiFWxD/nnbqWg5u9P9kvxIrS+MA/nrqWg5v9wj9FaXxkAr3DP34hVpTGR8I/ruXgZr8Qwz/v1LUc3OzLP566loOb/bI/URofmUDvxD91LQc3+4XEP0VpfGQCvcc/4yMT6J262j9u9guxojTGPytK4yMT6MU/O3UtBzf7yT85uNkvxIrGP13Lwc1+Ico/fiFWlMZHwj9aDm72C7HGP2s5uNkvxLo/itL4yAR6xz+Uxkcm0DvJP1aUxkcm0Ls/+MgEeqeuxT80PjKB3qnHP3CzX4gVpc0/////////vz9hRWl8ZAK9P67l4Ga/ENE/HNzsF2JFzT+/ECtK4yPHPw==",
          "dtype": "f8"
         }
        },
        {
         "hovertemplate": "color=2<br>num_reactions=%{x}<br>num_comments=%{y}<br>num_shares=%{z}<extra></extra>",
         "legendgroup": "2",
         "marker": {
          "color": "#ab63fa",
          "opacity": 0.7,
          "symbol": "circle"
         },
         "mode": "markers",
         "name": "2",
         "scene": "scene",
         "showlegend": true,
         "type": "scatter3d",
         "x": {
          "bdata": "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",
          "dtype": "f8"
         },
         "y": {
          "bdata": "7ghun4jhnj86Rj8ifOFcP/oMFDapGUw/vCTiN/PzUT/8QrrUEdtFP/xdDSTGuzI/AAAAAAAAAAB7mr1dA4paP9v9p+cZJmo/e7UQrbdqRz/8QrrUEdtFP/oMFDapGTw/PJc4EJmDUz+8JOI38/NRP5zfz0r7PmY/feu2SyAsUT97mr1dA4pKP/xdDSTGuzI/AAAAAAAAAAD68cDm9DgvP3zQY/xrS0Q/+vHA5vQ4Lz/8XQ0kxrtCP/xCutQR2zU/GhyAhDgNfj/68cDm9Dg/P/snZ4Vd+hg/nPoimq8fYz/8QrrUEdtFP/xdDSTGuyI/+ydnhV36OD9967ZLICxBP/snZ4Vd+jg//F0NJMa7Qj9L9nFAUix5P/snZ4Vd+jg/9AX0FFuWhD/6DBQ2qRk8P/snZ4Vd+jg/rHSvGR2phT/8XQ0kxrtCP/xCutQR20U//EK61BHbNT/6DBQ2qRlMP3zQY/xrS0Q/+ydnhV36CD/68cDm9Dg/P5vEfPtGXok/Stse8Z1LjD/FfPtGXhmQP/xCutQR20U//EK61BHbVT97tRCtt2pHP7vuO5mKMlg/FDCzsp5qgz/8XQ0kxrtCP7wk4jfz81E//F0NJMa7Qj87fOXA5KJWP3u1EK23akc/feu2SyAsQT/68cDm9Dg/P6o+CXu054s/fNBj/GtLRD9967ZLICxhPySqPzIM9IU/+ydnhV36WD97mr1dA4pKP/xdDSTGu1I/+vHA5vQ4Pz+8CY/oPhNVPzyXOBCZg1M/OkY/InzhbD89sotfTWRQP/xCutQR22U/Yq3Ef3b6jD97tRCtt2pHP6VSPKkaRZE/+ydnhV36OD/7J2eFXfpIP1pw/r+/tYs/+ydnhV36GD980GP8a0tEP/xCutQR20U/LAJZQXcZhD980GP8a0tEP/snZ4Vd+jg/AAAAAAAAAAD68cDm9Dg/P/snZ4Vd+gg/+ydnhV36KD/8QrrUEds1P/xdDSTGuzI/+ydnhV36OD+wO4/whpyRP33rtksgLEE/dJOdPLUGkz/68cDm9Dg/P/xdDSTGu0I/+ydnhV36WD/8QrrUEds1P/rxwOb0OD8/Pw0f+eXUmD9967ZLICxBP33rtksgLEE/+ydnhV36WD9967ZLICxRP/rxwOb0OD8/+vHA5vQ4Pz97mr1dA4pKPz2yi19NZFA/+ydnhV36KD/68cDm9DgvP3u1EK23akc//EK61BHbRT97tRCtt2pHP33rtksgLEE/feu2SyAsUT/8XQ0kxrtCP3zQY/xrS0Q/+gwUNqkZTD/8QrrUEds1P/snZ4Vd+hg/+ydnhV36KD+70+hJ1lFrP/xdDSTGu0I/+ydnhV36WD97mr1dA4pKP/rxwOb0OC8//EK61BHbNT/7J2eFXfpIP/snZ4Vd+gg/+ydnhV36GD/6DBQ2qRlcP33rtksgLFE/e7UQrbdqVz/8QrrUEdtFP/xdDSTGuyI/fNBj/GtLRD/6DBQ2qRlMPwAAAAAAAAAA/F0NJMa7Ij980GP8a0tUP0TU/s9PyIQ//EK61BHbVT+Q9nwDj+eVP7vT6EnWUVs//F0NJMa7Mj/8QrrUEdtVP3zQY/xrS0Q/feu2SyAsQT/1IEdkD3eBP/snZ4Vd+ig//F0NJMa7Qj9VhDHuJROBP/snZ4Vd+jg//EK61BHbNT/jOm6n0GqLP/rxwOb0OC8/+ydnhV36KD89sotfTWRgP7wk4jfz82E/+ydnhV36OD/68cDm9Dg/P33rtksgLFE/PbKLX01kUD/8XQ0kxrsiP/xdDSTGuzI//F0NJMa7Ij/8QrrUEds1P/rxwOb0OD8//EK61BHbRT/7J2eFXfo4PzyXOBCZg2M/+ydnhV36OD96f2oOT6lNP/xdDSTGu0I/+vHA5vQ4Pz/68cDm9DgvP/xCutQR2zU/feu2SyAsQT96f2oOT6lNP7wJj+g+E3U/HG15clWvZD96f2oOT6lNP/snZ4Vd+ig/vCTiN/PzUT/7J2eFXfpYP/xdDSTGu1I/+ydnhV36SD/8XQ0kxrtCP/rxwOb0OE8//F0NJMa7Ij980GP8a0tUP/rxwOb0OD8/en9qDk+pXT+NgJYaQpZwP/xCutQR20U/+ydnhV36WD87fOXA5KJWP33rtksgLEE//F0NJMa7Qj/68cDm9DgvP/oMFDapGTw/e7UQrbdqRz96f2oOT6ldP33rtksgLEE//EK61BHbNT89sotfTWRQP3zQY/xrS0Q/O3zlwOSiZj87YZJxMMJpP50VduljAGA/PJc4EJmDUz+70+hJ1lFbPz2yi19NZGA/feu2SyAsYT/68cDm9DhfP/snZ4Vd+kg/XKakXih3ZT/6DBQ2qRlcP3zQY/xrS1Q/e5q9XQOKSj/8XQ0kxrsyP/oMFDapGTw/AAAAAAAAAAD8QrrUEds1P/xdDSTGu1I/PbKLX01kUD/cM06GgudjP/rxwOb0OD8/+gwUNqkZPD9967ZLICxBP/snZ4Vd+ig//F0NJMa7Mj/7J2eFXfo4P/rxwOb0OC8/G1ImI6HOdz/8QrrUEdtFP3u1EK23alc/OkY/InzhXD+8JOI38/NhP3zQY/xrS0Q/+gwUNqkZTD/7J2eFXfo4P/xdDSTGuzI/AAAAAAAAAAD8XQ0kxrsyP7wk4jfz81E/TBHFjwYNdj+ajtZc3px/P3u1EK23akc/e5q9XQOKSj87fOXA5KJmP9v9p+cZJmo/feu2SyAsUT97mr1dA4paP7q4lfohcX4/PbKLX01kcD+8JOI38/NRP7vuO5mKMlg//F0NJMa7Yj97tRCtt2pXP4tK8HvZ1IY/bDuELUrhdD/6DBQ2qRlcP/snZ4Vd+mg/PJc4EJmDYz9967ZLICxhPxocgIQ4DW4/G1ImI6HOZz/8XQ0kxrtiP3zQY/xrS0Q/vCTiN/PzUT/8XQ0kxrtCP91OodU2yHA/feu2SyAsUT/8QrrUEdtFPzyXOBCZg1M/3DNOhoLnYz980GP8a0tEPzthknEwwlk/TCwY37rtcj/cM06GgudjP39GSuW4nJk/+gwUNqkZfD/qdzRnh6+cP1NOi0+9UYc/klEQnSdYjj87fOXA5KJ2PzthknEwwmk/zvkBUfntrD9MLBjfuu1yPxLEZnXN548/F6aZm+u7mD8kxZKBwNSCP9wzToaC52M/e7UQrbdqhz89sotfTWRQP3u1EK23alc/uriV+iFxXj+77juZijJ4P0rAy6Hpan8/XMH3rdxXYj8aHICEOA2OP1zB963cV3I/+gwUNqkZXD/8XQ0kxrtSP3zQY/xrS3Q/0qWO2K4AjD8M2JmjM0WFP9riVJhlRW0/fNBj/GtLdD+6uJX6IXFePz2yi19NZFA/e7UQrbdqVz+6uJX6IXFeP7vuO5mKMng/SsDLoelqfz9cwfet3FdiPxocgIQ4DY4/XMH3rdxXcj/6DBQ2qRlcP/xdDSTGu1I/fNBj/GtLdD/SpY7YrgCMPwzYmaMzRYU/2uJUmGVFbT980GP8a0t0P7q4lfohcV4/+ydnhV36CD/8XQ0kxrsyPw==",
          "dtype": "f8"
         },
         "z": {
          "bdata": "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",
          "dtype": "f8"
         }
        }
       ],
       "layout": {
        "legend": {
         "title": {
          "text": "color"
         },
         "tracegroupgap": 0
        },
        "scene": {
         "domain": {
          "x": [
           0,
           1
          ],
          "y": [
           0,
           1
          ]
         },
         "xaxis": {
          "title": {
           "text": "Reactions"
          }
         },
         "yaxis": {
          "title": {
           "text": "Comments"
          }
         },
         "zaxis": {
          "title": {
           "text": "Shares"
          }
         }
        },
        "template": {
         "data": {
          "bar": [
           {
            "error_x": {
             "color": "#2a3f5f"
            },
            "error_y": {
             "color": "#2a3f5f"
            },
            "marker": {
             "line": {
              "color": "#E5ECF6",
              "width": 0.5
             },
             "pattern": {
              "fillmode": "overlay",
              "size": 10,
              "solidity": 0.2
             }
            },
            "type": "bar"
           }
          ],
          "barpolar": [
           {
            "marker": {
             "line": {
              "color": "#E5ECF6",
              "width": 0.5
             },
             "pattern": {
              "fillmode": "overlay",
              "size": 10,
              "solidity": 0.2
             }
            },
            "type": "barpolar"
           }
          ],
          "carpet": [
           {
            "aaxis": {
             "endlinecolor": "#2a3f5f",
             "gridcolor": "white",
             "linecolor": "white",
             "minorgridcolor": "white",
             "startlinecolor": "#2a3f5f"
            },
            "baxis": {
             "endlinecolor": "#2a3f5f",
             "gridcolor": "white",
             "linecolor": "white",
             "minorgridcolor": "white",
             "startlinecolor": "#2a3f5f"
            },
            "type": "carpet"
           }
          ],
          "choropleth": [
           {
            "colorbar": {
             "outlinewidth": 0,
             "ticks": ""
            },
            "type": "choropleth"
           }
          ],
          "contour": [
           {
            "colorbar": {
             "outlinewidth": 0,
             "ticks": ""
            },
            "colorscale": [
             [
              0,
              "#0d0887"
             ],
             [
              0.1111111111111111,
              "#46039f"
             ],
             [
              0.2222222222222222,
              "#7201a8"
             ],
             [
              0.3333333333333333,
              "#9c179e"
             ],
             [
              0.4444444444444444,
              "#bd3786"
             ],
             [
              0.5555555555555556,
              "#d8576b"
             ],
             [
              0.6666666666666666,
              "#ed7953"
             ],
             [
              0.7777777777777778,
              "#fb9f3a"
             ],
             [
              0.8888888888888888,
              "#fdca26"
             ],
             [
              1,
              "#f0f921"
             ]
            ],
            "type": "contour"
           }
          ],
          "contourcarpet": [
           {
            "colorbar": {
             "outlinewidth": 0,
             "ticks": ""
            },
            "type": "contourcarpet"
           }
          ],
          "heatmap": [
           {
            "colorbar": {
             "outlinewidth": 0,
             "ticks": ""
            },
            "colorscale": [
             [
              0,
              "#0d0887"
             ],
             [
              0.1111111111111111,
              "#46039f"
             ],
             [
              0.2222222222222222,
              "#7201a8"
             ],
             [
              0.3333333333333333,
              "#9c179e"
             ],
             [
              0.4444444444444444,
              "#bd3786"
             ],
             [
              0.5555555555555556,
              "#d8576b"
             ],
             [
              0.6666666666666666,
              "#ed7953"
             ],
             [
              0.7777777777777778,
              "#fb9f3a"
             ],
             [
              0.8888888888888888,
              "#fdca26"
             ],
             [
              1,
              "#f0f921"
             ]
            ],
            "type": "heatmap"
           }
          ],
          "histogram": [
           {
            "marker": {
             "pattern": {
              "fillmode": "overlay",
              "size": 10,
              "solidity": 0.2
             }
            },
            "type": "histogram"
           }
          ],
          "histogram2d": [
           {
            "colorbar": {
             "outlinewidth": 0,
             "ticks": ""
            },
            "colorscale": [
             [
              0,
              "#0d0887"
             ],
             [
              0.1111111111111111,
              "#46039f"
             ],
             [
              0.2222222222222222,
              "#7201a8"
             ],
             [
              0.3333333333333333,
              "#9c179e"
             ],
             [
              0.4444444444444444,
              "#bd3786"
             ],
             [
              0.5555555555555556,
              "#d8576b"
             ],
             [
              0.6666666666666666,
              "#ed7953"
             ],
             [
              0.7777777777777778,
              "#fb9f3a"
             ],
             [
              0.8888888888888888,
              "#fdca26"
             ],
             [
              1,
              "#f0f921"
             ]
            ],
            "type": "histogram2d"
           }
          ],
          "histogram2dcontour": [
           {
            "colorbar": {
             "outlinewidth": 0,
             "ticks": ""
            },
            "colorscale": [
             [
              0,
              "#0d0887"
             ],
             [
              0.1111111111111111,
              "#46039f"
             ],
             [
              0.2222222222222222,
              "#7201a8"
             ],
             [
              0.3333333333333333,
              "#9c179e"
             ],
             [
              0.4444444444444444,
              "#bd3786"
             ],
             [
              0.5555555555555556,
              "#d8576b"
             ],
             [
              0.6666666666666666,
              "#ed7953"
             ],
             [
              0.7777777777777778,
              "#fb9f3a"
             ],
             [
              0.8888888888888888,
              "#fdca26"
             ],
             [
              1,
              "#f0f921"
             ]
            ],
            "type": "histogram2dcontour"
           }
          ],
          "mesh3d": [
           {
            "colorbar": {
             "outlinewidth": 0,
             "ticks": ""
            },
            "type": "mesh3d"
           }
          ],
          "parcoords": [
           {
            "line": {
             "colorbar": {
              "outlinewidth": 0,
              "ticks": ""
             }
            },
            "type": "parcoords"
           }
          ],
          "pie": [
           {
            "automargin": true,
            "type": "pie"
           }
          ],
          "scatter": [
           {
            "fillpattern": {
             "fillmode": "overlay",
             "size": 10,
             "solidity": 0.2
            },
            "type": "scatter"
           }
          ],
          "scatter3d": [
           {
            "line": {
             "colorbar": {
              "outlinewidth": 0,
              "ticks": ""
             }
            },
            "marker": {
             "colorbar": {
              "outlinewidth": 0,
              "ticks": ""
             }
            },
            "type": "scatter3d"
           }
          ],
          "scattercarpet": [
           {
            "marker": {
             "colorbar": {
              "outlinewidth": 0,
              "ticks": ""
             }
            },
            "type": "scattercarpet"
           }
          ],
          "scattergeo": [
           {
            "marker": {
             "colorbar": {
              "outlinewidth": 0,
              "ticks": ""
             }
            },
            "type": "scattergeo"
           }
          ],
          "scattergl": [
           {
            "marker": {
             "colorbar": {
              "outlinewidth": 0,
              "ticks": ""
             }
            },
            "type": "scattergl"
           }
          ],
          "scattermap": [
           {
            "marker": {
             "colorbar": {
              "outlinewidth": 0,
              "ticks": ""
             }
            },
            "type": "scattermap"
           }
          ],
          "scattermapbox": [
           {
            "marker": {
             "colorbar": {
              "outlinewidth": 0,
              "ticks": ""
             }
            },
            "type": "scattermapbox"
           }
          ],
          "scatterpolar": [
           {
            "marker": {
             "colorbar": {
              "outlinewidth": 0,
              "ticks": ""
             }
            },
            "type": "scatterpolar"
           }
          ],
          "scatterpolargl": [
           {
            "marker": {
             "colorbar": {
              "outlinewidth": 0,
              "ticks": ""
             }
            },
            "type": "scatterpolargl"
           }
          ],
          "scatterternary": [
           {
            "marker": {
             "colorbar": {
              "outlinewidth": 0,
              "ticks": ""
             }
            },
            "type": "scatterternary"
           }
          ],
          "surface": [
           {
            "colorbar": {
             "outlinewidth": 0,
             "ticks": ""
            },
            "colorscale": [
             [
              0,
              "#0d0887"
             ],
             [
              0.1111111111111111,
              "#46039f"
             ],
             [
              0.2222222222222222,
              "#7201a8"
             ],
             [
              0.3333333333333333,
              "#9c179e"
             ],
             [
              0.4444444444444444,
              "#bd3786"
             ],
             [
              0.5555555555555556,
              "#d8576b"
             ],
             [
              0.6666666666666666,
              "#ed7953"
             ],
             [
              0.7777777777777778,
              "#fb9f3a"
             ],
             [
              0.8888888888888888,
              "#fdca26"
             ],
             [
              1,
              "#f0f921"
             ]
            ],
            "type": "surface"
           }
          ],
          "table": [
           {
            "cells": {
             "fill": {
              "color": "#EBF0F8"
             },
             "line": {
              "color": "white"
             }
            },
            "header": {
             "fill": {
              "color": "#C8D4E3"
             },
             "line": {
              "color": "white"
             }
            },
            "type": "table"
           }
          ]
         },
         "layout": {
          "annotationdefaults": {
           "arrowcolor": "#2a3f5f",
           "arrowhead": 0,
           "arrowwidth": 1
          },
          "autotypenumbers": "strict",
          "coloraxis": {
           "colorbar": {
            "outlinewidth": 0,
            "ticks": ""
           }
          },
          "colorscale": {
           "diverging": [
            [
             0,
             "#8e0152"
            ],
            [
             0.1,
             "#c51b7d"
            ],
            [
             0.2,
             "#de77ae"
            ],
            [
             0.3,
             "#f1b6da"
            ],
            [
             0.4,
             "#fde0ef"
            ],
            [
             0.5,
             "#f7f7f7"
            ],
            [
             0.6,
             "#e6f5d0"
            ],
            [
             0.7,
             "#b8e186"
            ],
            [
             0.8,
             "#7fbc41"
            ],
            [
             0.9,
             "#4d9221"
            ],
            [
             1,
             "#276419"
            ]
           ],
           "sequential": [
            [
             0,
             "#0d0887"
            ],
            [
             0.1111111111111111,
             "#46039f"
            ],
            [
             0.2222222222222222,
             "#7201a8"
            ],
            [
             0.3333333333333333,
             "#9c179e"
            ],
            [
             0.4444444444444444,
             "#bd3786"
            ],
            [
             0.5555555555555556,
             "#d8576b"
            ],
            [
             0.6666666666666666,
             "#ed7953"
            ],
            [
             0.7777777777777778,
             "#fb9f3a"
            ],
            [
             0.8888888888888888,
             "#fdca26"
            ],
            [
             1,
             "#f0f921"
            ]
           ],
           "sequentialminus": [
            [
             0,
             "#0d0887"
            ],
            [
             0.1111111111111111,
             "#46039f"
            ],
            [
             0.2222222222222222,
             "#7201a8"
            ],
            [
             0.3333333333333333,
             "#9c179e"
            ],
            [
             0.4444444444444444,
             "#bd3786"
            ],
            [
             0.5555555555555556,
             "#d8576b"
            ],
            [
             0.6666666666666666,
             "#ed7953"
            ],
            [
             0.7777777777777778,
             "#fb9f3a"
            ],
            [
             0.8888888888888888,
             "#fdca26"
            ],
            [
             1,
             "#f0f921"
            ]
           ]
          },
          "colorway": [
           "#636efa",
           "#EF553B",
           "#00cc96",
           "#ab63fa",
           "#FFA15A",
           "#19d3f3",
           "#FF6692",
           "#B6E880",
           "#FF97FF",
           "#FECB52"
          ],
          "font": {
           "color": "#2a3f5f"
          },
          "geo": {
           "bgcolor": "white",
           "lakecolor": "white",
           "landcolor": "#E5ECF6",
           "showlakes": true,
           "showland": true,
           "subunitcolor": "white"
          },
          "hoverlabel": {
           "align": "left"
          },
          "hovermode": "closest",
          "mapbox": {
           "style": "light"
          },
          "paper_bgcolor": "white",
          "plot_bgcolor": "#E5ECF6",
          "polar": {
           "angularaxis": {
            "gridcolor": "white",
            "linecolor": "white",
            "ticks": ""
           },
           "bgcolor": "#E5ECF6",
           "radialaxis": {
            "gridcolor": "white",
            "linecolor": "white",
            "ticks": ""
           }
          },
          "scene": {
           "xaxis": {
            "backgroundcolor": "#E5ECF6",
            "gridcolor": "white",
            "gridwidth": 2,
            "linecolor": "white",
            "showbackground": true,
            "ticks": "",
            "zerolinecolor": "white"
           },
           "yaxis": {
            "backgroundcolor": "#E5ECF6",
            "gridcolor": "white",
            "gridwidth": 2,
            "linecolor": "white",
            "showbackground": true,
            "ticks": "",
            "zerolinecolor": "white"
           },
           "zaxis": {
            "backgroundcolor": "#E5ECF6",
            "gridcolor": "white",
            "gridwidth": 2,
            "linecolor": "white",
            "showbackground": true,
            "ticks": "",
            "zerolinecolor": "white"
           }
          },
          "shapedefaults": {
           "line": {
            "color": "#2a3f5f"
           }
          },
          "ternary": {
           "aaxis": {
            "gridcolor": "white",
            "linecolor": "white",
            "ticks": ""
           },
           "baxis": {
            "gridcolor": "white",
            "linecolor": "white",
            "ticks": ""
           },
           "bgcolor": "#E5ECF6",
           "caxis": {
            "gridcolor": "white",
            "linecolor": "white",
            "ticks": ""
           }
          },
          "title": {
           "x": 0.05
          },
          "xaxis": {
           "automargin": true,
           "gridcolor": "white",
           "linecolor": "white",
           "ticks": "",
           "title": {
            "standoff": 15
           },
           "zerolinecolor": "white",
           "zerolinewidth": 2
          },
          "yaxis": {
           "automargin": true,
           "gridcolor": "white",
           "linecolor": "white",
           "ticks": "",
           "title": {
            "standoff": 15
           },
           "zerolinecolor": "white",
           "zerolinewidth": 2
          }
         }
        },
        "title": {
         "text": "✅ Correct Way (Excluding status_type)"
        }
       }
      }
     },
     "metadata": {},
     "output_type": "display_data"
    },
    {
     "data": {
      "application/vnd.plotly.v1+json": {
       "config": {
        "plotlyServerURL": "https://plot.ly"
       },
       "data": [
        {
         "hovertemplate": "color=1<br>num_reactions=%{x}<br>num_comments=%{y}<br>num_shares=%{z}<extra></extra>",
         "legendgroup": "1",
         "marker": {
          "color": "#636efa",
          "opacity": 0.7,
          "symbol": "circle"
         },
         "mode": "markers",
         "name": "1",
         "scene": "scene",
         "showlegend": true,
         "type": "scatter3d",
         "x": {
          "bdata": "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",
          "dtype": "f8"
         },
         "y": {
          "bdata": "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",
          "dtype": "f8"
         },
         "z": {
          "bdata": "IxPonbqWsz/qWg5u9guRP9dycLNfiJU/vFPXcnCzjz+zX4gVpfGBP6wojY9MoJc/mUDv1LUcjD/XcnCzX4iFPwAAAAAAAAAAvxArSuMjMz+nruXgZr9wP9dycLNfiGU/ObjZL8SKgj8AAAAAAAAAADb7hVhRGn8/p67l4Ga/gD8T6J26loN7P9dycLNfiGU/+4VYURofeT/Lwc1+IVaEP13Lwc1+IYY/Bzf7hVhRaj8T6J26loOLP9dycLNfiIU/p67l4Ga/gD+GWFEaH5mgPx6ZQO/UtYw/+4VYURofiT8T6J26loOLP78QK0rjI3M/vxArSuMjcz/Lwc1+IVaEP8vBzX4hVoQ/RWl8ZAK9gz8emUDv1LWMP4HeqWs5uJk/sKI0PjKBjj/Lwc1+IVaEPwAAAAAAAAAAgd6pazm4iT/Lwc1+IVaEP+/UtRzc7Ic/dS0HN/uFiD8AAAAAAAAAANdycLNfiIU/vxArSuMjMz8qSuMjE+iNPwAAAAAAAAAA+4VYURofeT+zX4gVpfFxP3UtBzf7hYg/mUDv1LUcjD91LQc3+4WIP7NfiBWl8YE/s1+IFaXxgT8hVpTGRybMPxPonbqWg3s/Bzf7hVhRaj/Lwc1+IVZ0P+/UtRzc7Fc/vxArSuMjcz9pfGQCvVOHP78QK0rjI4M/KkrjIxPofT/7hVhRGh95P5lA79S1HIw/AAAAAAAAAAAT6J26loOLPwAAAAAAAAAAXcvBzX4hhj82+4VYURpvPx6ZQO/UtYw/dS0HN/uFiD+/ECtK4yNTP78QK0rjI3M/IVaUxkcmgD+nruXgZr9wP9dycLNfiIU/IVaUxkcmgD/7hVhRGh+JPxPonbqWg4s/E+idupaDiz8AAAAAAAAAAO/UtRzc7Ic/y8HNfiFWhD/7hVhRGh+JP8vBzX4hVnQ/s1+IFaXxgT+/ECtK4yODP////////58/KkrjIxPojT8aH5lA79SVP78QK0rjIzM/HplA79S1jD8emUDv1LVMP4gVpfGRCZQ/4yMT6J26hj+/ECtK4yNTPzb7hVhRGn8/AAAAAAAAAAC/ECtK4yNDP78QK0rjIzM/AAAAAAAAAADv1LUc3OxXP8vBzX4hVnQ/79S1HNzsdz+nruXgZr9gP/uFWFEaH3k/E+idupaDez8AAAAAAAAAAO/UtRzc7Fc/HplA79S1TD/v1LUc3OxXPw5u9guxopQ/HplA79S1TD+k8ZEJ9E6NPx6ZQO/UtVw/vxArSuMjUz+zX4gVpfGBPwAAAAAAAAAAvxArSuMjQz8AAAAAAAAAAAAAAAAAAAAAAAAAAAAAAADv1LUc3OxXP78QK0rjI0M/vxArSuMjYz8emUDv1LVcP+/UtRzc7Gc/AAAAAAAAAACzX4gVpfGhP78QK0rjI3M/vxArSuMjQz8emUDv1LVMP78QK0rjI1M/vxArSuMjQz+ZQO/UtRyMP78QK0rjIzM/vxArSuMjQz+/ECtK4yNjP6eu5eBmv2A/HplA79S1XD+zX4gVpfFxP5lA79S1HJw/vxArSuMjMz8QK0rjIxOoP0rjIxPonao/IVaUxkcmgD82+4VYURqPPwAAAAAAAAAAXcvBzX4hhj8m0Dt1LQenPwAAAAAAAAAAvxArSuMjQz8AAAAAAAAAAAAAAAAAAAAAAAAAAAAAAAC/ECtK4yMzPwAAAAAAAAAAAAAAAAAAAAAemUDv1LVMPwAAAAAAAAAAAAAAAAAAAADv1LUc3OxXPwAAAAAAAAAAAAAAAAAAAAC/ECtK4yMzPwAAAAAAAAAAvxArSuMjMz+/ECtK4yNTP78QK0rjIzM/p67l4Ga/YD8emUDv1LVsPx6ZQO/UtUw/vxArSuMjMz8AAAAAAAAAAL8QK0rjI0M/vxArSuMjMz8AAAAAAAAAAB6ZQO/UtUw/vxArSuMjQz8AAAAAAAAAAL8QK0rjIzM/HplA79S1TD8AAAAAAAAAAB6ZQO/UtUw/AAAAAAAAAAAAAAAAAAAAAL8QK0rjIzM/AAAAAAAAAAAAAAAAAAAAAL8QK0rjIzM/AAAAAAAAAAAAAAAAAAAAAL8QK0rjIzM/vxArSuMjYz/v1LUc3OxXPwAAAAAAAAAAAAAAAAAAAAAAAAAAAAAAAAAAAAAAAAAAAAAAAAAAAAAAAAAAAAAAAAAAAAAAAAAAAAAAAAAAAAAAAAAAAAAAAAAAAAAAAAAAAAAAAAAAAAAAAAAAAAAAAL8QK0rjIzM/AAAAAAAAAAAemUDv1LVMP78QK0rjIzM/AAAAAAAAAAC/ECtK4yMzPwAAAAAAAAAAvxArSuMjMz8AAAAAAAAAAAAAAAAAAAAAAAAAAAAAAAAAAAAAAAAAAAAAAAAAAAAAHplA79S1XD8AAAAAAAAAAAAAAAAAAAAAvxArSuMjQz8AAAAAAAAAAL8QK0rjI1M/vxArSuMjMz8AAAAAAAAAAAAAAAAAAAAAvxArSuMjMz+/ECtK4yMzP78QK0rjIzM/vxArSuMjQz8emUDv1LVMPwAAAAAAAAAAvxArSuMjMz8emUDv1LVMPx6ZQO/UtVw/vxArSuMjYz82+4VYURpvP78QK0rjIzM/AAAAAAAAAAAAAAAAAAAAAL8QK0rjI1M/vxArSuMjQz8AAAAAAAAAAB6ZQO/UtUw/HplA79S1XD8emUDv1LVMPwAAAAAAAAAAvxArSuMjUz8AAAAAAAAAAO/UtRzc7Fc/vxArSuMjMz8HN/uFWFFqPwc3+4VYUWo/AAAAAAAAAADjIxPonbp2PxPonbqWg3s/p67l4Ga/cD82+4VYURp/P/NOXcvBzZ4/AAAAAAAAAAC/ECtK4yNTP9dycLNfiGU/s1+IFaXxcT+nruXgZr9gPx6ZQO/UtWw/vxArSuMjMz+/ECtK4yMzPx6ZQO/UtWw/vxArSuMjYz/XcnCzX4hlPx6ZQO/UtVw/HplA79S1XD+nruXgZr9gP9dycLNfiHU/vxArSuMjMz8AAAAAAAAAAB6ZQO/UtYw/vxArSuMjMz9t9guxojSeP13Lwc1+IYY/xIrS+MgEmj+/ECtK4yMzP9dycLNfiGU/vxArSuMjMz/XcnCzX4h1P9dycLNfiGU/vxArSuMjMz/v1LUc3OxXP6TxkQn0Tp0/LQc3+4VYgT+ZQO/UtRyMP+MjE+iduoY/KkrjIxPojT8CvVPXcnCTP78QK0rjI5M/HplA79S1bD8AAAAAAAAAAAAAAAAAAAAAs1+IFaXxgT8emUDv1LVMPwAAAAAAAAAAvxArSuMjMz8AAAAAAAAAANdycLNfiIU/s1+IFaXxcT+nruXgZr9gPwAAAAAAAAAAAAAAAAAAAACnruXgZr9wP78QK0rjIzM/VpTGRybQmz+/ECtK4yMzP78QK0rjI2M/vxArSuMjMz8AAAAAAAAAAKeu5eBmv2A/HplA79S1bD+/ECtK4yMzPzb7hVhRGm8/vxArSuMjMz8AAAAAAAAAAAAAAAAAAAAAvxArSuMjMz+/ECtK4yNDP78QK0rjIzM/vxArSuMjMz+/ECtK4yNDPwAAAAAAAAAAvxArSuMjQz+nruXgZr9gPwAAAAAAAAAAvxArSuMjMz8AAAAAAAAAAAc3+4VYUWo/AAAAAAAAAAAAAAAAAAAAAAAAAAAAAAAAHplA79S1TD8AAAAAAAAAAAAAAAAAAAAAp67l4Ga/YD8AAAAAAAAAAAAAAAAAAAAAAAAAAAAAAAAAAAAAAAAAAL8QK0rjIzM/AAAAAAAAAACnruXgZr9gP78QK0rjI1M/vxArSuMjQz/v1LUc3OxXP78QK0rjI0M/vxArSuMjMz8AAAAAAAAAAL8QK0rjIzM/vxArSuMjQz+/ECtK4yNjP78QK0rjIzM/AAAAAAAAAAAAAAAAAAAAAL8QK0rjIzM/AAAAAAAAAAC/ECtK4yNTPwAAAAAAAAAAvxArSuMjMz+/ECtK4yMzP78QK0rjIzM/vxArSuMjQz8emUDv1LVMPx6ZQO/UtWw/HplA79S1XD8AAAAAAAAAAAc3+4VYUWo/AAAAAAAAAAC/ECtK4yNDP+/UtRzc7Fc/vxArSuMjQz+/ECtK4yNDPwAAAAAAAAAAvxArSuMjQz/v1LUc3OxXP78QK0rjIzM/79S1HNzsVz8AAAAAAAAAAAAAAAAAAAAAvxArSuMjQz9FaXxkAr2DPwAAAAAAAAAAHplA79S1TD8emUDv1LVMP78QK0rjIzM/HplA79S1bD8emUDv1LVcP6eu5eBmv2A/vxArSuMjMz+/ECtK4yNDP78QK0rjIzM/vxArSuMjMz+/ECtK4yMzPwAAAAAAAAAAvxArSuMjQz+/ECtK4yNDPwAAAAAAAAAAHplA79S1TD8AAAAAAAAAAL8QK0rjI0M/vxArSuMjMz+/ECtK4yMzP78QK0rjI0M/AAAAAAAAAAAAAAAAAAAAAL8QK0rjIzM/vxArSuMjMz+/ECtK4yMzPwAAAAAAAAAAAAAAAAAAAAAAAAAAAAAAAAAAAAAAAAAAvxArSuMjQz+/ECtK4yMzPwAAAAAAAAAAvxArSuMjMz8AAAAAAAAAAL8QK0rjIzM/AAAAAAAAAAAAAAAAAAAAAAAAAAAAAAAAAAAAAAAAAAAAAAAAAAAAAL8QK0rjIzM/HplA79S1TD+/ECtK4yNDPwAAAAAAAAAAAAAAAAAAAAAAAAAAAAAAAAAAAAAAAAAAvxArSuMjUz/v1LUc3OxXPx6ZQO/UtUw/AAAAAAAAAAAAAAAAAAAAAL8QK0rjI2M/vxArSuMjMz8AAAAAAAAAAB6ZQO/UtVw/Bzf7hVhRaj8AAAAAAAAAAL8QK0rjI0M/AAAAAAAAAAAAAAAAAAAAAAAAAAAAAAAAHplA79S1TD+/ECtK4yNDPwAAAAAAAAAAHplA79S1XD+/ECtK4yNTPwc3+4VYUWo/HplA79S1TD8AAAAAAAAAAAAAAAAAAAAAvxArSuMjQz8AAAAAAAAAAAAAAAAAAAAAvxArSuMjMz8AAAAAAAAAAAAAAAAAAAAAAAAAAAAAAAAAAAAAAAAAAAAAAAAAAAAAAAAAAAAAAAAemUDv1LVcPwAAAAAAAAAAvxArSuMjMz8AAAAAAAAAAAAAAAAAAAAAAAAAAAAAAAAAAAAAAAAAAAAAAAAAAAAAAAAAAAAAAAC/ECtK4yMzPwAAAAAAAAAAAAAAAAAAAAC/ECtK4yMzP78QK0rjI0M/AAAAAAAAAAC/ECtK4yMzPwAAAAAAAAAAvxArSuMjQz8AAAAAAAAAAL8QK0rjI1M/HplA79S1TD+/ECtK4yMzPwAAAAAAAAAA79S1HNzsVz8AAAAAAAAAAL8QK0rjIzM/vxArSuMjMz+/ECtK4yMzPwAAAAAAAAAAvxArSuMjMz8AAAAAAAAAAAAAAAAAAAAAvxArSuMjMz+/ECtK4yNDPwAAAAAAAAAAvxArSuMjMz8AAAAAAAAAAL8QK0rjIzM/vxArSuMjMz8AAAAAAAAAAAAAAAAAAAAAAAAAAAAAAAAAAAAAAAAAAAAAAAAAAAAAAAAAAAAAAAAAAAAAAAAAAAAAAAAAAAAAvxArSuMjQz8AAAAAAAAAAAAAAAAAAAAAAAAAAAAAAADXcnCzX4hlPwAAAAAAAAAAHplA79S1TD8AAAAAAAAAAKeu5eBmv2A/AAAAAAAAAAAAAAAAAAAAAL8QK0rjIzM/AAAAAAAAAAAAAAAAAAAAAL8QK0rjIzM/AAAAAAAAAAAemUDv1LVcPx6ZQO/UtUw/vxArSuMjQz8emUDv1LVMP78QK0rjI0M/vxArSuMjMz8emUDv1LVcP78QK0rjIzM/HplA79S1bD+/ECtK4yNzP6eu5eBmv2A/79S1HNzsVz/XcnCzX4hlP78QK0rjI1M/13Jws1+IZT/7hVhRGh95P78QK0rjI1M/HplA79S1TD/XcnCzX4hlP+MjE+idunY/HplA79S1fD/v1LUc3OxnP78QK0rjI0M/AAAAAAAAAADv1LUc3OxXPx6ZQO/UtVw/AAAAAAAAAAAAAAAAAAAAAAAAAAAAAAAAAAAAAAAAAADv1LUc3OxXP78QK0rjIzM/79S1HNzsVz+/ECtK4yNTP78QK0rjIzM/vxArSuMjUz+/ECtK4yNDP78QK0rjIzM/HplA79S1TD8emUDv1LVMPx6ZQO/UtUw/vxArSuMjUz/v1LUc3OxXPx6ZQO/UtUw/vxArSuMjQz+/ECtK4yMzPwAAAAAAAAAAAAAAAAAAAAC/ECtK4yMzPwAAAAAAAAAAp67l4Ga/cD8AAAAAAAAAAL8QK0rjI0M/vxArSuMjUz+/ECtK4yNDP78QK0rjI3M/vxArSuMjMz8AAAAAAAAAAAAAAAAAAAAAyQR6p67lsD/jIxPonbqmPx6ZQO/UtVw/GGJFaXxksj9MoHfqWg6uP0cm0Dt1Lac/E+idupaDsz/4yAR6p66lP6I0PjKB3qk/1bUc3OwXsj+Wg5v9QqywPyiNj0ygd6o/X4gVpfGRsT/c7BdiRWm0Py0HN/uFWLE/1bUc3OwXsj/7hVhRGh+pP/uFWFEaH6k/Q6wojY9MoD/EitL4yASqP13Lwc1+IZY/VpTGRybQqz+gd+paDm6mP1aUxkcm0Ks/wc1+IVaUpj/2C7GiND6yPybQO3UtB6c/BHqnruXgyj+Nj0ygd+qqP1EaH5lA76Q/KkrjIxPorT+sKI2PTKCnP1hRGh+ZQM8/y8HNfiFWpD8QK0rjIxOoP566loOb/bI/d+paDm72qz/l4Ga/ECuyP78QK0rjIzM/7BdiRWl8tD8c3OwXYkWxPzb7hVhRGn8/zX4hVpTGpz9+IVaUxkemP/1CrCiNj6w/ruXgZr8Qqz/ZL8SK0vi4P+paDm72C6E/iBWl8ZEJtD8aH5lA79SVP78QK0rjI1M/E+idupaDiz8hVpTGRyaQP9dycLNfiKU/VpTGRybQmz9mvxArSuOjPw5u9guxorQ/VpTGRybQmz8c3OwXYkWxP4rS+MgEeqc/vxArSuMjMz9K4yMT6J2aPzb7hVhRGq8/IVaUxkcmoD+/ECtK4yMzP6eu5eBmv5A/gd6pazm4mT8c3OwXYkWpP2JFaXxkArU/Wg5u9guxxj8AAAAAAAAAAErjIxPonZo/13Jws1+IlT8aH5lA79SVP7NfiBWl8aE/////////zz8CvVPXcnDLP3CzX4gVpaE/lMZHJtA7lT9dy8HNfiGWPy0HN/uFWJE/E+idupaDmz+nruXgZr+wP9S1HNzsF8o/Bzf7hVhRqj/EitL4yATCPwAAAAAAAAAAvxArSuMjoz8rSuMjE+i1P/uFWFEaH8E/SuMjE+idwj/GRybQO3W1PwAAAAAAAAAAbvYLsaI0tj91LQc3+4W4P7NfiBWl8ZE/cLNfiBWloT82+4VYURqPP3UtBzf7hYg/RWl8ZAK9gz98ZAK9U9eSP42PTKB36oo/Bzf7hVhRmj8emUDv1LWcPz4ygd6pa5k/13Jws1+IlT8ygd6pazmYP09dy8HNfqE/oHfqWg5ulj/VtRzc7BeiP0VpfGQCvZM/3OwXYkVpnD8qSuMjE+itP3xkAr1T15I/sKI0PjKBjj+Nj0ygd+qKPw5u9guxopQ/URofmUDvpD8HN/uFWFGqPy/EitL4yKQ/IxPonbqWoz8emUDv1LV8P7xT13Jws58/HplA79S1rD9RGh+ZQO+UP9dycLNfiJU/AAAAAAAAAAB5p67l4GavP5TGRybQO6U/Gh+ZQO/UwT9WlMZHJtCbPz4ygd6pa5k/ZAK9U9dykD+/ECtK4yOTP7xT13Jws48/ObjZL8SKkj/7hVhRGh+JP2l8ZAK9U4c/XcvBzX4hhj+nruXgZr+APxPonbqWg3s/dS0HN/uFiD/XcnCzX4iFP6eu5eBmv5A/NvuFWFEafz+nruXgZr+QP78QK0rjI5M/Bzf7hVhRmj8qSuMjE+idP5IJ9E5dy6E/rCiNj0yglz/c7BdiRWmcP1aUxkcm0Js/Dm72C7GipD8AAAAAAAAAAKeu5eBmv4A/gd6pazm4iT8tBzf7hViRP6TxkQn0To0/4yMT6J26hj+8U9dycLOPP3UtBzf7hYg/79S1HNzsdz/jIxPonbp2P7NfiBWl8YE/13Jws1+IdT9dy8HNfiGWP78QK0rjI1M/y8HNfiFWhD+nruXgZr9gP78QK0rjIzM/p67l4Ga/YD/v1LUc3OxXP78QK0rjI0M/AAAAAAAAAAA2+4VYURpvP+/UtRzc7Fc/y8HNfiFWdD8AAAAAAAAAAMvBzX4hVnQ/vxArSuMjcz+/ECtK4yNTP7NfiBWl8YE/vxArSuMjMz8AAAAAAAAAAAAAAAAAAAAAAAAAAAAAAAC/ECtK4yMzP5EJ9E5dy8k/NvuFWFEajz/BzX4hVpTUPybQO3UtB5c/oHfqWg5u0D85uNkvxIqCP/YLsaI0PpI/Dm72C7Gi0j+k8ZEJ9E7NP0rjIxPonZo/y8HNfiFW0D9ws1+IFaXNPyMT6J26lqM/N/uFWFEa0T9fiBWl8ZHJP6wojY9MoMs/2S/EitL4qD+nruXgZr/SP8HNfiFWlN4/7BdiRWl8pD/c7BdiRWnMP0cm0Dt1LdM/yQR6p67l0j9u9guxojTSP5v9Qqwojc8/IVaUxkcmkD+B3qlrObjTP81+IVaUxtk/loOb/UKssD+SCfROXcvBP7NfiBWl8ZE/lMZHJtA71T8XYkVpfGTaP6B36loObpY/IVaUxkcmoD8AAAAAAAAAAL8QK0rjIzM/vxArSuMjMz+nruXgZr+QP/YLsaI0PpI/AAAAAAAAAAC/ECtK4yNTPz4ygd6pa5k/AAAAAAAAAAC/ECtK4yMzP4gVpfGRCZQ/y8HNfiFWlD8AAAAAAAAAACiNj0ygd7I/p67l4Ga/cD9hRWl8ZAKdP6eu5eBmv6A/AAAAAAAAAACk8ZEJ9E6NP+MjE+iduoY/4yMT6J26lj/v1LUc3OyHP78QK0rjIzM/+4VYURofmT8qSuMjE+h9PwK9U9dycJM/9guxojQ+kj8AAAAAAAAAAPYLsaI0PpI/vxArSuMjgz+nruXgZr+QPwAAAAAAAAAAs1+IFaXxgT85uNkvxIqSP+/UtRzc7Gc/HplA79S1TD8ObvYLsaKUPwAAAAAAAAAANvuFWFEajz91LQc3+4WIP78QK0rjI0M/AAAAAAAAAABws1+IFaWRPwAAAAAAAAAAvxArSuMjMz8AAAAAAAAAAAAAAAAAAAAAAAAAAAAAAAAemUDv1LVMPwAAAAAAAAAAAAAAAAAAAAAemUDv1LVMPwAAAAAAAAAAAAAAAAAAAAAAAAAAAAAAAAAAAAAAAAAAAAAAAAAAAAAAAAAAAAAAAAAAAAAAAAAAAAAAAAAAAAAAAAAAAAAAAAAAAAAAAAAAAAAAAAAAAAAAAAAAAAAAAAAAAAAAAAAAAAAAAAAAAAAAAAAAAAAAAAAAAAAAAAAAAAAAAAAAAAAAAAAAAAAAAAAAAAAAAAAAAAAAAAAAAAAAAAAAAAAAAAAAAAAAAAAAAAAAAAAAAAAAAAAAAAAAAAAAAAAAAAAAAAAAAAAAAAAAAAAAAAAAAAAAAAAAAAAAAAAAAAAAAAAAAAAAAAAAAAAAAAAAAAAAAAAAAAAAAAAAAAAAAAAAAAAAAAAAAAAAAAAAAAAAAAAAAAAAAAAAAAAAAAAAAAAAAAAAAAAAAAAAAAAAAAAAAAAAAAAAAAAAAAAAAAAAAAAAAAAAAAAAAAAAAAAAAAAAAAAAAAAAAAC/ECtK4yMzPwAAAAAAAAAAAAAAAAAAAAC/ECtK4yMzPwAAAAAAAAAAAAAAAAAAAAAAAAAAAAAAAAAAAAAAAAAAvxArSuMjMz8AAAAAAAAAAAAAAAAAAAAAAAAAAAAAAAAAAAAAAAAAAAAAAAAAAAAAAAAAAAAAAAAAAAAAAAAAAL8QK0rjIzM/vxArSuMjMz8AAAAAAAAAAAAAAAAAAAAAAAAAAAAAAAAAAAAAAAAAAAAAAAAAAAAAAAAAAAAAAAC/ECtK4yNTPx6ZQO/UtWw/p67l4Ga/cD8AAAAAAAAAAL8QK0rjI2M/p67l4Ga/YD8AAAAAAAAAAAAAAAAAAAAAAAAAAAAAAAAAAAAAAAAAAAAAAAAAAAAAAAAAAAAAAAAAAAAAAAAAAAAAAAAAAAAAAAAAAAAAAAAAAAAAAAAAAAAAAAAAAAAAAAAAAAAAAAAAAAAAAAAAAAAAAAAAAAAAAAAAAAAAAAAAAAAAAAAAAAAAAAAAAAAAAAAAAAAAAAAAAAAAAAAAAL8QK0rjIzM/vxArSuMjMz+/ECtK4yMzPwAAAAAAAAAAAAAAAAAAAAAAAAAAAAAAAL8QK0rjIzM/AAAAAAAAAAAAAAAAAAAAAAAAAAAAAAAAAAAAAAAAAAAAAAAAAAAAAAAAAAAAAAAAAAAAAAAAAAC/ECtK4yMzPwAAAAAAAAAAAAAAAAAAAAAAAAAAAAAAAAAAAAAAAAAAAAAAAAAAAAAAAAAAAAAAAL8QK0rjIzM/ECtK4yMTuD8AAAAAAAAAANW1HNzsF7I/AAAAAAAAAAAAAAAAAAAAAL8QK0rjIzM/vxArSuMjMz8AAAAAAAAAAAAAAAAAAAAAAAAAAAAAAAAAAAAAAAAAAAAAAAAAAAAAAAAAAAAAAAAAAAAAAAAAAAAAAAAAAAAAvxArSuMjMz8AAAAAAAAAAAAAAAAAAAAAvxArSuMjMz8AAAAAAAAAAAAAAAAAAAAAAAAAAAAAAAAAAAAAAAAAAL8QK0rjIzM/AAAAAAAAAAAAAAAAAAAAAAAAAAAAAAAAAAAAAAAAAAAAAAAAAAAAAAAAAAAAAAAAAAAAAAAAAAAAAAAAAAAAAAAAAAAAAAAAAAAAAAAAAAAAAAAAAAAAAAAAAAAAAAAAAAAAAAAAAAAAAAAAAAAAAAAAAAAAAAAAAAAAAAAAAAAAAAAAAAAAAAAAAAAAAAAAAAAAAAAAAAAAAAAAAAAAAAAAAAAAAAAAAAAAAAAAAAAAAAAAAAAAAAAAAAAAAAAAvxArSuMjMz8AAAAAAAAAAAAAAAAAAAAAAAAAAAAAAAAAAAAAAAAAAAAAAAAAAAAAAAAAAAAAAAAAAAAAAAAAAAAAAAAAAAAAAAAAAAAAAAAAAAAAAAAAAAAAAAAAAAAAAAAAAAAAAAAAAAAAAAAAAAAAAAAAAAAAAAAAAAAAAAAAAAAAAAAAAAAAAAAAAAAAAAAAAAAAAAAAAAAAAAAAAAAAAAAAAAAAAAAAAAAAAAAAAAAAAAAAAAAAAAAAAAAAAAAAAAAAAAAAAAAAAAAAAAAAAAAAAAAAAAAAAAAAAAAAAAAAAAAAAAAAAAAAAAAAAAAAAAAAAAAAAAAAAAAAAAAAAAAAAAAAAAAAAAAAAAAAAAAAAAAAAAAAAAAAAAAAAAAAAAAAAAAAAAAAAAAAAAAAAAAAAAAAAAAAAAAAAAAAAAAAAAAAAAAAAAAAAAAAAAAAAAAAAAAAAAAAAAAAAAAAAAAAAAAAAAAAAAAAAAAAAAAAAAAAAAAAAAAAAAAAAAAAAAAAAAAAAAAAAAAAAAAAAAAAAAAAAAAAAAAAAAAAAAAAAAAAAAAAAAAAAAAAAAAAAAAAAAAAAAAAAAAAAAAAAAAAAAAAH5lA79S1tD8AAAAAAAAAAAAAAAAAAAAAAAAAAAAAAAAAAAAAAAAAAAAAAAAAAAAAAAAAAAAAAAAAAAAAAAAAAAAAAAAAAAAAAAAAAAAAAAAAAAAAAAAAAAAAAAAAAAAAAAAAAAAAAAAAAAAAAAAAAAAAAAAAAAAAAAAAAAAAAAAAAAAAAAAAAAAAAAAAAAAAAAAAAAAAAAC/ECtK4yNjP78QK0rjI3M/AAAAAAAAAAAAAAAAAAAAAAAAAAAAAAAAiBWl8ZEJlD8AAAAAAAAAABofmUDv1JU/AAAAAAAAAAAAAAAAAAAAAAAAAAAAAAAAAAAAAAAAAAAAAAAAAAAAAAAAAAAAAAAAAAAAAAAAAAAAAAAAAAAAAKI0PjKB3rE/AAAAAAAAAAAAAAAAAAAAAEygd+paDrY/AAAAAAAAAAAAAAAAAAAAAC/EitL4yLQ/AAAAAAAAAAAAAAAAAAAAAKwojY9MoJc/AAAAAAAAAAAAAAAAAAAAAAAAAAAAAAAAYkVpfGQCtT8AAAAAAAAAAAAAAAAAAAAAAAAAAAAAAAAfmUDv1LW0PwAAAAAAAAAAAAAAAAAAAADeqWs5uNm3PwAAAAAAAAAAAAAAAAAAAAAAAAAAAAAAAAAAAAAAAAAAAAAAAAAAAAAAAAAAAAAAAKeu5eBmv5A/AAAAAAAAAAAAAAAAAAAAAAAAAAAAAAAAloOb/UKsuD8AAAAAAAAAAErjIxPonbo/AAAAAAAAAABHJtA7dS23PwAAAAAAAAAAAAAAAAAAAAAAAAAAAAAAAAAAAAAAAAAAAAAAAAAAAAAAAAAAAAAAAAAAAAAAAAAAvxArSuMjoz8AAAAAAAAAAL8QK0rjI1M/AAAAAAAAAAAAAAAAAAAAAAAAAAAAAAAAAAAAAAAAAAAAAAAAAAAAAAAAAAAAAAAAAAAAAAAAAAAAAAAAAAAAAAAAAAAAAAAAAAAAAAAAAAAAAAAAAAAAAAAAAAAAAAAAAAAAAAAAAAAAAAAAAAAAAAAAAAAAAAAAAAAAAAAAAAAAAAAAAAAAAAAAAAAAAAAAAAAAAAAAAAAAAAAAAAAAAAAAAAAAAAAAAAAAAAAAAAAAAAAAAAAAAAAAAAAAAAAAAAAAAAAAAAAAAAAAAAAAAAAAAAAAAAAAAAAAAAAAAAAAAAAAAAAAAAAAAAAAAAAAAAAAAAAAAAAAAAAAAAAAAAAAAAAAAAAAAAAAAAAAAAAAAAAAAAAAAAAAAAAAAAAAAAAAAAAAAAAAAAAAAAAAAAAAAAAAAAAAAAAAAAAAAAAAAAAAAAAAAAAAAAAAAAAAAAAAAAAAAAAAAAAAAAAAAAAAAAAAAAAAAAAAAAAAAAAAAAAAAAAAAAAAAAAAAAAAAAAAAAAAAAAAAAAAAAAAAAAAAAAAAAAAAAAAAAAAAAAAAAAAAAAAAAAAAAAAAAAAAAAAAAAAAAAAAAAAAAAAAAAAAAAAAAAAAAAAAAAAAAAAAAAAAAAAAAAAAAAAAAAAAAAAAAAAAAAAAAAAAAAAAAAAAAAAAAAAAAAAAAAAAAAAAAAAAAAAAAAAAAAAAAAAAAAAAAAAAAAAAAAAAAAAAAAAAAAAAAAAAAAAAAAAAAAAAAAAAAAAAAAAAAAAAAAAAAAAAAAAAAAAAAAAAAAAAAAAAAAAAAAAAAAAAAAAAAAAAAAAAAAAAAAAAAAAAAAAAAAAAAAAAAAAAAAAAAAAAAAAAAAAAAAAAAAAAAAAAAAAAAAAAAAAAAAAAAAAAAAAAAAAAAAAAAAAAAAAAAAAAAAAAAAAAAAAAAAAAAAAAAAAAAAAAAAAAAAAAAAAAAAAAAAAAAAAAAAAAAAAAAAAAKeu5eBmv5A/AAAAAAAAAAAAAAAAAAAAAOMjE+iduqY/AAAAAAAAAAAAAAAAAAAAADm42S/EiqI/AAAAAAAAAAAAAAAAAAAAAAAAAAAAAAAAO3UtBzf7pT8AAAAAAAAAAAAAAAAAAAAAAAAAAAAAAAAAAAAAAAAAAOwXYkVpfLQ/AAAAAAAAAAAAAAAAAAAAAOBmvxArSqM/Ar1T13Jwkz+ZQO/UtRycPwAAAAAAAAAAAAAAAAAAAAAAAAAAAAAAAAAAAAAAAAAAAAAAAAAAAAD2C7GiND66PwAAAAAAAAAAAAAAAAAAAAAAAAAAAAAAAAAAAAAAAAAAAAAAAAAAAAAAAAAAAAAAAAAAAAAAAAAAazm42S/Eqj8AAAAAAAAAAAAAAAAAAAAAPjKB3qlrmT8AAAAAAAAAAAAAAAAAAAAAxkcm0Dt1rT8AAAAAAAAAAAAAAAAAAAAAMoHeqWs5mD/2C7GiND66P2a/ECtK48M/O3UtBzf7xT91LQc3+4WIP3Jws1+IFcU/8ZEJ9E5duz8ojY9MoHfGP/1CrCiNj9Q/Bzf7hVhRxj/0Tl3Lwc3CP1oObvYLscY/6loObvYLuT8tBzf7hViBPzKB3qlrOcQ/bfYLsaI0vj/Lwc1+IVbEPwc3+4VYUbo/zX4hVpTGwz9OXcvBzX65P78QK0rjI8s/0Dt1LQc3uz+Nj0ygd+rCP6lrObjZL7w/pfGRCfROyT8m0Dt1LQe/P2l8ZAK9U8M/pfGRCfROxT+K0vjIBHrHP4gVpfGRCbw/QO/UtRzc2D82+4VYURq/P7jZL8SK0pg/fGQCvVPXyj+dupaDm/3jP5TGRybQO8U/LQc3+4VYgT+IFaXxkQnAP1EaH5lA75Q/L8SK0vjIzD+qazm42S/QP5IJ9E5dy8E/6J26loObyT8CvVPXcnDHPwR6p67l4L4/jY9MoHfq0D+IFaXxkQnMP+/UtRzc7Ms/X4gVpfGRyT/ZL8SK0vjUP3xkAr1T18o/HplA79S1fD/2C7GiND7eP6wojY9MoMM/HplA79S1fD/S+MgEeqe+P8ZHJtA7ddM/////////7z+IFaXxkQmUPwn0Tl3Lwc0/iBWl8ZEJxD/ZL8SK0vi4P5aDm/1CrKg/TKB36loOtj8hVpTGRyaAP/1CrCiNj8Q/PjKB3qlruT/v1LUc3Ox3P7CiND4ygb4/xIrS+MgEsj80PjKB3qnDP8HNfiFWlM4/zX4hVpTGtz8ojY9MoHfOP1EaH5lA74Q/nrqWg5v9sj8emUDv1LVsP6wojY9MoMs/5526loObvT8HN/uFWFFqP8vBzX4hVsQ/sKI0PjKBjj/nnbqWg5u9P+MjE+idunY/2S/EitL4wD/JBHqnruWgP9dycLNfiGU/dS0HN/uFiD+eupaDm/3CPwc3+4VYUWo/RWl8ZAK9wz9A79S1HNysP34hVpTGR8I/ruXgZr8Qwz8hVpTGRyaAP3CzX4gVpbE/gd6pazm4iT/v1LUc3OzLP566loOb/bI/vxArSuMjcz8emUDv1LVcP1EaH5lA78Q/dS0HN/uFxD9dy8HNfiGGP0VpfGQCvcc/NvuFWFEafz/jIxPonbraP3mnruXgZq8/p67l4Ga/YD/v1LUc3OxXP78QK0rjI2M/4yMT6J26hj/Lwc1+IVZ0P272C7GiNMY/Bzf7hVhRej/v1LUc3OxnPytK4yMT6MU/sKI0PjKBjj87dS0HN/vJPzm42S/EioI/vxArSuMjMz85uNkvxIrGP78QK0rjI3M/Bzf7hVhRej82+4VYURpvP13Lwc1+Ico/vFPXcnCzjz9+IVaUxkfCP1oObvYLscY/LQc3+4VYgT9rObjZL8S6P+MjE+iduoY/itL4yAR6xz/jIxPonbp2P78QK0rjI1M/HplA79S1XD8HN/uFWFFqP5TGRybQO8k/13Jws1+IdT95p67l4GavPx6ZQO/UtWw/HplA79S1XD95p67l4GavP78QK0rjI1M/vxArSuMjMz/EitL4yASaPx6ZQO/UtUw/+4VYURofsT+/ECtK4yNTPwAAAAAAAAAANvuFWFEabz8J9E5dy8GtPwAAAAAAAAAANvuFWFEabz80PjKB3qmzP6eu5eBmv2A/p67l4Ga/YD8T6J26loObPx6ZQO/UtVw/dS0HN/uFsD/v1LUc3OxXPzb7hVhRGm8/U9dycLNfqD82+4VYURpvP7NfiBWl8XE/p67l4Ga/sD+nruXgZr9wP9dycLNfiGU/vxArSuMjQz+Wg5v9QqywP+/UtRzc7Fc/3qlrObjZrz+zX4gVpfFxP78QK0rjIzM/m/1CrCiNrz8AAAAAAAAAALNfiBWl8YE/NvuFWFEabz+/ECtK4yMzP0ygd+paDq4/HplA79S1TD9FaXxkAr2jP+/UtRzc7Fc/79S1HNzsVz8Eeqeu5eCmPzb7hVhRGm8/4yMT6J26dj+zX4gVpfGxP9dycLNfiGU/upaDm/1CrD82+4VYURpvP+/UtRzc7Fc/y8HNfiFWtD+/ECtK4yMzP78QK0rjI0M/vxArSuMjUz/jIxPonbp2PwyxojQ+MrE/vxArSuMjQz+nruXgZr9wP8SK0vjIBLI/y8HNfiFWdD+iND4ygd6xP+/UtRzc7Fc/HplA79S1XD+Dm/1CrCitPx6ZQO/UtVw/bfYLsaI0rj/jIxPonbp2P9zsF2JFabQ/79S1HNzsZz+gd+paDm6mPwAAAAAAAAAAvxArSuMjUz+nruXgZr9gPwyxojQ+MrE/13Jws1+IZT+nruXgZr9gP3CzX4gVpbE/13Jws1+IZT9MoHfqWg6uPx6ZQO/UtUw/vxArSuMjQz/XcnCzX4hlPwAAAAAAAAAAfGQCvVPXsj8AAAAAAAAAAO/UtRzc7Fc/AAAAAAAAAADqWg5u9guxPwAAAAAAAAAABzf7hVhRaj8AAAAAAAAAAAAAAAAAAAAA4yMT6J26tj+/ECtK4yNTP78QK0rjI1M/uNkvxIrSqD+/ECtK4yMzP2FFaXxkAq0/p67l4Ga/YD9ycLNfiBWlP3UtBzf7hag/ObjZL8SKoj/EitL4yASaP34hVpTGR6Y/s1+IFaXxgT+Uxkcm0DulP7xT13Jws68/NvuFWFEabz+Dm/1CrCi1Px6ZQO/UtZw/wc1+IVaUpj8AAAAAAAAAAAAAAAAAAAAAvxArSuMjUz+Nj0ygd+qqP+MjE+idupY/5eBmvxArsj87dS0HN/ulP7jZL8SK0qg/PjKB3qlrsT8QK0rjIxOoP3fqWg5u9rM/hlhRGh+ZoD9YURofmUCvP78QK0rjI0M/xIrS+MgEqj/v1LUc3OxnP9A7dS0HN6s/zX4hVpTGpz8c3OwXYkWpP7CiND4yga4/XcvBzX4hpj8tBzf7hVihPxzc7BdiRak/KkrjIxPorT+/ECtK4yNjP5lA79S1HJw/aXxkAr1Thz/qWg5u9guxP9dycLNfiGU/d+paDm72qz/zTl3Lwc2uP1aUxkcm0LM/xkcm0Dt1tT/XcnCzX4ilP7NfiBWl8aE/13Jws1+IpT9+IVaUxkemP1PXcnCzX6g/5526loObrT+zX4gVpfGhPwR6p67l4KY/5eBmvxArqj+42S/EitKwP/YLsaI0PqI/dS0HN/uFsD8ojY9MoHeyPzQ+MoHeqas/1LUc3OwXuj8J9E5dy8G1P9kvxIrS+Kg/p67l4Ga/sD/ZL8SK0viwP6eu5eBmv3A/xIrS+MgEqj8emUDv1LVcP/jIBHqnrqU/4Ga/ECtKoz8MsaI0PjKxP+XgZr8QK7I/aXxkAr1Tpz/qWg5u9gu5P78QK0rjI2M/mUDv1LUcnD+k8ZEJ9E6tP+/UtRzc7Gc/Q6wojY9MoD8+MoHeqWupPw5u9guxoqQ/3OwXYkVprD8QK0rjIxOwPxzc7BdiRak/L8SK0vjIpD91LQc3+4WoP8kEeqeu5bA/y8HNfiFWpD/XcnCzX4hlP0OsKI2PTKA/2S/EitL4sD9K4yMT6J2qP/1CrCiNj7Q/XcvBzX4htj87dS0HN/u1PyiNj0ygd7I/wc1+IVaUtj/4yAR6p66lP6eu5eBmv3A/13Jws1+ItT8jE+idupajPxhiRWl8ZKI/E+idupaDqz8aH5lA79SlPw5u9guxoqQ/+4VYURofmT+u5eBmvxCzPx6ZQO/UtUw/CfROXcvBrT+iND4ygd6pP3fqWg5u9qs/wc1+IVaUpj8+MoHeqWuxP+/UtRzc7Kc/RybQO3Utpz8qSuMjE+itP3xkAr1T16I/PjKB3qlrqT+GWFEaH5mgPwAAAAAAAAAAU9dycLNfqD+k8ZEJ9E6tPxArSuMjE7A/NvuFWFEanz936loObvarP7jZL8SK0qg/vxArSuMjMz+pazm42S+kP4HeqWs5uIk/YUVpfGQCnT9MoHfqWg6uPx6ZQO/UtUw/805dy8HNrj9YURofmUCvPwAAAAAAAAAAlMZHJtA7pT+42S/EitKoP8ZHJtA7da0/iBWl8ZEJtD+GWFEaH5mgP5TGRybQO6U/vxArSuMjUz9kAr1T13KwP7jZL8SK0qg/Gh+ZQO/UpT8qSuMjE+itP5IJ9E5dy6E/uNkvxIrSqD9HJtA7dS2nPzQ+MoHeqas/NvuFWFEanz/2C7GiND6iP9dycLNfiKU/uNkvxIrSsD9t9guxojSuP0OsKI2PTLA/MoHeqWs5sD/BzX4hVpS2Pxzc7BdiRbE/O3UtBzf7pT/v1LUc3OxXP/1CrCiNj6w/aXxkAr1Tpz8HN/uFWFFqP9A7dS0HN6s/2S/EitL4sD+Nj0ygd+qqP1sObvYLsaI/xIrS+MgEsj9mvxArSuOjP4Ob/UKsKK0/T13Lwc1+sT8QK0rjIxOoPwc3+4VYUao/URofmUDvpD8AAAAAAAAAAF3Lwc1+IaY/NvuFWFEanz8tBzf7hVihP49MoHfqWq4/vxArSuMjkz8AAAAAAAAAAPGRCfROXas/T13Lwc1+oT8AAAAAAAAAAO/UtRzc7Ic/oHfqWg5upj+sKI2PTKCnPy/EitL4yKQ/0Dt1LQc3qz8YYkVpfGSiPxzc7BdiRak/p67l4Ga/oD/qWg5u9guhPx6ZQO/UtUw/cnCzX4gVpT+/ECtK4yNTPxArSuMjE7A/cnCzX4gVpT8AAAAAAAAAAEygd+paDq4/vxArSuMjMz8m0Dt1LQenPx6ZQO/UtVw/yQR6p67loD8CvVPXcnCjPwyxojQ+MqE/vxArSuMjYz+pazm42S+kP232C7GiNJ4/AAAAAAAAAAC/ECtK4yNTP566loOb/aI/MoHeqWs5qD+nruXgZr+gPzKB3qlrOag/cLNfiBWloT8m0Dt1LQeXP8kEeqeu5aA/vxArSuMjMz9DrCiNj0ygP6eu5eBmv3A/Gh+ZQO/UlT9dy8HNfiGmP34hVpTGR6Y/ZAK9U9dyoD+nruXgZr+AP4HeqWs5uIk/URofmUDvlD8emUDv1LWsP9W1HNzsF6I/YUVpfGQCrT8c3OwXYkWpP6eu5eBmv7A/JtA7dS0Hpz98ZAK9U9eiP1aUxkcm0LM/DLGiND4ysT/4yAR6p66lP+XgZr8QK6o/fiFWlMZHpj/qWg5u9guhP78QK0rjI1M/U9dycLNfqD/2C7GiND6yP1aUxkcm0Ks/y8HNfiFWdD9A79S1HNysP7jZL8SK0qg/AAAAAAAAAACWg5v9QqyoP7xT13Jws68/AAAAAAAAAAAJ9E5dy8GtP7NfiBWl8bE/8ZEJ9E5dsz+wojQ+MoGuP+XgZr8QK7I/MoHeqWs5qD/VtRzc7BeyP4HeqWs5uKk/805dy8HNrj9hRWl8ZAKtP1+IFaXxkak/X4gVpfGRqT9YURofmUCvPwAAAAAAAAAAYUVpfGQCrT8+MoHeqWuxP+paDm72C7E/IVaUxkcmsD8T6J26loOzP67l4Ga/ELs/fiFWlMZHtj+8U9dycLOvP0OsKI2PTLA/2S/EitL4sD936loObvarP5TGRybQO7U/mUDv1LUcrD+Nj0ygd+qyP1hRGh+ZQLc/RWl8ZAK9sz/VtRzc7BeyP232C7GiNK4/7BdiRWl8tD8T6J26loOzP78QK0rjIzM/5526loObrT8QK0rjIxO4P1EaH5lA77Q/H5lA79S1tD8T6J26loOzPx6ZQO/UtVw/ECtK4yMTuD+eupaDm/2yPxPonbqWg7M/QO/UtRzctD9pfGQCvVO3P/uFWFEaH7E/1bUc3OwXsj+l8ZEJ9E61P49MoHfqWr4/AAAAAAAAAADQO3UtBzezPwAAAAAAAAAAAAAAAAAAAABfiBWl8ZGxPwn0Tl3Lwa0/7BdiRWl8tD8c3OwXYkW5P3fqWg5u9rs/AAAAAAAAAABrObjZL8SyPwAAAAAAAAAAAAAAAAAAAACZQO/UtRysPwc3+4VYUao/79S1HNzsVz+k8ZEJ9E6tPxPonbqWg6s/RWl8ZAK9sz8emUDv1LVMP9A7dS0HN7M/AAAAAAAAAABfiBWl8ZGxPwAAAAAAAAAAKkrjIxPorT+/ECtK4yNDP7jZL8SK0qg/2S/EitL4qD8AAAAAAAAAAAAAAAAAAAAAIxPonbqWsz8AAAAAAAAAAAAAAAAAAAAATKB36loOtj/9QqwojY+sP8ZHJtA7db0/xkcm0Dt1tT8emUDv1LVMP6B36loObrY/AAAAAAAAAADv1LUc3OzDP/jIBHqnrr0/AAAAAAAAAADUtRzc7Be6PwAAAAAAAAAAQO/UtRzcwD/NfiFWlMa3PwAAAAAAAAAAAAAAAAAAAAAAAAAAAAAAAKlrObjZL7Q/URofmUDvtD+l8ZEJ9E61PxPonbqWg5s/AAAAAAAAAAC42S/EitK4PwAAAAAAAAAAMoHeqWs5wD8AAAAAAAAAAAAAAAAAAAAAX4gVpfGRuT8AAAAAAAAAAAc3+4VYUcY/AAAAAAAAAACqazm42S/AP6B36loObrY/AAAAAAAAAAAAAAAAAAAAAFoObvYLsbo/Zr8QK0rjoz8AAAAAAAAAABArSuMjE7g/AAAAAAAAAACpazm42S+kPwAAAAAAAAAA13Jws1+IwT8AAAAAAAAAAI9MoHfqWsI/fiFWlMZHwj8AAAAAAAAAAMSK0vjIBLo/AAAAAAAAAACDm/1CrCitPwAAAAAAAAAA7BdiRWl8tD8AAAAAAAAAALGiND4ygbY/+4VYURofuT9WlMZHJtCzPwAAAAAAAAAAg5v9QqworT936loObvarP42PTKB36po/AAAAAAAAAADLwc1+IVaUPwAAAAAAAAAAAAAAAAAAAADZL8SK0vi4P49MoHfqWrY/MoHeqWs5sD9ycLNfiBXFPw5u9guxosg/Q6wojY9MoD+sKI2PTKC/PwAAAAAAAAAA4yMT6J26lj9YURofmUC/PwAAAAAAAAAAAAAAAAAAAAAAAAAAAAAAAHUtBzf7hZg/AAAAAAAAAAAaH5lA79TFPwAAAAAAAAAAsKI0PjKBjj8AAAAAAAAAAEygd+paDrY/fGQCvVPXkj8ojY9MoHe6PxWl8ZEJ9LY/jY9MoHfqsj8AAAAAAAAAAE9dy8HNfqE/AAAAAAAAAACGWFEaH5nAPwAAAAAAAAAAHNzsF2JFuT8AAAAAAAAAAHmnruXgZq8/ObjZL8SKsj9rObjZL8SyPwAAAAAAAAAAmUDv1LUcwD9iRWl8ZAK1PwAAAAAAAAAA0vjIBHqntj8AAAAAAAAAAN6pazm42bc/AAAAAAAAAACWg5v9QqzAPwAAAAAAAAAAupaDm/1CxD8AAAAAAAAAABPonbqWg8M/ZAK9U9dywD8AAAAAAAAAAPuFWFEaH7E/AAAAAAAAAAAAAAAAAAAAAMvBzX4hVrw/wc1+IVaUtj/gZr8QK0qzPwAAAAAAAAAAj0ygd+pawj8AAAAAAAAAAJaDm/1CrMQ/rCiNj0ygpz/NfiFWlMbDPwAAAAAAAAAAmUDv1LUcwD8YYkVpfGTCP/GRCfROXbM/AAAAAAAAAABCrCiNj0zMPwAAAAAAAAAA0Dt1LQc3sz/eqWs5uNm/PwAAAAAAAAAAAAAAAAAAAACpazm42S+8P9L4yAR6p7Y/ObjZL8SKwj8AAAAAAAAAAFPXcnCzX8A/AAAAAAAAAAAc3OwXYkWxPwAAAAAAAAAA7BdiRWl8tD8AAAAAAAAAAAAAAAAAAAAAMoHeqWs5sD+iND4ygd65PwAAAAAAAAAAYUVpfGQCvT8+MoHeqWuxPwAAAAAAAAAAzX4hVpTGpz9t9guxojS+P////////78/AAAAAAAAAADIBHqnruW4P2a/ECtK47M/gd6pazm4wT8AAAAAAAAAAMSK0vjIBLo/IVaUxkcmwD8Eeqeu5eCmP0VpfGQCvcs/AAAAAAAAAACb/UKsKI2/Pzm42S/EirI/AAAAAAAAAAAEeqeu5eDCP6XxkQn0TsE/AAAAAAAAAAAaH5lA79SlP+idupaDm8E/Bzf7hVhRsj8AAAAAAAAAAC0HN/uFWLk/Ar1T13Jwkz8AAAAAAAAAAMkEeqeu5aA/KkrjIxPonT8AAAAAAAAAAAR6p67l4KY/AAAAAAAAAACNj0ygd+qyPwAAAAAAAAAAAAAAAAAAAAAAAAAAAAAAAHJws1+IFbU/FaXxkQn0rj9kAr1T13KgP9L4yAR6p7Y/T13Lwc1+oT8AAAAAAAAAABArSuMjE7g/13Jws1+IlT8AAAAAAAAAAOMjE+idurY/p67l4Ga/oD8AAAAAAAAAAF3Lwc1+Ib4/yQR6p67lwD+1HNzsF2K1P5IJ9E5dy7E/AAAAAAAAAABdy8HNfiG+P78QK0rjI5M/AAAAAAAAAACgd+paDm62PypK4yMT6J0/HplA79S1TD8emUDv1LVMPwR6p67l4LY/vxArSuMjMz9bDm72C7HCP4rS+MgEeqc/pPGRCfROrT/xkQn0Tl2rPwAAAAAAAAAA////////tz8aH5lA79S1Pzf7hVhRGsc/PjKB3qlrwT9FaXxkAr3DP1aUxkcm0Ls/vxArSuMjMz9pfGQCvVO3P/uFWFEaH8U/AAAAAAAAAABycLNfiBW9P5lA79S1HMA/Ar1T13Jwkz+/ECtK4yOzP/jIBHqnrsU/ND4ygd6pxz+/ECtK4yPDP5lA79S1HLQ/URofmUDvxD+K0vjIBHq3P2FFaXxkAr0/rCiNj0ygtz+1HNzsF2LFPxdiRWl8ZLo/ND4ygd6pwz9pfGQCvVPHPwn0Tl3LwcE/s1+IFaXxcT+IFaXxkQnAPwAAAAAAAAAAAAAAAAAAAAC/ECtK4yMzPwAAAAAAAAAAvxArSuMjMz8aH5lA79S1P4HeqWs5uMU/kgn0Tl3LsT9pfGQCvVO/PwAAAAAAAAAAy8HNfiFWhD8Eeqeu5eCmP1EaH5lA78A/AAAAAAAAAAA5uNkvxIq6P7CiND4ygb4/cLNfiBWlwT9mvxArSuOzP/uFWFEaH7k/ZAK9U9dywD85uNkvxIrGP78QK0rjI7s/KkrjIxPonT9rObjZL8TQP9W1HNzsF8I/ObjZL8SKwj+/ECtK4yMzPwAAAAAAAAAAHNzsF2JFwT+/ECtK4yMzP8kEeqeu5cA/vxArSuMjUz8fmUDv1LXEP3CzX4gVpc0/805dy8HNnj8AAAAAAAAAAL8QK0rjIzM/vxArSuMjQz+/ECtK4yMzPx6ZQO/UtUw/vxArSuMjUz8AAAAAAAAAAP1CrCiNj7w/vxArSuMjMz+/ECtK4yNTP78QK0rjI1M/vxArSuMjMz+42S/EitKYP+edupaDm60/2S/EitL4sD+1HNzsF2LFP+edupaDm60/iBWl8ZEJpD+SCfROXcuhP4HeqWs5uJk/vFPXcnCznz8hVpTGRyagPwAAAAAAAAAAlMZHJtA7lT8emUDv1LVcPwAAAAAAAAAA13Jws1+IZT+B3qlrObiJP78QK0rjIzM/xIrS+MgEmj+B3qlrObiZPwAAAAAAAAAA13Jws1+IhT85uNkvxIqiPwc3+4VYUWo/7BdiRWl8tD8CvVPXcnDDP7jZL8SK0sA/AAAAAAAAAABmvxArSuOzP0ygd+paDsI/AAAAAAAAAACWg5v9QqyoPwAAAAAAAAAAtRzc7BdixT8AAAAAAAAAAKB36loObpY/6loObvYLuT////////+/P78QK0rjIzM/JtA7dS0Hpz8jE+idupajP2FFaXxkAr0/zX4hVpTGvz9FaXxkAr2zP13Lwc1+IaY/lMZHJtA7lT87dS0HN/ulP7xT13Jws68/13Jws1+IdT+K0vjIBHq/P////////7c/E+idupaDsz/v1LUc3OxnP+paDm72C6E/CfROXcvBrT8m0Dt1LQfDP3UtBzf7hZg/NvuFWFEabz/7hVhRGh+xP4VYURofmbg/vxArSuMjMz9HJtA7dS23P+paDm72C7E/ruXgZr8Q0T8AAAAAAAAAABzc7BdiRc0/RWl8ZAK9sz/xkQn0Tl27PzKB3qlrObg/ECtK4yMTwD+/ECtK4yNzPwAAAAAAAAAAXcvBzX4hxj+wojQ+MoGOP8vBzX4hVoQ/2S/EitL4uD9pfGQCvVO/P78QK0rjIzM/Bzf7hVhRaj8AAAAAAAAAAL8QK0rjI8c/iBWl8ZEJwD9MoHfqWg6uPwuxojQ+Mrk/Wg5u9guxuj8emUDv1LVMPxzc7BdiRbk/SuMjE+idqj8AAAAAAAAAAFaUxkcm0Ks/4yMT6J26hj80PjKB3qmzP7NfiBWl8XE/eaeu5eBmrz/onbqWg5u1P232C7GiNJ4//UKsKI2PtD/xkQn0Tl2rP2QCvVPXcrA/IxPonbqWsz8emUDv1LVMP78QK0rjI7M/yQR6p67loD+wojQ+MoGeP8SK0vjIBKo/HplA79S1bD936loObvarPy0HN/uFWIE/KkrjIxPojT/ZL8SK0vioP7qWg5v9Qqw/5526loObnT8T6J26loN7P42PTKB36po/0Dt1LQc3mz82+4VYURpvP2l8ZAK9U5c/y8HNfiFWpD9T13Jws1+oP2s5uNkvxKo/U9dycLNfqD8AAAAAAAAAABPonbqWg6s/CfROXcvBrT8AAAAAAAAAABofmUDv1KU/URofmUDvlD9RGh+ZQO+kPwAAAAAAAAAASuMjE+idmj85uNkvxIqCPypK4yMT6I0/AAAAAAAAAADQO3UtBzebPwAAAAAAAAAAGGJFaXxkoj8qSuMjE+iNP0VpfGQCvaM/eaeu5eBmnz8AAAAAAAAAAIrS+MgEeqc/s1+IFaXxoT9RGh+ZQO+UPwAAAAAAAAAA2S/EitL4qD8Eeqeu5eCmP1EaH5lA74Q/IxPonbqWoz9DrCiNj0ygP6lrObjZL6Q/AAAAAAAAAABT13Jws1+wP9kvxIrS+Kg/LQc3+4VYsT/v1LUc3Ox3PwAAAAAAAAAA",
          "dtype": "f8"
         }
        },
        {
         "hovertemplate": "color=0<br>num_reactions=%{x}<br>num_comments=%{y}<br>num_shares=%{z}<extra></extra>",
         "legendgroup": "0",
         "marker": {
          "color": "#EF553B",
          "opacity": 0.7,
          "symbol": "circle"
         },
         "mode": "markers",
         "name": "0",
         "scene": "scene",
         "showlegend": true,
         "type": "scatter3d",
         "x": {
          "bdata": "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",
          "dtype": "f8"
         },
         "y": {
          "bdata": "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",
          "dtype": "f8"
         },
         "z": {
          "bdata": "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",
          "dtype": "f8"
         }
        },
        {
         "hovertemplate": "color=2<br>num_reactions=%{x}<br>num_comments=%{y}<br>num_shares=%{z}<extra></extra>",
         "legendgroup": "2",
         "marker": {
          "color": "#00cc96",
          "opacity": 0.7,
          "symbol": "circle"
         },
         "mode": "markers",
         "name": "2",
         "scene": "scene",
         "showlegend": true,
         "type": "scatter3d",
         "x": {
          "bdata": "Alos+JdOnz+BNG/7LUOCP4JS0/i1snw/fpmUs0RYzD+BNG/7LUOSP8K/dPoALZY/4oxQecy9mj8h+vF6FziUP1Km4rlmdag/QsyzTiSGij8h8CXRlL2QP8G1qFB+soI/Akt6+dMWij8i/9fPWPWVP8LJQKSDp4k/Qr0BUGBOhT9CwuekoQuHP8LOJvnEZIs/IfAl0ZS9oD9Brk9RnBaQP4I+O6WwvYU/Qbgb+x6Rkz/hbux7RE6gP8Gwwvs89ZA/QsfN+eLIiD/CyUCkg6eJP6IGMc86kZg/4XPS0IULkj+CV7lN929+P8LEWk9C6oc/Qa5PUZwWoD/CyUCkg6eZP8LJQKSDp5k/ofKYezWcoT9ihfd56iGYP7LgXzp9gKY/gle5Tfdvnj9igBElqWSWP0G4G/sekaM/8mZ/5A6tqD8CS3r50xaaP2F2RXsm6pI/AkGuT1Gclj/C0wxOBiKNP8G1qFB+soI/gkgHTzM4iT8CRpSkklmIPwJVRqNWkY0/QsLnpKELlz9C22VN6L2PPwJVRqNWkY0/gTRv+y1Dgj/yZn/kDq2oP2KF93nqIZg/gkMh+vF6lz8i/9fPWPWVPwJQYE4V1Js/wbqOpb9vtD8CVUajVpGNP8LY8qJH354/QsLnpKELlz9CvQFQYE6FPzLyhOPhlsw/exweaePc0D9aIizuy6TMP4q6hNkV7ck/Ol8cGYOOyz8SJalkFgbYP07yick22Mk/x8MtOUae0D8eVUuJq9LKP6zwPk89BOM/1mGUqXiuyT9POB5uyTHSPz4TdQmzK8o/Olo2xEHRyT86WjbEQdHJPxqcDEQ6eMo/5kp1E3/VzD+Kv2ouV6rLP261mZ5/7so/3xTAg6z/0D+iCxckfE7KP0VsdOtOLtI/y4FS0/i10j+ZgBvxUufQPxIqj7lXw8k/A4woSSWz0D8/WQmuRYXSP7LqK+T/+sk/qn2Url4Dyz9v+y1DEkjTP/J1MePS5L0/ykWK2OjWvT/5xGQb7GzSPw1Y0sufttA/eIFDIfrx2j+Vx9yr4YzQPy91DpmAG9E/nTlaNsRB0T/yehc4FKLPP9GUvRACX6I/DCHwJdGU3T+8xYdlPjbfP5XMwgAjStI/diz9faNgzT+CTe2jdPXKP5I7tGK82c8/qodgWOF93j9qAUGuT1HMP6Cx6ivk/9o/4oxQecy92j88uUgRG93aP4YGLOnlT9s/XHdykSI22j/4jYJ1HUvfP0CBOVVQb+A/vMWHZT423z/CyUCkg6fZP9jKcqDUNN4/FI6HW3KM3D+YTh+gxYLfP8ox8oTj4bY/Gqu+Qv6v3z/ycEuOkSfcP4D9jFVfId8/6gO0WPAv3T9xWkCQ61PUP51DJuBGvNQ/5OZ8cWQM2j8gpavXwKbWP/TPXdtqM90/Qr0BUGBOlT+CUtP4tbKsP0GzNabd04E/Akt6+dMWej+h937QdlmTP4EviabshZA/ogYxzzqRmD9hdkV7JuqSP0LMs04khoo/Qbgb+x6Rkz/C2PKiR9+OPyIJpHnbb5k/QsfN+eLImD9C0ZmjZUOMP+J9nnoIhqU/Jr38aQsNyD8y6Lg5XxypP+Fu7HtETqA/QbM1pt3TkT8CWiz4l06PP5XH3KvhjMA/svT3jYJ1rT8h+vF6FzikP0LMs04khoo/wr90+gAthj8iGFZ4n6eeP4JN7aN09Zo/gj47pbC9hT9CzLNOJIaaP4I+O6WwvYU/UpwWEOT6pD/BsML7PPWAP2F7K9Bnp5Q/AkGuT1GcZj8BMvxQjWRRPwI8yPoP30Q/AlBgThXUSz9SsK5j6e+rP+r5565ttbk/Akt6+dMWmj/CxFpPQuqXP1GSSmZhgKE/4Xi4JcfIkz+CV7lN92+OP/FS55AJuNE/Wg6UmsavxT/lMfdqOCPUP+rvGwXrOsY/bqvN9Pxzxz/ycEuOkSe8P1KcFhDk+rQ/CaR5228Zsj+CSAdPMzi5P8Vu55XvDMM/qWn8WlkOtD/O6jDKVDzHP+F4uCXHyLM/4psCeJD1nz/KSnAtKpS/P3UOmYAb8dI/B08zOBmI1D8iCaR522+pP/rOMMVu57U/pavXwKb2wT/C2PKiR9+uP6lfMLHWk7A/UqvIDqgyuj+5QyvGm/2xP0LMs04khpo/8nUx49LkrT+dOVo2xEHBP4XtrUCfncI/bFaHUabi2T9RkkpmYYDRP1oYYERJKsk/a0Lv/aDt0j+RE4S7se+xPw1duCDhc8I/ofKYezWcwT+MKEklszDgP0pI/YKJtc4/umZ1GGUqvj+RDp5mcDLAPz4YW1706Ms/ofKYezWc0T++EAJfEk3JP2KF93nqIag/YpmPze8Wnz9hcV8m5SyRP2KF93nqIZg/EjlBuBv7rj8iE3AjXuqcP9KyIQ6Kzqw/ohrJIkCGnz+CPjulsL2VP8LTDE4GIp0/YXZFeybqkj8CS3r50xaaPwJQYE4V1Js/wbDC+zz1kD9Cx8354siYP4JIB08zOIk/gTlVUG8AhD8CWiz4l05/P4JXuU33b54/AlBgThXUmz+CV7lN929+P0LHzfniyIg/ATL8UI1kYT8BN+KlziFjPwJLevnTFmo/Alos+JdObz8CS3r50xZ6P8G1qFB+soI/ohXjzf7InT8SIMMP1UimP2KF93nqIZg/IhNwI17qnD8y6Lg5XxypPxl+qEayCLA/EiqPuVfDqT8SIMMP1UimP2KF93nqIZg/IhNwI17qnD8y6Lg5XxypPxl+qEayCLA/EiqPuVfDqT8BMvxQjWRRPwJBrk9RnIY/ATfipc4hcz+CTe2jdPV6P0K9AVBgTpU/AlVGo1aRjT+CTe2jdPV6P8LEWk9C6oc/wtMMTgYijT/CyUCkg6eJPyL/189Y9ZU/AkaUpJJZWD8h9Qsm1nqiP0LWf/imAI4/gS+JpuyFcD9hdkV7JuqSPwJaLPiXTn8/ws4m+cRkiz+CQyH68Xp3P4JDIfrxenc/AjzI+g/fdD/Buo6lv2+EPwJBrk9RnHY/AlVGo1aRfT8CWiz4l05/P0G4G/sekYM/4psCeJD1nz9BuBv7HpGDP0G4G/sekYM/AkaUpJJZaD9BuBv7HpGDP4EviabshXA/ATL8UI1kcT8BN+KlziFzP0LC56ShC4c/glLT+LWyjD+iCxckfE6aP9GP17vAobA/Qbgb+x6Rkz+h8ph7NZyRPyHwJdGUvZA/wtMMTgYijT9hcV8m5SyRP8G6jqW/b4Q/Alos+JdOjz9ilKl4rlmdP4JXuU33b44/gTlVUG8AhD+CPjulsL2FP2FxXyblLJE/4psCeJD1nz+CTe2jdPWKP1K1lLgqra0/Qr0BUGBOhT+iCxckfE6aP4JDIfrxepc/wr90+gAtlj8CS3r50xaKP6L8ZCW4FpU/suor5P/6qT8xzzqRGGqwP0LMs04khpo/wbWoUH6ykj+CSAdPMzipP8G1qFB+spI/Akt6+dMWqj8BMvxQjWShP4E0b/stQ4I/wr90+gAthj/C0wxOBiKdP8Gwwvs89ZA/AkGuT1Gchj8BMvxQjWRxPwJaLPiXTn8/ATL8UI1kcT8CVUajVpF9PwJBrk9RnIY/gTlVUG8AdD8BN+KlziFzP4I+O6WwvXU/AlVGo1aRfT+BOVVQbwB0P8G1qFB+soI/gk3to3T1ej+CSAdPMzh5P8G1qFB+soI/glLT+LWyfD+CTe2jdPV6P4EviabshXA/gj47pbC9hT8CUGBOFdR7PwJBrk9RnGY/gj47pbC9dT8CS3r50xZqPwJQYE4V1Hs/Qa5PUZwWgD+CQyH68Xp3P4E0b/stQ3I/AkGuT1GcZj8CPMj6D99UPwJQYE4V1Fs/suor5P/6qT8CWiz4l05fPwI8yPoP31Q/ws4m+cRkiz8BMvxQjWRRPw==",
          "dtype": "f8"
         },
         "y": {
          "bdata": "e7UQrbdqRz/7J2eFXfpIP/xdDSTGuzI/i0rwe9nUdj/8QrrUEds1P/snZ4Vd+gg/vCTiN/PzUT/7J2eFXfoYP/xdDSTGu0I/+vHA5vQ4Lz/7J2eFXfoIPwAAAAAAAAAA+ydnhV36OD/8XQ0kxrsyP/snZ4Vd+gg/+ydnhV36CD/8XQ0kxrsiPwAAAAAAAAAA+ydnhV36OD/7J2eFXfoIP/rxwOb0OD8//EK61BHbRT/7J2eFXfoYP/snZ4Vd+kg/en9qDk+pTT/7J2eFXfpIP/snZ4Vd+gg//F0NJMa7Uj/7J2eFXfoYP/snZ4Vd+ig//EK61BHbNT/8XQ0kxrsyP/xdDSTGuyI/+vHA5vQ4Pz9967ZLICxBP/snZ4Vd+ig/vCTiN/PzUT/7J2eFXfo4P/snZ4Vd+kg/+gwUNqkZTD/7J2eFXfooP/snZ4Vd+gg/AAAAAAAAAAD68cDm9DgvP/snZ4Vd+jg/+vHA5vQ4Pz/6DBQ2qRk8P3zQY/xrS0Q/en9qDk+pTT96f2oOT6lNP/xCutQR20U/+gwUNqkZPD8AAAAAAAAAAPxdDSTGu0I/+ydnhV36OD/8QrrUEds1P/oMFDapGUw/+gwUNqkZTD/6DBQ2qRk8P/snZ4Vd+hg//F0NJMa7Qj/6DBQ2qRk8P/xdDSTGu0I//F0NJMa7Mj/6DBQ2qRk8P/rxwOb0OD8//EK61BHbRT8AAAAAAAAAAHzQY/xrS0Q/e5q9XQOKWj980GP8a0tEP9v9p+cZJmo/+gwUNqkZPD/6DBQ2qRk8P/xdDSTGuzI/+ydnhV36OD980GP8a0tEP/rxwOb0OD8/+vHA5vQ4Lz/68cDm9Dg/P/rxwOb0OD8/e5q9XQOKSj/6DBQ2qRk8P/xdDSTGuzI/+vHA5vQ4Lz980GP8a0tEP/xdDSTGuyI/+vHA5vQ4Lz/8XQ0kxrtCP/xdDSTGuzI/+gwUNqkZPD/8QrrUEds1P/snZ4Vd+gg//F0NJMa7Mj/68cDm9Dg/P5z6IpqvH2M/+ydnhV36OD/8XQ0kxrtCP/QF9BRbloQ/+gwUNqkZPD+sdK8ZHamFP/rxwOb0OD8/+gwUNqkZTD+bxHz7Rl6JP8V8+0ZeGZA/e7UQrbdqRz/8QrrUEds1PxQws7KeaoM/feu2SyAsQT/7J2eFXfo4P3zQY/xrS0Q//F0NJMa7Mj/68cDm9Dg/P/snZ4Vd+lg/e5q9XQOKSj89sotfTWRQP3u1EK23akc//EK61BHbRT97tRCtt2pHP3zQY/xrS0Q//EK61BHbNT/8QrrUEdtFP/snZ4Vd+kg/vCTiN/PzYT9967ZLICxRP7wJj+g+E3U/+ydnhV36WD+NgJYaQpZwP/xCutQR20U/O3zlwOSiZj/8XQ0kxrsyPzpGPyJ84Vw//F0NJMa7Ij/dTqHVNshgP3p/ag5PqU0/vCTiN/PzUT/7J2eFXfo4P/snZ4Vd+gg/feu2SyAsQT/8QrrUEdtlP/snZ4Vd+gg/+vHA5vQ4Lz/bGPs2zgZnP5z6IpqvH3M/mo7WXN6cbz/6DBQ2qRk8P33rtksgLEE/+ydnhV36WD+6uJX6IXFePxyIzMEJkGE//EK61BHbRT/8XQ0kxrsiP/oMFDapGUw/+vHA5vQ4Tz/8QrrUEds1P/snZ4Vd+hg//EK61BHbNT980GP8a0tEP/xdDSTGu1I//F0NJMa7Mj/68cDm9DhPPwAAAAAAAAAAbFbXfP7BgT/8XQ0kxrsiP3u1EK23alc/AAAAAAAAAAAAAAAAAAAAAAAAAAAAAAAAAAAAAAAAAAD8QrrUEdtVP+3jgKRYMnA/e5q9XQOKSj97tRCtt2pHP/oMFDapGUw//F0NJMa7Mj/8XQ0kxrtCP39GSuW4nJk/2uJUmGVFbT/qdzRnh6+cP7q4lfohcV4/y4MbaKycdz/7J2eFXfpIP3p/ag5PqU0/vAmP6D4TVT980GP8a0tEP5zfz0r7PmY/O3zlwOSiZj8M8+zy5yVyP/snZ4Vd+hg//F0NJMa7Mj/68cDm9DhfP1NOi0+9UYc/klEQnSdYjj/68cDm9Dg/P1pVq3AL1X4/e5q9XQOKWj9967ZLICxRP3p/ag5PqU0//F0NJMa7Uj/8XQ0kxrsyP/snZ4Vd+gg//EK61BHbNT88lzgQmYNTP7wJj+g+E2U/zvkBUfntrD9MLBjfuu1yP9wzToaC52M/EsRmdc3njz/8QrrUEdtFP/snZ4Vd+mg/2/2n5xkmaj8Xppmb67uYP2xW13z+wXE/u9PoSdZRWz+8JOI38/NRP5qpKaySfXw/e7UQrbdqhz97tRCtt2pnPzt85cDkolY//F0NJMa7Qj/68cDm9DhPP3zQY/xrS0Q/2/2n5xkmaj9967ZLICxBP50VduljAHA/fNBj/GtLVD+8CY/oPhNlP3zQY/xrS1Q//EK61BHbVT9cpqReKHdlP/rxwOb0OE8/+vHA5vQ4Pz97mr1dA4pKP/xdDSTGuzI/AAAAAAAAAAD7J2eFXfoYP/rxwOb0OE8//EK61BHbRT8AAAAAAAAAAAAAAAAAAAAAAAAAAAAAAAAAAAAAAAAAAAAAAAAAAAAAAAAAAAAAAAAAAAAAAAAAAAAAAAAAAAAAmo7WXN6cfz+6uJX6IXFeP/snZ4Vd+hg//EK61BHbNT/7J2eFXfpIP/oMFDapGUw/2/2n5xkmaj+6uJX6IXFeP/snZ4Vd+hg//EK61BHbNT/7J2eFXfpIP/oMFDapGUw/2/2n5xkmaj8AAAAAAAAAAPsnZ4Vd+gg/AAAAAAAAAAAAAAAAAAAAAPrxwOb0OC8/+ydnhV36GD/8XQ0kxrsiP/snZ4Vd+hg/O3zlwOSiVj8AAAAAAAAAAPoMFDapGUw/AAAAAAAAAACc+iKarx9zP/snZ4Vd+gg/AAAAAAAAAAD6DBQ2qRlMP3u1EK23akc/+vHA5vQ4Lz8AAAAAAAAAAPsnZ4Vd+gg/AAAAAAAAAAD7J2eFXfoIPwAAAAAAAAAAAAAAAAAAAAAAAAAAAAAAAPsnZ4Vd+gg/m8R8+0ZeeT8AAAAAAAAAAAAAAAAAAAAAAAAAAAAAAAD7J2eFXfooPwAAAAAAAAAAAAAAAAAAAAD7J2eFXfooP/xCutQR2zU/+ydnhV36CD/8XQ0kxrsiP5NsY+zbOIs/+ydnhV36KD/8QrrUEdtVP3uavV0Diko/+ydnhV36SD/7J2eFXfoYP/rxwOb0OC8/+ydnhV36KD97mr1dA4paPwAAAAAAAAAAAAAAAAAAAAD7J2eFXfoIP/snZ4Vd+gg/PbKLX01kUD/8XQ0kxrsiPywCWUF3GYQ/AAAAAAAAAAA6Rj8ifOFsPwAAAAAAAAAA/EK61BHbRT/8XQ0kxrsiP33rtksgLEE/C71GVH9kiD/1IEdkD3eRP/oMFDapGTw/AAAAAAAAAADa4lSYZUV9P/xdDSTGuyI/vCTiN/PzkT9jyBfPKtuJP/xdDSTGuzI//F0NJMa7Ij/8QrrUEdt1P/xdDSTGuyI/AAAAAAAAAAAAAAAAAAAAAH3rtksgLEE/+ydnhV36GD/7J2eFXfo4P/snZ4Vd+ig/+ydnhV36GD/7J2eFXfoYPwAAAAAAAAAAAAAAAAAAAAD8XQ0kxrsiP/snZ4Vd+ig/+gwUNqkZPD/8QrrUEds1P/snZ4Vd+gg/+ydnhV36KD/8XQ0kxrsiPwAAAAAAAAAA/F0NJMa7Mj/7J2eFXfoYPwAAAAAAAAAA+ydnhV36GD8AAAAAAAAAAPrxwOb0OC8/+vHA5vQ4Pz/7J2eFXfo4P/snZ4Vd+hg/AAAAAAAAAAAAAAAAAAAAAAAAAAAAAAAA+ydnhV36GD8AAAAAAAAAAAAAAAAAAAAAAAAAAAAAAAAAAAAAAAAAAA==",
          "dtype": "f8"
         },
         "z": {
          "bdata": "vxArSuMjYz/XcnCzX4hlPx6ZQO/UtUw/HplA79S1fD+/ECtK4yMzPwAAAAAAAAAAAAAAAAAAAAC/ECtK4yMzPy0HN/uFWIE/AAAAAAAAAADjIxPonbqGP78QK0rjIzM/vxArSuMjUz8AAAAAAAAAAAAAAAAAAAAAAAAAAAAAAAC/ECtK4yMzPx6ZQO/UtUw/AAAAAAAAAAAAAAAAAAAAAAAAAAAAAAAAAAAAAAAAAAC/ECtK4yMzPwAAAAAAAAAAAAAAAAAAAAC/ECtK4yMzP78QK0rjI4M/HplA79S1TD8AAAAAAAAAAAAAAAAAAAAAAAAAAAAAAAAAAAAAAAAAAAAAAAAAAAAAAAAAAAAAAAAAAAAAAAAAAAAAAAAAAAAAAAAAAAAAAAAAAAAAAAAAAAAAAAAAAAAAAAAAAAAAAAAAAAAAAAAAAL8QK0rjI1M/HplA79S1TD8AAAAAAAAAAAAAAAAAAAAAAAAAAAAAAAC/ECtK4yMzP78QK0rjIzM/AAAAAAAAAAC/ECtK4yNDPwAAAAAAAAAAAAAAAAAAAAAAAAAAAAAAAAAAAAAAAAAAAAAAAAAAAAAAAAAAAAAAAAAAAAAAAAAAvxArSuMjcz+/ECtK4yMzP78QK0rjI0M/vxArSuMjQz8AAAAAAAAAAKeu5eBmv2A/AAAAAAAAAAAAAAAAAAAAAAAAAAAAAAAAvxArSuMjQz+/ECtK4yMzP78QK0rjIzM/AAAAAAAAAAC/ECtK4yMzP78QK0rjI0M/vxArSuMjQz+/ECtK4yMzPwAAAAAAAAAAHplA79S1TD8AAAAAAAAAAAAAAAAAAAAAAAAAAAAAAAAAAAAAAAAAAL8QK0rjIzM/vxArSuMjMz8AAAAAAAAAAL8QK0rjIzM/AAAAAAAAAAC/ECtK4yMzPwAAAAAAAAAAAAAAAAAAAAAAAAAAAAAAAAAAAAAAAAAAAAAAAAAAAAAAAAAAAAAAAAAAAAAAAAAAAAAAAAAAAAC/ECtK4yMzPwAAAAAAAAAAvxArSuMjMz+/ECtK4yMzP2l8ZAK9U5c/AAAAAAAAAADXcnCzX4iVPwAAAAAAAAAAAAAAAAAAAADXcnCzX4iVP9dycLNfiJU/vxArSuMjQz8AAAAAAAAAADm42S/EipI/AAAAAAAAAAAAAAAAAAAAAAAAAAAAAAAAvxArSuMjMz8AAAAAAAAAAAAAAAAAAAAAvxArSuMjMz/v1LUc3OxXP6eu5eBmv3A/AAAAAAAAAAAAAAAAAAAAAL8QK0rjIzM/vxArSuMjQz+/ECtK4yNDPwAAAAAAAAAAAAAAAAAAAAC/ECtK4yMzPwAAAAAAAAAAvxArSuMjMz8AAAAAAAAAAAAAAAAAAAAAvxArSuMjYz8AAAAAAAAAAAAAAAAAAAAAvxArSuMjMz8AAAAAAAAAAAc3+4VYUWo/vxArSuMjUz8AAAAAAAAAAL8QK0rjIzM/vxArSuMjMz8AAAAAAAAAAAAAAAAAAAAAAAAAAAAAAAC/ECtK4yNDP78QK0rjIzM/AAAAAAAAAAAAAAAAAAAAAAAAAAAAAAAA79S1HNzsZz8AAAAAAAAAAAAAAAAAAAAAAAAAAAAAAAC/ECtK4yMzP6eu5eBmv3A/vxArSuMjQz+/ECtK4yMzP78QK0rjIzM/AAAAAAAAAAAemUDv1LVMP78QK0rjIzM/AAAAAAAAAAAAAAAAAAAAAAAAAAAAAAAAHplA79S1bD8AAAAAAAAAAAAAAAAAAAAAAAAAAAAAAAAAAAAAAAAAAAAAAAAAAAAAAAAAAAAAAAAAAAAAAAAAAL8QK0rjI1M/AAAAAAAAAAAAAAAAAAAAAAAAAAAAAAAAAAAAAAAAAAAAAAAAAAAAAO/UtRzc7Fc/AAAAAAAAAADv1LUc3OxXP+/UtRzc7Fc/Bzf7hVhRej8AAAAAAAAAAL8QK0rjIzM/AAAAAAAAAAC/ECtK4yNDPwAAAAAAAAAAvxArSuMjMz+/ECtK4yNTPwAAAAAAAAAAvxArSuMjQz8emUDv1LVMP6eu5eBmv2A/vxArSuMjUz8AAAAAAAAAAAAAAAAAAAAAAAAAAAAAAAC/ECtK4yNDPwAAAAAAAAAAAAAAAAAAAAAAAAAAAAAAAAAAAAAAAAAAvxArSuMjMz+/ECtK4yMzPwAAAAAAAAAAvxArSuMjQz+/ECtK4yNDPx6ZQO/UtVw/13Jws1+IhT+/ECtK4yNTP78QK0rjIzM/vxArSuMjUz/XcnCzX4h1P78QK0rjI1M/vxArSuMjMz+nruXgZr9gP6eu5eBmv2A/HplA79S1XD8emUDv1LVcPwAAAAAAAAAAAAAAAAAAAAAAAAAAAAAAAL8QK0rjIzM/vxArSuMjMz8AAAAAAAAAAAAAAAAAAAAAAAAAAAAAAAAAAAAAAAAAAAAAAAAAAAAAAAAAAAAAAAC/ECtK4yMzPwAAAAAAAAAAAAAAAAAAAAAAAAAAAAAAAAAAAAAAAAAAAAAAAAAAAAAAAAAAAAAAAAAAAAAAAAAAAAAAAAAAAAAAAAAAAAAAAAAAAAAAAAAAAAAAAAAAAAC/ECtK4yMzPwAAAAAAAAAAAAAAAAAAAAC/ECtK4yMzP78QK0rjIzM/AAAAAAAAAAC/ECtK4yNTP78QK0rjIzM/vxArSuMjMz+/ECtK4yNDPwAAAAAAAAAAvxArSuMjMz+/ECtK4yNTP78QK0rjIzM/vxArSuMjMz+/ECtK4yNDPwAAAAAAAAAAvxArSuMjMz8AAAAAAAAAAL8QK0rjIzM/AAAAAAAAAAAAAAAAAAAAAAAAAAAAAAAAAAAAAAAAAAAAAAAAAAAAAAAAAAAAAAAAAAAAAAAAAAAAAAAAAAAAAL8QK0rjIzM/AAAAAAAAAAAAAAAAAAAAAAAAAAAAAAAAAAAAAAAAAAAemUDv1LVsPwAAAAAAAAAAAAAAAAAAAAAAAAAAAAAAAAAAAAAAAAAAAAAAAAAAAAAAAAAAAAAAAAAAAAAAAAAAAAAAAAAAAAAAAAAAAAAAAAAAAAAAAAAAAAAAAAAAAAAAAAAAAAAAAAAAAAAAAAAAAAAAAAAAAAAAAAAAAAAAAAAAAAAAAAAAAAAAAAAAAADv1LUc3OxXPwAAAAAAAAAAAAAAAAAAAAAAAAAAAAAAAL8QK0rjI1M/AAAAAAAAAAAAAAAAAAAAAAAAAAAAAAAAAAAAAAAAAAAAAAAAAAAAAAAAAAAAAAAAAAAAAAAAAAAAAAAAAAAAAAAAAAAAAAAAAAAAAAAAAAAAAAAAAAAAAAAAAAAAAAAAAAAAAAAAAAAAAAAAAAAAAL8QK0rjI0M/AAAAAAAAAAC/ECtK4yMzPwAAAAAAAAAAAAAAAAAAAAAAAAAAAAAAAAAAAAAAAAAAvxArSuMjMz+/ECtK4yNDPwAAAAAAAAAAAAAAAAAAAAC/ECtK4yMzPwAAAAAAAAAA79S1HNzsZz8AAAAAAAAAAAAAAAAAAAAAAAAAAAAAAACnruXgZr9gPwAAAAAAAAAAAAAAAAAAAAAAAAAAAAAAAAAAAAAAAAAAAAAAAAAAAAAAAAAAAAAAAAAAAAAAAAAAAAAAAAAAAAAAAAAAAAAAAAAAAAAAAAAAAAAAAAAAAAAAAAAAAAAAAAAAAAAAAAAAAAAAAAAAAAAAAAAAAAAAAL8QK0rjI0M/AAAAAAAAAAAAAAAAAAAAAAAAAAAAAAAAAAAAAAAAAAAAAAAAAAAAAAAAAAAAAAAAAAAAAAAAAAAAAAAAAAAAAL8QK0rjI0M/AAAAAAAAAAAAAAAAAAAAAL8QK0rjI0M/AAAAAAAAAAAAAAAAAAAAAAAAAAAAAAAAvxArSuMjUz8AAAAAAAAAAL8QK0rjIzM/vxArSuMjMz8AAAAAAAAAAA==",
          "dtype": "f8"
         }
        },
        {
         "hovertemplate": "color=3<br>num_reactions=%{x}<br>num_comments=%{y}<br>num_shares=%{z}<extra></extra>",
         "legendgroup": "3",
         "marker": {
          "color": "#ab63fa",
          "opacity": 0.7,
          "symbol": "circle"
         },
         "mode": "markers",
         "name": "3",
         "scene": "scene",
         "showlegend": true,
         "type": "scatter3d",
         "x": {
          "bdata": "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",
          "dtype": "f8"
         },
         "y": {
          "bdata": "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",
          "dtype": "f8"
         },
         "z": {
          "bdata": "0Dt1LQc3sz+/ECtK4yMzP5v9Qqwojdc/AAAAAAAAAAC/ECtK4yMzPx6ZQO/UtUw/AAAAAAAAAAAAAAAAAAAAAL8QK0rjIzM/AAAAAAAAAAAAAAAAAAAAAL8QK0rjI0M/AAAAAAAAAAC/ECtK4yOTPwAAAAAAAAAAvxArSuMjUz8AAAAAAAAAAAAAAAAAAAAAAAAAAAAAAAB5p67l4GafP78QK0rjIzM/AAAAAAAAAAC/ECtK4yMzPx6ZQO/UtUw/AAAAAAAAAAAAAAAAAAAAAAAAAAAAAAAAxIrS+MgEmj8emUDv1LVMP78QK0rjIzM/HplA79S1TD+/ECtK4yNDP78QK0rjI0M/vxArSuMjQz8AAAAAAAAAAL8QK0rjI2M/vFPXcnCznz+/ECtK4yMzP+/UtRzc7Gc/4yMT6J26lj/2C7GiND6iP78QK0rjIzM/vxArSuMjMz+/ECtK4yMzPwAAAAAAAAAAvxArSuMjMz/v1LUc3OxXP78QK0rjI2M/p67l4Ga/cD8T6J26loObPwAAAAAAAAAAkgn0Tl3LoT8AAAAAAAAAAAAAAAAAAAAAaXxkAr1Tlz8AAAAAAAAAAAAAAAAAAAAAAAAAAAAAAAC/ECtK4yOTPwAAAAAAAAAAAAAAAAAAAAAAAAAAAAAAAHUtBzf7hYg/AAAAAAAAAABWlMZHJtCbPwAAAAAAAAAA9guxojQ+oj8AAAAAAAAAAAAAAAAAAAAAAAAAAAAAAAAAAAAAAAAAAFEaH5lA74Q/AAAAAAAAAAAAAAAAAAAAAL8QK0rjI0M/AAAAAAAAAAAAAAAAAAAAAAAAAAAAAAAAHplA79S1bD8AAAAAAAAAAL8QK0rjI0M/AAAAAAAAAAAemUDv1LVcPwAAAAAAAAAAvxArSuMjUz+/ECtK4yMzP78QK0rjIzM/vxArSuMjMz8AAAAAAAAAAMvBzX4hVpQ/AAAAAAAAAACSCfROXcuhP78QK0rjIzM/AAAAAAAAAAC/ECtK4yNDPwAAAAAAAAAAAAAAAAAAAAAAAAAAAAAAAAAAAAAAAAAAvxArSuMjMz8AAAAAAAAAAL8QK0rjI0M/AAAAAAAAAAAAAAAAAAAAAAAAAAAAAAAAvxArSuMjQz+/ECtK4yMzPwAAAAAAAAAAAAAAAAAAAAAemUDv1LVMPwAAAAAAAAAAvxArSuMjMz8AAAAAAAAAAL8QK0rjIzM/AAAAAAAAAAC/ECtK4yNDP78QK0rjIzM/vxArSuMjQz8AAAAAAAAAAL8QK0rjI1M/AAAAAAAAAAC/ECtK4yMzPwAAAAAAAAAAAAAAAAAAAAAAAAAAAAAAAAAAAAAAAAAAAAAAAAAAAAA2+4VYURp/P78QK0rjI0M/AAAAAAAAAAC/ECtK4yNDP78QK0rjI1M/vxArSuMjUz/v1LUc3OxXP78QK0rjIzM/vxArSuMjMz8AAAAAAAAAAAAAAAAAAAAAAAAAAAAAAAC/ECtK4yMzP+/UtRzc7Fc/vxArSuMjMz+/ECtK4yMzPwAAAAAAAAAAvxArSuMjMz8emUDv1LVcPx6ZQO/UtUw/vxArSuMjQz+/ECtK4yNTPx6ZQO/UtVw/HplA79S1TD8emUDv1LVMP78QK0rjI2M/vxArSuMjYz+/ECtK4yNDPwAAAAAAAAAAvxArSuMjMz+/ECtK4yMzPx6ZQO/UtUw/vxArSuMjUz+/ECtK4yMzP78QK0rjIzM/AAAAAAAAAAAAAAAAAAAAAAAAAAAAAAAAAAAAAAAAAAAAAAAAAAAAAAAAAAAAAAAA13Jws1+IZT+/ECtK4yNTP78QK0rjIzM/AAAAAAAAAAC/ECtK4yMzPwAAAAAAAAAAAAAAAAAAAAC/ECtK4yNDP6eu5eBmv2A/AAAAAAAAAACnruXgZr+APx6ZQO/UtUw/79S1HNzsVz8emUDv1LVMPx6ZQO/UtVw/79S1HNzsVz8HN/uFWFFqPzb7hVhRGm8/p67l4Ga/cD8emUDv1LVsP6eu5eBmv2A/HplA79S1TD8emUDv1LVMP+/UtRzc7Fc/79S1HNzsZz+/ECtK4yNTP78QK0rjI1M/Bzf7hVhRaj/XcnCzX4hlP78QK0rjIzM/HplA79S1TD8emUDv1LVMP6eu5eBmv4A/13Jws1+IZT/Lwc1+IVZ0P6TxkQn0To0/+4VYURofeT8emUDv1LVMPx6ZQO/UtUw/79S1HNzsVz/v1LUc3OxnP78QK0rjI1M/vxArSuMjUz8HN/uFWFFqP9dycLNfiGU/vxArSuMjMz8emUDv1LVMPx6ZQO/UtUw/p67l4Ga/gD/XcnCzX4hlP8vBzX4hVnQ/pPGRCfROjT/7hVhRGh95P+/UtRzc7Gc/",
          "dtype": "f8"
         }
        }
       ],
       "layout": {
        "legend": {
         "title": {
          "text": "color"
         },
         "tracegroupgap": 0
        },
        "scene": {
         "domain": {
          "x": [
           0,
           1
          ],
          "y": [
           0,
           1
          ]
         },
         "xaxis": {
          "title": {
           "text": "Reactions"
          }
         },
         "yaxis": {
          "title": {
           "text": "Comments"
          }
         },
         "zaxis": {
          "title": {
           "text": "Shares"
          }
         }
        },
        "template": {
         "data": {
          "bar": [
           {
            "error_x": {
             "color": "#2a3f5f"
            },
            "error_y": {
             "color": "#2a3f5f"
            },
            "marker": {
             "line": {
              "color": "#E5ECF6",
              "width": 0.5
             },
             "pattern": {
              "fillmode": "overlay",
              "size": 10,
              "solidity": 0.2
             }
            },
            "type": "bar"
           }
          ],
          "barpolar": [
           {
            "marker": {
             "line": {
              "color": "#E5ECF6",
              "width": 0.5
             },
             "pattern": {
              "fillmode": "overlay",
              "size": 10,
              "solidity": 0.2
             }
            },
            "type": "barpolar"
           }
          ],
          "carpet": [
           {
            "aaxis": {
             "endlinecolor": "#2a3f5f",
             "gridcolor": "white",
             "linecolor": "white",
             "minorgridcolor": "white",
             "startlinecolor": "#2a3f5f"
            },
            "baxis": {
             "endlinecolor": "#2a3f5f",
             "gridcolor": "white",
             "linecolor": "white",
             "minorgridcolor": "white",
             "startlinecolor": "#2a3f5f"
            },
            "type": "carpet"
           }
          ],
          "choropleth": [
           {
            "colorbar": {
             "outlinewidth": 0,
             "ticks": ""
            },
            "type": "choropleth"
           }
          ],
          "contour": [
           {
            "colorbar": {
             "outlinewidth": 0,
             "ticks": ""
            },
            "colorscale": [
             [
              0,
              "#0d0887"
             ],
             [
              0.1111111111111111,
              "#46039f"
             ],
             [
              0.2222222222222222,
              "#7201a8"
             ],
             [
              0.3333333333333333,
              "#9c179e"
             ],
             [
              0.4444444444444444,
              "#bd3786"
             ],
             [
              0.5555555555555556,
              "#d8576b"
             ],
             [
              0.6666666666666666,
              "#ed7953"
             ],
             [
              0.7777777777777778,
              "#fb9f3a"
             ],
             [
              0.8888888888888888,
              "#fdca26"
             ],
             [
              1,
              "#f0f921"
             ]
            ],
            "type": "contour"
           }
          ],
          "contourcarpet": [
           {
            "colorbar": {
             "outlinewidth": 0,
             "ticks": ""
            },
            "type": "contourcarpet"
           }
          ],
          "heatmap": [
           {
            "colorbar": {
             "outlinewidth": 0,
             "ticks": ""
            },
            "colorscale": [
             [
              0,
              "#0d0887"
             ],
             [
              0.1111111111111111,
              "#46039f"
             ],
             [
              0.2222222222222222,
              "#7201a8"
             ],
             [
              0.3333333333333333,
              "#9c179e"
             ],
             [
              0.4444444444444444,
              "#bd3786"
             ],
             [
              0.5555555555555556,
              "#d8576b"
             ],
             [
              0.6666666666666666,
              "#ed7953"
             ],
             [
              0.7777777777777778,
              "#fb9f3a"
             ],
             [
              0.8888888888888888,
              "#fdca26"
             ],
             [
              1,
              "#f0f921"
             ]
            ],
            "type": "heatmap"
           }
          ],
          "histogram": [
           {
            "marker": {
             "pattern": {
              "fillmode": "overlay",
              "size": 10,
              "solidity": 0.2
             }
            },
            "type": "histogram"
           }
          ],
          "histogram2d": [
           {
            "colorbar": {
             "outlinewidth": 0,
             "ticks": ""
            },
            "colorscale": [
             [
              0,
              "#0d0887"
             ],
             [
              0.1111111111111111,
              "#46039f"
             ],
             [
              0.2222222222222222,
              "#7201a8"
             ],
             [
              0.3333333333333333,
              "#9c179e"
             ],
             [
              0.4444444444444444,
              "#bd3786"
             ],
             [
              0.5555555555555556,
              "#d8576b"
             ],
             [
              0.6666666666666666,
              "#ed7953"
             ],
             [
              0.7777777777777778,
              "#fb9f3a"
             ],
             [
              0.8888888888888888,
              "#fdca26"
             ],
             [
              1,
              "#f0f921"
             ]
            ],
            "type": "histogram2d"
           }
          ],
          "histogram2dcontour": [
           {
            "colorbar": {
             "outlinewidth": 0,
             "ticks": ""
            },
            "colorscale": [
             [
              0,
              "#0d0887"
             ],
             [
              0.1111111111111111,
              "#46039f"
             ],
             [
              0.2222222222222222,
              "#7201a8"
             ],
             [
              0.3333333333333333,
              "#9c179e"
             ],
             [
              0.4444444444444444,
              "#bd3786"
             ],
             [
              0.5555555555555556,
              "#d8576b"
             ],
             [
              0.6666666666666666,
              "#ed7953"
             ],
             [
              0.7777777777777778,
              "#fb9f3a"
             ],
             [
              0.8888888888888888,
              "#fdca26"
             ],
             [
              1,
              "#f0f921"
             ]
            ],
            "type": "histogram2dcontour"
           }
          ],
          "mesh3d": [
           {
            "colorbar": {
             "outlinewidth": 0,
             "ticks": ""
            },
            "type": "mesh3d"
           }
          ],
          "parcoords": [
           {
            "line": {
             "colorbar": {
              "outlinewidth": 0,
              "ticks": ""
             }
            },
            "type": "parcoords"
           }
          ],
          "pie": [
           {
            "automargin": true,
            "type": "pie"
           }
          ],
          "scatter": [
           {
            "fillpattern": {
             "fillmode": "overlay",
             "size": 10,
             "solidity": 0.2
            },
            "type": "scatter"
           }
          ],
          "scatter3d": [
           {
            "line": {
             "colorbar": {
              "outlinewidth": 0,
              "ticks": ""
             }
            },
            "marker": {
             "colorbar": {
              "outlinewidth": 0,
              "ticks": ""
             }
            },
            "type": "scatter3d"
           }
          ],
          "scattercarpet": [
           {
            "marker": {
             "colorbar": {
              "outlinewidth": 0,
              "ticks": ""
             }
            },
            "type": "scattercarpet"
           }
          ],
          "scattergeo": [
           {
            "marker": {
             "colorbar": {
              "outlinewidth": 0,
              "ticks": ""
             }
            },
            "type": "scattergeo"
           }
          ],
          "scattergl": [
           {
            "marker": {
             "colorbar": {
              "outlinewidth": 0,
              "ticks": ""
             }
            },
            "type": "scattergl"
           }
          ],
          "scattermap": [
           {
            "marker": {
             "colorbar": {
              "outlinewidth": 0,
              "ticks": ""
             }
            },
            "type": "scattermap"
           }
          ],
          "scattermapbox": [
           {
            "marker": {
             "colorbar": {
              "outlinewidth": 0,
              "ticks": ""
             }
            },
            "type": "scattermapbox"
           }
          ],
          "scatterpolar": [
           {
            "marker": {
             "colorbar": {
              "outlinewidth": 0,
              "ticks": ""
             }
            },
            "type": "scatterpolar"
           }
          ],
          "scatterpolargl": [
           {
            "marker": {
             "colorbar": {
              "outlinewidth": 0,
              "ticks": ""
             }
            },
            "type": "scatterpolargl"
           }
          ],
          "scatterternary": [
           {
            "marker": {
             "colorbar": {
              "outlinewidth": 0,
              "ticks": ""
             }
            },
            "type": "scatterternary"
           }
          ],
          "surface": [
           {
            "colorbar": {
             "outlinewidth": 0,
             "ticks": ""
            },
            "colorscale": [
             [
              0,
              "#0d0887"
             ],
             [
              0.1111111111111111,
              "#46039f"
             ],
             [
              0.2222222222222222,
              "#7201a8"
             ],
             [
              0.3333333333333333,
              "#9c179e"
             ],
             [
              0.4444444444444444,
              "#bd3786"
             ],
             [
              0.5555555555555556,
              "#d8576b"
             ],
             [
              0.6666666666666666,
              "#ed7953"
             ],
             [
              0.7777777777777778,
              "#fb9f3a"
             ],
             [
              0.8888888888888888,
              "#fdca26"
             ],
             [
              1,
              "#f0f921"
             ]
            ],
            "type": "surface"
           }
          ],
          "table": [
           {
            "cells": {
             "fill": {
              "color": "#EBF0F8"
             },
             "line": {
              "color": "white"
             }
            },
            "header": {
             "fill": {
              "color": "#C8D4E3"
             },
             "line": {
              "color": "white"
             }
            },
            "type": "table"
           }
          ]
         },
         "layout": {
          "annotationdefaults": {
           "arrowcolor": "#2a3f5f",
           "arrowhead": 0,
           "arrowwidth": 1
          },
          "autotypenumbers": "strict",
          "coloraxis": {
           "colorbar": {
            "outlinewidth": 0,
            "ticks": ""
           }
          },
          "colorscale": {
           "diverging": [
            [
             0,
             "#8e0152"
            ],
            [
             0.1,
             "#c51b7d"
            ],
            [
             0.2,
             "#de77ae"
            ],
            [
             0.3,
             "#f1b6da"
            ],
            [
             0.4,
             "#fde0ef"
            ],
            [
             0.5,
             "#f7f7f7"
            ],
            [
             0.6,
             "#e6f5d0"
            ],
            [
             0.7,
             "#b8e186"
            ],
            [
             0.8,
             "#7fbc41"
            ],
            [
             0.9,
             "#4d9221"
            ],
            [
             1,
             "#276419"
            ]
           ],
           "sequential": [
            [
             0,
             "#0d0887"
            ],
            [
             0.1111111111111111,
             "#46039f"
            ],
            [
             0.2222222222222222,
             "#7201a8"
            ],
            [
             0.3333333333333333,
             "#9c179e"
            ],
            [
             0.4444444444444444,
             "#bd3786"
            ],
            [
             0.5555555555555556,
             "#d8576b"
            ],
            [
             0.6666666666666666,
             "#ed7953"
            ],
            [
             0.7777777777777778,
             "#fb9f3a"
            ],
            [
             0.8888888888888888,
             "#fdca26"
            ],
            [
             1,
             "#f0f921"
            ]
           ],
           "sequentialminus": [
            [
             0,
             "#0d0887"
            ],
            [
             0.1111111111111111,
             "#46039f"
            ],
            [
             0.2222222222222222,
             "#7201a8"
            ],
            [
             0.3333333333333333,
             "#9c179e"
            ],
            [
             0.4444444444444444,
             "#bd3786"
            ],
            [
             0.5555555555555556,
             "#d8576b"
            ],
            [
             0.6666666666666666,
             "#ed7953"
            ],
            [
             0.7777777777777778,
             "#fb9f3a"
            ],
            [
             0.8888888888888888,
             "#fdca26"
            ],
            [
             1,
             "#f0f921"
            ]
           ]
          },
          "colorway": [
           "#636efa",
           "#EF553B",
           "#00cc96",
           "#ab63fa",
           "#FFA15A",
           "#19d3f3",
           "#FF6692",
           "#B6E880",
           "#FF97FF",
           "#FECB52"
          ],
          "font": {
           "color": "#2a3f5f"
          },
          "geo": {
           "bgcolor": "white",
           "lakecolor": "white",
           "landcolor": "#E5ECF6",
           "showlakes": true,
           "showland": true,
           "subunitcolor": "white"
          },
          "hoverlabel": {
           "align": "left"
          },
          "hovermode": "closest",
          "mapbox": {
           "style": "light"
          },
          "paper_bgcolor": "white",
          "plot_bgcolor": "#E5ECF6",
          "polar": {
           "angularaxis": {
            "gridcolor": "white",
            "linecolor": "white",
            "ticks": ""
           },
           "bgcolor": "#E5ECF6",
           "radialaxis": {
            "gridcolor": "white",
            "linecolor": "white",
            "ticks": ""
           }
          },
          "scene": {
           "xaxis": {
            "backgroundcolor": "#E5ECF6",
            "gridcolor": "white",
            "gridwidth": 2,
            "linecolor": "white",
            "showbackground": true,
            "ticks": "",
            "zerolinecolor": "white"
           },
           "yaxis": {
            "backgroundcolor": "#E5ECF6",
            "gridcolor": "white",
            "gridwidth": 2,
            "linecolor": "white",
            "showbackground": true,
            "ticks": "",
            "zerolinecolor": "white"
           },
           "zaxis": {
            "backgroundcolor": "#E5ECF6",
            "gridcolor": "white",
            "gridwidth": 2,
            "linecolor": "white",
            "showbackground": true,
            "ticks": "",
            "zerolinecolor": "white"
           }
          },
          "shapedefaults": {
           "line": {
            "color": "#2a3f5f"
           }
          },
          "ternary": {
           "aaxis": {
            "gridcolor": "white",
            "linecolor": "white",
            "ticks": ""
           },
           "baxis": {
            "gridcolor": "white",
            "linecolor": "white",
            "ticks": ""
           },
           "bgcolor": "#E5ECF6",
           "caxis": {
            "gridcolor": "white",
            "linecolor": "white",
            "ticks": ""
           }
          },
          "title": {
           "x": 0.05
          },
          "xaxis": {
           "automargin": true,
           "gridcolor": "white",
           "linecolor": "white",
           "ticks": "",
           "title": {
            "standoff": 15
           },
           "zerolinecolor": "white",
           "zerolinewidth": 2
          },
          "yaxis": {
           "automargin": true,
           "gridcolor": "white",
           "linecolor": "white",
           "ticks": "",
           "title": {
            "standoff": 15
           },
           "zerolinecolor": "white",
           "zerolinewidth": 2
          }
         }
        },
        "title": {
         "text": "❌ Wrong Way (Including status_type)"
        }
       }
      }
     },
     "metadata": {},
     "output_type": "display_data"
    }
   ],
   "source": [
    "import plotly.express as px\n",
    "from sklearn.cluster import KMeans\n",
    "\n",
    "# ========== ✅ Correct Way (exclude status_type) ==========\n",
    "X = df.drop(columns=['status_type'])\n",
    "kmeans_correct = KMeans(n_clusters=4, random_state=42)\n",
    "labels_correct = kmeans_correct.fit_predict(X)\n",
    "\n",
    "fig1 = px.scatter_3d(\n",
    "    df,\n",
    "    x=\"num_reactions\",\n",
    "    y=\"num_comments\",\n",
    "    z=\"num_shares\",\n",
    "    color=labels_correct.astype(str),\n",
    "    opacity=0.7,\n",
    "    title=\"✅ Correct Way (Excluding status_type)\"\n",
    ")\n",
    "fig1.update_layout(\n",
    "    scene=dict(\n",
    "        xaxis_title=\"Reactions\",\n",
    "        yaxis_title=\"Comments\",\n",
    "        zaxis_title=\"Shares\"\n",
    "    )\n",
    ")\n",
    "\n",
    "\n",
    "# ========== ❌ Wrong Way (include status_type) ==========\n",
    "X_wrong = df.copy()   # includes status_type\n",
    "kmeans_wrong = KMeans(n_clusters=4, random_state=42)\n",
    "labels_wrong = kmeans_wrong.fit_predict(X_wrong)\n",
    "\n",
    "fig2 = px.scatter_3d(\n",
    "    df,\n",
    "    x=\"num_reactions\",\n",
    "    y=\"num_comments\",\n",
    "    z=\"num_shares\",\n",
    "    color=labels_wrong.astype(str),\n",
    "    opacity=0.7,\n",
    "    title=\"❌ Wrong Way (Including status_type)\"\n",
    ")\n",
    "fig2.update_layout(\n",
    "    scene=dict(\n",
    "        xaxis_title=\"Reactions\",\n",
    "        yaxis_title=\"Comments\",\n",
    "        zaxis_title=\"Shares\"\n",
    "    )\n",
    ")\n",
    "\n",
    "# Show both plots one after another\n",
    "fig1.show()\n",
    "fig2.show()\n"
   ]
  }
 ],
 "metadata": {
  "kernelspec": {
   "display_name": "Python 3",
   "language": "python",
   "name": "python3"
  },
  "language_info": {
   "codemirror_mode": {
    "name": "ipython",
    "version": 3
   },
   "file_extension": ".py",
   "mimetype": "text/x-python",
   "name": "python",
   "nbconvert_exporter": "python",
   "pygments_lexer": "ipython3",
   "version": "3.13.7"
  }
 },
 "nbformat": 4,
 "nbformat_minor": 5
}
